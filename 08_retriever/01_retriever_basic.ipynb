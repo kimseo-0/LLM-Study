{
 "cells": [
  {
   "cell_type": "code",
   "execution_count": null,
   "id": "c3e20232",
   "metadata": {},
   "outputs": [],
   "source": [
    "# uv add rich"
   ]
  },
  {
   "cell_type": "code",
   "execution_count": 1,
   "id": "6e27436e",
   "metadata": {},
   "outputs": [
    {
     "data": {
      "text/plain": [
       "True"
      ]
     },
     "execution_count": 1,
     "metadata": {},
     "output_type": "execute_result"
    }
   ],
   "source": [
    "from dotenv import load_dotenv\n",
    "load_dotenv()"
   ]
  },
  {
   "cell_type": "code",
   "execution_count": 69,
   "id": "7bf73580",
   "metadata": {},
   "outputs": [],
   "source": [
    "# 출력 예쁘게 하기\n",
    "from rich.console import Console\n",
    "from rich.table import Table\n",
    "\n",
    "console = Console()\n",
    "\n",
    "def rich_docs(docs, max_len=140, title=\"Retriever Results\"):\n",
    "    table = Table(title=title)\n",
    "    table.add_column(\"#\", justify=\"right\")\n",
    "    table.add_column(\"Source\")\n",
    "    table.add_column(\"Page\", justify=\"right\")\n",
    "    table.add_column(\"Preview\")\n",
    "\n",
    "    for i, d in enumerate(docs, 1):\n",
    "        m = d.metadata or {}\n",
    "        src = (m.get(\"source\",\"\") or \"\").split(\"/\")[-1]\n",
    "        page = str(m.get(\"page_label\", m.get(\"page\",0)+1))\n",
    "        text = (d.page_content or \"\").strip().replace(\"\\n\", \" \")\n",
    "        content = (text[:max_len] + (\"…\" if len(text) > max_len else \"\"))\n",
    "        table.add_row(str(i), src, page, content)\n",
    "\n",
    "    console.print(table)"
   ]
  },
  {
   "cell_type": "markdown",
   "id": "cf6e8e74",
   "metadata": {},
   "source": [
    "# retriever 설정값\n",
    "- 일반 RAG 기본값 : similarity or mmr\n",
    "- 중복이 많을 경우 : mmr\n",
    "- 그 외 필터링이 필요한 경우 : search_kwargs 에 다양한 옵션값을 넣어주면 됩니다"
   ]
  },
  {
   "cell_type": "markdown",
   "id": "17855656",
   "metadata": {},
   "source": [
    "# advanced_retriever\n",
    "- 길이가 길 경우: compressed_retriever -> 필요할 때 Parent-Child\n",
    "- 용어가 중요할 경우 : hybrid(vec + bm25)\n",
    "- 정확도 극대화 : similarity -> reranker -> reorder"
   ]
  },
  {
   "cell_type": "code",
   "execution_count": 7,
   "id": "927e9cc5",
   "metadata": {},
   "outputs": [
    {
     "data": {
      "text/plain": [
       "444"
      ]
     },
     "execution_count": 7,
     "metadata": {},
     "output_type": "execute_result"
    }
   ],
   "source": [
    "from langchain_openai import OpenAIEmbeddings, ChatOpenAI\n",
    "from langchain_chroma import Chroma\n",
    "\n",
    "emb = OpenAIEmbeddings(model=\"text-embedding-3-small\")\n",
    "\n",
    "db_path = \"../vectorstore/chromadb_store\"\n",
    "col_name = \"samsung_all\"\n",
    "\n",
    "vecstore = Chroma(\n",
    "    persist_directory=db_path,\n",
    "    collection_name=col_name,\n",
    "    embedding_function=emb,\n",
    ")\n",
    "vecstore._collection.count()"
   ]
  },
  {
   "cell_type": "code",
   "execution_count": 8,
   "id": "6e88ea1a",
   "metadata": {},
   "outputs": [
    {
     "name": "stdout",
     "output_type": "stream",
     "text": [
      "1536\n"
     ]
    }
   ],
   "source": [
    "dim_size = emb.embed_query(\"안녕하세요\")\n",
    "print(len(dim_size))"
   ]
  },
  {
   "cell_type": "code",
   "execution_count": 5,
   "id": "d14bf2d3",
   "metadata": {},
   "outputs": [],
   "source": [
    "question = \"삼성의 지속 가능성에 대해 알려줘\""
   ]
  },
  {
   "cell_type": "markdown",
   "id": "e20bcd61",
   "metadata": {},
   "source": [
    "# 1. 벡터 기반 검색기(유사도)"
   ]
  },
  {
   "cell_type": "code",
   "execution_count": 33,
   "id": "d88dc867",
   "metadata": {},
   "outputs": [],
   "source": [
    "ret_sim = vecstore.as_retriever(\n",
    "    search_kwargs = {\"k\": 5},\n",
    "    search_type = \"similarity\" # \"similarity\" (default), \"mmr\", or \"similarity_score_threshold\".\n",
    ")\n",
    "result1 = ret_sim.invoke(question)"
   ]
  },
  {
   "cell_type": "code",
   "execution_count": 70,
   "id": "550f03c7",
   "metadata": {},
   "outputs": [
    {
     "data": {
      "text/html": [
       "<pre style=\"white-space:pre;overflow-x:auto;line-height:normal;font-family:Menlo,'DejaVu Sans Mono',consolas,'Courier New',monospace\"><span style=\"font-style: italic\">                                                유사도 기반 탑 5개                                                 </span>\n",
       "┏━━━┳━━━━━━━━━━━━━━━━━━━━━━━━━━━━━━━━━━━━━━━━━━━━━━━━━━┳━━━━━━┳━━━━━━━━━━━━━━━━━━━━━━━━━━━━━━━━━━━━━━━━━━━━━━━━━━━┓\n",
       "┃<span style=\"font-weight: bold\"> # </span>┃<span style=\"font-weight: bold\"> Source                                           </span>┃<span style=\"font-weight: bold\"> Page </span>┃<span style=\"font-weight: bold\"> Preview                                           </span>┃\n",
       "┡━━━╇━━━━━━━━━━━━━━━━━━━━━━━━━━━━━━━━━━━━━━━━━━━━━━━━━━╇━━━━━━╇━━━━━━━━━━━━━━━━━━━━━━━━━━━━━━━━━━━━━━━━━━━━━━━━━━━┩\n",
       "│ 1 │ Samsung_Electronics_Sustainability_Report_2025_… │   86 │ ·  삼성전자주식회사 지속가능경영 웹사이트         │\n",
       "│   │                                                  │      │ http://www.samsung.com/sec/sustainability/main ·  │\n",
       "│   │                                                  │      │ 삼성전자주식회사 IR 웹사이트                      │\n",
       "│   │                                                  │      │ http://www.samsung.com/sec/ir ·  삼성전자주식회 … │\n",
       "│   │                                                  │      │ 뉴…                                               │\n",
       "│ 2 │ Sustainability_report_2024_kr.pdf                │   82 │ 비록 삼성전자주식회사는 지속가능경영보고서의 미 … │\n",
       "│   │                                                  │      │ 예측 진술이 시의성 있고 합리적인 정보, 가정  및   │\n",
       "│   │                                                  │      │ 믿음에 기반한다고 판단하지만, 이러한 미래 예측    │\n",
       "│   │                                                  │      │ 진술(그리고 이를 이루는 정보, 가정 및 믿음)은     │\n",
       "│   │                                                  │      │ 다양한 요인, 리스크, 불확실성의 영향권에          │\n",
       "│   │                                                  │      │ 있으므로…                                         │\n",
       "│ 3 │ Samsung_Electronics_Sustainability_Report_2025_… │   86 │ 삼성전자 지속가능경영보고서 2025 86               │\n",
       "│   │                                                  │      │ 삼성전자주식회사는 경제·사회·환경적 가치 창출     │\n",
       "│   │                                                  │      │ 성과를 다양한 이해관계자와 투명하게 소통하기 위 … │\n",
       "│   │                                                  │      │ 2025년 열여덟 번째 지속가능경영보고서를           │\n",
       "│   │                                                  │      │ 발간합니다. 작성 기준 본 보고서는 지속가능경영    │\n",
       "│   │                                                  │      │ 보고 기준인 GRI(G…                                │\n",
       "│ 4 │ Sustainability_report_2024_kr.pdf                │   82 │ ISAE3000을 적용했습니다. 관련 정보 ·              │\n",
       "│   │                                                  │      │ 삼성전자주식회사 대표 홈페이지                    │\n",
       "│   │                                                  │      │ http://www.samsung.com/sec ·  삼성전자주식회사    │\n",
       "│   │                                                  │      │ 지속가능경영 웹사이트                             │\n",
       "│   │                                                  │      │ http://www.samsung.com/sec/sustainabilit…         │\n",
       "│ 5 │ Samsung_Electronics_Sustainability_Report_2025_… │   86 │ 비록 삼성전자주식회사는 지속가능경영보고서의 미 … │\n",
       "│   │                                                  │      │ 예측 진술이 시의성 있고 합리적인 정보, 가정  및   │\n",
       "│   │                                                  │      │ 믿음에 기반한다고 판단하지만, 이러한 미래 예측    │\n",
       "│   │                                                  │      │ 진술(그리고 이를 이루는 정보, 가정 및 믿음)은     │\n",
       "│   │                                                  │      │ 다양한 요인, 리스크, 불확실성의 영향권에          │\n",
       "│   │                                                  │      │ 있으므로…                                         │\n",
       "└───┴──────────────────────────────────────────────────┴──────┴───────────────────────────────────────────────────┘\n",
       "</pre>\n"
      ],
      "text/plain": [
       "\u001b[3m                                                유사도 기반 탑 5개                                                 \u001b[0m\n",
       "┏━━━┳━━━━━━━━━━━━━━━━━━━━━━━━━━━━━━━━━━━━━━━━━━━━━━━━━━┳━━━━━━┳━━━━━━━━━━━━━━━━━━━━━━━━━━━━━━━━━━━━━━━━━━━━━━━━━━━┓\n",
       "┃\u001b[1m \u001b[0m\u001b[1m#\u001b[0m\u001b[1m \u001b[0m┃\u001b[1m \u001b[0m\u001b[1mSource                                          \u001b[0m\u001b[1m \u001b[0m┃\u001b[1m \u001b[0m\u001b[1mPage\u001b[0m\u001b[1m \u001b[0m┃\u001b[1m \u001b[0m\u001b[1mPreview                                          \u001b[0m\u001b[1m \u001b[0m┃\n",
       "┡━━━╇━━━━━━━━━━━━━━━━━━━━━━━━━━━━━━━━━━━━━━━━━━━━━━━━━━╇━━━━━━╇━━━━━━━━━━━━━━━━━━━━━━━━━━━━━━━━━━━━━━━━━━━━━━━━━━━┩\n",
       "│ 1 │ Samsung_Electronics_Sustainability_Report_2025_… │   86 │ ·  삼성전자주식회사 지속가능경영 웹사이트         │\n",
       "│   │                                                  │      │ http://www.samsung.com/sec/sustainability/main ·  │\n",
       "│   │                                                  │      │ 삼성전자주식회사 IR 웹사이트                      │\n",
       "│   │                                                  │      │ http://www.samsung.com/sec/ir ·  삼성전자주식회 … │\n",
       "│   │                                                  │      │ 뉴…                                               │\n",
       "│ 2 │ Sustainability_report_2024_kr.pdf                │   82 │ 비록 삼성전자주식회사는 지속가능경영보고서의 미 … │\n",
       "│   │                                                  │      │ 예측 진술이 시의성 있고 합리적인 정보, 가정  및   │\n",
       "│   │                                                  │      │ 믿음에 기반한다고 판단하지만, 이러한 미래 예측    │\n",
       "│   │                                                  │      │ 진술(그리고 이를 이루는 정보, 가정 및 믿음)은     │\n",
       "│   │                                                  │      │ 다양한 요인, 리스크, 불확실성의 영향권에          │\n",
       "│   │                                                  │      │ 있으므로…                                         │\n",
       "│ 3 │ Samsung_Electronics_Sustainability_Report_2025_… │   86 │ 삼성전자 지속가능경영보고서 2025 86               │\n",
       "│   │                                                  │      │ 삼성전자주식회사는 경제·사회·환경적 가치 창출     │\n",
       "│   │                                                  │      │ 성과를 다양한 이해관계자와 투명하게 소통하기 위 … │\n",
       "│   │                                                  │      │ 2025년 열여덟 번째 지속가능경영보고서를           │\n",
       "│   │                                                  │      │ 발간합니다. 작성 기준 본 보고서는 지속가능경영    │\n",
       "│   │                                                  │      │ 보고 기준인 GRI(G…                                │\n",
       "│ 4 │ Sustainability_report_2024_kr.pdf                │   82 │ ISAE3000을 적용했습니다. 관련 정보 ·              │\n",
       "│   │                                                  │      │ 삼성전자주식회사 대표 홈페이지                    │\n",
       "│   │                                                  │      │ http://www.samsung.com/sec ·  삼성전자주식회사    │\n",
       "│   │                                                  │      │ 지속가능경영 웹사이트                             │\n",
       "│   │                                                  │      │ http://www.samsung.com/sec/sustainabilit…         │\n",
       "│ 5 │ Samsung_Electronics_Sustainability_Report_2025_… │   86 │ 비록 삼성전자주식회사는 지속가능경영보고서의 미 … │\n",
       "│   │                                                  │      │ 예측 진술이 시의성 있고 합리적인 정보, 가정  및   │\n",
       "│   │                                                  │      │ 믿음에 기반한다고 판단하지만, 이러한 미래 예측    │\n",
       "│   │                                                  │      │ 진술(그리고 이를 이루는 정보, 가정 및 믿음)은     │\n",
       "│   │                                                  │      │ 다양한 요인, 리스크, 불확실성의 영향권에          │\n",
       "│   │                                                  │      │ 있으므로…                                         │\n",
       "└───┴──────────────────────────────────────────────────┴──────┴───────────────────────────────────────────────────┘\n"
      ]
     },
     "metadata": {},
     "output_type": "display_data"
    }
   ],
   "source": [
    "rich_docs(result1, title = \"유사도 기반 탑 5개\")"
   ]
  },
  {
   "cell_type": "markdown",
   "id": "622f10f6",
   "metadata": {},
   "source": [
    "# 2-1. 벡터 기반 검색기(mmr)"
   ]
  },
  {
   "cell_type": "code",
   "execution_count": 19,
   "id": "3a2c2d15",
   "metadata": {},
   "outputs": [],
   "source": [
    "ret_mmr1 = vecstore.as_retriever(\n",
    "    search_kwargs={\"k\": 5, \"fetch_k\": 20}, # 20개를 뽑고 다시 상위 5개를 뽑는 방식\n",
    "    search_type = \"mmr\" # \"similarity\" (default), \"mmr\", or \"similarity_score_threshold\".\n",
    ")\n",
    "result2 = ret_mmr1.invoke(question)"
   ]
  },
  {
   "cell_type": "code",
   "execution_count": 71,
   "id": "e4f908e9",
   "metadata": {},
   "outputs": [
    {
     "data": {
      "text/html": [
       "<pre style=\"white-space:pre;overflow-x:auto;line-height:normal;font-family:Menlo,'DejaVu Sans Mono',consolas,'Courier New',monospace\"><span style=\"font-style: italic\">                                                  MMR 기반 탑 5개                                                  </span>\n",
       "┏━━━┳━━━━━━━━━━━━━━━━━━━━━━━━━━━━━━━━━━━━━━━━━━━━━━━━━━┳━━━━━━┳━━━━━━━━━━━━━━━━━━━━━━━━━━━━━━━━━━━━━━━━━━━━━━━━━━━┓\n",
       "┃<span style=\"font-weight: bold\"> # </span>┃<span style=\"font-weight: bold\"> Source                                           </span>┃<span style=\"font-weight: bold\"> Page </span>┃<span style=\"font-weight: bold\"> Preview                                           </span>┃\n",
       "┡━━━╇━━━━━━━━━━━━━━━━━━━━━━━━━━━━━━━━━━━━━━━━━━━━━━━━━━╇━━━━━━╇━━━━━━━━━━━━━━━━━━━━━━━━━━━━━━━━━━━━━━━━━━━━━━━━━━━┩\n",
       "│ 1 │ Samsung_Electronics_Sustainability_Report_2025_… │   86 │ ·  삼성전자주식회사 지속가능경영 웹사이트         │\n",
       "│   │                                                  │      │ http://www.samsung.com/sec/sustainability/main ·  │\n",
       "│   │                                                  │      │ 삼성전자주식회사 IR 웹사이트                      │\n",
       "│   │                                                  │      │ http://www.samsung.com/sec/ir ·  삼성전자주식회 … │\n",
       "│   │                                                  │      │ 뉴…                                               │\n",
       "│ 2 │ Samsung_Electronics_Sustainability_Report_2025_… │    1 │ 삼성전자 지속가능경영보고서 2025 A Journey        │\n",
       "│   │                                                  │      │ Towards   a Sustainable Future A Journey  Towards │\n",
       "│   │                                                  │      │ a Sustainable Future                              │\n",
       "│ 3 │ Samsung_Electronics_Sustainability_Report_2025_… │   46 │ 삼성전자 지속가능경영보고서 2025 46 주요 평가     │\n",
       "│   │                                                  │      │ 항목 책임있는 구매관행 거래 기본 계약서 체결      │\n",
       "│   │                                                  │      │ 삼성전자는 협력회사와의 거래 기본 계약서에        │\n",
       "│   │                                                  │      │ 온실가스 관리를 포함한 협력회사 행동규범 준수     │\n",
       "│   │                                                  │      │ 의무를 명시함으로써  협력회사 지속가능경영 기반   │\n",
       "│   │                                                  │      │ 강화를 위해 노…                                   │\n",
       "│ 4 │ Samsung_Electronics_Sustainability_Report_2025_… │   76 │ 삼성전자 지속가능경영보고서 2025 76 독립된        │\n",
       "│   │                                                  │      │ 인증인의 인증보고서 Our Company AppendixFacts &amp;   │\n",
       "│   │                                                  │      │ Figures PrinciplePlanet People                    │\n",
       "│ 5 │ Sustainability_report_2024_kr.pdf                │   23 │ 삼성전자 지속가능경영보고서 2024 23 Our Company   │\n",
       "│   │                                                  │      │ AppendixMateriality Assessment Facts &amp; Figures    │\n",
       "│   │                                                  │      │ PrinciplePlanet People 추진방향 국내 반도체 라인  │\n",
       "│   │                                                  │      │ 증설에 따라 2030년 DS부문 제조…                   │\n",
       "└───┴──────────────────────────────────────────────────┴──────┴───────────────────────────────────────────────────┘\n",
       "</pre>\n"
      ],
      "text/plain": [
       "\u001b[3m                                                  MMR 기반 탑 5개                                                  \u001b[0m\n",
       "┏━━━┳━━━━━━━━━━━━━━━━━━━━━━━━━━━━━━━━━━━━━━━━━━━━━━━━━━┳━━━━━━┳━━━━━━━━━━━━━━━━━━━━━━━━━━━━━━━━━━━━━━━━━━━━━━━━━━━┓\n",
       "┃\u001b[1m \u001b[0m\u001b[1m#\u001b[0m\u001b[1m \u001b[0m┃\u001b[1m \u001b[0m\u001b[1mSource                                          \u001b[0m\u001b[1m \u001b[0m┃\u001b[1m \u001b[0m\u001b[1mPage\u001b[0m\u001b[1m \u001b[0m┃\u001b[1m \u001b[0m\u001b[1mPreview                                          \u001b[0m\u001b[1m \u001b[0m┃\n",
       "┡━━━╇━━━━━━━━━━━━━━━━━━━━━━━━━━━━━━━━━━━━━━━━━━━━━━━━━━╇━━━━━━╇━━━━━━━━━━━━━━━━━━━━━━━━━━━━━━━━━━━━━━━━━━━━━━━━━━━┩\n",
       "│ 1 │ Samsung_Electronics_Sustainability_Report_2025_… │   86 │ ·  삼성전자주식회사 지속가능경영 웹사이트         │\n",
       "│   │                                                  │      │ http://www.samsung.com/sec/sustainability/main ·  │\n",
       "│   │                                                  │      │ 삼성전자주식회사 IR 웹사이트                      │\n",
       "│   │                                                  │      │ http://www.samsung.com/sec/ir ·  삼성전자주식회 … │\n",
       "│   │                                                  │      │ 뉴…                                               │\n",
       "│ 2 │ Samsung_Electronics_Sustainability_Report_2025_… │    1 │ 삼성전자 지속가능경영보고서 2025 A Journey        │\n",
       "│   │                                                  │      │ Towards   a Sustainable Future A Journey  Towards │\n",
       "│   │                                                  │      │ a Sustainable Future                              │\n",
       "│ 3 │ Samsung_Electronics_Sustainability_Report_2025_… │   46 │ 삼성전자 지속가능경영보고서 2025 46 주요 평가     │\n",
       "│   │                                                  │      │ 항목 책임있는 구매관행 거래 기본 계약서 체결      │\n",
       "│   │                                                  │      │ 삼성전자는 협력회사와의 거래 기본 계약서에        │\n",
       "│   │                                                  │      │ 온실가스 관리를 포함한 협력회사 행동규범 준수     │\n",
       "│   │                                                  │      │ 의무를 명시함으로써  협력회사 지속가능경영 기반   │\n",
       "│   │                                                  │      │ 강화를 위해 노…                                   │\n",
       "│ 4 │ Samsung_Electronics_Sustainability_Report_2025_… │   76 │ 삼성전자 지속가능경영보고서 2025 76 독립된        │\n",
       "│   │                                                  │      │ 인증인의 인증보고서 Our Company AppendixFacts &   │\n",
       "│   │                                                  │      │ Figures PrinciplePlanet People                    │\n",
       "│ 5 │ Sustainability_report_2024_kr.pdf                │   23 │ 삼성전자 지속가능경영보고서 2024 23 Our Company   │\n",
       "│   │                                                  │      │ AppendixMateriality Assessment Facts & Figures    │\n",
       "│   │                                                  │      │ PrinciplePlanet People 추진방향 국내 반도체 라인  │\n",
       "│   │                                                  │      │ 증설에 따라 2030년 DS부문 제조…                   │\n",
       "└───┴──────────────────────────────────────────────────┴──────┴───────────────────────────────────────────────────┘\n"
      ]
     },
     "metadata": {},
     "output_type": "display_data"
    }
   ],
   "source": [
    "rich_docs(result2, title=\"MMR 기반 탑 5개\")"
   ]
  },
  {
   "cell_type": "markdown",
   "id": "6397fdd4",
   "metadata": {},
   "source": [
    "# 2-2. 벡터 기반 검색기(mmr)"
   ]
  },
  {
   "cell_type": "code",
   "execution_count": 21,
   "id": "af2d4f85",
   "metadata": {},
   "outputs": [],
   "source": [
    "ret_mmr2 = vecstore.as_retriever(\n",
    "    search_kwargs={\"k\": 6, \"lambda_mult\": 0.25}, # 1에 가까울수록 유사도 높은 것들만, 낮을수록 다양한 결과\n",
    "    search_type = \"mmr\" # \"similarity\" (default), \"mmr\", or \"similarity_score_threshold\".\n",
    ")\n",
    "result3 = ret_mmr2.invoke(question)"
   ]
  },
  {
   "cell_type": "code",
   "execution_count": 72,
   "id": "1c6dcd0e",
   "metadata": {},
   "outputs": [
    {
     "data": {
      "text/html": [
       "<pre style=\"white-space:pre;overflow-x:auto;line-height:normal;font-family:Menlo,'DejaVu Sans Mono',consolas,'Courier New',monospace\"><span style=\"font-style: italic\">                                               MMR 기반 중복 최소화                                                </span>\n",
       "┏━━━┳━━━━━━━━━━━━━━━━━━━━━━━━━━━━━━━━━━━━━━━━━━━━━━━━━━┳━━━━━━┳━━━━━━━━━━━━━━━━━━━━━━━━━━━━━━━━━━━━━━━━━━━━━━━━━━━┓\n",
       "┃<span style=\"font-weight: bold\"> # </span>┃<span style=\"font-weight: bold\"> Source                                           </span>┃<span style=\"font-weight: bold\"> Page </span>┃<span style=\"font-weight: bold\"> Preview                                           </span>┃\n",
       "┡━━━╇━━━━━━━━━━━━━━━━━━━━━━━━━━━━━━━━━━━━━━━━━━━━━━━━━━╇━━━━━━╇━━━━━━━━━━━━━━━━━━━━━━━━━━━━━━━━━━━━━━━━━━━━━━━━━━━┩\n",
       "│ 1 │ Samsung_Electronics_Sustainability_Report_2025_… │   86 │ ·  삼성전자주식회사 지속가능경영 웹사이트         │\n",
       "│   │                                                  │      │ http://www.samsung.com/sec/sustainability/main ·  │\n",
       "│   │                                                  │      │ 삼성전자주식회사 IR 웹사이트                      │\n",
       "│   │                                                  │      │ http://www.samsung.com/sec/ir ·  삼성전자주식회 … │\n",
       "│   │                                                  │      │ 뉴…                                               │\n",
       "│ 2 │ Samsung_Electronics_Sustainability_Report_2025_… │   86 │ 삼성전자 지속가능경영보고서 2025 86               │\n",
       "│   │                                                  │      │ 삼성전자주식회사는 경제·사회·환경적 가치 창출     │\n",
       "│   │                                                  │      │ 성과를 다양한 이해관계자와 투명하게 소통하기 위 … │\n",
       "│   │                                                  │      │ 2025년 열여덟 번째 지속가능경영보고서를           │\n",
       "│   │                                                  │      │ 발간합니다. 작성 기준 본 보고서는 지속가능경영    │\n",
       "│   │                                                  │      │ 보고 기준인 GRI(G…                                │\n",
       "│ 3 │ Samsung_Electronics_Sustainability_Report_2025_… │    1 │ 삼성전자 지속가능경영보고서 2025 A Journey        │\n",
       "│   │                                                  │      │ Towards   a Sustainable Future A Journey  Towards │\n",
       "│   │                                                  │      │ a Sustainable Future                              │\n",
       "│ 4 │ Samsung_Electronics_Sustainability_Report_2025_… │   46 │ 삼성전자 지속가능경영보고서 2025 46 주요 평가     │\n",
       "│   │                                                  │      │ 항목 책임있는 구매관행 거래 기본 계약서 체결      │\n",
       "│   │                                                  │      │ 삼성전자는 협력회사와의 거래 기본 계약서에        │\n",
       "│   │                                                  │      │ 온실가스 관리를 포함한 협력회사 행동규범 준수     │\n",
       "│   │                                                  │      │ 의무를 명시함으로써  협력회사 지속가능경영 기반   │\n",
       "│   │                                                  │      │ 강화를 위해 노…                                   │\n",
       "│ 5 │ Samsung_Electronics_Sustainability_Report_2025_… │   76 │ 삼성전자 지속가능경영보고서 2025 76 독립된        │\n",
       "│   │                                                  │      │ 인증인의 인증보고서 Our Company AppendixFacts &amp;   │\n",
       "│   │                                                  │      │ Figures PrinciplePlanet People                    │\n",
       "│ 6 │ Sustainability_report_2024_kr.pdf                │   23 │ 삼성전자 지속가능경영보고서 2024 23 Our Company   │\n",
       "│   │                                                  │      │ AppendixMateriality Assessment Facts &amp; Figures    │\n",
       "│   │                                                  │      │ PrinciplePlanet People 추진방향 국내 반도체 라인  │\n",
       "│   │                                                  │      │ 증설에 따라 2030년 DS부문 제조…                   │\n",
       "└───┴──────────────────────────────────────────────────┴──────┴───────────────────────────────────────────────────┘\n",
       "</pre>\n"
      ],
      "text/plain": [
       "\u001b[3m                                               MMR 기반 중복 최소화                                                \u001b[0m\n",
       "┏━━━┳━━━━━━━━━━━━━━━━━━━━━━━━━━━━━━━━━━━━━━━━━━━━━━━━━━┳━━━━━━┳━━━━━━━━━━━━━━━━━━━━━━━━━━━━━━━━━━━━━━━━━━━━━━━━━━━┓\n",
       "┃\u001b[1m \u001b[0m\u001b[1m#\u001b[0m\u001b[1m \u001b[0m┃\u001b[1m \u001b[0m\u001b[1mSource                                          \u001b[0m\u001b[1m \u001b[0m┃\u001b[1m \u001b[0m\u001b[1mPage\u001b[0m\u001b[1m \u001b[0m┃\u001b[1m \u001b[0m\u001b[1mPreview                                          \u001b[0m\u001b[1m \u001b[0m┃\n",
       "┡━━━╇━━━━━━━━━━━━━━━━━━━━━━━━━━━━━━━━━━━━━━━━━━━━━━━━━━╇━━━━━━╇━━━━━━━━━━━━━━━━━━━━━━━━━━━━━━━━━━━━━━━━━━━━━━━━━━━┩\n",
       "│ 1 │ Samsung_Electronics_Sustainability_Report_2025_… │   86 │ ·  삼성전자주식회사 지속가능경영 웹사이트         │\n",
       "│   │                                                  │      │ http://www.samsung.com/sec/sustainability/main ·  │\n",
       "│   │                                                  │      │ 삼성전자주식회사 IR 웹사이트                      │\n",
       "│   │                                                  │      │ http://www.samsung.com/sec/ir ·  삼성전자주식회 … │\n",
       "│   │                                                  │      │ 뉴…                                               │\n",
       "│ 2 │ Samsung_Electronics_Sustainability_Report_2025_… │   86 │ 삼성전자 지속가능경영보고서 2025 86               │\n",
       "│   │                                                  │      │ 삼성전자주식회사는 경제·사회·환경적 가치 창출     │\n",
       "│   │                                                  │      │ 성과를 다양한 이해관계자와 투명하게 소통하기 위 … │\n",
       "│   │                                                  │      │ 2025년 열여덟 번째 지속가능경영보고서를           │\n",
       "│   │                                                  │      │ 발간합니다. 작성 기준 본 보고서는 지속가능경영    │\n",
       "│   │                                                  │      │ 보고 기준인 GRI(G…                                │\n",
       "│ 3 │ Samsung_Electronics_Sustainability_Report_2025_… │    1 │ 삼성전자 지속가능경영보고서 2025 A Journey        │\n",
       "│   │                                                  │      │ Towards   a Sustainable Future A Journey  Towards │\n",
       "│   │                                                  │      │ a Sustainable Future                              │\n",
       "│ 4 │ Samsung_Electronics_Sustainability_Report_2025_… │   46 │ 삼성전자 지속가능경영보고서 2025 46 주요 평가     │\n",
       "│   │                                                  │      │ 항목 책임있는 구매관행 거래 기본 계약서 체결      │\n",
       "│   │                                                  │      │ 삼성전자는 협력회사와의 거래 기본 계약서에        │\n",
       "│   │                                                  │      │ 온실가스 관리를 포함한 협력회사 행동규범 준수     │\n",
       "│   │                                                  │      │ 의무를 명시함으로써  협력회사 지속가능경영 기반   │\n",
       "│   │                                                  │      │ 강화를 위해 노…                                   │\n",
       "│ 5 │ Samsung_Electronics_Sustainability_Report_2025_… │   76 │ 삼성전자 지속가능경영보고서 2025 76 독립된        │\n",
       "│   │                                                  │      │ 인증인의 인증보고서 Our Company AppendixFacts &   │\n",
       "│   │                                                  │      │ Figures PrinciplePlanet People                    │\n",
       "│ 6 │ Sustainability_report_2024_kr.pdf                │   23 │ 삼성전자 지속가능경영보고서 2024 23 Our Company   │\n",
       "│   │                                                  │      │ AppendixMateriality Assessment Facts & Figures    │\n",
       "│   │                                                  │      │ PrinciplePlanet People 추진방향 국내 반도체 라인  │\n",
       "│   │                                                  │      │ 증설에 따라 2030년 DS부문 제조…                   │\n",
       "└───┴──────────────────────────────────────────────────┴──────┴───────────────────────────────────────────────────┘\n"
      ]
     },
     "metadata": {},
     "output_type": "display_data"
    }
   ],
   "source": [
    "rich_docs(result3,  title=\"MMR 기반 중복 최소화\")"
   ]
  },
  {
   "cell_type": "markdown",
   "id": "0d8d095b",
   "metadata": {},
   "source": [
    "# 3. 벡터 기반 검색기(score_threshold)"
   ]
  },
  {
   "cell_type": "code",
   "execution_count": 40,
   "id": "83781895",
   "metadata": {},
   "outputs": [],
   "source": [
    "# 3. score 로 제어 - threshold 값 지정\n",
    "ret_score = vecstore.as_retriever(\n",
    "    search_type=\"similarity_score_threshold\",\n",
    "    search_kwargs={\"score_threshold\": 0.4,\n",
    "                   \"k\" : 8,\n",
    "                   },\n",
    ")\n",
    "result4 = ret_score.invoke(question)"
   ]
  },
  {
   "cell_type": "code",
   "execution_count": 54,
   "id": "aba03d4c",
   "metadata": {},
   "outputs": [
    {
     "data": {
      "text/plain": [
       "[Document(id='samsung_2025::40ea943c-2849-4029-ae6e-0cd09c2cb477', metadata={'total_pages': 87, 'producer': 'Adobe PDF Library 15.0', 'moddate': '2025-09-04T16:51:11+09:00', 'page': 85, 'source': '../data/Samsung_Electronics_Sustainability_Report_2025_KOR.pdf', 'creationdate': '2025-07-10T16:11:16+09:00', 'trapped': '/False', 'page_label': '86', 'creator': 'Adobe InDesign 15.1 (Macintosh)'}, page_content='·  삼성전자주식회사 지속가능경영 웹사이트   \\nhttp://www.samsung.com/sec/sustainability/main\\n·  삼성전자주식회사 IR 웹사이트   \\nhttp://www.samsung.com/sec/ir\\n·  삼성전자주식회사 뉴스룸   \\nhttp://news.samsung.com/kr   \\nhttp://news.samsung.com/global\\n담당 부서\\n· 삼성전자주식회사 지속가능경영추진센터\\n· 주소: 16677 경기도 수원시 영통구 삼성로 129(매탄동)\\n· 이메일: sustainability.sec@samsung.com\\n참고 자료\\n·  사업 보고서 \\n·  기업지배구조 보고서 \\n·  삼성전자 책임광물 관리 보고서 \\n·  행동규범 \\n·  행동규범 가이드라인 \\n미래 예측 진술 공지\\n삼성전자주식회사의 지속가능경영보고서에서 삼성전자의 지속가능경영 목표 및  전략과 관련된 \\n것을 포함하여 이 루어진 모 든 특정 내용은 관련법상 미래  예측 진술에 해 당할 수 있습니다. 이 \\n지속가능경영보고서에서는 향후 상황 및 지속가능경영 성과에 대한 삼성전자의 현재 견해를 반영하는 \\n미래 예측 진술이 포함되어 있습니다. 이와 같은 내용은 위험과 불확실성을 포함하고 있습니다.\\n어떠한 사실이 현 재 또는 과거 시점에만 국한되는 것 이 아니라 미래에도 유관한 경 우 미래 예측 \\n진술로 볼 수 있습니다. 예를 들어, 삼성전자의 전망, 지침, 그 외 특정 과거 혹은 현재의 사실과 직접적 \\n연관성이 있지 않은 정보 등을 포함합니다. 경우에 따라 \"may,\" \"will,\" \"could,\" \"should,\" \"forecasts,\" \\n\"expects, \" \"intends,\" \"plans,\" “aims to ”, “goals,” “trying to, ” \"anticipates, \" \"projects, \" \\n\"outlook,\" \"believes,\" \"estimates,\" \"predicts,\" \"potential,\" \"continue,\" \"preliminary,\" “추진”,')]"
      ]
     },
     "execution_count": 54,
     "metadata": {},
     "output_type": "execute_result"
    }
   ],
   "source": [
    "result4"
   ]
  },
  {
   "cell_type": "code",
   "execution_count": 41,
   "id": "1958907f",
   "metadata": {},
   "outputs": [
    {
     "data": {
      "text/plain": [
       "1"
      ]
     },
     "execution_count": 41,
     "metadata": {},
     "output_type": "execute_result"
    }
   ],
   "source": [
    "len(result4)"
   ]
  },
  {
   "cell_type": "code",
   "execution_count": 73,
   "id": "919ac72c",
   "metadata": {},
   "outputs": [
    {
     "data": {
      "text/html": [
       "<pre style=\"white-space:pre;overflow-x:auto;line-height:normal;font-family:Menlo,'DejaVu Sans Mono',consolas,'Courier New',monospace\"><span style=\"font-style: italic\">                                                    score 기반                                                     </span>\n",
       "┏━━━┳━━━━━━━━━━━━━━━━━━━━━━━━━━━━━━━━━━━━━━━━━━━━━━━━━━┳━━━━━━┳━━━━━━━━━━━━━━━━━━━━━━━━━━━━━━━━━━━━━━━━━━━━━━━━━━━┓\n",
       "┃<span style=\"font-weight: bold\"> # </span>┃<span style=\"font-weight: bold\"> Source                                           </span>┃<span style=\"font-weight: bold\"> Page </span>┃<span style=\"font-weight: bold\"> Preview                                           </span>┃\n",
       "┡━━━╇━━━━━━━━━━━━━━━━━━━━━━━━━━━━━━━━━━━━━━━━━━━━━━━━━━╇━━━━━━╇━━━━━━━━━━━━━━━━━━━━━━━━━━━━━━━━━━━━━━━━━━━━━━━━━━━┩\n",
       "│ 1 │ Samsung_Electronics_Sustainability_Report_2025_… │   86 │ ·  삼성전자주식회사 지속가능경영 웹사이트         │\n",
       "│   │                                                  │      │ http://www.samsung.com/sec/sustainability/main ·  │\n",
       "│   │                                                  │      │ 삼성전자주식회사 IR 웹사이트                      │\n",
       "│   │                                                  │      │ http://www.samsung.com/sec/ir ·  삼성전자주식회 … │\n",
       "│   │                                                  │      │ 뉴…                                               │\n",
       "│ 2 │ Samsung_Electronics_Sustainability_Report_2025_… │   86 │ 삼성전자 지속가능경영보고서 2025 86               │\n",
       "│   │                                                  │      │ 삼성전자주식회사는 경제·사회·환경적 가치 창출     │\n",
       "│   │                                                  │      │ 성과를 다양한 이해관계자와 투명하게 소통하기 위 … │\n",
       "│   │                                                  │      │ 2025년 열여덟 번째 지속가능경영보고서를           │\n",
       "│   │                                                  │      │ 발간합니다. 작성 기준 본 보고서는 지속가능경영    │\n",
       "│   │                                                  │      │ 보고 기준인 GRI(G…                                │\n",
       "│ 3 │ Samsung_Electronics_Sustainability_Report_2025_… │   86 │ 비록 삼성전자주식회사는 지속가능경영보고서의 미 … │\n",
       "│   │                                                  │      │ 예측 진술이 시의성 있고 합리적인 정보, 가정  및   │\n",
       "│   │                                                  │      │ 믿음에 기반한다고 판단하지만, 이러한 미래 예측    │\n",
       "│   │                                                  │      │ 진술(그리고 이를 이루는 정보, 가정 및 믿음)은     │\n",
       "│   │                                                  │      │ 다양한 요인, 리스크, 불확실성의 영향권에          │\n",
       "│   │                                                  │      │ 있으므로…                                         │\n",
       "│ 4 │ Samsung_Electronics_Sustainability_Report_2025_… │    1 │ 삼성전자 지속가능경영보고서 2025 A Journey        │\n",
       "│   │                                                  │      │ Towards   a Sustainable Future A Journey  Towards │\n",
       "│   │                                                  │      │ a Sustainable Future                              │\n",
       "│ 5 │ Samsung_Electronics_Sustainability_Report_2025_… │   46 │ 삼성전자 지속가능경영보고서 2025 46 주요 평가     │\n",
       "│   │                                                  │      │ 항목 책임있는 구매관행 거래 기본 계약서 체결      │\n",
       "│   │                                                  │      │ 삼성전자는 협력회사와의 거래 기본 계약서에        │\n",
       "│   │                                                  │      │ 온실가스 관리를 포함한 협력회사 행동규범 준수     │\n",
       "│   │                                                  │      │ 의무를 명시함으로써  협력회사 지속가능경영 기반   │\n",
       "│   │                                                  │      │ 강화를 위해 노…                                   │\n",
       "│ 6 │ Samsung_Electronics_Sustainability_Report_2025_… │   86 │ \"outlook,\" \"believes,\" \"estimates,\" \"predicts,\"   │\n",
       "│   │                                                  │      │ \"potential,\" \"continue,\" \"preliminary,\" “추진”,   │\n",
       "│   │                                                  │      │ “목표”, “전략”, “예정”과 같은 용어로 미래 예측    │\n",
       "│   │                                                  │      │ 진술을 식별할 수 있습니다…                        │\n",
       "│ 7 │ Samsung_Electronics_Sustainability_Report_2025_… │   76 │ 삼성전자 지속가능경영보고서 2025 76 독립된        │\n",
       "│   │                                                  │      │ 인증인의 인증보고서 Our Company AppendixFacts &amp;   │\n",
       "│   │                                                  │      │ Figures PrinciplePlanet People                    │\n",
       "│ 8 │ Samsung_Electronics_Sustainability_Report_2025_… │   77 │ 삼성전자 지속가능경영보고서 2025 77 Scope 1, 2    │\n",
       "│   │                                                  │      │ 온실가스 배출량 검증 의견서 Our Company           │\n",
       "│   │                                                  │      │ AppendixFacts &amp; Figures PrinciplePlanet People    │\n",
       "└───┴──────────────────────────────────────────────────┴──────┴───────────────────────────────────────────────────┘\n",
       "</pre>\n"
      ],
      "text/plain": [
       "\u001b[3m                                                    score 기반                                                     \u001b[0m\n",
       "┏━━━┳━━━━━━━━━━━━━━━━━━━━━━━━━━━━━━━━━━━━━━━━━━━━━━━━━━┳━━━━━━┳━━━━━━━━━━━━━━━━━━━━━━━━━━━━━━━━━━━━━━━━━━━━━━━━━━━┓\n",
       "┃\u001b[1m \u001b[0m\u001b[1m#\u001b[0m\u001b[1m \u001b[0m┃\u001b[1m \u001b[0m\u001b[1mSource                                          \u001b[0m\u001b[1m \u001b[0m┃\u001b[1m \u001b[0m\u001b[1mPage\u001b[0m\u001b[1m \u001b[0m┃\u001b[1m \u001b[0m\u001b[1mPreview                                          \u001b[0m\u001b[1m \u001b[0m┃\n",
       "┡━━━╇━━━━━━━━━━━━━━━━━━━━━━━━━━━━━━━━━━━━━━━━━━━━━━━━━━╇━━━━━━╇━━━━━━━━━━━━━━━━━━━━━━━━━━━━━━━━━━━━━━━━━━━━━━━━━━━┩\n",
       "│ 1 │ Samsung_Electronics_Sustainability_Report_2025_… │   86 │ ·  삼성전자주식회사 지속가능경영 웹사이트         │\n",
       "│   │                                                  │      │ http://www.samsung.com/sec/sustainability/main ·  │\n",
       "│   │                                                  │      │ 삼성전자주식회사 IR 웹사이트                      │\n",
       "│   │                                                  │      │ http://www.samsung.com/sec/ir ·  삼성전자주식회 … │\n",
       "│   │                                                  │      │ 뉴…                                               │\n",
       "│ 2 │ Samsung_Electronics_Sustainability_Report_2025_… │   86 │ 삼성전자 지속가능경영보고서 2025 86               │\n",
       "│   │                                                  │      │ 삼성전자주식회사는 경제·사회·환경적 가치 창출     │\n",
       "│   │                                                  │      │ 성과를 다양한 이해관계자와 투명하게 소통하기 위 … │\n",
       "│   │                                                  │      │ 2025년 열여덟 번째 지속가능경영보고서를           │\n",
       "│   │                                                  │      │ 발간합니다. 작성 기준 본 보고서는 지속가능경영    │\n",
       "│   │                                                  │      │ 보고 기준인 GRI(G…                                │\n",
       "│ 3 │ Samsung_Electronics_Sustainability_Report_2025_… │   86 │ 비록 삼성전자주식회사는 지속가능경영보고서의 미 … │\n",
       "│   │                                                  │      │ 예측 진술이 시의성 있고 합리적인 정보, 가정  및   │\n",
       "│   │                                                  │      │ 믿음에 기반한다고 판단하지만, 이러한 미래 예측    │\n",
       "│   │                                                  │      │ 진술(그리고 이를 이루는 정보, 가정 및 믿음)은     │\n",
       "│   │                                                  │      │ 다양한 요인, 리스크, 불확실성의 영향권에          │\n",
       "│   │                                                  │      │ 있으므로…                                         │\n",
       "│ 4 │ Samsung_Electronics_Sustainability_Report_2025_… │    1 │ 삼성전자 지속가능경영보고서 2025 A Journey        │\n",
       "│   │                                                  │      │ Towards   a Sustainable Future A Journey  Towards │\n",
       "│   │                                                  │      │ a Sustainable Future                              │\n",
       "│ 5 │ Samsung_Electronics_Sustainability_Report_2025_… │   46 │ 삼성전자 지속가능경영보고서 2025 46 주요 평가     │\n",
       "│   │                                                  │      │ 항목 책임있는 구매관행 거래 기본 계약서 체결      │\n",
       "│   │                                                  │      │ 삼성전자는 협력회사와의 거래 기본 계약서에        │\n",
       "│   │                                                  │      │ 온실가스 관리를 포함한 협력회사 행동규범 준수     │\n",
       "│   │                                                  │      │ 의무를 명시함으로써  협력회사 지속가능경영 기반   │\n",
       "│   │                                                  │      │ 강화를 위해 노…                                   │\n",
       "│ 6 │ Samsung_Electronics_Sustainability_Report_2025_… │   86 │ \"outlook,\" \"believes,\" \"estimates,\" \"predicts,\"   │\n",
       "│   │                                                  │      │ \"potential,\" \"continue,\" \"preliminary,\" “추진”,   │\n",
       "│   │                                                  │      │ “목표”, “전략”, “예정”과 같은 용어로 미래 예측    │\n",
       "│   │                                                  │      │ 진술을 식별할 수 있습니다…                        │\n",
       "│ 7 │ Samsung_Electronics_Sustainability_Report_2025_… │   76 │ 삼성전자 지속가능경영보고서 2025 76 독립된        │\n",
       "│   │                                                  │      │ 인증인의 인증보고서 Our Company AppendixFacts &   │\n",
       "│   │                                                  │      │ Figures PrinciplePlanet People                    │\n",
       "│ 8 │ Samsung_Electronics_Sustainability_Report_2025_… │   77 │ 삼성전자 지속가능경영보고서 2025 77 Scope 1, 2    │\n",
       "│   │                                                  │      │ 온실가스 배출량 검증 의견서 Our Company           │\n",
       "│   │                                                  │      │ AppendixFacts & Figures PrinciplePlanet People    │\n",
       "└───┴──────────────────────────────────────────────────┴──────┴───────────────────────────────────────────────────┘\n"
      ]
     },
     "metadata": {},
     "output_type": "display_data"
    }
   ],
   "source": [
    "rich_docs(result4,  title=\"score 기반\")"
   ]
  },
  {
   "cell_type": "markdown",
   "id": "675d876d",
   "metadata": {},
   "source": [
    "# 4. 벡터 기반 검색기(filter)"
   ]
  },
  {
   "cell_type": "code",
   "execution_count": 58,
   "id": "f7db753d",
   "metadata": {},
   "outputs": [],
   "source": [
    "# filter\n",
    "ret_score = vecstore.as_retriever(\n",
    "    search_type=\"similarity_score_threshold\",\n",
    "    search_kwargs={\"score_threshold\": 0.2,\n",
    "                   \"k\" : 8,\n",
    "                   \"filter\": {\"source\": \"../data/Samsung_Electronics_Sustainability_Report_2025_KOR.pdf\"}\n",
    "                   },\n",
    ")\n",
    "result5 = ret_score.invoke(question)"
   ]
  },
  {
   "cell_type": "code",
   "execution_count": 74,
   "id": "1724b303",
   "metadata": {},
   "outputs": [
    {
     "data": {
      "text/html": [
       "<pre style=\"white-space:pre;overflow-x:auto;line-height:normal;font-family:Menlo,'DejaVu Sans Mono',consolas,'Courier New',monospace\"><span style=\"font-style: italic\">                                                    filter 기반                                                    </span>\n",
       "┏━━━┳━━━━━━━━━━━━━━━━━━━━━━━━━━━━━━━━━━━━━━━━━━━━━━━━━━┳━━━━━━┳━━━━━━━━━━━━━━━━━━━━━━━━━━━━━━━━━━━━━━━━━━━━━━━━━━━┓\n",
       "┃<span style=\"font-weight: bold\"> # </span>┃<span style=\"font-weight: bold\"> Source                                           </span>┃<span style=\"font-weight: bold\"> Page </span>┃<span style=\"font-weight: bold\"> Preview                                           </span>┃\n",
       "┡━━━╇━━━━━━━━━━━━━━━━━━━━━━━━━━━━━━━━━━━━━━━━━━━━━━━━━━╇━━━━━━╇━━━━━━━━━━━━━━━━━━━━━━━━━━━━━━━━━━━━━━━━━━━━━━━━━━━┩\n",
       "│ 1 │ Samsung_Electronics_Sustainability_Report_2025_… │   86 │ ·  삼성전자주식회사 지속가능경영 웹사이트         │\n",
       "│   │                                                  │      │ http://www.samsung.com/sec/sustainability/main ·  │\n",
       "│   │                                                  │      │ 삼성전자주식회사 IR 웹사이트                      │\n",
       "│   │                                                  │      │ http://www.samsung.com/sec/ir ·  삼성전자주식회 … │\n",
       "│   │                                                  │      │ 뉴…                                               │\n",
       "│ 2 │ Samsung_Electronics_Sustainability_Report_2025_… │   86 │ 삼성전자 지속가능경영보고서 2025 86               │\n",
       "│   │                                                  │      │ 삼성전자주식회사는 경제·사회·환경적 가치 창출     │\n",
       "│   │                                                  │      │ 성과를 다양한 이해관계자와 투명하게 소통하기 위 … │\n",
       "│   │                                                  │      │ 2025년 열여덟 번째 지속가능경영보고서를           │\n",
       "│   │                                                  │      │ 발간합니다. 작성 기준 본 보고서는 지속가능경영    │\n",
       "│   │                                                  │      │ 보고 기준인 GRI(G…                                │\n",
       "│ 3 │ Samsung_Electronics_Sustainability_Report_2025_… │   86 │ 비록 삼성전자주식회사는 지속가능경영보고서의 미 … │\n",
       "│   │                                                  │      │ 예측 진술이 시의성 있고 합리적인 정보, 가정  및   │\n",
       "│   │                                                  │      │ 믿음에 기반한다고 판단하지만, 이러한 미래 예측    │\n",
       "│   │                                                  │      │ 진술(그리고 이를 이루는 정보, 가정 및 믿음)은     │\n",
       "│   │                                                  │      │ 다양한 요인, 리스크, 불확실성의 영향권에          │\n",
       "│   │                                                  │      │ 있으므로…                                         │\n",
       "│ 4 │ Samsung_Electronics_Sustainability_Report_2025_… │    1 │ 삼성전자 지속가능경영보고서 2025 A Journey        │\n",
       "│   │                                                  │      │ Towards   a Sustainable Future A Journey  Towards │\n",
       "│   │                                                  │      │ a Sustainable Future                              │\n",
       "│ 5 │ Samsung_Electronics_Sustainability_Report_2025_… │   46 │ 삼성전자 지속가능경영보고서 2025 46 주요 평가     │\n",
       "│   │                                                  │      │ 항목 책임있는 구매관행 거래 기본 계약서 체결      │\n",
       "│   │                                                  │      │ 삼성전자는 협력회사와의 거래 기본 계약서에        │\n",
       "│   │                                                  │      │ 온실가스 관리를 포함한 협력회사 행동규범 준수     │\n",
       "│   │                                                  │      │ 의무를 명시함으로써  협력회사 지속가능경영 기반   │\n",
       "│   │                                                  │      │ 강화를 위해 노…                                   │\n",
       "│ 6 │ Samsung_Electronics_Sustainability_Report_2025_… │   86 │ \"outlook,\" \"believes,\" \"estimates,\" \"predicts,\"   │\n",
       "│   │                                                  │      │ \"potential,\" \"continue,\" \"preliminary,\" “추진”,   │\n",
       "│   │                                                  │      │ “목표”, “전략”, “예정”과 같은 용어로 미래 예측    │\n",
       "│   │                                                  │      │ 진술을 식별할 수 있습니다…                        │\n",
       "│ 7 │ Samsung_Electronics_Sustainability_Report_2025_… │   76 │ 삼성전자 지속가능경영보고서 2025 76 독립된        │\n",
       "│   │                                                  │      │ 인증인의 인증보고서 Our Company AppendixFacts &amp;   │\n",
       "│   │                                                  │      │ Figures PrinciplePlanet People                    │\n",
       "│ 8 │ Samsung_Electronics_Sustainability_Report_2025_… │   77 │ 삼성전자 지속가능경영보고서 2025 77 Scope 1, 2    │\n",
       "│   │                                                  │      │ 온실가스 배출량 검증 의견서 Our Company           │\n",
       "│   │                                                  │      │ AppendixFacts &amp; Figures PrinciplePlanet People    │\n",
       "└───┴──────────────────────────────────────────────────┴──────┴───────────────────────────────────────────────────┘\n",
       "</pre>\n"
      ],
      "text/plain": [
       "\u001b[3m                                                    filter 기반                                                    \u001b[0m\n",
       "┏━━━┳━━━━━━━━━━━━━━━━━━━━━━━━━━━━━━━━━━━━━━━━━━━━━━━━━━┳━━━━━━┳━━━━━━━━━━━━━━━━━━━━━━━━━━━━━━━━━━━━━━━━━━━━━━━━━━━┓\n",
       "┃\u001b[1m \u001b[0m\u001b[1m#\u001b[0m\u001b[1m \u001b[0m┃\u001b[1m \u001b[0m\u001b[1mSource                                          \u001b[0m\u001b[1m \u001b[0m┃\u001b[1m \u001b[0m\u001b[1mPage\u001b[0m\u001b[1m \u001b[0m┃\u001b[1m \u001b[0m\u001b[1mPreview                                          \u001b[0m\u001b[1m \u001b[0m┃\n",
       "┡━━━╇━━━━━━━━━━━━━━━━━━━━━━━━━━━━━━━━━━━━━━━━━━━━━━━━━━╇━━━━━━╇━━━━━━━━━━━━━━━━━━━━━━━━━━━━━━━━━━━━━━━━━━━━━━━━━━━┩\n",
       "│ 1 │ Samsung_Electronics_Sustainability_Report_2025_… │   86 │ ·  삼성전자주식회사 지속가능경영 웹사이트         │\n",
       "│   │                                                  │      │ http://www.samsung.com/sec/sustainability/main ·  │\n",
       "│   │                                                  │      │ 삼성전자주식회사 IR 웹사이트                      │\n",
       "│   │                                                  │      │ http://www.samsung.com/sec/ir ·  삼성전자주식회 … │\n",
       "│   │                                                  │      │ 뉴…                                               │\n",
       "│ 2 │ Samsung_Electronics_Sustainability_Report_2025_… │   86 │ 삼성전자 지속가능경영보고서 2025 86               │\n",
       "│   │                                                  │      │ 삼성전자주식회사는 경제·사회·환경적 가치 창출     │\n",
       "│   │                                                  │      │ 성과를 다양한 이해관계자와 투명하게 소통하기 위 … │\n",
       "│   │                                                  │      │ 2025년 열여덟 번째 지속가능경영보고서를           │\n",
       "│   │                                                  │      │ 발간합니다. 작성 기준 본 보고서는 지속가능경영    │\n",
       "│   │                                                  │      │ 보고 기준인 GRI(G…                                │\n",
       "│ 3 │ Samsung_Electronics_Sustainability_Report_2025_… │   86 │ 비록 삼성전자주식회사는 지속가능경영보고서의 미 … │\n",
       "│   │                                                  │      │ 예측 진술이 시의성 있고 합리적인 정보, 가정  및   │\n",
       "│   │                                                  │      │ 믿음에 기반한다고 판단하지만, 이러한 미래 예측    │\n",
       "│   │                                                  │      │ 진술(그리고 이를 이루는 정보, 가정 및 믿음)은     │\n",
       "│   │                                                  │      │ 다양한 요인, 리스크, 불확실성의 영향권에          │\n",
       "│   │                                                  │      │ 있으므로…                                         │\n",
       "│ 4 │ Samsung_Electronics_Sustainability_Report_2025_… │    1 │ 삼성전자 지속가능경영보고서 2025 A Journey        │\n",
       "│   │                                                  │      │ Towards   a Sustainable Future A Journey  Towards │\n",
       "│   │                                                  │      │ a Sustainable Future                              │\n",
       "│ 5 │ Samsung_Electronics_Sustainability_Report_2025_… │   46 │ 삼성전자 지속가능경영보고서 2025 46 주요 평가     │\n",
       "│   │                                                  │      │ 항목 책임있는 구매관행 거래 기본 계약서 체결      │\n",
       "│   │                                                  │      │ 삼성전자는 협력회사와의 거래 기본 계약서에        │\n",
       "│   │                                                  │      │ 온실가스 관리를 포함한 협력회사 행동규범 준수     │\n",
       "│   │                                                  │      │ 의무를 명시함으로써  협력회사 지속가능경영 기반   │\n",
       "│   │                                                  │      │ 강화를 위해 노…                                   │\n",
       "│ 6 │ Samsung_Electronics_Sustainability_Report_2025_… │   86 │ \"outlook,\" \"believes,\" \"estimates,\" \"predicts,\"   │\n",
       "│   │                                                  │      │ \"potential,\" \"continue,\" \"preliminary,\" “추진”,   │\n",
       "│   │                                                  │      │ “목표”, “전략”, “예정”과 같은 용어로 미래 예측    │\n",
       "│   │                                                  │      │ 진술을 식별할 수 있습니다…                        │\n",
       "│ 7 │ Samsung_Electronics_Sustainability_Report_2025_… │   76 │ 삼성전자 지속가능경영보고서 2025 76 독립된        │\n",
       "│   │                                                  │      │ 인증인의 인증보고서 Our Company AppendixFacts &   │\n",
       "│   │                                                  │      │ Figures PrinciplePlanet People                    │\n",
       "│ 8 │ Samsung_Electronics_Sustainability_Report_2025_… │   77 │ 삼성전자 지속가능경영보고서 2025 77 Scope 1, 2    │\n",
       "│   │                                                  │      │ 온실가스 배출량 검증 의견서 Our Company           │\n",
       "│   │                                                  │      │ AppendixFacts & Figures PrinciplePlanet People    │\n",
       "└───┴──────────────────────────────────────────────────┴──────┴───────────────────────────────────────────────────┘\n"
      ]
     },
     "metadata": {},
     "output_type": "display_data"
    }
   ],
   "source": [
    "rich_docs(result5,  title=\"filter 기반\")"
   ]
  }
 ],
 "metadata": {
  "kernelspec": {
   "display_name": "LLM-Study (3.11.13)",
   "language": "python",
   "name": "python3"
  },
  "language_info": {
   "codemirror_mode": {
    "name": "ipython",
    "version": 3
   },
   "file_extension": ".py",
   "mimetype": "text/x-python",
   "name": "python",
   "nbconvert_exporter": "python",
   "pygments_lexer": "ipython3",
   "version": "3.11.13"
  }
 },
 "nbformat": 4,
 "nbformat_minor": 5
}
