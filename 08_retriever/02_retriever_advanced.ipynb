{
 "cells": [
  {
   "cell_type": "code",
   "execution_count": 1,
   "id": "7b5d69fb",
   "metadata": {},
   "outputs": [
    {
     "data": {
      "text/plain": [
       "True"
      ]
     },
     "execution_count": 1,
     "metadata": {},
     "output_type": "execute_result"
    }
   ],
   "source": [
    "from dotenv import load_dotenv\n",
    "load_dotenv()"
   ]
  },
  {
   "cell_type": "code",
   "execution_count": 48,
   "id": "5f3ed5a7",
   "metadata": {},
   "outputs": [],
   "source": [
    "# 출력 예쁘게 하기\n",
    "from rich.console import Console\n",
    "from rich.table import Table\n",
    "\n",
    "console = Console()\n",
    "\n",
    "def rich_docs(docs, title=\"Retriever Results\", max_len=140):\n",
    "    table = Table(title=title)\n",
    "    table.add_column(\"#\", justify=\"right\")\n",
    "    table.add_column(\"Source\")\n",
    "    table.add_column(\"Page\", justify=\"right\")\n",
    "    table.add_column(\"Preview\")\n",
    "\n",
    "    for i, d in enumerate(docs, 1):\n",
    "        m = d.metadata or {}\n",
    "        src = (m.get(\"source\",\"\") or \"\").split(\"/\")[-1]\n",
    "        page = str(m.get(\"page_label\", m.get(\"page\",0)+1))\n",
    "        text = (d.page_content or \"\").strip().replace(\"\\n\", \" \")\n",
    "        content = (text[:max_len] + (\"…\" if len(text) > max_len else \"\"))\n",
    "        table.add_row(str(i), src, page, content)\n",
    "\n",
    "    console.print(table)"
   ]
  },
  {
   "cell_type": "code",
   "execution_count": null,
   "id": "8734924c",
   "metadata": {},
   "outputs": [],
   "source": [
    "from langchain_openai import OpenAIEmbeddings\n",
    "from langchain_chroma import Chroma"
   ]
  },
  {
   "cell_type": "markdown",
   "id": "14096902",
   "metadata": {},
   "source": [
    "# 문서 로드하기"
   ]
  },
  {
   "cell_type": "code",
   "execution_count": 4,
   "id": "2f0cb2af",
   "metadata": {},
   "outputs": [],
   "source": [
    "from langchain_community.document_loaders import PyPDFLoader\n",
    "pdf_path = \"../data/Samsung_Electronics_Sustainability_Report_2025_KOR.pdf\"\n",
    "loader = PyPDFLoader(pdf_path)\n",
    "docs = loader.load()"
   ]
  },
  {
   "cell_type": "code",
   "execution_count": 5,
   "id": "7205eff3",
   "metadata": {},
   "outputs": [
    {
     "data": {
      "text/plain": [
       "87"
      ]
     },
     "execution_count": 5,
     "metadata": {},
     "output_type": "execute_result"
    }
   ],
   "source": [
    "len(docs)"
   ]
  },
  {
   "cell_type": "code",
   "execution_count": 6,
   "id": "e2519d00",
   "metadata": {},
   "outputs": [
    {
     "data": {
      "text/plain": [
       "'삼성전자 지속가능경영보고서 2025\\n03\\nOur Company AppendixFacts & Figures PrinciplePlanet People\\nOur Company\\nCEO 메시지\\n회사소개\\n기업 지배구조\\n중대성 평가\\n이해관계자 소통\\n04\\n05\\n06\\n07\\n09'"
      ]
     },
     "execution_count": 6,
     "metadata": {},
     "output_type": "execute_result"
    }
   ],
   "source": [
    "docs[2].page_content"
   ]
  },
  {
   "cell_type": "markdown",
   "id": "568162c7",
   "metadata": {},
   "source": [
    "# 텍스트 스플리트"
   ]
  },
  {
   "cell_type": "code",
   "execution_count": 7,
   "id": "073e1fc9",
   "metadata": {},
   "outputs": [],
   "source": [
    "# 텍스트 스플리트\n",
    "from langchain_text_splitters import RecursiveCharacterTextSplitter\n",
    "\n",
    "spliiter = RecursiveCharacterTextSplitter(\n",
    "    chunk_size = 1000,\n",
    "    chunk_overlap = 100\n",
    ")\n",
    "chunck = spliiter.split_documents(docs)"
   ]
  },
  {
   "cell_type": "code",
   "execution_count": 8,
   "id": "56e49888",
   "metadata": {},
   "outputs": [
    {
     "data": {
      "text/plain": [
       "'삼성전자 지속가능경영보고서 2025\\nA Journey  Towards \\n a Sustainable Future\\nA Journey  Towards\\n a Sustainable Future'"
      ]
     },
     "execution_count": 8,
     "metadata": {},
     "output_type": "execute_result"
    }
   ],
   "source": [
    "chunck[0].page_content"
   ]
  },
  {
   "cell_type": "markdown",
   "id": "132b1f7b",
   "metadata": {},
   "source": [
    "# 벡터 스토어 저장 (처음 1회 실행)"
   ]
  },
  {
   "cell_type": "code",
   "execution_count": 9,
   "id": "3d956848",
   "metadata": {},
   "outputs": [],
   "source": [
    "emb = OpenAIEmbeddings(model=\"text-embedding-3-small\")\n",
    "db_path = \"../vectorstore/chromadb_advanced_store\"\n",
    "col_name = \"samsung\""
   ]
  },
  {
   "cell_type": "code",
   "execution_count": null,
   "id": "24303f54",
   "metadata": {},
   "outputs": [],
   "source": [
    "# vectorsotre = Chroma.from_documents(\n",
    "#     documents=chunck,\n",
    "#     embedding=emb,\n",
    "#     persist_directory=db_path,\n",
    "#     collection_name=col_name\n",
    "# )"
   ]
  },
  {
   "cell_type": "code",
   "execution_count": 11,
   "id": "36531ba9",
   "metadata": {},
   "outputs": [],
   "source": [
    "# 벡터 저장소 불러오기\n",
    "load_vectorstore = Chroma(\n",
    "    persist_directory=db_path,\n",
    "    collection_name=col_name,\n",
    "    embedding_function=emb\n",
    ")"
   ]
  },
  {
   "cell_type": "markdown",
   "id": "0cb50a58",
   "metadata": {},
   "source": [
    "# 1. 키워드 기반 + 기본 검색기 = 하이브리드"
   ]
  },
  {
   "cell_type": "markdown",
   "id": "e03a13e8",
   "metadata": {},
   "source": [
    "## 벡터 검색기(유사도 기반)"
   ]
  },
  {
   "cell_type": "code",
   "execution_count": 23,
   "id": "a611b9a4",
   "metadata": {},
   "outputs": [],
   "source": [
    "ret_similarity = load_vectorstore.as_retriever(\n",
    "    search_type = \"similarity\",\n",
    "    search_kwargs = {\"k\" : 5}\n",
    ")"
   ]
  },
  {
   "cell_type": "code",
   "execution_count": 24,
   "id": "17f2a79c",
   "metadata": {},
   "outputs": [
    {
     "data": {
      "text/plain": [
       "VectorStoreRetriever(tags=['Chroma', 'OpenAIEmbeddings'], vectorstore=<langchain_chroma.vectorstores.Chroma object at 0x000001E435CAF110>, search_kwargs={'k': 5})"
      ]
     },
     "execution_count": 24,
     "metadata": {},
     "output_type": "execute_result"
    }
   ],
   "source": [
    "ret_similarity"
   ]
  },
  {
   "cell_type": "code",
   "execution_count": null,
   "id": "6b06d823",
   "metadata": {},
   "outputs": [],
   "source": [
    "# 번외 : 메타데이터가 궁금하다"
   ]
  },
  {
   "cell_type": "code",
   "execution_count": 17,
   "id": "c70ab4d2",
   "metadata": {},
   "outputs": [],
   "source": [
    "db_docs = load_vectorstore._collection.get(include=[\"documents\", \"metadatas\"])"
   ]
  },
  {
   "cell_type": "code",
   "execution_count": 21,
   "id": "68a02e0f",
   "metadata": {},
   "outputs": [
    {
     "data": {
      "text/plain": [
       "'삼성전자 지속가능경영보고서 2025\\nA Journey  Towards \\n a Sustainable Future\\nA Journey  Towards\\n a Sustainable Future'"
      ]
     },
     "execution_count": 21,
     "metadata": {},
     "output_type": "execute_result"
    }
   ],
   "source": [
    "db_docs[\"documents\"][0]"
   ]
  },
  {
   "cell_type": "code",
   "execution_count": 22,
   "id": "dcdfc017",
   "metadata": {},
   "outputs": [
    {
     "data": {
      "text/plain": [
       "{'page_label': '1',\n",
       " 'creator': 'Adobe InDesign 15.1 (Macintosh)',\n",
       " 'source': '../data/Samsung_Electronics_Sustainability_Report_2025_KOR.pdf',\n",
       " 'page': 0,\n",
       " 'producer': 'Adobe PDF Library 15.0',\n",
       " 'total_pages': 87,\n",
       " 'moddate': '2025-09-04T16:51:11+09:00',\n",
       " 'trapped': '/False',\n",
       " 'creationdate': '2025-07-10T16:11:16+09:00'}"
      ]
     },
     "execution_count": 22,
     "metadata": {},
     "output_type": "execute_result"
    }
   ],
   "source": [
    "db_docs[\"metadatas\"][0]"
   ]
  },
  {
   "cell_type": "code",
   "execution_count": 34,
   "id": "92f6f683",
   "metadata": {},
   "outputs": [],
   "source": [
    "from langchain_community.retrievers import BM25Retriever\n",
    "from langchain.retrievers import EnsembleRetriever"
   ]
  },
  {
   "cell_type": "markdown",
   "id": "389a548f",
   "metadata": {},
   "source": [
    "## 키워드 기반 검색기"
   ]
  },
  {
   "cell_type": "code",
   "execution_count": 32,
   "id": "e2fe31b8",
   "metadata": {},
   "outputs": [],
   "source": [
    "from langchain_core.documents import Document\n",
    "\n",
    "# 저장해둔 vectorsotre를  load_vectorsotre._collection 으로 가져온 뒤\n",
    "# chunck와 동일한 형태인 Document 리스트로 만들기\n",
    "\n",
    "bm_doc = []\n",
    "\n",
    "for content, meta, id in zip(db_docs[\"documents\"], db_docs[\"metadatas\"], db_docs[\"ids\"]):\n",
    "    bm_doc.append(Document(page_content=content, metadata=meta, id=id))"
   ]
  },
  {
   "cell_type": "code",
   "execution_count": 33,
   "id": "fea381af",
   "metadata": {},
   "outputs": [
    {
     "data": {
      "text/plain": [
       "Document(id='89bf31e4-51dc-48b9-939f-9fe43bd34d22', metadata={'page_label': '1', 'creator': 'Adobe InDesign 15.1 (Macintosh)', 'source': '../data/Samsung_Electronics_Sustainability_Report_2025_KOR.pdf', 'page': 0, 'producer': 'Adobe PDF Library 15.0', 'total_pages': 87, 'moddate': '2025-09-04T16:51:11+09:00', 'trapped': '/False', 'creationdate': '2025-07-10T16:11:16+09:00'}, page_content='삼성전자 지속가능경영보고서 2025\\nA Journey  Towards \\n a Sustainable Future\\nA Journey  Towards\\n a Sustainable Future')"
      ]
     },
     "execution_count": 33,
     "metadata": {},
     "output_type": "execute_result"
    }
   ],
   "source": [
    "bm_doc[0]"
   ]
  },
  {
   "cell_type": "code",
   "execution_count": 36,
   "id": "8ba97813",
   "metadata": {},
   "outputs": [],
   "source": [
    "bm25 = BM25Retriever.from_documents(bm_doc) # 키워드 기반 검색기\n",
    "bm25.k = 5"
   ]
  },
  {
   "cell_type": "markdown",
   "id": "f7ec4a16",
   "metadata": {},
   "source": [
    "## 벡터 검색기 + bm25 = 하이브리드 검색기"
   ]
  },
  {
   "cell_type": "code",
   "execution_count": 37,
   "id": "364c19d7",
   "metadata": {},
   "outputs": [],
   "source": [
    "ret_hybrid = EnsembleRetriever(\n",
    "    retrievers=[ret_similarity, bm25],\n",
    "    weights=[0.7, 0.3]\n",
    ")"
   ]
  },
  {
   "cell_type": "code",
   "execution_count": 38,
   "id": "a03aee55",
   "metadata": {},
   "outputs": [
    {
     "data": {
      "text/html": [
       "<pre style=\"white-space:pre;overflow-x:auto;line-height:normal;font-family:Menlo,'DejaVu Sans Mono',consolas,'Courier New',monospace\"><span style=\"font-style: italic\">                                                 하이브리드 검색기                                                 </span>\n",
       "┏━━━┳━━━━━━━━━━━━━━━━━━━━━━━━━━━━━━━━━━━━━━━━━━━━━━━━━━┳━━━━━━┳━━━━━━━━━━━━━━━━━━━━━━━━━━━━━━━━━━━━━━━━━━━━━━━━━━━┓\n",
       "┃<span style=\"font-weight: bold\"> # </span>┃<span style=\"font-weight: bold\"> Source                                           </span>┃<span style=\"font-weight: bold\"> Page </span>┃<span style=\"font-weight: bold\"> Preview                                           </span>┃\n",
       "┡━━━╇━━━━━━━━━━━━━━━━━━━━━━━━━━━━━━━━━━━━━━━━━━━━━━━━━━╇━━━━━━╇━━━━━━━━━━━━━━━━━━━━━━━━━━━━━━━━━━━━━━━━━━━━━━━━━━━┩\n",
       "│ 1 │ Samsung_Electronics_Sustainability_Report_2025_… │   86 │ 삼성전자 지속가능경영보고서 2025 86               │\n",
       "│   │                                                  │      │ 삼성전자주식회사는 경제·사회·환경적 가치 창출     │\n",
       "│   │                                                  │      │ 성과를 다양한 이해관계자와 투명하게 소통하기 위 … │\n",
       "│   │                                                  │      │ 2025년 열여덟 번째 지속가능경영보고서를           │\n",
       "│   │                                                  │      │ 발간합니다. 작성 기준 본 보고서는 지속가능경영    │\n",
       "│   │                                                  │      │ 보고 기준인 GRI(G…                                │\n",
       "│ 2 │ Samsung_Electronics_Sustainability_Report_2025_… │    1 │ 삼성전자 지속가능경영보고서 2025 A Journey        │\n",
       "│   │                                                  │      │ Towards   a Sustainable Future A Journey  Towards │\n",
       "│   │                                                  │      │ a Sustainable Future                              │\n",
       "│ 3 │ Samsung_Electronics_Sustainability_Report_2025_… │    4 │ 삼성전자 지속가능경영보고서 2025 04 Our Company   │\n",
       "│   │                                                  │      │ AppendixFacts &amp; Figures PrinciplePlanet People    │\n",
       "│   │                                                  │      │ 주주, 고객, 협력회사, 그리고 임직원 여러분,       │\n",
       "│   │                                                  │      │ 2024년은 글로벌 지정학적 리스크와 AI 기술의 성장  │\n",
       "│   │                                                  │      │ …                                                 │\n",
       "│ 4 │ Samsung_Electronics_Sustainability_Report_2025_… │   77 │ 삼성전자 지속가능경영보고서 2025 77 Scope 1, 2    │\n",
       "│   │                                                  │      │ 온실가스 배출량 검증 의견서 Our Company           │\n",
       "│   │                                                  │      │ AppendixFacts &amp; Figures PrinciplePlanet People    │\n",
       "│ 5 │ Samsung_Electronics_Sustainability_Report_2025_… │   76 │ 삼성전자 지속가능경영보고서 2025 76 독립된        │\n",
       "│   │                                                  │      │ 인증인의 인증보고서 Our Company AppendixFacts &amp;   │\n",
       "│   │                                                  │      │ Figures PrinciplePlanet People                    │\n",
       "│ 6 │ Samsung_Electronics_Sustainability_Report_2025_… │    6 │ 삼성전자 지속가능경영보고서 2025 06 Our Company   │\n",
       "│   │                                                  │      │ AppendixFacts &amp; Figures PrinciplePlanet People    │\n",
       "│   │                                                  │      │ 주요 분야별 협의회  환경     [DX부문] 환경안전    │\n",
       "│   │                                                  │      │ 회의, ESG공시TF  [DS부문]  탄소감축위원…          │\n",
       "│ 7 │ Samsung_Electronics_Sustainability_Report_2025_… │   86 │ ·  삼성전자주식회사 지속가능경영 웹사이트         │\n",
       "│   │                                                  │      │ http://www.samsung.com/sec/sustainability/main ·  │\n",
       "│   │                                                  │      │ 삼성전자주식회사 IR 웹사이트                      │\n",
       "│   │                                                  │      │ http://www.samsung.com/sec/ir ·  삼성전자주식회 … │\n",
       "│   │                                                  │      │ 뉴…                                               │\n",
       "│ 8 │ Samsung_Electronics_Sustainability_Report_2025_… │   42 │ 삼성전자 지속가능경영보고서 2025 42 여성인력 활 … │\n",
       "│   │                                                  │      │ 강화 여성 리더십 목표제 운영 삼성전자는 여성      │\n",
       "│   │                                                  │      │ 임원의 비중을 2022년 6.9% 대비 2030년 까지 2배    │\n",
       "│   │                                                  │      │ 이상 확대하고자 하는 목표를 가지고 여성 리더의    │\n",
       "│   │                                                  │      │ 양적·질적 확대를 위해  노력합니다. …              │\n",
       "│ 9 │ Samsung_Electronics_Sustainability_Report_2025_… │   40 │ 삼성전자 지속가능경영보고서 2025 40 활동 결사의   │\n",
       "│   │                                                  │      │ 자유와 단체교섭 보장 결사의 자 유는 근로자가      │\n",
       "│   │                                                  │      │ 노동조합을 결성하 거나 가 입할 수 있는            │\n",
       "│   │                                                  │      │ 권리입니다. 단체교섭은 사용자와 노동조합이 건     │\n",
       "│   │                                                  │      │ 설적인 논의를 통해  근로조건을 확립하고 근로자의  │\n",
       "│   │                                                  │      │ 기회균등을 …                                      │\n",
       "└───┴──────────────────────────────────────────────────┴──────┴───────────────────────────────────────────────────┘\n",
       "</pre>\n"
      ],
      "text/plain": [
       "\u001b[3m                                                 하이브리드 검색기                                                 \u001b[0m\n",
       "┏━━━┳━━━━━━━━━━━━━━━━━━━━━━━━━━━━━━━━━━━━━━━━━━━━━━━━━━┳━━━━━━┳━━━━━━━━━━━━━━━━━━━━━━━━━━━━━━━━━━━━━━━━━━━━━━━━━━━┓\n",
       "┃\u001b[1m \u001b[0m\u001b[1m#\u001b[0m\u001b[1m \u001b[0m┃\u001b[1m \u001b[0m\u001b[1mSource                                          \u001b[0m\u001b[1m \u001b[0m┃\u001b[1m \u001b[0m\u001b[1mPage\u001b[0m\u001b[1m \u001b[0m┃\u001b[1m \u001b[0m\u001b[1mPreview                                          \u001b[0m\u001b[1m \u001b[0m┃\n",
       "┡━━━╇━━━━━━━━━━━━━━━━━━━━━━━━━━━━━━━━━━━━━━━━━━━━━━━━━━╇━━━━━━╇━━━━━━━━━━━━━━━━━━━━━━━━━━━━━━━━━━━━━━━━━━━━━━━━━━━┩\n",
       "│ 1 │ Samsung_Electronics_Sustainability_Report_2025_… │   86 │ 삼성전자 지속가능경영보고서 2025 86               │\n",
       "│   │                                                  │      │ 삼성전자주식회사는 경제·사회·환경적 가치 창출     │\n",
       "│   │                                                  │      │ 성과를 다양한 이해관계자와 투명하게 소통하기 위 … │\n",
       "│   │                                                  │      │ 2025년 열여덟 번째 지속가능경영보고서를           │\n",
       "│   │                                                  │      │ 발간합니다. 작성 기준 본 보고서는 지속가능경영    │\n",
       "│   │                                                  │      │ 보고 기준인 GRI(G…                                │\n",
       "│ 2 │ Samsung_Electronics_Sustainability_Report_2025_… │    1 │ 삼성전자 지속가능경영보고서 2025 A Journey        │\n",
       "│   │                                                  │      │ Towards   a Sustainable Future A Journey  Towards │\n",
       "│   │                                                  │      │ a Sustainable Future                              │\n",
       "│ 3 │ Samsung_Electronics_Sustainability_Report_2025_… │    4 │ 삼성전자 지속가능경영보고서 2025 04 Our Company   │\n",
       "│   │                                                  │      │ AppendixFacts & Figures PrinciplePlanet People    │\n",
       "│   │                                                  │      │ 주주, 고객, 협력회사, 그리고 임직원 여러분,       │\n",
       "│   │                                                  │      │ 2024년은 글로벌 지정학적 리스크와 AI 기술의 성장  │\n",
       "│   │                                                  │      │ …                                                 │\n",
       "│ 4 │ Samsung_Electronics_Sustainability_Report_2025_… │   77 │ 삼성전자 지속가능경영보고서 2025 77 Scope 1, 2    │\n",
       "│   │                                                  │      │ 온실가스 배출량 검증 의견서 Our Company           │\n",
       "│   │                                                  │      │ AppendixFacts & Figures PrinciplePlanet People    │\n",
       "│ 5 │ Samsung_Electronics_Sustainability_Report_2025_… │   76 │ 삼성전자 지속가능경영보고서 2025 76 독립된        │\n",
       "│   │                                                  │      │ 인증인의 인증보고서 Our Company AppendixFacts &   │\n",
       "│   │                                                  │      │ Figures PrinciplePlanet People                    │\n",
       "│ 6 │ Samsung_Electronics_Sustainability_Report_2025_… │    6 │ 삼성전자 지속가능경영보고서 2025 06 Our Company   │\n",
       "│   │                                                  │      │ AppendixFacts & Figures PrinciplePlanet People    │\n",
       "│   │                                                  │      │ 주요 분야별 협의회  환경     [DX부문] 환경안전    │\n",
       "│   │                                                  │      │ 회의, ESG공시TF  [DS부문]  탄소감축위원…          │\n",
       "│ 7 │ Samsung_Electronics_Sustainability_Report_2025_… │   86 │ ·  삼성전자주식회사 지속가능경영 웹사이트         │\n",
       "│   │                                                  │      │ http://www.samsung.com/sec/sustainability/main ·  │\n",
       "│   │                                                  │      │ 삼성전자주식회사 IR 웹사이트                      │\n",
       "│   │                                                  │      │ http://www.samsung.com/sec/ir ·  삼성전자주식회 … │\n",
       "│   │                                                  │      │ 뉴…                                               │\n",
       "│ 8 │ Samsung_Electronics_Sustainability_Report_2025_… │   42 │ 삼성전자 지속가능경영보고서 2025 42 여성인력 활 … │\n",
       "│   │                                                  │      │ 강화 여성 리더십 목표제 운영 삼성전자는 여성      │\n",
       "│   │                                                  │      │ 임원의 비중을 2022년 6.9% 대비 2030년 까지 2배    │\n",
       "│   │                                                  │      │ 이상 확대하고자 하는 목표를 가지고 여성 리더의    │\n",
       "│   │                                                  │      │ 양적·질적 확대를 위해  노력합니다. …              │\n",
       "│ 9 │ Samsung_Electronics_Sustainability_Report_2025_… │   40 │ 삼성전자 지속가능경영보고서 2025 40 활동 결사의   │\n",
       "│   │                                                  │      │ 자유와 단체교섭 보장 결사의 자 유는 근로자가      │\n",
       "│   │                                                  │      │ 노동조합을 결성하 거나 가 입할 수 있는            │\n",
       "│   │                                                  │      │ 권리입니다. 단체교섭은 사용자와 노동조합이 건     │\n",
       "│   │                                                  │      │ 설적인 논의를 통해  근로조건을 확립하고 근로자의  │\n",
       "│   │                                                  │      │ 기회균등을 …                                      │\n",
       "└───┴──────────────────────────────────────────────────┴──────┴───────────────────────────────────────────────────┘\n"
      ]
     },
     "metadata": {},
     "output_type": "display_data"
    }
   ],
   "source": [
    "question = \"삼성전자의 2025년 전망은?\"\n",
    "result = ret_hybrid.invoke(question)\n",
    "rich_docs(result, title = \"하이브리드 검색기\")"
   ]
  },
  {
   "cell_type": "markdown",
   "id": "75da64a9",
   "metadata": {},
   "source": [
    "# 2. 압축 검색기 (Compression retreiver)\n",
    "- 검색된 문서가 길 때 -> llm 을 이용해서 내용을 압축\n",
    "- 문서 내용이 너무 파편화 되어 있는 경우 -> 압축 진행 -> 찌꺼기 제거(의미 없는 엔터, 헤더, 풋터, 기호 등)\n",
    "- 비용 문제 -> 각 문서별로 전부 압축을 진행해서 사용할 경우 비용 문제 발생"
   ]
  },
  {
   "cell_type": "markdown",
   "id": "8247a48b",
   "metadata": {},
   "source": [
    "### 2-1. 기본 압축 검색기"
   ]
  },
  {
   "cell_type": "code",
   "execution_count": 40,
   "id": "f242ee1a",
   "metadata": {},
   "outputs": [],
   "source": [
    "from langchain.retrievers import ContextualCompressionRetriever\n",
    "from langchain.retrievers.document_compressors import LLMChainExtractor, LLMChainFilter\n",
    "from langchain_openai import ChatOpenAI\n",
    "\n",
    "model = ChatOpenAI(\n",
    "    temperature=0,\n",
    "    model = \"gpt-4.1-mini\"\n",
    ")"
   ]
  },
  {
   "cell_type": "code",
   "execution_count": 41,
   "id": "7ba86c0e",
   "metadata": {},
   "outputs": [],
   "source": [
    "# 압축기 생성\n",
    "compressor = LLMChainFilter.from_llm(model)\n",
    "\n",
    "# 압축 검색기 생성 = 유사도 검색 -> 문서 내용 압축\n",
    "ret_compressor = ContextualCompressionRetriever(\n",
    "    base_retriever = ret_similarity,\n",
    "    base_compressor = compressor\n",
    ")"
   ]
  },
  {
   "cell_type": "code",
   "execution_count": 44,
   "id": "e40b6684",
   "metadata": {},
   "outputs": [],
   "source": [
    "question = \"삼성 전자의 목표와 년도\"\n",
    "com_result = ret_compressor.invoke(question)"
   ]
  },
  {
   "cell_type": "code",
   "execution_count": 47,
   "id": "8fe831ae",
   "metadata": {},
   "outputs": [
    {
     "data": {
      "text/html": [
       "<pre style=\"white-space:pre;overflow-x:auto;line-height:normal;font-family:Menlo,'DejaVu Sans Mono',consolas,'Courier New',monospace\"><span style=\"font-style: italic\">                                                압축기 검색기 사용                                                 </span>\n",
       "┏━━━┳━━━━━━━━━━━━━━━━━━━━━━━━━━━━━━━━━━━━━━━━━━━━━━━━━━┳━━━━━━┳━━━━━━━━━━━━━━━━━━━━━━━━━━━━━━━━━━━━━━━━━━━━━━━━━━━┓\n",
       "┃<span style=\"font-weight: bold\"> # </span>┃<span style=\"font-weight: bold\"> Source                                           </span>┃<span style=\"font-weight: bold\"> Page </span>┃<span style=\"font-weight: bold\"> Preview                                           </span>┃\n",
       "┡━━━╇━━━━━━━━━━━━━━━━━━━━━━━━━━━━━━━━━━━━━━━━━━━━━━━━━━╇━━━━━━╇━━━━━━━━━━━━━━━━━━━━━━━━━━━━━━━━━━━━━━━━━━━━━━━━━━━┩\n",
       "│ 1 │ Samsung_Electronics_Sustainability_Report_2025_… │    4 │ 삼성전자 지속가능경영보고서 2025 04 Our Company   │\n",
       "│   │                                                  │      │ AppendixFacts &amp; Figures PrinciplePlanet People    │\n",
       "│   │                                                  │      │ 주주, 고객, 협력회사, 그리고 임직원 여러분,       │\n",
       "│   │                                                  │      │ 2024년은 글로벌 지정학적 리스크와 AI 기술의 성장  │\n",
       "│   │                                                  │      │ …                                                 │\n",
       "│ 2 │ Samsung_Electronics_Sustainability_Report_2025_… │    1 │ 삼성전자 지속가능경영보고서 2025 A Journey        │\n",
       "│   │                                                  │      │ Towards   a Sustainable Future A Journey  Towards │\n",
       "│   │                                                  │      │ a Sustainable Future                              │\n",
       "└───┴──────────────────────────────────────────────────┴──────┴───────────────────────────────────────────────────┘\n",
       "</pre>\n"
      ],
      "text/plain": [
       "\u001b[3m                                                압축기 검색기 사용                                                 \u001b[0m\n",
       "┏━━━┳━━━━━━━━━━━━━━━━━━━━━━━━━━━━━━━━━━━━━━━━━━━━━━━━━━┳━━━━━━┳━━━━━━━━━━━━━━━━━━━━━━━━━━━━━━━━━━━━━━━━━━━━━━━━━━━┓\n",
       "┃\u001b[1m \u001b[0m\u001b[1m#\u001b[0m\u001b[1m \u001b[0m┃\u001b[1m \u001b[0m\u001b[1mSource                                          \u001b[0m\u001b[1m \u001b[0m┃\u001b[1m \u001b[0m\u001b[1mPage\u001b[0m\u001b[1m \u001b[0m┃\u001b[1m \u001b[0m\u001b[1mPreview                                          \u001b[0m\u001b[1m \u001b[0m┃\n",
       "┡━━━╇━━━━━━━━━━━━━━━━━━━━━━━━━━━━━━━━━━━━━━━━━━━━━━━━━━╇━━━━━━╇━━━━━━━━━━━━━━━━━━━━━━━━━━━━━━━━━━━━━━━━━━━━━━━━━━━┩\n",
       "│ 1 │ Samsung_Electronics_Sustainability_Report_2025_… │    4 │ 삼성전자 지속가능경영보고서 2025 04 Our Company   │\n",
       "│   │                                                  │      │ AppendixFacts & Figures PrinciplePlanet People    │\n",
       "│   │                                                  │      │ 주주, 고객, 협력회사, 그리고 임직원 여러분,       │\n",
       "│   │                                                  │      │ 2024년은 글로벌 지정학적 리스크와 AI 기술의 성장  │\n",
       "│   │                                                  │      │ …                                                 │\n",
       "│ 2 │ Samsung_Electronics_Sustainability_Report_2025_… │    1 │ 삼성전자 지속가능경영보고서 2025 A Journey        │\n",
       "│   │                                                  │      │ Towards   a Sustainable Future A Journey  Towards │\n",
       "│   │                                                  │      │ a Sustainable Future                              │\n",
       "└───┴──────────────────────────────────────────────────┴──────┴───────────────────────────────────────────────────┘\n"
      ]
     },
     "metadata": {},
     "output_type": "display_data"
    }
   ],
   "source": [
    "rich_docs(com_result, title = \"압축기 검색기 사용\")"
   ]
  },
  {
   "cell_type": "markdown",
   "id": "8e436c81",
   "metadata": {},
   "source": [
    "### 2-2. 임베딩 기반 경량 압축 (비용 x)"
   ]
  },
  {
   "cell_type": "code",
   "execution_count": 53,
   "id": "345c628c",
   "metadata": {},
   "outputs": [],
   "source": [
    "from langchain.retrievers.document_compressors import EmbeddingsFilter\n",
    "\n",
    "ret_mmr = load_vectorstore.as_retriever(\n",
    "    search_type = \"mmr\",\n",
    "    search_kwargs={\"k\": 5, \"fetch_k\": 20, \"lambda_mult\": 0.25},\n",
    ")\n",
    "emb_filter = EmbeddingsFilter(\n",
    "    embeddings=emb,\n",
    "    similarity_threshold=0.2\n",
    ")\n",
    "comp_embed = ContextualCompressionRetriever(\n",
    "    base_retriever=ret_mmr,\n",
    "    base_compressor=emb_filter\n",
    ")\n",
    "comp_embed_result = comp_embed.invoke(question)"
   ]
  },
  {
   "cell_type": "code",
   "execution_count": 54,
   "id": "7aa6de97",
   "metadata": {},
   "outputs": [
    {
     "data": {
      "text/html": [
       "<pre style=\"white-space:pre;overflow-x:auto;line-height:normal;font-family:Menlo,'DejaVu Sans Mono',consolas,'Courier New',monospace\"><span style=\"font-style: italic\">                                               임베딩 기반 필터기법                                                </span>\n",
       "┏━━━┳━━━━━━━━━━━━━━━━━━━━━━━━━━━━━━━━━━━━━━━━━━━━━━━━━━┳━━━━━━┳━━━━━━━━━━━━━━━━━━━━━━━━━━━━━━━━━━━━━━━━━━━━━━━━━━━┓\n",
       "┃<span style=\"font-weight: bold\"> # </span>┃<span style=\"font-weight: bold\"> Source                                           </span>┃<span style=\"font-weight: bold\"> Page </span>┃<span style=\"font-weight: bold\"> Preview                                           </span>┃\n",
       "┡━━━╇━━━━━━━━━━━━━━━━━━━━━━━━━━━━━━━━━━━━━━━━━━━━━━━━━━╇━━━━━━╇━━━━━━━━━━━━━━━━━━━━━━━━━━━━━━━━━━━━━━━━━━━━━━━━━━━┩\n",
       "│ 1 │ Samsung_Electronics_Sustainability_Report_2025_… │    4 │ 삼성전자 지속가능경영보고서 2025 04 Our Company   │\n",
       "│   │                                                  │      │ AppendixFacts &amp; Figures PrinciplePlanet People    │\n",
       "│   │                                                  │      │ 주주, 고객, 협력회사, 그리고 임직원 여러분,       │\n",
       "│   │                                                  │      │ 2024년은 글로벌 지정학적 리스크와 AI 기술의 성장  │\n",
       "│   │                                                  │      │ …                                                 │\n",
       "│ 2 │ Samsung_Electronics_Sustainability_Report_2025_… │    1 │ 삼성전자 지속가능경영보고서 2025 A Journey        │\n",
       "│   │                                                  │      │ Towards   a Sustainable Future A Journey  Towards │\n",
       "│   │                                                  │      │ a Sustainable Future                              │\n",
       "│ 3 │ Samsung_Electronics_Sustainability_Report_2025_… │   86 │ ·  삼성전자주식회사 지속가능경영 웹사이트         │\n",
       "│   │                                                  │      │ http://www.samsung.com/sec/sustainability/main ·  │\n",
       "│   │                                                  │      │ 삼성전자주식회사 IR 웹사이트                      │\n",
       "│   │                                                  │      │ http://www.samsung.com/sec/ir ·  삼성전자주식회 … │\n",
       "│   │                                                  │      │ 뉴…                                               │\n",
       "│ 4 │ Samsung_Electronics_Sustainability_Report_2025_… │   40 │ 삼성전자 지속가능경영보고서 2025 40 활동 결사의   │\n",
       "│   │                                                  │      │ 자유와 단체교섭 보장 결사의 자 유는 근로자가      │\n",
       "│   │                                                  │      │ 노동조합을 결성하 거나 가 입할 수 있는            │\n",
       "│   │                                                  │      │ 권리입니다. 단체교섭은 사용자와 노동조합이 건     │\n",
       "│   │                                                  │      │ 설적인 논의를 통해  근로조건을 확립하고 근로자의  │\n",
       "│   │                                                  │      │ 기회균등을 …                                      │\n",
       "│ 5 │ Samsung_Electronics_Sustainability_Report_2025_… │   57 │ 삼성전자 지속가능경영보고서 2025 57 고객 서비스   │\n",
       "│   │                                                  │      │ 삼성전자는 최선의 서비스를 제공하여 고객 만족도 … │\n",
       "│   │                                                  │      │ 극대화 하는 것을  목표로 고객의 요구사항에        │\n",
       "│   │                                                  │      │ 신속하고 효과적으로 대응합니다. 제품 서비스  진 … │\n",
       "│   │                                                  │      │ 현황을 실시간으로 관리할 수 있는 시스 템을 구축…  │\n",
       "└───┴──────────────────────────────────────────────────┴──────┴───────────────────────────────────────────────────┘\n",
       "</pre>\n"
      ],
      "text/plain": [
       "\u001b[3m                                               임베딩 기반 필터기법                                                \u001b[0m\n",
       "┏━━━┳━━━━━━━━━━━━━━━━━━━━━━━━━━━━━━━━━━━━━━━━━━━━━━━━━━┳━━━━━━┳━━━━━━━━━━━━━━━━━━━━━━━━━━━━━━━━━━━━━━━━━━━━━━━━━━━┓\n",
       "┃\u001b[1m \u001b[0m\u001b[1m#\u001b[0m\u001b[1m \u001b[0m┃\u001b[1m \u001b[0m\u001b[1mSource                                          \u001b[0m\u001b[1m \u001b[0m┃\u001b[1m \u001b[0m\u001b[1mPage\u001b[0m\u001b[1m \u001b[0m┃\u001b[1m \u001b[0m\u001b[1mPreview                                          \u001b[0m\u001b[1m \u001b[0m┃\n",
       "┡━━━╇━━━━━━━━━━━━━━━━━━━━━━━━━━━━━━━━━━━━━━━━━━━━━━━━━━╇━━━━━━╇━━━━━━━━━━━━━━━━━━━━━━━━━━━━━━━━━━━━━━━━━━━━━━━━━━━┩\n",
       "│ 1 │ Samsung_Electronics_Sustainability_Report_2025_… │    4 │ 삼성전자 지속가능경영보고서 2025 04 Our Company   │\n",
       "│   │                                                  │      │ AppendixFacts & Figures PrinciplePlanet People    │\n",
       "│   │                                                  │      │ 주주, 고객, 협력회사, 그리고 임직원 여러분,       │\n",
       "│   │                                                  │      │ 2024년은 글로벌 지정학적 리스크와 AI 기술의 성장  │\n",
       "│   │                                                  │      │ …                                                 │\n",
       "│ 2 │ Samsung_Electronics_Sustainability_Report_2025_… │    1 │ 삼성전자 지속가능경영보고서 2025 A Journey        │\n",
       "│   │                                                  │      │ Towards   a Sustainable Future A Journey  Towards │\n",
       "│   │                                                  │      │ a Sustainable Future                              │\n",
       "│ 3 │ Samsung_Electronics_Sustainability_Report_2025_… │   86 │ ·  삼성전자주식회사 지속가능경영 웹사이트         │\n",
       "│   │                                                  │      │ http://www.samsung.com/sec/sustainability/main ·  │\n",
       "│   │                                                  │      │ 삼성전자주식회사 IR 웹사이트                      │\n",
       "│   │                                                  │      │ http://www.samsung.com/sec/ir ·  삼성전자주식회 … │\n",
       "│   │                                                  │      │ 뉴…                                               │\n",
       "│ 4 │ Samsung_Electronics_Sustainability_Report_2025_… │   40 │ 삼성전자 지속가능경영보고서 2025 40 활동 결사의   │\n",
       "│   │                                                  │      │ 자유와 단체교섭 보장 결사의 자 유는 근로자가      │\n",
       "│   │                                                  │      │ 노동조합을 결성하 거나 가 입할 수 있는            │\n",
       "│   │                                                  │      │ 권리입니다. 단체교섭은 사용자와 노동조합이 건     │\n",
       "│   │                                                  │      │ 설적인 논의를 통해  근로조건을 확립하고 근로자의  │\n",
       "│   │                                                  │      │ 기회균등을 …                                      │\n",
       "│ 5 │ Samsung_Electronics_Sustainability_Report_2025_… │   57 │ 삼성전자 지속가능경영보고서 2025 57 고객 서비스   │\n",
       "│   │                                                  │      │ 삼성전자는 최선의 서비스를 제공하여 고객 만족도 … │\n",
       "│   │                                                  │      │ 극대화 하는 것을  목표로 고객의 요구사항에        │\n",
       "│   │                                                  │      │ 신속하고 효과적으로 대응합니다. 제품 서비스  진 … │\n",
       "│   │                                                  │      │ 현황을 실시간으로 관리할 수 있는 시스 템을 구축…  │\n",
       "└───┴──────────────────────────────────────────────────┴──────┴───────────────────────────────────────────────────┘\n"
      ]
     },
     "metadata": {},
     "output_type": "display_data"
    }
   ],
   "source": [
    "rich_docs(comp_embed_result, title='임베딩 기반 필터기법')"
   ]
  },
  {
   "cell_type": "markdown",
   "id": "379fe410",
   "metadata": {},
   "source": [
    "# 3. 리랭커(reranker)"
   ]
  },
  {
   "cell_type": "code",
   "execution_count": null,
   "id": "d5d04433",
   "metadata": {},
   "outputs": [],
   "source": [
    "# uv add sentence-transformers\n",
    "# uv add langchain_huggingface"
   ]
  },
  {
   "cell_type": "markdown",
   "id": "91f55322",
   "metadata": {},
   "source": [
    "- 검색기로 후보군 추출(10-30) (너무 적은 갯수는 리랭커 할 이유가 없음)"
   ]
  },
  {
   "cell_type": "code",
   "execution_count": 86,
   "id": "6c8e454c",
   "metadata": {},
   "outputs": [
    {
     "data": {
      "text/html": [
       "<pre style=\"white-space:pre;overflow-x:auto;line-height:normal;font-family:Menlo,'DejaVu Sans Mono',consolas,'Courier New',monospace\"><span style=\"font-style: italic\">                                                     기업 비교                                                     </span>\n",
       "┏━━━━┳━━━━━━━━━━━━━━━━━━━━━━━━━━━━━━━━━━━━━━━━━━━━━━━━━━┳━━━━━━┳━━━━━━━━━━━━━━━━━━━━━━━━━━━━━━━━━━━━━━━━━━━━━━━━━━┓\n",
       "┃<span style=\"font-weight: bold\">  # </span>┃<span style=\"font-weight: bold\"> Source                                           </span>┃<span style=\"font-weight: bold\"> Page </span>┃<span style=\"font-weight: bold\"> Preview                                          </span>┃\n",
       "┡━━━━╇━━━━━━━━━━━━━━━━━━━━━━━━━━━━━━━━━━━━━━━━━━━━━━━━━━╇━━━━━━╇━━━━━━━━━━━━━━━━━━━━━━━━━━━━━━━━━━━━━━━━━━━━━━━━━━┩\n",
       "│  1 │ Samsung_Electronics_Sustainability_Report_2025_… │    5 │ 삼성전자 지속가능경영보고서 2025 05 Our Company  │\n",
       "│    │                                                  │      │ AppendixFacts &amp; Figures PrinciplePlanet People   │\n",
       "│    │                                                  │      │ 회사소개 About Us 삼성전자주식회사(이하          │\n",
       "│    │                                                  │      │ 삼성전자)는 인재와 기술을 기반으로 최고의 제품 … │\n",
       "│    │                                                  │      │ 서비스를…                                        │\n",
       "│  2 │ Samsung_Electronics_Sustainability_Report_2025_… │    3 │ 삼성전자 지속가능경영보고서 2025 03 Our Company  │\n",
       "│    │                                                  │      │ AppendixFacts &amp; Figures PrinciplePlanet People   │\n",
       "│    │                                                  │      │ Our Company CEO 메시지 회사소개 기업 지배구조    │\n",
       "│    │                                                  │      │ 중대성 평가 이해관계자 소통 04 05 06 …           │\n",
       "│  3 │ Samsung_Electronics_Sustainability_Report_2025_… │    4 │ 삼성전자 지속가능경영보고서 2025 04 Our Company  │\n",
       "│    │                                                  │      │ AppendixFacts &amp; Figures PrinciplePlanet People   │\n",
       "│    │                                                  │      │ 주주, 고객, 협력회사, 그리고 임직원 여러분,      │\n",
       "│    │                                                  │      │ 2024년은 글로벌 지정학적 리스크와 AI 기술의 성 … │\n",
       "│    │                                                  │      │ …                                                │\n",
       "│  4 │ Samsung_Electronics_Sustainability_Report_2025_… │   46 │ 정기적으로 모니터링하고 시스템으로 관리합니다.   │\n",
       "│    │                                                  │      │ 하위 공급망 관리 지속적으로 증가하는 공급망      │\n",
       "│    │                                                  │      │ 변동성과 불 확실성에 대응하기 위하여 삼성전자는  │\n",
       "│    │                                                  │      │ 1 차 협력회사뿐 아니라 주요  품목을 공급하는     │\n",
       "│    │                                                  │      │ 하위 협력회사에 대한 정보 관리를 점진적으로      │\n",
       "│    │                                                  │      │ 확대하고 있습니다.…                              │\n",
       "│  5 │ Samsung_Electronics_Sustainability_Report_2025_… │   50 │ 삼성전자 지속가능경영보고서 2025 50 안전보건     │\n",
       "│    │                                                  │      │ 삼성전자는 DX부문의 Global EHS실장, DS부문의     │\n",
       "│    │                                                  │      │ 글로벌 제조&amp;인프라  총괄장인 CSO(Chief Safety    │\n",
       "│    │                                                  │      │ Officer)를 중심으로 2030년까지 상주  협력회사    │\n",
       "│    │                                                  │      │ 안전보건 역량과 관리체계 …                       │\n",
       "│  6 │ Samsung_Electronics_Sustainability_Report_2025_… │   54 │ 삼성전자 지속가능경영보고서 2025 54 Bespoke AI   │\n",
       "│    │                                                  │      │ 로봇청소기 보안 인증 획득 2024년에는 Bespoke AI  │\n",
       "│    │                                                  │      │ 스팀 로봇청소기가 KISA 개인정보보호중심설계      │\n",
       "│    │                                                  │      │ (PbD, Privacy by Design) 인증과 KISA IoT 보안    │\n",
       "│    │                                                  │      │ 인증 중 …                                        │\n",
       "│  7 │ Samsung_Electronics_Sustainability_Report_2025_… │   45 │ 협력회사를 지원하고 교육합니다.  협력회사의      │\n",
       "│    │                                                  │      │ 지속가능경영 관리 수준 향상을 위한 실사와 개     │\n",
       "│    │                                                  │      │ 선조치 이행, 정보공개 등의 성과는 해 당 부서의   │\n",
       "│    │                                                  │      │ 경영진과 실무자들의 KPI로 반영되며 목표 달성은   │\n",
       "│    │                                                  │      │ 급여, 인센티브 등 보상과 연계됩니다. 추진 방향   │\n",
       "│    │                                                  │      │ 삼성전자…                                        │\n",
       "│  8 │ Samsung_Electronics_Sustainability_Report_2025_… │   45 │ 삼성전자 지속가능경영보고서 2025 45 협력회사     │\n",
       "│    │                                                  │      │ 행동규범 삼성전자는 제품과 서비스를 제공하는     │\n",
       "│    │                                                  │      │ 모든 협력회사에 노동인권, 환경, 안전보건, 윤리   │\n",
       "│    │                                                  │      │ 분야를 포함하는 현지 법규와    RBA(Responsible   │\n",
       "│    │                                                  │      │ Business Alliance) 1)  행…                       │\n",
       "│  9 │ Samsung_Electronics_Sustainability_Report_2025_… │   61 │ 삼성전자 지속가능경영보고서 2025 61 Facts &amp;      │\n",
       "│    │                                                  │      │ Figures  경제성과 사회성과 환경성과   사업부문 … │\n",
       "│    │                                                  │      │ 환경성과  62 63 68 72 Our Company AppendixFacts  │\n",
       "│    │                                                  │      │ &amp; Figures PrinciplePlanet People                 │\n",
       "│ 10 │ Samsung_Electronics_Sustainability_Report_2025_… │    4 │ 재활용 소재를 적용하는 성과를 이뤘습니다.        │\n",
       "│    │                                                  │      │ DS(Device Solutions)부문은 2050년 탄소중립       │\n",
       "│    │                                                  │      │ 달성을 목표로  공정가스 통합 처리시설(RCS,       │\n",
       "│    │                                                  │      │ Regenerative Catalytic System) 에 투자를         │\n",
       "│    │                                                  │      │ 지속하고 있습니다. DS부문의 …                    │\n",
       "│ 11 │ Samsung_Electronics_Sustainability_Report_2025_… │   40 │ 스타일에 맞춰 혜택을 받을 수 있는 선택적         │\n",
       "│    │                                                  │      │ 복리후생 제도를 운영합니다. ‧ 이사회 산하        │\n",
       "│    │                                                  │      │ 노사관계 자문그룹 설치 ‧ 노동조합 공동교섭단과   │\n",
       "│    │                                                  │      │ 교섭, 첫 단체 협약 체결(한국) ‧ 임금, 휴일 등을  │\n",
       "│    │                                                  │      │ 포괄하는 임금협약 체결(한국) ‧  임금·단체협약    │\n",
       "│    │                                                  │      │ 관련 잠정…                                       │\n",
       "└────┴──────────────────────────────────────────────────┴──────┴──────────────────────────────────────────────────┘\n",
       "</pre>\n"
      ],
      "text/plain": [
       "\u001b[3m                                                     기업 비교                                                     \u001b[0m\n",
       "┏━━━━┳━━━━━━━━━━━━━━━━━━━━━━━━━━━━━━━━━━━━━━━━━━━━━━━━━━┳━━━━━━┳━━━━━━━━━━━━━━━━━━━━━━━━━━━━━━━━━━━━━━━━━━━━━━━━━━┓\n",
       "┃\u001b[1m \u001b[0m\u001b[1m #\u001b[0m\u001b[1m \u001b[0m┃\u001b[1m \u001b[0m\u001b[1mSource                                          \u001b[0m\u001b[1m \u001b[0m┃\u001b[1m \u001b[0m\u001b[1mPage\u001b[0m\u001b[1m \u001b[0m┃\u001b[1m \u001b[0m\u001b[1mPreview                                         \u001b[0m\u001b[1m \u001b[0m┃\n",
       "┡━━━━╇━━━━━━━━━━━━━━━━━━━━━━━━━━━━━━━━━━━━━━━━━━━━━━━━━━╇━━━━━━╇━━━━━━━━━━━━━━━━━━━━━━━━━━━━━━━━━━━━━━━━━━━━━━━━━━┩\n",
       "│  1 │ Samsung_Electronics_Sustainability_Report_2025_… │    5 │ 삼성전자 지속가능경영보고서 2025 05 Our Company  │\n",
       "│    │                                                  │      │ AppendixFacts & Figures PrinciplePlanet People   │\n",
       "│    │                                                  │      │ 회사소개 About Us 삼성전자주식회사(이하          │\n",
       "│    │                                                  │      │ 삼성전자)는 인재와 기술을 기반으로 최고의 제품 … │\n",
       "│    │                                                  │      │ 서비스를…                                        │\n",
       "│  2 │ Samsung_Electronics_Sustainability_Report_2025_… │    3 │ 삼성전자 지속가능경영보고서 2025 03 Our Company  │\n",
       "│    │                                                  │      │ AppendixFacts & Figures PrinciplePlanet People   │\n",
       "│    │                                                  │      │ Our Company CEO 메시지 회사소개 기업 지배구조    │\n",
       "│    │                                                  │      │ 중대성 평가 이해관계자 소통 04 05 06 …           │\n",
       "│  3 │ Samsung_Electronics_Sustainability_Report_2025_… │    4 │ 삼성전자 지속가능경영보고서 2025 04 Our Company  │\n",
       "│    │                                                  │      │ AppendixFacts & Figures PrinciplePlanet People   │\n",
       "│    │                                                  │      │ 주주, 고객, 협력회사, 그리고 임직원 여러분,      │\n",
       "│    │                                                  │      │ 2024년은 글로벌 지정학적 리스크와 AI 기술의 성 … │\n",
       "│    │                                                  │      │ …                                                │\n",
       "│  4 │ Samsung_Electronics_Sustainability_Report_2025_… │   46 │ 정기적으로 모니터링하고 시스템으로 관리합니다.   │\n",
       "│    │                                                  │      │ 하위 공급망 관리 지속적으로 증가하는 공급망      │\n",
       "│    │                                                  │      │ 변동성과 불 확실성에 대응하기 위하여 삼성전자는  │\n",
       "│    │                                                  │      │ 1 차 협력회사뿐 아니라 주요  품목을 공급하는     │\n",
       "│    │                                                  │      │ 하위 협력회사에 대한 정보 관리를 점진적으로      │\n",
       "│    │                                                  │      │ 확대하고 있습니다.…                              │\n",
       "│  5 │ Samsung_Electronics_Sustainability_Report_2025_… │   50 │ 삼성전자 지속가능경영보고서 2025 50 안전보건     │\n",
       "│    │                                                  │      │ 삼성전자는 DX부문의 Global EHS실장, DS부문의     │\n",
       "│    │                                                  │      │ 글로벌 제조&인프라  총괄장인 CSO(Chief Safety    │\n",
       "│    │                                                  │      │ Officer)를 중심으로 2030년까지 상주  협력회사    │\n",
       "│    │                                                  │      │ 안전보건 역량과 관리체계 …                       │\n",
       "│  6 │ Samsung_Electronics_Sustainability_Report_2025_… │   54 │ 삼성전자 지속가능경영보고서 2025 54 Bespoke AI   │\n",
       "│    │                                                  │      │ 로봇청소기 보안 인증 획득 2024년에는 Bespoke AI  │\n",
       "│    │                                                  │      │ 스팀 로봇청소기가 KISA 개인정보보호중심설계      │\n",
       "│    │                                                  │      │ (PbD, Privacy by Design) 인증과 KISA IoT 보안    │\n",
       "│    │                                                  │      │ 인증 중 …                                        │\n",
       "│  7 │ Samsung_Electronics_Sustainability_Report_2025_… │   45 │ 협력회사를 지원하고 교육합니다.  협력회사의      │\n",
       "│    │                                                  │      │ 지속가능경영 관리 수준 향상을 위한 실사와 개     │\n",
       "│    │                                                  │      │ 선조치 이행, 정보공개 등의 성과는 해 당 부서의   │\n",
       "│    │                                                  │      │ 경영진과 실무자들의 KPI로 반영되며 목표 달성은   │\n",
       "│    │                                                  │      │ 급여, 인센티브 등 보상과 연계됩니다. 추진 방향   │\n",
       "│    │                                                  │      │ 삼성전자…                                        │\n",
       "│  8 │ Samsung_Electronics_Sustainability_Report_2025_… │   45 │ 삼성전자 지속가능경영보고서 2025 45 협력회사     │\n",
       "│    │                                                  │      │ 행동규범 삼성전자는 제품과 서비스를 제공하는     │\n",
       "│    │                                                  │      │ 모든 협력회사에 노동인권, 환경, 안전보건, 윤리   │\n",
       "│    │                                                  │      │ 분야를 포함하는 현지 법규와    RBA(Responsible   │\n",
       "│    │                                                  │      │ Business Alliance) 1)  행…                       │\n",
       "│  9 │ Samsung_Electronics_Sustainability_Report_2025_… │   61 │ 삼성전자 지속가능경영보고서 2025 61 Facts &      │\n",
       "│    │                                                  │      │ Figures  경제성과 사회성과 환경성과   사업부문 … │\n",
       "│    │                                                  │      │ 환경성과  62 63 68 72 Our Company AppendixFacts  │\n",
       "│    │                                                  │      │ & Figures PrinciplePlanet People                 │\n",
       "│ 10 │ Samsung_Electronics_Sustainability_Report_2025_… │    4 │ 재활용 소재를 적용하는 성과를 이뤘습니다.        │\n",
       "│    │                                                  │      │ DS(Device Solutions)부문은 2050년 탄소중립       │\n",
       "│    │                                                  │      │ 달성을 목표로  공정가스 통합 처리시설(RCS,       │\n",
       "│    │                                                  │      │ Regenerative Catalytic System) 에 투자를         │\n",
       "│    │                                                  │      │ 지속하고 있습니다. DS부문의 …                    │\n",
       "│ 11 │ Samsung_Electronics_Sustainability_Report_2025_… │   40 │ 스타일에 맞춰 혜택을 받을 수 있는 선택적         │\n",
       "│    │                                                  │      │ 복리후생 제도를 운영합니다. ‧ 이사회 산하        │\n",
       "│    │                                                  │      │ 노사관계 자문그룹 설치 ‧ 노동조합 공동교섭단과   │\n",
       "│    │                                                  │      │ 교섭, 첫 단체 협약 체결(한국) ‧ 임금, 휴일 등을  │\n",
       "│    │                                                  │      │ 포괄하는 임금협약 체결(한국) ‧  임금·단체협약    │\n",
       "│    │                                                  │      │ 관련 잠정…                                       │\n",
       "└────┴──────────────────────────────────────────────────┴──────┴──────────────────────────────────────────────────┘\n"
      ]
     },
     "metadata": {},
     "output_type": "display_data"
    }
   ],
   "source": [
    "ret_similarity_10 = load_vectorstore.as_retriever(\n",
    "    search_type = \"similarity\",\n",
    "    search_kwargs = {\"k\" : 11}\n",
    ")\n",
    "question = \"삼성과 현대 중에서 어느 기업이 더 나아?\"\n",
    "ret_similarity_result = ret_similarity_10.invoke(question)\n",
    "rich_docs(ret_similarity_result, title='기업 비교')"
   ]
  },
  {
   "cell_type": "code",
   "execution_count": 87,
   "id": "bee79ecf",
   "metadata": {},
   "outputs": [],
   "source": [
    "from langchain_community.cross_encoders.huggingface import HuggingFaceCrossEncoder\n",
    "from langchain.retrievers.document_compressors import CrossEncoderReranker"
   ]
  },
  {
   "cell_type": "code",
   "execution_count": 88,
   "id": "0b2f91be",
   "metadata": {},
   "outputs": [],
   "source": [
    "hf_ce = HuggingFaceCrossEncoder(\n",
    "    model_name = \"cross-encoder/ms-marco-MiniLM-L6-v2\",\n",
    "    model_kwargs = {\n",
    "        \"device\" : \"cuda\",\n",
    "        \"max_length\" : 512\n",
    "    }\n",
    ")"
   ]
  },
  {
   "cell_type": "code",
   "execution_count": null,
   "id": "7adf279f",
   "metadata": {},
   "outputs": [],
   "source": [
    "# uv add hf_xet"
   ]
  },
  {
   "cell_type": "code",
   "execution_count": 89,
   "id": "e24d2553",
   "metadata": {},
   "outputs": [],
   "source": [
    "compressor = CrossEncoderReranker(\n",
    "    model = hf_ce,\n",
    "    top_n = 11\n",
    ")\n",
    "\n",
    "ret_reranker = ContextualCompressionRetriever(\n",
    "    base_retriever=ret_similarity_10,\n",
    "    base_compressor=compressor,\n",
    ")\n",
    "\n",
    "rerank_result = ret_reranker.invoke(question)"
   ]
  },
  {
   "cell_type": "code",
   "execution_count": 90,
   "id": "18469db6",
   "metadata": {},
   "outputs": [
    {
     "data": {
      "text/html": [
       "<pre style=\"white-space:pre;overflow-x:auto;line-height:normal;font-family:Menlo,'DejaVu Sans Mono',consolas,'Courier New',monospace\"><span style=\"font-style: italic\">                                                    리랭크 결과                                                    </span>\n",
       "┏━━━━┳━━━━━━━━━━━━━━━━━━━━━━━━━━━━━━━━━━━━━━━━━━━━━━━━━━┳━━━━━━┳━━━━━━━━━━━━━━━━━━━━━━━━━━━━━━━━━━━━━━━━━━━━━━━━━━┓\n",
       "┃<span style=\"font-weight: bold\">  # </span>┃<span style=\"font-weight: bold\"> Source                                           </span>┃<span style=\"font-weight: bold\"> Page </span>┃<span style=\"font-weight: bold\"> Preview                                          </span>┃\n",
       "┡━━━━╇━━━━━━━━━━━━━━━━━━━━━━━━━━━━━━━━━━━━━━━━━━━━━━━━━━╇━━━━━━╇━━━━━━━━━━━━━━━━━━━━━━━━━━━━━━━━━━━━━━━━━━━━━━━━━━┩\n",
       "│  1 │ Samsung_Electronics_Sustainability_Report_2025_… │   45 │ 삼성전자 지속가능경영보고서 2025 45 협력회사     │\n",
       "│    │                                                  │      │ 행동…                                            │\n",
       "│  2 │ Samsung_Electronics_Sustainability_Report_2025_… │   46 │ 정기적으로 모니터링하고 시스템으로 관리합니다.   │\n",
       "│    │                                                  │      │ 하위 공…                                         │\n",
       "│  3 │ Samsung_Electronics_Sustainability_Report_2025_… │   45 │ 협력회사를 지원하고 교육합니다.  협력회사의      │\n",
       "│    │                                                  │      │ 지속가능경…                                      │\n",
       "│  4 │ Samsung_Electronics_Sustainability_Report_2025_… │   40 │ 스타일에 맞춰 혜택을 받을 수 있는 선택적         │\n",
       "│    │                                                  │      │ 복리후생 제…                                     │\n",
       "│  5 │ Samsung_Electronics_Sustainability_Report_2025_… │    5 │ 삼성전자 지속가능경영보고서 2025 05 Our Com…     │\n",
       "│  6 │ Samsung_Electronics_Sustainability_Report_2025_… │   54 │ 삼성전자 지속가능경영보고서 2025 54 Bespoke…     │\n",
       "│  7 │ Samsung_Electronics_Sustainability_Report_2025_… │    4 │ 삼성전자 지속가능경영보고서 2025 04 Our Com…     │\n",
       "│  8 │ Samsung_Electronics_Sustainability_Report_2025_… │   50 │ 삼성전자 지속가능경영보고서 2025 50 안전보건     │\n",
       "│    │                                                  │      │ 삼성…                                            │\n",
       "│  9 │ Samsung_Electronics_Sustainability_Report_2025_… │    4 │ 재활용 소재를 적용하는 성과를 이뤘습니다.        │\n",
       "│    │                                                  │      │ DS(Dev…                                          │\n",
       "│ 10 │ Samsung_Electronics_Sustainability_Report_2025_… │   61 │ 삼성전자 지속가능경영보고서 2025 61 Facts &amp;…     │\n",
       "│ 11 │ Samsung_Electronics_Sustainability_Report_2025_… │    3 │ 삼성전자 지속가능경영보고서 2025 03 Our Com…     │\n",
       "└────┴──────────────────────────────────────────────────┴──────┴──────────────────────────────────────────────────┘\n",
       "</pre>\n"
      ],
      "text/plain": [
       "\u001b[3m                                                    리랭크 결과                                                    \u001b[0m\n",
       "┏━━━━┳━━━━━━━━━━━━━━━━━━━━━━━━━━━━━━━━━━━━━━━━━━━━━━━━━━┳━━━━━━┳━━━━━━━━━━━━━━━━━━━━━━━━━━━━━━━━━━━━━━━━━━━━━━━━━━┓\n",
       "┃\u001b[1m \u001b[0m\u001b[1m #\u001b[0m\u001b[1m \u001b[0m┃\u001b[1m \u001b[0m\u001b[1mSource                                          \u001b[0m\u001b[1m \u001b[0m┃\u001b[1m \u001b[0m\u001b[1mPage\u001b[0m\u001b[1m \u001b[0m┃\u001b[1m \u001b[0m\u001b[1mPreview                                         \u001b[0m\u001b[1m \u001b[0m┃\n",
       "┡━━━━╇━━━━━━━━━━━━━━━━━━━━━━━━━━━━━━━━━━━━━━━━━━━━━━━━━━╇━━━━━━╇━━━━━━━━━━━━━━━━━━━━━━━━━━━━━━━━━━━━━━━━━━━━━━━━━━┩\n",
       "│  1 │ Samsung_Electronics_Sustainability_Report_2025_… │   45 │ 삼성전자 지속가능경영보고서 2025 45 협력회사     │\n",
       "│    │                                                  │      │ 행동…                                            │\n",
       "│  2 │ Samsung_Electronics_Sustainability_Report_2025_… │   46 │ 정기적으로 모니터링하고 시스템으로 관리합니다.   │\n",
       "│    │                                                  │      │ 하위 공…                                         │\n",
       "│  3 │ Samsung_Electronics_Sustainability_Report_2025_… │   45 │ 협력회사를 지원하고 교육합니다.  협력회사의      │\n",
       "│    │                                                  │      │ 지속가능경…                                      │\n",
       "│  4 │ Samsung_Electronics_Sustainability_Report_2025_… │   40 │ 스타일에 맞춰 혜택을 받을 수 있는 선택적         │\n",
       "│    │                                                  │      │ 복리후생 제…                                     │\n",
       "│  5 │ Samsung_Electronics_Sustainability_Report_2025_… │    5 │ 삼성전자 지속가능경영보고서 2025 05 Our Com…     │\n",
       "│  6 │ Samsung_Electronics_Sustainability_Report_2025_… │   54 │ 삼성전자 지속가능경영보고서 2025 54 Bespoke…     │\n",
       "│  7 │ Samsung_Electronics_Sustainability_Report_2025_… │    4 │ 삼성전자 지속가능경영보고서 2025 04 Our Com…     │\n",
       "│  8 │ Samsung_Electronics_Sustainability_Report_2025_… │   50 │ 삼성전자 지속가능경영보고서 2025 50 안전보건     │\n",
       "│    │                                                  │      │ 삼성…                                            │\n",
       "│  9 │ Samsung_Electronics_Sustainability_Report_2025_… │    4 │ 재활용 소재를 적용하는 성과를 이뤘습니다.        │\n",
       "│    │                                                  │      │ DS(Dev…                                          │\n",
       "│ 10 │ Samsung_Electronics_Sustainability_Report_2025_… │   61 │ 삼성전자 지속가능경영보고서 2025 61 Facts &…     │\n",
       "│ 11 │ Samsung_Electronics_Sustainability_Report_2025_… │    3 │ 삼성전자 지속가능경영보고서 2025 03 Our Com…     │\n",
       "└────┴──────────────────────────────────────────────────┴──────┴──────────────────────────────────────────────────┘\n"
      ]
     },
     "metadata": {},
     "output_type": "display_data"
    }
   ],
   "source": [
    "rich_docs(rerank_result, title=\"리랭크 결과\", max_len=30)"
   ]
  },
  {
   "cell_type": "markdown",
   "id": "9cf44e72",
   "metadata": {},
   "source": [
    "# 4. 리오더(Reorder)\n",
    "- 리랭크와 같이 사용\n",
    "- 리랭크에서는 맥락(내용의 흐름) 고려 x"
   ]
  },
  {
   "cell_type": "code",
   "execution_count": null,
   "id": "2f87d680",
   "metadata": {},
   "outputs": [],
   "source": [
    "from langchain_community.document_transformers import LongContextReorder\n",
    "\n",
    "reorder = LongContextReorder()\n",
    "reorderd_result = reorder.transform_documents(rerank_result)\n",
    "\n",
    "# reorderd_result = []\n",
    "# rerank_result.reverse()\n",
    "# for i, value in enumerate(rerank_result):\n",
    "#     if i % 2 == 0:\n",
    "#         reorderd_result.append(value)\n",
    "#     else:\n",
    "#         reorderd_result.insert(0, value)"
   ]
  },
  {
   "cell_type": "code",
   "execution_count": 92,
   "id": "98f49c1a",
   "metadata": {},
   "outputs": [
    {
     "data": {
      "text/html": [
       "<pre style=\"white-space:pre;overflow-x:auto;line-height:normal;font-family:Menlo,'DejaVu Sans Mono',consolas,'Courier New',monospace\"><span style=\"font-style: italic\">                                                    리오더 결과                                                    </span>\n",
       "┏━━━━┳━━━━━━━━━━━━━━━━━━━━━━━━━━━━━━━━━━━━━━━━━━━━━━━━━━┳━━━━━━┳━━━━━━━━━━━━━━━━━━━━━━━━━━━━━━━━━━━━━━━━━━━━━━━━━━┓\n",
       "┃<span style=\"font-weight: bold\">  # </span>┃<span style=\"font-weight: bold\"> Source                                           </span>┃<span style=\"font-weight: bold\"> Page </span>┃<span style=\"font-weight: bold\"> Preview                                          </span>┃\n",
       "┡━━━━╇━━━━━━━━━━━━━━━━━━━━━━━━━━━━━━━━━━━━━━━━━━━━━━━━━━╇━━━━━━╇━━━━━━━━━━━━━━━━━━━━━━━━━━━━━━━━━━━━━━━━━━━━━━━━━━┩\n",
       "│  1 │ Samsung_Electronics_Sustainability_Report_2025_… │   45 │ 삼성전자 지속가능경영보고서 2025 45 협력회사     │\n",
       "│    │                                                  │      │ 행동…                                            │\n",
       "│  2 │ Samsung_Electronics_Sustainability_Report_2025_… │   45 │ 협력회사를 지원하고 교육합니다.  협력회사의      │\n",
       "│    │                                                  │      │ 지속가능경…                                      │\n",
       "│  3 │ Samsung_Electronics_Sustainability_Report_2025_… │    5 │ 삼성전자 지속가능경영보고서 2025 05 Our Com…     │\n",
       "│  4 │ Samsung_Electronics_Sustainability_Report_2025_… │    4 │ 삼성전자 지속가능경영보고서 2025 04 Our Com…     │\n",
       "│  5 │ Samsung_Electronics_Sustainability_Report_2025_… │    4 │ 재활용 소재를 적용하는 성과를 이뤘습니다.        │\n",
       "│    │                                                  │      │ DS(Dev…                                          │\n",
       "│  6 │ Samsung_Electronics_Sustainability_Report_2025_… │    3 │ 삼성전자 지속가능경영보고서 2025 03 Our Com…     │\n",
       "│  7 │ Samsung_Electronics_Sustainability_Report_2025_… │   61 │ 삼성전자 지속가능경영보고서 2025 61 Facts &amp;…     │\n",
       "│  8 │ Samsung_Electronics_Sustainability_Report_2025_… │   50 │ 삼성전자 지속가능경영보고서 2025 50 안전보건     │\n",
       "│    │                                                  │      │ 삼성…                                            │\n",
       "│  9 │ Samsung_Electronics_Sustainability_Report_2025_… │   54 │ 삼성전자 지속가능경영보고서 2025 54 Bespoke…     │\n",
       "│ 10 │ Samsung_Electronics_Sustainability_Report_2025_… │   40 │ 스타일에 맞춰 혜택을 받을 수 있는 선택적         │\n",
       "│    │                                                  │      │ 복리후생 제…                                     │\n",
       "│ 11 │ Samsung_Electronics_Sustainability_Report_2025_… │   46 │ 정기적으로 모니터링하고 시스템으로 관리합니다.   │\n",
       "│    │                                                  │      │ 하위 공…                                         │\n",
       "└────┴──────────────────────────────────────────────────┴──────┴──────────────────────────────────────────────────┘\n",
       "</pre>\n"
      ],
      "text/plain": [
       "\u001b[3m                                                    리오더 결과                                                    \u001b[0m\n",
       "┏━━━━┳━━━━━━━━━━━━━━━━━━━━━━━━━━━━━━━━━━━━━━━━━━━━━━━━━━┳━━━━━━┳━━━━━━━━━━━━━━━━━━━━━━━━━━━━━━━━━━━━━━━━━━━━━━━━━━┓\n",
       "┃\u001b[1m \u001b[0m\u001b[1m #\u001b[0m\u001b[1m \u001b[0m┃\u001b[1m \u001b[0m\u001b[1mSource                                          \u001b[0m\u001b[1m \u001b[0m┃\u001b[1m \u001b[0m\u001b[1mPage\u001b[0m\u001b[1m \u001b[0m┃\u001b[1m \u001b[0m\u001b[1mPreview                                         \u001b[0m\u001b[1m \u001b[0m┃\n",
       "┡━━━━╇━━━━━━━━━━━━━━━━━━━━━━━━━━━━━━━━━━━━━━━━━━━━━━━━━━╇━━━━━━╇━━━━━━━━━━━━━━━━━━━━━━━━━━━━━━━━━━━━━━━━━━━━━━━━━━┩\n",
       "│  1 │ Samsung_Electronics_Sustainability_Report_2025_… │   45 │ 삼성전자 지속가능경영보고서 2025 45 협력회사     │\n",
       "│    │                                                  │      │ 행동…                                            │\n",
       "│  2 │ Samsung_Electronics_Sustainability_Report_2025_… │   45 │ 협력회사를 지원하고 교육합니다.  협력회사의      │\n",
       "│    │                                                  │      │ 지속가능경…                                      │\n",
       "│  3 │ Samsung_Electronics_Sustainability_Report_2025_… │    5 │ 삼성전자 지속가능경영보고서 2025 05 Our Com…     │\n",
       "│  4 │ Samsung_Electronics_Sustainability_Report_2025_… │    4 │ 삼성전자 지속가능경영보고서 2025 04 Our Com…     │\n",
       "│  5 │ Samsung_Electronics_Sustainability_Report_2025_… │    4 │ 재활용 소재를 적용하는 성과를 이뤘습니다.        │\n",
       "│    │                                                  │      │ DS(Dev…                                          │\n",
       "│  6 │ Samsung_Electronics_Sustainability_Report_2025_… │    3 │ 삼성전자 지속가능경영보고서 2025 03 Our Com…     │\n",
       "│  7 │ Samsung_Electronics_Sustainability_Report_2025_… │   61 │ 삼성전자 지속가능경영보고서 2025 61 Facts &…     │\n",
       "│  8 │ Samsung_Electronics_Sustainability_Report_2025_… │   50 │ 삼성전자 지속가능경영보고서 2025 50 안전보건     │\n",
       "│    │                                                  │      │ 삼성…                                            │\n",
       "│  9 │ Samsung_Electronics_Sustainability_Report_2025_… │   54 │ 삼성전자 지속가능경영보고서 2025 54 Bespoke…     │\n",
       "│ 10 │ Samsung_Electronics_Sustainability_Report_2025_… │   40 │ 스타일에 맞춰 혜택을 받을 수 있는 선택적         │\n",
       "│    │                                                  │      │ 복리후생 제…                                     │\n",
       "│ 11 │ Samsung_Electronics_Sustainability_Report_2025_… │   46 │ 정기적으로 모니터링하고 시스템으로 관리합니다.   │\n",
       "│    │                                                  │      │ 하위 공…                                         │\n",
       "└────┴──────────────────────────────────────────────────┴──────┴──────────────────────────────────────────────────┘\n"
      ]
     },
     "metadata": {},
     "output_type": "display_data"
    }
   ],
   "source": [
    "rich_docs(reorderd_result, \"리오더 결과\", 30)"
   ]
  }
 ],
 "metadata": {
  "kernelspec": {
   "display_name": "LLM-Study (3.11.13)",
   "language": "python",
   "name": "python3"
  },
  "language_info": {
   "codemirror_mode": {
    "name": "ipython",
    "version": 3
   },
   "file_extension": ".py",
   "mimetype": "text/x-python",
   "name": "python",
   "nbconvert_exporter": "python",
   "pygments_lexer": "ipython3",
   "version": "3.11.13"
  }
 },
 "nbformat": 4,
 "nbformat_minor": 5
}
