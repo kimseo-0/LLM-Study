{
 "cells": [
  {
   "cell_type": "code",
   "execution_count": 2,
   "id": "18cdcc6e",
   "metadata": {},
   "outputs": [],
   "source": [
    "from langchain_community.document_loaders import PyPDFLoader\n",
    "from langchain_text_splitters import RecursiveCharacterTextSplitter\n",
    "from langchain_openai import OpenAIEmbeddings, ChatOpenAI\n",
    "from langchain_community.vectorstores import Chroma\n",
    "# from langchain_chroma import Chroma\n",
    "from langchain_core.runnables import RunnablePassthrough, RunnableLambda\n",
    "from langchain_core.prompts import ChatPromptTemplate\n",
    "from langchain_core.output_parsers import StrOutputParser"
   ]
  },
  {
   "cell_type": "code",
   "execution_count": null,
   "id": "14ff4b38",
   "metadata": {},
   "outputs": [],
   "source": [
    "from dotenv import load_dotenv\n",
    "load_dotenv()\n",
    "\n",
    "import os\n",
    "project_name = \"rag_basic\"\n",
    "os.environ[\"LANGSMITH_PROJECT\"] = project_name"
   ]
  },
  {
   "cell_type": "code",
   "execution_count": null,
   "id": "6f9abfab",
   "metadata": {},
   "outputs": [],
   "source": [
    "from langchain_openai import ChatOpenAI\n",
    "\n",
    "model = ChatOpenAI(\n",
    "    temperature=0.1, # 창의력 정도\n",
    "    model = \"gpt-4.1-mini\",\n",
    "    verbose=True\n",
    ")"
   ]
  },
  {
   "cell_type": "markdown",
   "id": "ef217ff8",
   "metadata": {},
   "source": [
    "# 1. 문서 로드"
   ]
  },
  {
   "cell_type": "code",
   "execution_count": 3,
   "id": "f4278df1",
   "metadata": {},
   "outputs": [
    {
     "name": "stdout",
     "output_type": "stream",
     "text": [
      "문서 로드중\n"
     ]
    }
   ],
   "source": [
    "file_path = '../data/Sustainability_report_2024_kr.pdf'\n",
    "\n",
    "print(\"문서 로드중\")\n",
    "loader = PyPDFLoader(file_path)\n",
    "docs = loader.load()"
   ]
  },
  {
   "cell_type": "code",
   "execution_count": 12,
   "id": "b0e0e3ef",
   "metadata": {},
   "outputs": [
    {
     "data": {
      "text/plain": [
       "Document(metadata={'producer': 'Adobe PDF Library 15.0', 'creator': 'Adobe InDesign 15.1 (Macintosh)', 'creationdate': '2024-11-25T11:10:32+09:00', 'moddate': '2024-11-25T11:10:46+09:00', 'trapped': '/False', 'source': '../data/Sustainability_report_2024_kr.pdf', 'total_pages': 83, 'page': 0, 'page_label': '1'}, page_content='A Journey Towards  \\na Sustainable Future\\n삼성전자 지속가능경영보고서 2024')"
      ]
     },
     "execution_count": 12,
     "metadata": {},
     "output_type": "execute_result"
    }
   ],
   "source": [
    "docs[0]"
   ]
  },
  {
   "cell_type": "markdown",
   "id": "749fdb1e",
   "metadata": {},
   "source": [
    "# 2. 텍스트 스플리터(청킹)"
   ]
  },
  {
   "cell_type": "code",
   "execution_count": 13,
   "id": "cc97082a",
   "metadata": {},
   "outputs": [
    {
     "name": "stdout",
     "output_type": "stream",
     "text": [
      "207 전체 잘린 chunk 사이즈\n"
     ]
    }
   ],
   "source": [
    "splitter = RecursiveCharacterTextSplitter(\n",
    "    chunk_size = 1000,\n",
    "    chunk_overlap=100,\n",
    "    separators=[\"\\n\\n\", \"\\n\", \" \", \"\"]\n",
    ")\n",
    "\n",
    "chunks = splitter.split_documents(docs)\n",
    "print(len(chunks), \"전체 잘린 chunk 사이즈\")"
   ]
  },
  {
   "cell_type": "code",
   "execution_count": 15,
   "id": "456d5d6d",
   "metadata": {},
   "outputs": [
    {
     "name": "stdout",
     "output_type": "stream",
     "text": [
      "· 업종 간 협력\n",
      "·  기후 대응을 포함한  \n",
      "UN SDGs에 대한 기여\n",
      "·  투명하고 신속한 정보 공개\n",
      "·  기업 간담회\n",
      "·  NGO 미팅\n",
      "·  이해관계자 포럼\n",
      "·  시민사회 - 경영진 간담회\n",
      "·  노동인권 이해관계자 워크샵\n",
      "·  지속가능경영 웹사이트\n",
      "· 산업협회\n",
      "·  글로벌 NGO 대상 의견 수렴\n",
      "·  RBA\n",
      "1)\n",
      ", RMI\n",
      "2)\n",
      ", BSR\n",
      "3)\n",
      " 활동\n",
      "1) Responsible Business Alliance\n",
      "2) Responsible Minerals Initiative\n",
      "3) Business for Social Responsibility\n",
      "·  UNGC\n",
      "1)\n",
      "·  ACEC\n",
      "2)\n",
      ", SCC\n",
      "3)\n",
      " 활동\n",
      "1) United Nations Global Compact\n",
      "2) Asia Clean Energy Coalition\n",
      "3) Semiconductor Climate Consortium\n",
      "정부 ·  간접 경제효과(투자, 고용 등 파생효과)\n",
      "·  공정거래\n",
      "·  안전·보건\n",
      "·  컴플라이언스\n",
      "·  기업윤리\n",
      "·  정책 간담회\n",
      "·  국회\n",
      "·  정책수립 공청회\n",
      "·  정책자문기구\n",
      "·  지속가능경영 웹사이트\n",
      "·  정부와 협업하여 중소기업 지원 프로그램 운영 ·  정부와 협업하여 벤처투자 창구 설립·운영\n",
      "언론 ·  주요 제품/사업 실적 및 전략\n",
      "·  투자, R&D, M&A,  \n",
      "신사업 등 미래 성장 전략 \n",
      "·  탄소중립 등 ESG 추진 성과\n",
      "·  인/노사, 환경안전, 특허,  \n",
      "제품·서비스 품질 등\n",
      "·  보도자료\n",
      "·  지속가능경영 웹사이트\n",
      "·  삼성전자 반도체 뉴스룸\n",
      "·  삼성전자 뉴스룸\n",
      "· 미디어 간담회\n",
      "·  글로벌 IT 전시회·신제품 발표 취재지원\n",
      "·  미디어데이 개최\n",
      "·  기자회견\n",
      "·  인터뷰\n",
      "·  기획홍보\n",
      " Our Company\n"
     ]
    }
   ],
   "source": [
    "print(chunks[10].page_content)"
   ]
  },
  {
   "cell_type": "markdown",
   "id": "6a97ddf5",
   "metadata": {},
   "source": [
    "# 3. 임베딩 생성 chromadb 저장"
   ]
  }
 ],
 "metadata": {
  "kernelspec": {
   "display_name": "langchain-study (3.10.18)",
   "language": "python",
   "name": "python3"
  },
  "language_info": {
   "codemirror_mode": {
    "name": "ipython",
    "version": 3
   },
   "file_extension": ".py",
   "mimetype": "text/x-python",
   "name": "python",
   "nbconvert_exporter": "python",
   "pygments_lexer": "ipython3",
   "version": "3.10.18"
  }
 },
 "nbformat": 4,
 "nbformat_minor": 5
}
