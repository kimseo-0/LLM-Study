{
 "cells": [
  {
   "cell_type": "code",
   "execution_count": 218,
   "id": "1e5fe7c8",
   "metadata": {},
   "outputs": [],
   "source": [
    "from dotenv import load_dotenv\n",
    "load_dotenv()\n",
    "\n",
    "import os\n",
    "project_name = \"momory_basic\"\n",
    "os.environ[\"LANGSMITH_PROJECT\"] = project_name"
   ]
  },
  {
   "cell_type": "code",
   "execution_count": 219,
   "id": "cea60c2b",
   "metadata": {},
   "outputs": [],
   "source": [
    "from langchain_openai import ChatOpenAI\n",
    "\n",
    "model = ChatOpenAI(\n",
    "    temperature=0.1, # 창의력 정도\n",
    "    model = \"gpt-4.1-mini\",\n",
    "    verbose=True\n",
    ")"
   ]
  },
  {
   "cell_type": "code",
   "execution_count": 220,
   "id": "28a52e4d",
   "metadata": {},
   "outputs": [],
   "source": [
    "from typing import Dict\n",
    "from langchain_core.chat_history import InMemoryChatMessageHistory\n",
    "from langchain_core.runnables.history import RunnableWithMessageHistory\n",
    "from langchain_core.prompts import ChatPromptTemplate, MessagesPlaceholder\n",
    "from langchain_core.output_parsers import StrOutputParser, PydanticOutputParser"
   ]
  },
  {
   "cell_type": "code",
   "execution_count": 221,
   "id": "ee0bff3b",
   "metadata": {},
   "outputs": [],
   "source": [
    "from typing import Dict, Optional\n",
    "from pydantic import BaseModel, Field\n",
    "\n",
    "class ProfileSummary(BaseModel):\n",
    "    name: Optional[str] = Field(None, description=\"사용자 이름\")\n",
    "    age: Optional[int] = Field(None, description=\"사용자 나이\")\n",
    "    gender: Optional[str] = Field(None, description=\"사용자 성별\", examples=['남', '여'])\n",
    "    tone: str = \"neutral\"   # 필요하다면 모델에 포함\n",
    "\n",
    "profiles: Dict[str, ProfileSummary] = {}\n",
    "\n",
    "def get_profile(session_id: str) -> ProfileSummary:\n",
    "    # setdefault의 기본값을 Profile 인스턴스로\n",
    "    return profiles.setdefault(session_id, ProfileSummary())\n",
    "\n",
    "def set_profile(session_id: str, profile_data: ProfileSummary) -> None:\n",
    "    profile = get_profile(session_id)\n",
    "    update = profile_data.model_dump(exclude_unset=True)\n",
    "\n",
    "    # None 값은 제외하고 업데이트\n",
    "    for k, v in update.items():\n",
    "        if v is not None:\n",
    "            setattr(profile, k, v)  \n",
    "\n",
    "profile_parser = PydanticOutputParser(pydantic_object=ProfileSummary)\n",
    "fmt = profile_parser.get_format_instructions()"
   ]
  },
  {
   "cell_type": "code",
   "execution_count": 222,
   "id": "9d7c4095",
   "metadata": {},
   "outputs": [],
   "source": [
    "from langchain_core.prompts import ChatPromptTemplate\n",
    "\n",
    "profile_prompt = ChatPromptTemplate.from_messages([\n",
    "    (\"system\",  \"\"\"[조건]오직 JSON 문자열만 출력을 해라. 코드블록 금지. [출력양식]{fmt}\"\"\"),\n",
    "    (\"user\", \"\"\"다음 텍스트에서 사용자 정보를 추출해줘 [텍스트]{text}\"\"\")\n",
    "]\n",
    ").partial(fmt = fmt)\n",
    "\n",
    "profile_chain = profile_prompt | model | profile_parser"
   ]
  },
  {
   "cell_type": "code",
   "execution_count": 223,
   "id": "fe361cc0",
   "metadata": {},
   "outputs": [],
   "source": [
    "def update_profile_from_text(session_id: str, text : str):\n",
    "    profile = profile_chain.invoke({'text' : text})\n",
    "    print(profile)\n",
    "    set_profile(session_id, profile)"
   ]
  },
  {
   "cell_type": "code",
   "execution_count": 224,
   "id": "f0eb5a90",
   "metadata": {},
   "outputs": [
    {
     "data": {
      "text/plain": [
       "ChatPromptTemplate(input_variables=['history', 'profile', 'question'], input_types={'history': list[typing.Annotated[typing.Union[typing.Annotated[langchain_core.messages.ai.AIMessage, Tag(tag='ai')], typing.Annotated[langchain_core.messages.human.HumanMessage, Tag(tag='human')], typing.Annotated[langchain_core.messages.chat.ChatMessage, Tag(tag='chat')], typing.Annotated[langchain_core.messages.system.SystemMessage, Tag(tag='system')], typing.Annotated[langchain_core.messages.function.FunctionMessage, Tag(tag='function')], typing.Annotated[langchain_core.messages.tool.ToolMessage, Tag(tag='tool')], typing.Annotated[langchain_core.messages.ai.AIMessageChunk, Tag(tag='AIMessageChunk')], typing.Annotated[langchain_core.messages.human.HumanMessageChunk, Tag(tag='HumanMessageChunk')], typing.Annotated[langchain_core.messages.chat.ChatMessageChunk, Tag(tag='ChatMessageChunk')], typing.Annotated[langchain_core.messages.system.SystemMessageChunk, Tag(tag='SystemMessageChunk')], typing.Annotated[langchain_core.messages.function.FunctionMessageChunk, Tag(tag='FunctionMessageChunk')], typing.Annotated[langchain_core.messages.tool.ToolMessageChunk, Tag(tag='ToolMessageChunk')]], FieldInfo(annotation=NoneType, required=True, discriminator=Discriminator(discriminator=<function _get_type at 0x000001B0792AB520>, custom_error_type=None, custom_error_message=None, custom_error_context=None))]]}, partial_variables={}, messages=[SystemMessagePromptTemplate(prompt=PromptTemplate(input_variables=[], input_types={}, partial_variables={}, template='너는 AI 도우미야, 간략하게 그냥 응답하도록 해'), additional_kwargs={}), SystemMessagePromptTemplate(prompt=PromptTemplate(input_variables=['profile'], input_types={}, partial_variables={}, template='[사용자 정보] {profile}'), additional_kwargs={}), MessagesPlaceholder(variable_name='history'), HumanMessagePromptTemplate(prompt=PromptTemplate(input_variables=['question'], input_types={}, partial_variables={}, template='{question}'), additional_kwargs={})])"
      ]
     },
     "execution_count": 224,
     "metadata": {},
     "output_type": "execute_result"
    }
   ],
   "source": [
    "# 1. 프롬프트에 history 자리 확보\n",
    "prompt = ChatPromptTemplate.from_messages([\n",
    "    (\"system\", \"너는 AI 도우미야, 간략하게 그냥 응답하도록 해\"),\n",
    "    (\"system\", \"[사용자 정보] {profile}\"),\n",
    "    MessagesPlaceholder(variable_name=\"history\"),\n",
    "    (\"user\", \"{question}\"),\n",
    "])\n",
    "prompt"
   ]
  },
  {
   "cell_type": "code",
   "execution_count": 225,
   "id": "18731f23",
   "metadata": {},
   "outputs": [],
   "source": [
    "chain = prompt | model | StrOutputParser()"
   ]
  },
  {
   "cell_type": "code",
   "execution_count": 226,
   "id": "f0d27319",
   "metadata": {},
   "outputs": [],
   "source": [
    "# 2. 대화 내용 저장소 만들기\n",
    "stores : Dict[str, InMemoryChatMessageHistory] = {}\n",
    "def get_store(session_id: str):\n",
    "    print(f\"[대화 세션ID]: {session_id}\")\n",
    "    if session_id not in stores:  # 세션 ID가 store에 없는 경우\n",
    "        # 새로운 ChatMessageHistory 객체를 생성하여 store에 저장\n",
    "        stores[session_id] = InMemoryChatMessageHistory()\n",
    "    return stores[session_id]  # 해당 세션 ID에 대한 세션 기록 반환"
   ]
  },
  {
   "cell_type": "code",
   "execution_count": 227,
   "id": "ae433a82",
   "metadata": {},
   "outputs": [],
   "source": [
    "def get_store(session_id: str):\n",
    "    print(f\"[대화 세션ID]: {session_id}\")\n",
    "    if session_id not in stores:  # 세션 ID가 store에 없는 경우\n",
    "        # 새로운 ChatMessageHistory 객체를 생성하여 store에 저장\n",
    "        stores[session_id] = InMemoryChatMessageHistory()\n",
    "    return stores[session_id]  # 해당 세션 ID에 대한 세션 기록 반환"
   ]
  },
  {
   "cell_type": "code",
   "execution_count": 228,
   "id": "04cbf6cb",
   "metadata": {},
   "outputs": [],
   "source": [
    "# 3. 히스토리랑 래핑\n",
    "with_history = RunnableWithMessageHistory(\n",
    "    chain,\n",
    "    lambda sid: get_store(sid),\n",
    "    input_messages_key=\"question\",\n",
    "    history_messages_key=\"history\",\n",
    ")"
   ]
  },
  {
   "cell_type": "code",
   "execution_count": 229,
   "id": "20457e48",
   "metadata": {},
   "outputs": [],
   "source": [
    "cfg = {\"configurable\" : {\"session_id\" : \"user-1\"}}"
   ]
  },
  {
   "cell_type": "code",
   "execution_count": null,
   "id": "96566ca6",
   "metadata": {},
   "outputs": [],
   "source": [
    "def ask(question: str, session_id: str = 'user-1', conversation_id: str = 'conv-1'):\n",
    "    \"\"\"요약 갱신 -> 요약 텍스트를 입력에 포함해서 호출\"\"\"\n",
    "    update_profile_from_text(session_id, question)\n",
    "    config= {\"configurable\": {\"session_id\": session_id, \"conversation_id\": conversation_id}}\n",
    "    return with_history.invoke({\"question\" : question, \"profile\" : get_profile(session_id)}, config=config)"
   ]
  },
  {
   "cell_type": "code",
   "execution_count": 231,
   "id": "5436a2f4",
   "metadata": {},
   "outputs": [
    {
     "name": "stdout",
     "output_type": "stream",
     "text": [
      "name='감자' age=None gender=None tone='neutral'\n",
      "[대화 세션ID]: user-1\n"
     ]
    },
    {
     "data": {
      "text/plain": [
       "'안녕하세요, 감자님! 어떻게 도와드릴까요?'"
      ]
     },
     "execution_count": 231,
     "metadata": {},
     "output_type": "execute_result"
    }
   ],
   "source": [
    "ask('안녕하세요. 제 이름은 감자입니다')"
   ]
  },
  {
   "cell_type": "code",
   "execution_count": 232,
   "id": "54f0445b",
   "metadata": {},
   "outputs": [
    {
     "name": "stdout",
     "output_type": "stream",
     "text": [
      "name=None age=30 gender=None tone='neutral'\n",
      "[대화 세션ID]: user-1\n"
     ]
    },
    {
     "data": {
      "text/plain": [
       "'네, 감자님. 30세이시군요. 도움이 필요하시면 말씀해 주세요.'"
      ]
     },
     "execution_count": 232,
     "metadata": {},
     "output_type": "execute_result"
    }
   ],
   "source": [
    "ask(' 제 나이는 30세 입니다')"
   ]
  },
  {
   "cell_type": "code",
   "execution_count": 233,
   "id": "577e5c1a",
   "metadata": {},
   "outputs": [
    {
     "name": "stdout",
     "output_type": "stream",
     "text": [
      "name=None age=None gender=None tone='neutral'\n",
      "[대화 세션ID]: user-1\n"
     ]
    },
    {
     "data": {
      "text/plain": [
       "'이름은 감자, 나이는 30세, 성별은 알려주지 않으셨습니다.'"
      ]
     },
     "execution_count": 233,
     "metadata": {},
     "output_type": "execute_result"
    }
   ],
   "source": [
    "ask('저의 이름 나이 성별은 무엇입니까?')"
   ]
  }
 ],
 "metadata": {
  "kernelspec": {
   "display_name": "langchain-study (3.10.18)",
   "language": "python",
   "name": "python3"
  },
  "language_info": {
   "codemirror_mode": {
    "name": "ipython",
    "version": 3
   },
   "file_extension": ".py",
   "mimetype": "text/x-python",
   "name": "python",
   "nbconvert_exporter": "python",
   "pygments_lexer": "ipython3",
   "version": "3.10.18"
  }
 },
 "nbformat": 4,
 "nbformat_minor": 5
}
