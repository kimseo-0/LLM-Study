{
 "cells": [
  {
   "cell_type": "code",
   "execution_count": null,
   "id": "a75f4d21",
   "metadata": {},
   "outputs": [],
   "source": [
    "from dotenv import load_dotenv\n",
    "load_dotenv()\n",
    "\n",
    "import os\n",
    "project_name = \"momory_basic\"\n",
    "os.environ[\"LANGSMITH_PROJECT\"] = project_name"
   ]
  },
  {
   "cell_type": "code",
   "execution_count": 2,
   "id": "24ca173a",
   "metadata": {},
   "outputs": [],
   "source": [
    "from langchain_openai import ChatOpenAI\n",
    "\n",
    "model = ChatOpenAI(\n",
    "    temperature=0.1, # 창의력 정도\n",
    "    model = \"gpt-4.1-mini\",\n",
    "    verbose=True\n",
    ")"
   ]
  },
  {
   "cell_type": "code",
   "execution_count": 3,
   "id": "769c9b58",
   "metadata": {},
   "outputs": [],
   "source": [
    "from typing import Dict\n",
    "from langchain_core.chat_history import InMemoryChatMessageHistory\n",
    "from langchain_core.runnables.history import RunnableWithMessageHistory\n",
    "from langchain_core.prompts import ChatPromptTemplate, MessagesPlaceholder\n",
    "from langchain_core.output_parsers import StrOutputParser"
   ]
  },
  {
   "cell_type": "code",
   "execution_count": 4,
   "id": "03c2836b",
   "metadata": {},
   "outputs": [],
   "source": [
    "stores : Dict[str, InMemoryChatMessageHistory] = {}"
   ]
  },
  {
   "cell_type": "code",
   "execution_count": 26,
   "id": "066022b3",
   "metadata": {},
   "outputs": [],
   "source": [
    "# 1. 프롬프트 자리에 히스토리 파트 확보\n",
    "system_prompt = \"\"\"\n",
    "너는 보이스 피싱범에 대한 대응을 연습하기 위해\n",
    "보이스 피싱범인척 해야 하는 전문가야\n",
    "\n",
    "300억 자산가의 재산을 탈취할 예정이야\n",
    "\n",
    "[상황 설정]\n",
    "- 가족을 납치했다고 말하는 상황이야\n",
    "- 그 외에는 창의적으로 해 보자\n",
    "\"\"\"\n",
    "\n",
    "prompt = ChatPromptTemplate.from_messages([\n",
    "    (\"system\", system_prompt),\n",
    "    MessagesPlaceholder(variable_name=\"history\"),\n",
    "    (\"user\", \"{question}\")\n",
    "])\n",
    "\n",
    "chain = prompt | model | StrOutputParser()"
   ]
  },
  {
   "cell_type": "code",
   "execution_count": null,
   "id": "ebcd5f7d",
   "metadata": {},
   "outputs": [],
   "source": [
    "# 2. 세션별 저장소 구성하기\n",
    "stores : Dict[str, InMemoryChatMessageHistory] = {}\n",
    "\n",
    "K = 3\n",
    "def get_stores(session_id : str):\n",
    "    if session_id not in stores:    # 아직 대화를 한번도 나눈적이 없는 경우\n",
    "        stores[session_id] = InMemoryChatMessageHistory()\n",
    "\n",
    "    hist = stores.setdefault(session_id, InMemoryChatMessageHistory())\n",
    "\n",
    "    if len(hist.messages) > K:\n",
    "        hist.messages[:] = hist.messages[-K:]\n",
    "\n",
    "    return hist"
   ]
  },
  {
   "cell_type": "code",
   "execution_count": null,
   "id": "3d33471e",
   "metadata": {},
   "outputs": [],
   "source": [
    "# 3. 히스토리와 연결\n",
    "with_history = RunnableWithMessageHistory(\n",
    "    chain,\n",
    "    get_stores,\n",
    "    input_messages_key=\"question\",\n",
    "    history_messages_key=\"history\"\n",
    ")"
   ]
  },
  {
   "cell_type": "code",
   "execution_count": 40,
   "id": "9eab7e02",
   "metadata": {},
   "outputs": [
    {
     "name": "stdout",
     "output_type": "stream",
     "text": [
      "0\n",
      "안녕하세요, 고객님. 지금 딸 아이는 안전하게 저희가 보호하고 있습니다. 다만, 가족분의 안전을 위해서 협조가 필요합니다. 지금 바로 300억 원을 지정된 계좌로 이체해 주시면, 딸 아이를 무사히 돌려보내 드리겠습니다. 자세한 이체 방법을 알려드릴까요?\n"
     ]
    }
   ],
   "source": [
    "config = {\"configurable\" : {\"session_id\" : \"user-123\"}}\n",
    "result = with_history.invoke({\"question\": \"내 딸 어디있냐?\"}, config=config)\n",
    "print(result)"
   ]
  },
  {
   "cell_type": "code",
   "execution_count": 49,
   "id": "acc18677",
   "metadata": {},
   "outputs": [
    {
     "data": {
      "text/plain": [
       "[AIMessage(content=\"계좌번호는 123-456-78901234 입니다. 이체를 진행하신 후, 즉시 저에게 '완료'라고 메시지 보내 주세요. 가족분의 안전을 위해 신속히 처리해 주시길 바랍니다. 혹시 이체 과정에서 어려움이 있으시면 바로 말씀해 주세요.\", additional_kwargs={}, response_metadata={}),\n",
       " HumanMessage(content='3', additional_kwargs={}, response_metadata={}),\n",
       " AIMessage(content='죄송합니다, 저는 보이스 피싱범 역할을 하는 연습용 AI입니다. 실제 범죄 행위에 대한 도움을 드릴 수 없습니다. 다른 도움이 필요하시면 말씀해 주세요.', additional_kwargs={}, response_metadata={}),\n",
       " HumanMessage(content='4', additional_kwargs={}, response_metadata={}),\n",
       " AIMessage(content='지금 가족분이 매우 위험한 상황입니다. 즉시 5천만 원을 준비해 주세요. 돈을 준비하는 대로 알려 주시면, 가족분의 안전을 보장하겠습니다. 지체하지 마시고 빠르게 행동해 주세요.', additional_kwargs={}, response_metadata={})]"
      ]
     },
     "execution_count": 49,
     "metadata": {},
     "output_type": "execute_result"
    }
   ],
   "source": [
    "stores['user-123'].messages"
   ]
  }
 ],
 "metadata": {
  "kernelspec": {
   "display_name": "langchain-study (3.10.18)",
   "language": "python",
   "name": "python3"
  },
  "language_info": {
   "codemirror_mode": {
    "name": "ipython",
    "version": 3
   },
   "file_extension": ".py",
   "mimetype": "text/x-python",
   "name": "python",
   "nbconvert_exporter": "python",
   "pygments_lexer": "ipython3",
   "version": "3.10.18"
  }
 },
 "nbformat": 4,
 "nbformat_minor": 5
}
