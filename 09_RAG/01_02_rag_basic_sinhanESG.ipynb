{
 "cells": [
  {
   "cell_type": "code",
   "execution_count": 1,
   "id": "18cdcc6e",
   "metadata": {},
   "outputs": [],
   "source": [
    "from langchain_community.document_loaders import PyPDFLoader\n",
    "from langchain_text_splitters import RecursiveCharacterTextSplitter\n",
    "from langchain_openai import OpenAIEmbeddings, ChatOpenAI\n",
    "from langchain_community.vectorstores import Chroma\n",
    "# from langchain_chroma import Chroma\n",
    "from langchain_core.runnables import RunnablePassthrough, RunnableLambda\n",
    "from langchain_core.prompts import ChatPromptTemplate\n",
    "from langchain_core.output_parsers import StrOutputParser"
   ]
  },
  {
   "cell_type": "code",
   "execution_count": 2,
   "id": "f12caa3b",
   "metadata": {},
   "outputs": [
    {
     "data": {
      "text/plain": [
       "True"
      ]
     },
     "execution_count": 2,
     "metadata": {},
     "output_type": "execute_result"
    }
   ],
   "source": [
    "from dotenv import load_dotenv\n",
    "load_dotenv()"
   ]
  },
  {
   "cell_type": "markdown",
   "id": "ef217ff8",
   "metadata": {},
   "source": [
    "# 1. 문서 로드"
   ]
  },
  {
   "cell_type": "code",
   "execution_count": 3,
   "id": "7680dffc",
   "metadata": {},
   "outputs": [],
   "source": [
    "def pdf_loader(file_path_list):\n",
    "    result = []\n",
    "    for i, file_path in enumerate(file_path_list):\n",
    "        print(f\"{i + 1}/{len(file_path_list)} 문서 로드중\")\n",
    "        loader = PyPDFLoader(file_path)\n",
    "        docs = loader.load()\n",
    "        print(f\"총 {len(docs)}장의 문서 로드\")\n",
    "        result.extend(docs)\n",
    "\n",
    "    return result"
   ]
  },
  {
   "cell_type": "code",
   "execution_count": 4,
   "id": "f4278df1",
   "metadata": {},
   "outputs": [
    {
     "name": "stdout",
     "output_type": "stream",
     "text": [
      "1/2 문서 로드중\n",
      "총 49장의 문서 로드\n",
      "2/2 문서 로드중\n",
      "총 44장의 문서 로드\n"
     ]
    }
   ],
   "source": [
    "file_path_list = ['../data/ESG_2023_tot.pdf', '../data/ESG_2024_fact_book.pdf']\n",
    "\n",
    "docs = pdf_loader(file_path_list)"
   ]
  },
  {
   "cell_type": "code",
   "execution_count": 5,
   "id": "b0e0e3ef",
   "metadata": {},
   "outputs": [
    {
     "data": {
      "text/plain": [
       "Document(metadata={'producer': 'Adobe PDF Library 17.0', 'creator': 'Adobe InDesign 20.3 (Macintosh)', 'creationdate': '2025-07-23T08:13:09+07:00', 'moddate': '2025-07-23T08:13:22+07:00', 'trapped': '/False', 'source': '../data/ESG_2024_fact_book.pdf', 'total_pages': 44, 'page': 0, 'page_label': '1'}, page_content='')"
      ]
     },
     "execution_count": 5,
     "metadata": {},
     "output_type": "execute_result"
    }
   ],
   "source": [
    "docs[49]"
   ]
  },
  {
   "cell_type": "markdown",
   "id": "749fdb1e",
   "metadata": {},
   "source": [
    "# 2. 텍스트 스플리터(청킹)"
   ]
  },
  {
   "cell_type": "code",
   "execution_count": 6,
   "id": "cc97082a",
   "metadata": {},
   "outputs": [
    {
     "name": "stdout",
     "output_type": "stream",
     "text": [
      "119 전체 잘린 chunk 사이즈\n"
     ]
    }
   ],
   "source": [
    "splitter = RecursiveCharacterTextSplitter(\n",
    "    chunk_size = 1000,\n",
    "    chunk_overlap=100,\n",
    "    separators=[\"\\n\\n\", \"\\n\", \" \", \"\"]\n",
    ")\n",
    "\n",
    "chunks = splitter.split_documents(docs)\n",
    "print(len(chunks), \"전체 잘린 chunk 사이즈\")"
   ]
  },
  {
   "cell_type": "code",
   "execution_count": 7,
   "id": "456d5d6d",
   "metadata": {},
   "outputs": [
    {
     "name": "stdout",
     "output_type": "stream",
     "text": [
      "16.8%\n",
      "철강 · 비철금속\n",
      "8.8%\n",
      "석유 · 화학\n",
      "8.8%\n",
      "자동차\n",
      "7 .2%\n",
      "기타산업\n",
      "7 .2%\n",
      "섬유 • 의류\n",
      "5.6%\n",
      "건설\n",
      "5.6%\n",
      "음식료\n",
      "5.6%\n",
      "전자기기\n",
      "4.8%\n",
      "기계 · 정밀\n",
      "4.8%\n",
      "목재 · 종이\n",
      "4.8%\n",
      "반도체 \n",
      "전자부품\n",
      "3.2%\n",
      "비금속광물\n",
      "3.2%\n",
      "운수 · 보관\n",
      "3.2%\n",
      "정보 · 방송통신\n",
      "2.4%\n",
      "폐기물처리 · 재활용\n",
      "8.0%\n",
      "기타(조선, 유통 유틸리티 등) 업종별 \n",
      "컨설팅 현황\n",
      "녹색금융\n",
      "('23년 12월 기준)\n",
      "140회 40회\n",
      "»\n",
      "»\n",
      "»\n",
      "- 9 -\n"
     ]
    }
   ],
   "source": [
    "print(chunks[10].page_content)"
   ]
  },
  {
   "cell_type": "markdown",
   "id": "6a97ddf5",
   "metadata": {},
   "source": [
    "# 3. 임베딩 생성 chromadb 저장"
   ]
  },
  {
   "cell_type": "code",
   "execution_count": null,
   "id": "d4470fae",
   "metadata": {},
   "outputs": [
    {
     "name": "stdout",
     "output_type": "stream",
     "text": [
      "벡터 저장소 저장 완료\n"
     ]
    }
   ],
   "source": [
    "db_path = \"../07_vectorstore/chromadb_rag_sinhanESG\"\n",
    "\n",
    "embedding = OpenAIEmbeddings(model=\"text-embedding-3-small\")\n",
    "\n",
    "vectorstore = Chroma.from_documents(\n",
    "    documents=chunks,\n",
    "    embedding=embedding,\n",
    "    persist_directory=db_path,\n",
    "    collection_name=\"samsung_2024\"\n",
    ")\n",
    "print(\"벡터 저장소 저장 완료\")"
   ]
  },
  {
   "cell_type": "markdown",
   "id": "923dff2d",
   "metadata": {},
   "source": [
    "# 4. 검색기 구성 (retriever)"
   ]
  },
  {
   "cell_type": "code",
   "execution_count": 9,
   "id": "6254ec54",
   "metadata": {},
   "outputs": [],
   "source": [
    "retriever = vectorstore.as_retriever()"
   ]
  },
  {
   "cell_type": "markdown",
   "id": "71525569",
   "metadata": {},
   "source": [
    "# 5. 기본 체인 만들기"
   ]
  },
  {
   "cell_type": "code",
   "execution_count": 16,
   "id": "1a509520",
   "metadata": {},
   "outputs": [],
   "source": [
    "# 1. 프롬프트\n",
    "rag_prompt = ChatPromptTemplate.from_messages([\n",
    "    (\"system\", \n",
    "     \"\"\"\n",
    "     주어진 컨텍스트만 근거로 간결하고 정확하게 대답해라\n",
    "     컨텍스트에 없으면 문서에 \"근거 없음\" 이라고 말해라\n",
    "     \n",
    "     [출처 작성 규칙]\n",
    "     - 대답에는 어떤 문서의 몇페이지를 근거하고 있는지 리스트로 작성하라\n",
    "\n",
    "     [컨텍스트]\n",
    "     {context}\n",
    "     \"\"\"),\n",
    "    (\"user\", \"{question}\"),\n",
    "])\n",
    "\n",
    "# 2. 모델 선택\n",
    "model = ChatOpenAI(\n",
    "    temperature=0,\n",
    "    model = \"gpt-4.1-mini\",\n",
    "    verbose=True\n",
    ")\n",
    "\n",
    "# 3. output parser 선택\n",
    "outputparser = StrOutputParser()\n",
    "\n",
    "# 4. chain 생성\n",
    "chain = rag_prompt | model | outputparser\n"
   ]
  },
  {
   "cell_type": "markdown",
   "id": "eb6c4d0e",
   "metadata": {},
   "source": [
    "# 6. RAG 체인 만들기"
   ]
  },
  {
   "cell_type": "code",
   "execution_count": 17,
   "id": "4543c42e",
   "metadata": {},
   "outputs": [],
   "source": [
    "# 문서를 합치는 함수\n",
    "def format_docs(docs):\n",
    "    return \"\\n\\---\\n\\n\".join([f\"메타데이터: {doc.metadata}, 컨텐츠: \" + doc.page_content for doc in docs])"
   ]
  },
  {
   "cell_type": "code",
   "execution_count": 18,
   "id": "ba3076ad",
   "metadata": {},
   "outputs": [
    {
     "data": {
      "text/plain": [
       "{\n",
       "  context: VectorStoreRetriever(tags=['Chroma', 'OpenAIEmbeddings'], vectorstore=<langchain_community.vectorstores.chroma.Chroma object at 0x0000020BB2D3E7D0>, search_kwargs={})\n",
       "           | RunnableLambda(format_docs),\n",
       "  question: RunnablePassthrough()\n",
       "}\n",
       "| ChatPromptTemplate(input_variables=['context', 'question'], input_types={}, partial_variables={}, messages=[SystemMessagePromptTemplate(prompt=PromptTemplate(input_variables=['context'], input_types={}, partial_variables={}, template='\\n     주어진 컨텍스트만 근거로 간결하고 정확하게 대답해라\\n     컨텍스트에 없으면 문서에 \"근거 없음\" 이라고 말해라\\n     \\n     [출처 작성 규칙]\\n     - 대답에는 어떤 문서의 몇페이지를 근거하고 있는지 리스트로 작성하라\\n\\n     [컨텍스트]\\n     {context}\\n     '), additional_kwargs={}), HumanMessagePromptTemplate(prompt=PromptTemplate(input_variables=['question'], input_types={}, partial_variables={}, template='{question}'), additional_kwargs={})])\n",
       "| ChatOpenAI(client=<openai.resources.chat.completions.completions.Completions object at 0x0000020BB6596980>, async_client=<openai.resources.chat.completions.completions.AsyncCompletions object at 0x0000020BB6596770>, root_client=<openai.OpenAI object at 0x0000020BB6597970>, root_async_client=<openai.AsyncOpenAI object at 0x0000020BB6596800>, model_name='gpt-4.1-mini', temperature=0.0, model_kwargs={}, openai_api_key=SecretStr('**********'))\n",
       "| StrOutputParser()"
      ]
     },
     "execution_count": 18,
     "metadata": {},
     "output_type": "execute_result"
    }
   ],
   "source": [
    "rag_chain = (\n",
    "    {\n",
    "        \"context\" : retriever | RunnableLambda(format_docs),\n",
    "        \"question\" : RunnablePassthrough()\n",
    "    }\n",
    "    | chain\n",
    ")\n",
    "rag_chain"
   ]
  },
  {
   "cell_type": "code",
   "execution_count": 20,
   "id": "e042c662",
   "metadata": {},
   "outputs": [
    {
     "name": "stdout",
     "output_type": "stream",
     "text": [
      "신한은행의 ESG 컨설팅 중 온실가스와 관련된 사업은 다음과 같습니다:\n",
      "\n",
      "- 온실가스 배출량 산정 및 공개\n",
      "- 온실가스 감축을 위한 이행 지원 (금융지원 연계 등)\n",
      "- 친환경 경영 가이드 제공 및 에너지 효율화 전환금융 솔루션 지원\n",
      "- CEMP사업(기업의 건물 에너지 효율화 사회공헌 사업과 외부사업을 연결하여 온실가스 감축과 에너지 복지를 구현하는 사업) 연계\n",
      "\n",
      "이 외에도 중소·중견기업을 대상으로 ESG경영 진단 및 적용 컨설팅과 녹색금융 연계 솔루션을 제공하여 온실가스 감축을 지원하고 있습니다.\n",
      "\n",
      "[출처: ESG_2023_tot.pdf, 9~10페이지, 19페이지]\n"
     ]
    }
   ],
   "source": [
    "result = rag_chain.invoke(\"신한은행에서 진행하는 esg 컨설팅 중 온실가스와 관련된 사업은 어떤것이 있나요?\")\n",
    "print(result)"
   ]
  },
  {
   "cell_type": "code",
   "execution_count": 21,
   "id": "d9c99c50",
   "metadata": {},
   "outputs": [
    {
     "name": "stdout",
     "output_type": "stream",
     "text": [
      "2024년 신한은행 ESG 전략은 'L.E.A.D ESG' 전략으로, 신한금융그룹 2025 ESG 중기전략과 신한의 핵심가치에 기반하여 수립되었습니다. 주요 내용은 다음과 같습니다:\n",
      "\n",
      "- Lead ESG Standard: ESG 이니셔티브 선도 및 규제 대응 강화  \n",
      "- Expand ESG Alliance: 신사업 확장 및 ESG 금융 생태계 조성  \n",
      "- Accelerate ESG Finance: 친환경 및 사회적 금융 증대  \n",
      "- Design ESG Brand-Identity: ESG 내재화 및 브랜딩 강화  \n",
      "\n",
      "이 전략은 탄소중립 가속화, 친환경 금융 리딩, 스타트업 및 청년 지원, 사회공헌 및 금융소비자 보호, 공시 및 사업 투명성 제고, 다양성 및 포용성 확대 등을 포함합니다.\n",
      "\n",
      "또한, ESG 경영을 위한 이사회 및 산하 위원회(ESG 위원회, ESG 경영위원회, ESG 운영위원회)를 통해 전략 수립과 실행, 의사결정 체계를 운영하고 있습니다.\n",
      "\n",
      "[근거 문서]  \n",
      "- ESG_2023_tot.pdf, 42페이지  \n",
      "- ESG_2024_fact_book.pdf, 3페이지  \n",
      "- ESG_2024_fact_book.pdf, 4페이지\n"
     ]
    }
   ],
   "source": [
    "result = rag_chain.invoke(\"이 보고서에서 2024년 신한은행 ESG 전략은?\")\n",
    "print(result)"
   ]
  }
 ],
 "metadata": {
  "kernelspec": {
   "display_name": "LLM-Study (3.10.18)",
   "language": "python",
   "name": "python3"
  },
  "language_info": {
   "codemirror_mode": {
    "name": "ipython",
    "version": 3
   },
   "file_extension": ".py",
   "mimetype": "text/x-python",
   "name": "python",
   "nbconvert_exporter": "python",
   "pygments_lexer": "ipython3",
   "version": "3.10.18"
  }
 },
 "nbformat": 4,
 "nbformat_minor": 5
}
