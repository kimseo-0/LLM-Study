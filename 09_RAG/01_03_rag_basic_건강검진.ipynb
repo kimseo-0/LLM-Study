{
 "cells": [
  {
   "cell_type": "code",
   "execution_count": 1,
   "id": "18cdcc6e",
   "metadata": {},
   "outputs": [],
   "source": [
    "from langchain_community.document_loaders import PyPDFLoader\n",
    "from langchain_text_splitters import RecursiveCharacterTextSplitter\n",
    "from langchain_openai import OpenAIEmbeddings, ChatOpenAI\n",
    "from langchain_community.vectorstores import Chroma\n",
    "# from langchain_chroma import Chroma\n",
    "from langchain_core.runnables import RunnablePassthrough, RunnableLambda\n",
    "from langchain_core.prompts import ChatPromptTemplate\n",
    "from langchain_core.output_parsers import StrOutputParser"
   ]
  },
  {
   "cell_type": "code",
   "execution_count": 2,
   "id": "f12caa3b",
   "metadata": {},
   "outputs": [
    {
     "data": {
      "text/plain": [
       "True"
      ]
     },
     "execution_count": 2,
     "metadata": {},
     "output_type": "execute_result"
    }
   ],
   "source": [
    "from dotenv import load_dotenv\n",
    "load_dotenv()"
   ]
  },
  {
   "cell_type": "markdown",
   "id": "ef217ff8",
   "metadata": {},
   "source": [
    "# 1. 문서 로드"
   ]
  },
  {
   "cell_type": "code",
   "execution_count": 3,
   "id": "7680dffc",
   "metadata": {},
   "outputs": [],
   "source": [
    "def pdf_loader(file_path_list):\n",
    "    result = []\n",
    "    for i, file_path in enumerate(file_path_list):\n",
    "        print(f\"{i + 1}/{len(file_path_list)} 문서 로드중\")\n",
    "        loader = PyPDFLoader(file_path)\n",
    "        docs = loader.load()\n",
    "        print(f\"총 {len(docs)}장의 문서 로드\")\n",
    "        result.extend(docs)\n",
    "\n",
    "    return result"
   ]
  },
  {
   "cell_type": "code",
   "execution_count": 4,
   "id": "f4278df1",
   "metadata": {},
   "outputs": [
    {
     "name": "stdout",
     "output_type": "stream",
     "text": [
      "1/1 문서 로드중\n",
      "총 181장의 문서 로드\n"
     ]
    }
   ],
   "source": [
    "file_path_list = ['../data/2025년+건강검진사업안내.pdf']\n",
    "\n",
    "docs = pdf_loader(file_path_list)"
   ]
  },
  {
   "cell_type": "code",
   "execution_count": 24,
   "id": "5ea53c13",
   "metadata": {},
   "outputs": [
    {
     "name": "stdout",
     "output_type": "stream",
     "text": [
      "Chapter 1 건강검진사업 현황\n",
      " • 7\n",
      "구  분 2023예산 2024예산\n",
      "(a)\n",
      "2025예산\n",
      "(b)\n",
      "증감\n",
      "(b­a) (%)\n",
      "합   계 ( A + B ) 858,214 902,012 1,047,892 145,880 16.2\n",
      "◦ 일반건강검진 사업 773,479 826,364 960,817 134,453 16.3\n",
      "◦ 영유아건강검진 사업 82,387 73,450 85,237 11,787 16\n",
      "◦ 영유아 발달 정밀검사비 지원사업 836 786 595 △191 △24.3\n",
      "◦ 의료급여수급권자 건강검진 사업운영비 254 254 254 - -\n",
      "◦ 건강검진사업 운영 1,258 1,158 989 △169 △14.6\n",
      "국   고 ( A ) 9,586 9,466 8,978 △488 △5.2\n",
      "◦ 일반건강검진 사업\n",
      "(의료급여생애전환기검진 사업 포함) 6,621 6,621 6,621 - -\n",
      "◦ 영유아건강검진 사업 617 647 519 △128 △19.8\n",
      "◦ 영유아 발달 정밀검사비 지원사업 836 786 595 △191 △24.3\n",
      "◦ 의료급여수급권자 건강검진 사업운영비 254 254 254 - -\n",
      "◦ 건강검진사업 운영 1,258 1,158 989 △169 △14.6\n",
      "건강보험재정(B) 848,628 892,546 1,038,914 146,368 16.4\n",
      "◦ 일반건강검진 사업 766,858 819,743 954,196 134,453 16.4\n",
      "◦ 영유아건강검진 사업 81,770 72,803 84,718 11,915 16.4\n",
      "(단위：백만원)\n",
      "* 국고(A)：의료급여수급권자 검진 관련 비용(국비 기준)\n",
      "* 건강보험재정(B)：건강보험가입자 검진 관련 비용\n",
      "Chapter\n",
      "2025년  건강검진사업  주요  예산1­4\n"
     ]
    }
   ],
   "source": [
    "print(docs[10].page_content)"
   ]
  },
  {
   "cell_type": "markdown",
   "id": "749fdb1e",
   "metadata": {},
   "source": [
    "# 2. 텍스트 스플리터(청킹)"
   ]
  },
  {
   "cell_type": "code",
   "execution_count": 5,
   "id": "cc97082a",
   "metadata": {},
   "outputs": [
    {
     "name": "stdout",
     "output_type": "stream",
     "text": [
      "235 전체 잘린 chunk 사이즈\n"
     ]
    }
   ],
   "source": [
    "splitter = RecursiveCharacterTextSplitter(\n",
    "    chunk_size = 1000,\n",
    "    chunk_overlap=100,\n",
    "    separators=[\"\\n\\n\", \"\\n\", \" \", \"\"]\n",
    ")\n",
    "\n",
    "chunks = splitter.split_documents(docs)\n",
    "print(len(chunks), \"전체 잘린 chunk 사이즈\")"
   ]
  },
  {
   "cell_type": "code",
   "execution_count": 6,
   "id": "456d5d6d",
   "metadata": {},
   "outputs": [
    {
     "name": "stdout",
     "output_type": "stream",
     "text": [
      "Chapter 1 건강검진사업 현황\n",
      " • 7\n",
      "구  분 2023예산 2024예산\n",
      "(a)\n",
      "2025예산\n",
      "(b)\n",
      "증감\n",
      "(b­a) (%)\n",
      "합   계 ( A + B ) 858,214 902,012 1,047,892 145,880 16.2\n",
      "◦ 일반건강검진 사업 773,479 826,364 960,817 134,453 16.3\n",
      "◦ 영유아건강검진 사업 82,387 73,450 85,237 11,787 16\n",
      "◦ 영유아 발달 정밀검사비 지원사업 836 786 595 △191 △24.3\n",
      "◦ 의료급여수급권자 건강검진 사업운영비 254 254 254 - -\n",
      "◦ 건강검진사업 운영 1,258 1,158 989 △169 △14.6\n",
      "국   고 ( A ) 9,586 9,466 8,978 △488 △5.2\n",
      "◦ 일반건강검진 사업\n",
      "(의료급여생애전환기검진 사업 포함) 6,621 6,621 6,621 - -\n",
      "◦ 영유아건강검진 사업 617 647 519 △128 △19.8\n",
      "◦ 영유아 발달 정밀검사비 지원사업 836 786 595 △191 △24.3\n",
      "◦ 의료급여수급권자 건강검진 사업운영비 254 254 254 - -\n",
      "◦ 건강검진사업 운영 1,258 1,158 989 △169 △14.6\n",
      "건강보험재정(B) 848,628 892,546 1,038,914 146,368 16.4\n",
      "◦ 일반건강검진 사업 766,858 819,743 954,196 134,453 16.4\n",
      "◦ 영유아건강검진 사업 81,770 72,803 84,718 11,915 16.4\n",
      "(단위：백만원)\n",
      "* 국고(A)：의료급여수급권자 검진 관련 비용(국비 기준)\n",
      "* 건강보험재정(B)：건강보험가입자 검진 관련 비용\n",
      "Chapter\n",
      "2025년  건강검진사업  주요  예산1­4\n"
     ]
    }
   ],
   "source": [
    "print(chunks[10].page_content)"
   ]
  },
  {
   "cell_type": "markdown",
   "id": "6a97ddf5",
   "metadata": {},
   "source": [
    "# 3. 임베딩 생성 chromadb 저장"
   ]
  },
  {
   "cell_type": "code",
   "execution_count": null,
   "id": "d4470fae",
   "metadata": {},
   "outputs": [
    {
     "name": "stdout",
     "output_type": "stream",
     "text": [
      "벡터 저장소 저장 완료\n"
     ]
    }
   ],
   "source": [
    "db_path = \"../07_vectorstore/chromadb_rag_helthcheck\"\n",
    "\n",
    "embedding = OpenAIEmbeddings(model=\"text-embedding-3-small\")\n",
    "\n",
    "vectorstore = Chroma.from_documents(\n",
    "    documents=chunks,\n",
    "    embedding=embedding,\n",
    "    persist_directory=db_path,\n",
    "    collection_name=\"samsung_2024\"\n",
    ")\n",
    "print(\"벡터 저장소 저장 완료\")"
   ]
  },
  {
   "cell_type": "markdown",
   "id": "923dff2d",
   "metadata": {},
   "source": [
    "# 4. 검색기 구성 (retriever)"
   ]
  },
  {
   "cell_type": "code",
   "execution_count": 8,
   "id": "6254ec54",
   "metadata": {},
   "outputs": [],
   "source": [
    "retriever = vectorstore.as_retriever()"
   ]
  },
  {
   "cell_type": "markdown",
   "id": "71525569",
   "metadata": {},
   "source": [
    "# 5. 기본 체인 만들기"
   ]
  },
  {
   "cell_type": "code",
   "execution_count": 28,
   "id": "1a509520",
   "metadata": {},
   "outputs": [],
   "source": [
    "# 1. 프롬프트\n",
    "rag_prompt = ChatPromptTemplate.from_messages([\n",
    "    (\"system\", \n",
    "     \"\"\"\n",
    "     주어진 컨텍스트만 근거로 간결하고 정확하게 대답해라\n",
    "     컨텍스트에 없으면 문서에 \"근거 없음\" 이라고 말해라\n",
    "     \n",
    "     [출처 작성 규칙]\n",
    "     - 대답에는 어떤 문서의 몇페이지를 근거하고 있는지 리스트로 작성하라\n",
    "     - 대답의 부분마다 어떤 문서의 몇페이지를 근거하고 있는지 괄호로 작성하라\n",
    "\n",
    "     [컨텍스트]\n",
    "     {context}\n",
    "     \"\"\"),\n",
    "    (\"user\", \"{question}\"),\n",
    "])\n",
    "\n",
    "# 2. 모델 선택\n",
    "model = ChatOpenAI(\n",
    "    temperature=0,\n",
    "    model = \"gpt-4.1-mini\",\n",
    "    verbose=True\n",
    ")\n",
    "\n",
    "# 3. output parser 선택\n",
    "outputparser = StrOutputParser()\n",
    "\n",
    "# 4. chain 생성\n",
    "chain = rag_prompt | model | outputparser\n"
   ]
  },
  {
   "cell_type": "markdown",
   "id": "eb6c4d0e",
   "metadata": {},
   "source": [
    "# 6. RAG 체인 만들기"
   ]
  },
  {
   "cell_type": "code",
   "execution_count": 29,
   "id": "4543c42e",
   "metadata": {},
   "outputs": [],
   "source": [
    "# 문서를 합치는 함수\n",
    "def format_docs(docs):\n",
    "    return \"\\n\\---\\n\\n\".join([f\"메타데이터: {doc.metadata}\\n 내용: \" + doc.page_content for doc in docs])"
   ]
  },
  {
   "cell_type": "code",
   "execution_count": 30,
   "id": "ba3076ad",
   "metadata": {},
   "outputs": [
    {
     "data": {
      "text/plain": [
       "{\n",
       "  context: VectorStoreRetriever(tags=['Chroma', 'OpenAIEmbeddings'], vectorstore=<langchain_community.vectorstores.chroma.Chroma object at 0x000001C38ABEADD0>, search_kwargs={})\n",
       "           | RunnableLambda(format_docs),\n",
       "  question: RunnablePassthrough()\n",
       "}\n",
       "| ChatPromptTemplate(input_variables=['context', 'question'], input_types={}, partial_variables={}, messages=[SystemMessagePromptTemplate(prompt=PromptTemplate(input_variables=['context'], input_types={}, partial_variables={}, template='\\n     주어진 컨텍스트만 근거로 간결하고 정확하게 대답해라\\n     컨텍스트에 없으면 문서에 \"근거 없음\" 이라고 말해라\\n     \\n     [출처 작성 규칙]\\n     - 대답에는 어떤 문서의 몇페이지를 근거하고 있는지 리스트로 작성하라\\n     - 대답의 부분마다 어떤 문서의 몇페이지를 근거하고 있는지 괄호로 작성하라\\n\\n     [컨텍스트]\\n     {context}\\n     '), additional_kwargs={}), HumanMessagePromptTemplate(prompt=PromptTemplate(input_variables=['question'], input_types={}, partial_variables={}, template='{question}'), additional_kwargs={})])\n",
       "| ChatOpenAI(client=<openai.resources.chat.completions.completions.Completions object at 0x000001C38C8E5A20>, async_client=<openai.resources.chat.completions.completions.AsyncCompletions object at 0x000001C38C8E79A0>, root_client=<openai.OpenAI object at 0x000001C38C8E7D90>, root_async_client=<openai.AsyncOpenAI object at 0x000001C38C8E7AC0>, model_name='gpt-4.1-mini', temperature=0.0, model_kwargs={}, openai_api_key=SecretStr('**********'))\n",
       "| StrOutputParser()"
      ]
     },
     "execution_count": 30,
     "metadata": {},
     "output_type": "execute_result"
    }
   ],
   "source": [
    "rag_chain = (\n",
    "    {\n",
    "        \"context\" : retriever | RunnableLambda(format_docs),\n",
    "        \"question\" : RunnablePassthrough()\n",
    "    }\n",
    "    | chain\n",
    ")\n",
    "rag_chain"
   ]
  },
  {
   "cell_type": "code",
   "execution_count": 27,
   "id": "e042c662",
   "metadata": {},
   "outputs": [
    {
     "name": "stdout",
     "output_type": "stream",
     "text": [
      "일반건강검진 항목은 다음과 같습니다:\n",
      "\n",
      "1. 건강검진 상담료 및 행정비용\n",
      "   - 문진, 진찰, 상담\n",
      "   - 키, 몸무게, 비만도, 허리둘레 측정\n",
      "   - 혈압측정\n",
      "   - 시력, 청력 측정\n",
      "   - 장애인 안전 및 편의관리\n",
      "\n",
      "2. 흉부방사선 촬영\n",
      "\n",
      "3. 요검사(요단백)\n",
      "\n",
      "4. 혈액검사\n",
      "   - 혈색소\n",
      "   - 공복혈당\n",
      "   - 총콜레스테롤\n",
      "   - 고밀도(HDL) 콜레스테롤\n",
      "   - 중성지방\n",
      "   - 저밀도(LDL) 콜레스테롤\n",
      "   - AST(SGOT)\n",
      "   - ALT(SGPT)\n",
      "   - 감마지티피(γ-GTP)\n",
      "   - 혈청 크레아티닌 검사\n",
      "   - 신사구체여과율(e-GFR)\n",
      "   - (단, 콜레스테롤 4종 검사는 남성 24세 이상, 여성 40세 이상에 대해 4년마다)\n",
      "\n",
      "5. 간염검사\n",
      "   - B형간염 표면항원 및 항체 (40세 대상)\n",
      "   - C형간염 항체 (56세 대상)\n",
      "\n",
      "6. 골밀도 검사 (54, 60, 66세 여성 대상)\n",
      "\n",
      "7. 인지기능장애 검사 (KDSQ-C 검사 및 상담, 66세 이상 2년마다)\n",
      "\n",
      "8. 생활습관평가 (40, 50, 60, 70세 대상)\n",
      "\n",
      "9. 정신건강검사\n",
      "   - PHQ-9(우울증) 검사 및 상담\n",
      "   - CAPE-15(조기정신증) 검사 및 상담\n",
      "   - 대상 연령 및 주기: 20~34세(2년마다), 35~39세(1회), 40~49세(1회), 50~59세(1회), 60~69세(1회), 70~79세(1회)\n",
      "\n",
      "10. 노인신체기능검사(낙상검사)\n",
      "    - 하지기능, 평형성 검사 (66, 70, 80세 대상)\n",
      "\n",
      "[출처: 2025년 건강검진사업안내.pdf, 14~18페이지]\n"
     ]
    }
   ],
   "source": [
    "result = rag_chain.invoke(\"일반 건강검진 항목에는 어떤것이 있나요?\")\n",
    "print(result)"
   ]
  },
  {
   "cell_type": "code",
   "execution_count": 31,
   "id": "a0377d95",
   "metadata": {},
   "outputs": [
    {
     "name": "stdout",
     "output_type": "stream",
     "text": [
      "1999년생은 2025년 기준 만 26세입니다.\n",
      "\n",
      "컨텍스트에 따르면, 일반건강검진 대상자의 검진항목 중 연령별로 시행되는 항목은 다음과 같습니다:\n",
      "\n",
      "- 콜레스테롤(4종) 검사: 남성 24세 이상, 여성 40세 이상에 4년마다 시행  \n",
      "- 정신건강검사(PHQ-9, CAPE-15): 20~34세는 2년마다 시행  \n",
      "- 생활습관평가: 40, 50, 60, 70세에 시행 (26세는 해당 없음)  \n",
      "- 간염검사: 40세, 56세에 시행 (26세는 해당 없음)  \n",
      "- 골밀도 검사: 54, 60, 66세 여성 대상 (26세는 해당 없음)  \n",
      "- 인지기능장애 검사: 66세 이상 2년마다 (26세는 해당 없음)  \n",
      "- 노인신체기능검사: 66, 70, 80세 대상 (26세는 해당 없음)  \n",
      "\n",
      "따라서 1999년생(만 26세)은 다음 건강검진을 받아야 합니다:\n",
      "\n",
      "1. 일반건강검진 기본 항목  \n",
      "   - 문진, 진찰, 상담  \n",
      "   - 키, 몸무게, 비만도, 허리둘레  \n",
      "   - 혈압측정  \n",
      "   - 시력, 청력 측정  \n",
      "   - 흉부방사선 촬영  \n",
      "   - 요검사(요단백)  \n",
      "   - 혈액검사 (혈색소, 공복혈당, AST, ALT, γ-GTP, 혈청 크레아티닌, e-GFR)  \n",
      "2. 콜레스테롤(4종) 검사 (남성 24세 이상 대상)  \n",
      "3. 정신건강검사 (PHQ-9, CAPE-15) - 20~34세 2년마다 시행 대상  \n",
      "\n",
      "기타 연령별 특화 검진 항목은 해당되지 않습니다.\n",
      "\n",
      "[출처: 2025년 건강검진 사업안내, 17페이지]\n"
     ]
    }
   ],
   "source": [
    "result = rag_chain.invoke(\"1999년생은 올해 받아야하는 건강검진들만 리스트로 정리해줘\")\n",
    "print(result)"
   ]
  }
 ],
 "metadata": {
  "kernelspec": {
   "display_name": "LLM-Study (3.10.18)",
   "language": "python",
   "name": "python3"
  },
  "language_info": {
   "codemirror_mode": {
    "name": "ipython",
    "version": 3
   },
   "file_extension": ".py",
   "mimetype": "text/x-python",
   "name": "python",
   "nbconvert_exporter": "python",
   "pygments_lexer": "ipython3",
   "version": "3.10.18"
  }
 },
 "nbformat": 4,
 "nbformat_minor": 5
}
