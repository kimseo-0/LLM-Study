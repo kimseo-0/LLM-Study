{
 "cells": [
  {
   "cell_type": "code",
   "execution_count": 1,
   "id": "ea6c7f10",
   "metadata": {},
   "outputs": [
    {
     "data": {
      "text/plain": [
       "True"
      ]
     },
     "execution_count": 1,
     "metadata": {},
     "output_type": "execute_result"
    }
   ],
   "source": [
    "from dotenv import load_dotenv\n",
    "load_dotenv()"
   ]
  },
  {
   "cell_type": "code",
   "execution_count": 2,
   "id": "15c04322",
   "metadata": {},
   "outputs": [],
   "source": [
    "from langchain_chroma import Chroma\n",
    "\n",
    "from langchain_openai import OpenAIEmbeddings, ChatOpenAI\n",
    "from langchain_core.runnables import RunnableLambda, RunnablePassthrough\n",
    "from langchain_core.prompts import ChatPromptTemplate\n",
    "from langchain_core.output_parsers import StrOutputParser"
   ]
  },
  {
   "cell_type": "code",
   "execution_count": 3,
   "id": "556896cc",
   "metadata": {},
   "outputs": [],
   "source": [
    "# 출력 예쁘게 하기\n",
    "from rich.console import Console\n",
    "from rich.table import Table\n",
    "\n",
    "console = Console()\n",
    "\n",
    "def rich_docs(docs, title=\"Retriever Results\", max_len=140):\n",
    "    table = Table(title=title)\n",
    "    table.add_column(\"#\", justify=\"right\")\n",
    "    table.add_column(\"Source\")\n",
    "    table.add_column(\"Page\", justify=\"right\")\n",
    "    table.add_column(\"Preview\")\n",
    "\n",
    "    for i, d in enumerate(docs, 1):\n",
    "        m = d.metadata or {}\n",
    "        src = (m.get(\"source\",\"\") or \"\").split(\"/\")[-1]\n",
    "        page = str(m.get(\"page_label\", m.get(\"page\",0)+1))\n",
    "        text = (d.page_content or \"\").strip().replace(\"\\n\", \" \")\n",
    "        content = (text[:max_len] + (\"…\" if len(text) > max_len else \"\"))\n",
    "        table.add_row(str(i), src, page, content)\n",
    "\n",
    "    console.print(table)"
   ]
  },
  {
   "cell_type": "markdown",
   "id": "fd4b0a3d",
   "metadata": {},
   "source": [
    "# 1. 검색기 "
   ]
  },
  {
   "cell_type": "markdown",
   "id": "ebb97656",
   "metadata": {},
   "source": [
    "## 1. 벡터 스토어 가져오기"
   ]
  },
  {
   "cell_type": "code",
   "execution_count": 4,
   "id": "f1069c3e",
   "metadata": {},
   "outputs": [],
   "source": [
    "# 벡터저장소가 이미 있는 상황\n",
    "\n",
    "embedding = OpenAIEmbeddings(\n",
    "    model=\"text-embedding-3-small\"\n",
    ")\n",
    "persist_dir = \"../vectorstore\\chromadb_advanced_store\"\n",
    "collection_name = \"samsung\"\n",
    "\n",
    "vectorsore = Chroma(\n",
    "    persist_directory=persist_dir,\n",
    "    collection_name=collection_name,\n",
    "    embedding_function=embedding\n",
    ")"
   ]
  },
  {
   "cell_type": "markdown",
   "id": "a39be026",
   "metadata": {},
   "source": [
    "## 2. retriever 만들기"
   ]
  },
  {
   "cell_type": "code",
   "execution_count": 6,
   "id": "8cf7cc9f",
   "metadata": {},
   "outputs": [
    {
     "data": {
      "text/html": [
       "<pre style=\"white-space:pre;overflow-x:auto;line-height:normal;font-family:Menlo,'DejaVu Sans Mono',consolas,'Courier New',monospace\"><span style=\"font-style: italic\">                                                     기업 비교                                                     </span>\n",
       "┏━━━━┳━━━━━━━━━━━━━━━━━━━━━━━━━━━━━━━━━━━━━━━━━━━━━━━━━━┳━━━━━━┳━━━━━━━━━━━━━━━━━━━━━━━━━━━━━━━━━━━━━━━━━━━━━━━━━━┓\n",
       "┃<span style=\"font-weight: bold\">  # </span>┃<span style=\"font-weight: bold\"> Source                                           </span>┃<span style=\"font-weight: bold\"> Page </span>┃<span style=\"font-weight: bold\"> Preview                                          </span>┃\n",
       "┡━━━━╇━━━━━━━━━━━━━━━━━━━━━━━━━━━━━━━━━━━━━━━━━━━━━━━━━━╇━━━━━━╇━━━━━━━━━━━━━━━━━━━━━━━━━━━━━━━━━━━━━━━━━━━━━━━━━━┩\n",
       "│  1 │ Samsung_Electronics_Sustainability_Report_2025_… │    5 │ 삼성전자 지속가능경영보고서 2025 05 Our Company  │\n",
       "│    │                                                  │      │ AppendixFacts &amp; Figures PrinciplePlanet People   │\n",
       "│    │                                                  │      │ 회사소개 About Us 삼성전자주식회사(이하          │\n",
       "│    │                                                  │      │ 삼성전자)는 인재와 기술을 기반으로 최고의 제품 … │\n",
       "│    │                                                  │      │ 서비스를…                                        │\n",
       "│  2 │ Samsung_Electronics_Sustainability_Report_2025_… │    3 │ 삼성전자 지속가능경영보고서 2025 03 Our Company  │\n",
       "│    │                                                  │      │ AppendixFacts &amp; Figures PrinciplePlanet People   │\n",
       "│    │                                                  │      │ Our Company CEO 메시지 회사소개 기업 지배구조    │\n",
       "│    │                                                  │      │ 중대성 평가 이해관계자 소통 04 05 06 …           │\n",
       "│  3 │ Samsung_Electronics_Sustainability_Report_2025_… │    4 │ 삼성전자 지속가능경영보고서 2025 04 Our Company  │\n",
       "│    │                                                  │      │ AppendixFacts &amp; Figures PrinciplePlanet People   │\n",
       "│    │                                                  │      │ 주주, 고객, 협력회사, 그리고 임직원 여러분,      │\n",
       "│    │                                                  │      │ 2024년은 글로벌 지정학적 리스크와 AI 기술의 성 … │\n",
       "│    │                                                  │      │ …                                                │\n",
       "│  4 │ Samsung_Electronics_Sustainability_Report_2025_… │   46 │ 정기적으로 모니터링하고 시스템으로 관리합니다.   │\n",
       "│    │                                                  │      │ 하위 공급망 관리 지속적으로 증가하는 공급망      │\n",
       "│    │                                                  │      │ 변동성과 불 확실성에 대응하기 위하여 삼성전자는  │\n",
       "│    │                                                  │      │ 1 차 협력회사뿐 아니라 주요  품목을 공급하는     │\n",
       "│    │                                                  │      │ 하위 협력회사에 대한 정보 관리를 점진적으로      │\n",
       "│    │                                                  │      │ 확대하고 있습니다.…                              │\n",
       "│  5 │ Samsung_Electronics_Sustainability_Report_2025_… │   50 │ 삼성전자 지속가능경영보고서 2025 50 안전보건     │\n",
       "│    │                                                  │      │ 삼성전자는 DX부문의 Global EHS실장, DS부문의     │\n",
       "│    │                                                  │      │ 글로벌 제조&amp;인프라  총괄장인 CSO(Chief Safety    │\n",
       "│    │                                                  │      │ Officer)를 중심으로 2030년까지 상주  협력회사    │\n",
       "│    │                                                  │      │ 안전보건 역량과 관리체계 …                       │\n",
       "│  6 │ Samsung_Electronics_Sustainability_Report_2025_… │   54 │ 삼성전자 지속가능경영보고서 2025 54 Bespoke AI   │\n",
       "│    │                                                  │      │ 로봇청소기 보안 인증 획득 2024년에는 Bespoke AI  │\n",
       "│    │                                                  │      │ 스팀 로봇청소기가 KISA 개인정보보호중심설계      │\n",
       "│    │                                                  │      │ (PbD, Privacy by Design) 인증과 KISA IoT 보안    │\n",
       "│    │                                                  │      │ 인증 중 …                                        │\n",
       "│  7 │ Samsung_Electronics_Sustainability_Report_2025_… │   45 │ 협력회사를 지원하고 교육합니다.  협력회사의      │\n",
       "│    │                                                  │      │ 지속가능경영 관리 수준 향상을 위한 실사와 개     │\n",
       "│    │                                                  │      │ 선조치 이행, 정보공개 등의 성과는 해 당 부서의   │\n",
       "│    │                                                  │      │ 경영진과 실무자들의 KPI로 반영되며 목표 달성은   │\n",
       "│    │                                                  │      │ 급여, 인센티브 등 보상과 연계됩니다. 추진 방향   │\n",
       "│    │                                                  │      │ 삼성전자…                                        │\n",
       "│  8 │ Samsung_Electronics_Sustainability_Report_2025_… │   45 │ 삼성전자 지속가능경영보고서 2025 45 협력회사     │\n",
       "│    │                                                  │      │ 행동규범 삼성전자는 제품과 서비스를 제공하는     │\n",
       "│    │                                                  │      │ 모든 협력회사에 노동인권, 환경, 안전보건, 윤리   │\n",
       "│    │                                                  │      │ 분야를 포함하는 현지 법규와    RBA(Responsible   │\n",
       "│    │                                                  │      │ Business Alliance) 1)  행…                       │\n",
       "│  9 │ Samsung_Electronics_Sustainability_Report_2025_… │   61 │ 삼성전자 지속가능경영보고서 2025 61 Facts &amp;      │\n",
       "│    │                                                  │      │ Figures  경제성과 사회성과 환경성과   사업부문 … │\n",
       "│    │                                                  │      │ 환경성과  62 63 68 72 Our Company AppendixFacts  │\n",
       "│    │                                                  │      │ &amp; Figures PrinciplePlanet People                 │\n",
       "│ 10 │ Samsung_Electronics_Sustainability_Report_2025_… │    4 │ 재활용 소재를 적용하는 성과를 이뤘습니다.        │\n",
       "│    │                                                  │      │ DS(Device Solutions)부문은 2050년 탄소중립       │\n",
       "│    │                                                  │      │ 달성을 목표로  공정가스 통합 처리시설(RCS,       │\n",
       "│    │                                                  │      │ Regenerative Catalytic System) 에 투자를         │\n",
       "│    │                                                  │      │ 지속하고 있습니다. DS부문의 …                    │\n",
       "│ 11 │ Samsung_Electronics_Sustainability_Report_2025_… │   40 │ 스타일에 맞춰 혜택을 받을 수 있는 선택적         │\n",
       "│    │                                                  │      │ 복리후생 제도를 운영합니다. ‧ 이사회 산하        │\n",
       "│    │                                                  │      │ 노사관계 자문그룹 설치 ‧ 노동조합 공동교섭단과   │\n",
       "│    │                                                  │      │ 교섭, 첫 단체 협약 체결(한국) ‧ 임금, 휴일 등을  │\n",
       "│    │                                                  │      │ 포괄하는 임금협약 체결(한국) ‧  임금·단체협약    │\n",
       "│    │                                                  │      │ 관련 잠정…                                       │\n",
       "│ 12 │ Samsung_Electronics_Sustainability_Report_2025_… │    4 │ 사회공헌 분야에서는 2024년 '삼성                 │\n",
       "│    │                                                  │      │ 청년SW·AI아카데미'에 375억 원을  지원해 2,200    │\n",
       "│    │                                                  │      │ 명의 청년 소 프트웨어 인재를 양성했으며,         │\n",
       "│    │                                                  │      │ 2025년에는  마이스터고 졸업생에게까지 교육기회 … │\n",
       "│    │                                                  │      │ 확대할 예정입니다.  또한 자립 준비 청년들의 주   │\n",
       "│    │                                                  │      │ 거안정과 …                                       │\n",
       "│ 13 │ Samsung_Electronics_Sustainability_Report_2025_… │   50 │ 반영하여 구직자 채 용을 지원하고, 삼성 협력회사  │\n",
       "│    │                                                  │      │ 채 용박람회를  개최합니다. 또한 온라인           │\n",
       "│    │                                                  │      │ 채용사이트와 연계해 삼성전자 협력회사 전용       │\n",
       "│    │                                                  │      │ 온라인 채용관을 운영합니다. 컨설팅센터           │\n",
       "│    │                                                  │      │ 컨설팅센터는 제조, 품질, 개발, 구매 등 분야별    │\n",
       "│    │                                                  │      │ 전문인력으로  구성되어 …                         │\n",
       "│ 14 │ Samsung_Electronics_Sustainability_Report_2025_… │   43 │ 삼성전자 지속가능경영보고서 2025 43 추진 체계    │\n",
       "│    │                                                  │      │ 삼성전자는 부문별 최고안전보건책임자(CSO, Chief  │\n",
       "│    │                                                  │      │ Safety Officer) 를 두고 DX부문은 Global E        │\n",
       "│    │                                                  │      │ HS실장, DS부문은 글로벌 제조 &amp;인프라  총괄장이   │\n",
       "│    │                                                  │      │ CSO로서 안전보건 관련 …                          │\n",
       "│ 15 │ Samsung_Electronics_Sustainability_Report_2025_… │   54 │ 필수적으로 관리해야할 대상으로 인식합니다.       │\n",
       "│    │                                                  │      │ 삼성전자 반도체의 주요  기술은 산업기술보호법 1… │\n",
       "│    │                                                  │      │ 과 첨단전략산업법 2) 에 따라 보호되며, 매년 정 … │\n",
       "│    │                                                  │      │ 감사로 보안 시스템의 유효성을 점검하여           │\n",
       "│    │                                                  │      │ 보안사고를 예방합니다. 또한  국가핵심기술 보안   │\n",
       "│    │                                                  │      │ 관리 지침을 …                                    │\n",
       "│ 16 │ Samsung_Electronics_Sustainability_Report_2025_… │   54 │ 보호하여 온디바이스(On-Device)에 안전하게        │\n",
       "│    │                                                  │      │ 저장됩니다. 2025년부터 녹스 볼트가 모바일        │\n",
       "│    │                                                  │      │ 제품군뿐만 아니라 Bespoke AI 패밀리허브 냉장고,… │\n",
       "│    │                                                  │      │ Bespoke AI 콤보 등의 스크린 탑재 스마트          │\n",
       "│    │                                                  │      │ 가전제품에도 적용되어 사용 자가 쉽고 안전하게…   │\n",
       "│ 17 │ Samsung_Electronics_Sustainability_Report_2025_… │   76 │ 삼성전자 지속가능경영보고서 2025 76 독립된       │\n",
       "│    │                                                  │      │ 인증인의 인증보고서 Our Company AppendixFacts &amp;  │\n",
       "│    │                                                  │      │ Figures PrinciplePlanet People                   │\n",
       "│ 18 │ Samsung_Electronics_Sustainability_Report_2025_… │   42 │ 여성비중 임원 4.2 6.5 7.4 간부 12.4 14.7 18.2    │\n",
       "│    │                                                  │      │ 직무별  여성비중 영업·마케팅 30.5 31.2 35.2 개 … │\n",
       "│    │                                                  │      │ 16.7 17.5 19.7 여성 인력 비중 차세대 여성 리더   │\n",
       "│    │                                                  │      │ 워크숍  SEU 교육체계도  DS University 교육체…    │\n",
       "│ 19 │ Samsung_Electronics_Sustainability_Report_2025_… │   86 │ 비록 삼성전자주식회사는 지속가능경영보고서의     │\n",
       "│    │                                                  │      │ 미래 예측 진술이 시의성 있고 합리적인 정보, 가 … │\n",
       "│    │                                                  │      │ 및 믿음에 기반한다고 판단하지만, 이러한 미래     │\n",
       "│    │                                                  │      │ 예측 진술(그리고 이를 이루는 정보, 가정 및       │\n",
       "│    │                                                  │      │ 믿음)은  다양한 요인, 리스크, 불확실성의         │\n",
       "│    │                                                  │      │ 영향권에 있으므로…                               │\n",
       "│ 20 │ Samsung_Electronics_Sustainability_Report_2025_… │   34 │ 삼성전자 지속가능경영보고서 2025 34 임직원       │\n",
       "│    │                                                  │      │ 공급망 사회공헌 개인정보보호와 보안 제품 품질과  │\n",
       "│    │                                                  │      │ 안전 35 45 51 53 55 People 사회적 책임을 다하며  │\n",
       "│    │                                                  │      │ 미래로 함께 나아갑니다. Our Company              │\n",
       "│    │                                                  │      │ AppendixFacts &amp; Figures…                         │\n",
       "│ 21 │ Samsung_Electronics_Sustainability_Report_2025_… │   48 │ 삼성전자 지속가능경영보고서 2025 48 협력회사     │\n",
       "│    │                                                  │      │ 실사 삼성전자는 협력회사의 인권과 환경 관련      │\n",
       "│    │                                                  │      │ 잠재적·실제적 리스크 관리를  위해 자가평가,      │\n",
       "│    │                                                  │      │ 현장점검, 제3자 검증으로 구성된 통합 실사        │\n",
       "│    │                                                  │      │ 프로세스를  운영합니다. 해당 실사 결과를 토대로  │\n",
       "│    │                                                  │      │ 개선 가능한 조…                                  │\n",
       "│ 22 │ Samsung_Electronics_Sustainability_Report_2025_… │   86 │ 삼성전자 지속가능경영보고서 2025 86              │\n",
       "│    │                                                  │      │ 삼성전자주식회사는 경제·사회·환경적 가치 창출    │\n",
       "│    │                                                  │      │ 성과를 다양한 이해관계자와 투명하게 소통하기     │\n",
       "│    │                                                  │      │ 위해 2025년 열여덟 번째 지속가능경영보고서를     │\n",
       "│    │                                                  │      │ 발간합니다. 작성 기준 본 보고서는 지속가능경영   │\n",
       "│    │                                                  │      │ 보고 기준인 GRI(G…                               │\n",
       "│ 23 │ Samsung_Electronics_Sustainability_Report_2025_… │   39 │ 대표 기구와 단체교섭, 정기회의 등을 통해         │\n",
       "│    │                                                  │      │ 소통하며 임직원의 의견을  수렴합니다. 노동조합   │\n",
       "│    │                                                  │      │ 전 세 계 사업장에는 직원을 대표하는 33개의       │\n",
       "│    │                                                  │      │ 노동조합이  있습니다. 삼성전자는 해당 국가의     │\n",
       "│    │                                                  │      │ 법률에 따라 노동조합과 고용조건을  협상하고      │\n",
       "│    │                                                  │      │ 단체협약을 체결합니다…                           │\n",
       "│ 24 │ Samsung_Electronics_Sustainability_Report_2025_… │   53 │ 삼성전자 지속가능경영보고서 2025 53 추진 방향    │\n",
       "│    │                                                  │      │ 삼성전자는 개인정보를 최소한의 범위 내에서       │\n",
       "│    │                                                  │      │ 투명하게 수집하고, 안전하게 처리하며, 사용자의   │\n",
       "│    │                                                  │      │ 선택을 최우선으로 존중합니다. 또한 한발 앞서     │\n",
       "│    │                                                  │      │ 잠재적인  위험 요소를 사전에 식별하고 이에 맞는  │\n",
       "│    │                                                  │      │ 첨단 보안 …                                      │\n",
       "│ 25 │ Samsung_Electronics_Sustainability_Report_2025_… │   30 │ 삼성전자 화성사업장은 2023년 3월 국내 최초로 AW… │\n",
       "│    │                                                  │      │ 인증 최고 등급인   '플래티넘' 등급을 획득        │\n",
       "│    │                                                  │      │ 하였습니다. 2024년 1월 기 흥∙화성(통합), 평 택   │\n",
       "│    │                                                  │      │ 사업장, 2월 중국 시안사업장, 2024년 11월         │\n",
       "│    │                                                  │      │ 천안·온양사업장(통합)이 추가로  '플…             │\n",
       "│ 26 │ Samsung_Electronics_Sustainability_Report_2025_… │    9 │ 대한 기여 · 투명하고 신속한 정보 공개 · 기업     │\n",
       "│    │                                                  │      │ 간담회 · NGO 미팅 · 이해관계자 포럼 · 시민사회 … │\n",
       "│    │                                                  │      │ 경영진 간담회 · 노동인권 이해관계자 워크숍 ·     │\n",
       "│    │                                                  │      │ 지속가능경영 웹사이트 · 산업협회 · 글로벌 NGO    │\n",
       "│    │                                                  │      │ 대상 의견 수렴  · RBA 1) , RM…                   │\n",
       "│ 27 │ Samsung_Electronics_Sustainability_Report_2025_… │   84 │ 삼성전자 지속가능경영보고서 2025 84 코드 공시    │\n",
       "│    │                                                  │      │ 항목 참고 페이지 및 답변 제품 안전 TC-HW-230a.1  │\n",
       "│    │                                                  │      │ 제품의 정보보안 관련 리스크를 발견하고 이를      │\n",
       "│    │                                                  │      │ 개선하는 방법 설명 삼성전자는 개인정보보호팀장,  │\n",
       "│    │                                                  │      │ 정보보호센터장이 개인정보보호 운영위원회와 보안… │\n",
       "│ 28 │ Samsung_Electronics_Sustainability_Report_2025_… │   47 │ 개편하여 운영할 계획입니다. 핫라인 및 사이버     │\n",
       "│    │                                                  │      │ 신문고 2024년 운영 성과 총 57건 접수·개선완료    │\n",
       "│    │                                                  │      │ 핫라인 190건 접수·개선완료 사이버 신문고         │\n",
       "│    │                                                  │      │ 상생협력포털 제보 2024년 운영 성과 총 719건 접 … │\n",
       "│    │                                                  │      │ 접수 708건 처리완료 개선 근로자 소통 삼성전자…   │\n",
       "│ 29 │ Samsung_Electronics_Sustainability_Report_2025_… │   67 │ 삼성전자 지속가능경영보고서 2025 67 책임광물     │\n",
       "│    │                                                  │      │ 관리 투명성 확보 2022년 2023년 2024년 협력회사   │\n",
       "│    │                                                  │      │ 현장점검 1) 개사 438  315  202  1) 협력회사      │\n",
       "│    │                                                  │      │ 현장점검: 분쟁광물 대상 협력회사 제3자 검증      │\n",
       "│    │                                                  │      │ 2022년 2023년 2024년 …                           │\n",
       "│ 30 │ Samsung_Electronics_Sustainability_Report_2025_… │   55 │ · 샘플 분석과 핵심 모듈 협력회사의 현장검증을    │\n",
       "│    │                                                  │      │ 강화 · 신제품의 품질 확보를 위한 품질보증체계    │\n",
       "│    │                                                  │      │ 보강 선행단계 상품화 단계 양산단계   고객 중심 … │\n",
       "│    │                                                  │      │ 고객의 잠재적 요구사항까지 소중히 여기고 이를    │\n",
       "│    │                                                  │      │ 제품에  적극 반영함으로써 고객가치를 높여        │\n",
       "│    │                                                  │      │ 나간다. …                                        │\n",
       "└────┴──────────────────────────────────────────────────┴──────┴──────────────────────────────────────────────────┘\n",
       "</pre>\n"
      ],
      "text/plain": [
       "\u001b[3m                                                     기업 비교                                                     \u001b[0m\n",
       "┏━━━━┳━━━━━━━━━━━━━━━━━━━━━━━━━━━━━━━━━━━━━━━━━━━━━━━━━━┳━━━━━━┳━━━━━━━━━━━━━━━━━━━━━━━━━━━━━━━━━━━━━━━━━━━━━━━━━━┓\n",
       "┃\u001b[1m \u001b[0m\u001b[1m #\u001b[0m\u001b[1m \u001b[0m┃\u001b[1m \u001b[0m\u001b[1mSource                                          \u001b[0m\u001b[1m \u001b[0m┃\u001b[1m \u001b[0m\u001b[1mPage\u001b[0m\u001b[1m \u001b[0m┃\u001b[1m \u001b[0m\u001b[1mPreview                                         \u001b[0m\u001b[1m \u001b[0m┃\n",
       "┡━━━━╇━━━━━━━━━━━━━━━━━━━━━━━━━━━━━━━━━━━━━━━━━━━━━━━━━━╇━━━━━━╇━━━━━━━━━━━━━━━━━━━━━━━━━━━━━━━━━━━━━━━━━━━━━━━━━━┩\n",
       "│  1 │ Samsung_Electronics_Sustainability_Report_2025_… │    5 │ 삼성전자 지속가능경영보고서 2025 05 Our Company  │\n",
       "│    │                                                  │      │ AppendixFacts & Figures PrinciplePlanet People   │\n",
       "│    │                                                  │      │ 회사소개 About Us 삼성전자주식회사(이하          │\n",
       "│    │                                                  │      │ 삼성전자)는 인재와 기술을 기반으로 최고의 제품 … │\n",
       "│    │                                                  │      │ 서비스를…                                        │\n",
       "│  2 │ Samsung_Electronics_Sustainability_Report_2025_… │    3 │ 삼성전자 지속가능경영보고서 2025 03 Our Company  │\n",
       "│    │                                                  │      │ AppendixFacts & Figures PrinciplePlanet People   │\n",
       "│    │                                                  │      │ Our Company CEO 메시지 회사소개 기업 지배구조    │\n",
       "│    │                                                  │      │ 중대성 평가 이해관계자 소통 04 05 06 …           │\n",
       "│  3 │ Samsung_Electronics_Sustainability_Report_2025_… │    4 │ 삼성전자 지속가능경영보고서 2025 04 Our Company  │\n",
       "│    │                                                  │      │ AppendixFacts & Figures PrinciplePlanet People   │\n",
       "│    │                                                  │      │ 주주, 고객, 협력회사, 그리고 임직원 여러분,      │\n",
       "│    │                                                  │      │ 2024년은 글로벌 지정학적 리스크와 AI 기술의 성 … │\n",
       "│    │                                                  │      │ …                                                │\n",
       "│  4 │ Samsung_Electronics_Sustainability_Report_2025_… │   46 │ 정기적으로 모니터링하고 시스템으로 관리합니다.   │\n",
       "│    │                                                  │      │ 하위 공급망 관리 지속적으로 증가하는 공급망      │\n",
       "│    │                                                  │      │ 변동성과 불 확실성에 대응하기 위하여 삼성전자는  │\n",
       "│    │                                                  │      │ 1 차 협력회사뿐 아니라 주요  품목을 공급하는     │\n",
       "│    │                                                  │      │ 하위 협력회사에 대한 정보 관리를 점진적으로      │\n",
       "│    │                                                  │      │ 확대하고 있습니다.…                              │\n",
       "│  5 │ Samsung_Electronics_Sustainability_Report_2025_… │   50 │ 삼성전자 지속가능경영보고서 2025 50 안전보건     │\n",
       "│    │                                                  │      │ 삼성전자는 DX부문의 Global EHS실장, DS부문의     │\n",
       "│    │                                                  │      │ 글로벌 제조&인프라  총괄장인 CSO(Chief Safety    │\n",
       "│    │                                                  │      │ Officer)를 중심으로 2030년까지 상주  협력회사    │\n",
       "│    │                                                  │      │ 안전보건 역량과 관리체계 …                       │\n",
       "│  6 │ Samsung_Electronics_Sustainability_Report_2025_… │   54 │ 삼성전자 지속가능경영보고서 2025 54 Bespoke AI   │\n",
       "│    │                                                  │      │ 로봇청소기 보안 인증 획득 2024년에는 Bespoke AI  │\n",
       "│    │                                                  │      │ 스팀 로봇청소기가 KISA 개인정보보호중심설계      │\n",
       "│    │                                                  │      │ (PbD, Privacy by Design) 인증과 KISA IoT 보안    │\n",
       "│    │                                                  │      │ 인증 중 …                                        │\n",
       "│  7 │ Samsung_Electronics_Sustainability_Report_2025_… │   45 │ 협력회사를 지원하고 교육합니다.  협력회사의      │\n",
       "│    │                                                  │      │ 지속가능경영 관리 수준 향상을 위한 실사와 개     │\n",
       "│    │                                                  │      │ 선조치 이행, 정보공개 등의 성과는 해 당 부서의   │\n",
       "│    │                                                  │      │ 경영진과 실무자들의 KPI로 반영되며 목표 달성은   │\n",
       "│    │                                                  │      │ 급여, 인센티브 등 보상과 연계됩니다. 추진 방향   │\n",
       "│    │                                                  │      │ 삼성전자…                                        │\n",
       "│  8 │ Samsung_Electronics_Sustainability_Report_2025_… │   45 │ 삼성전자 지속가능경영보고서 2025 45 협력회사     │\n",
       "│    │                                                  │      │ 행동규범 삼성전자는 제품과 서비스를 제공하는     │\n",
       "│    │                                                  │      │ 모든 협력회사에 노동인권, 환경, 안전보건, 윤리   │\n",
       "│    │                                                  │      │ 분야를 포함하는 현지 법규와    RBA(Responsible   │\n",
       "│    │                                                  │      │ Business Alliance) 1)  행…                       │\n",
       "│  9 │ Samsung_Electronics_Sustainability_Report_2025_… │   61 │ 삼성전자 지속가능경영보고서 2025 61 Facts &      │\n",
       "│    │                                                  │      │ Figures  경제성과 사회성과 환경성과   사업부문 … │\n",
       "│    │                                                  │      │ 환경성과  62 63 68 72 Our Company AppendixFacts  │\n",
       "│    │                                                  │      │ & Figures PrinciplePlanet People                 │\n",
       "│ 10 │ Samsung_Electronics_Sustainability_Report_2025_… │    4 │ 재활용 소재를 적용하는 성과를 이뤘습니다.        │\n",
       "│    │                                                  │      │ DS(Device Solutions)부문은 2050년 탄소중립       │\n",
       "│    │                                                  │      │ 달성을 목표로  공정가스 통합 처리시설(RCS,       │\n",
       "│    │                                                  │      │ Regenerative Catalytic System) 에 투자를         │\n",
       "│    │                                                  │      │ 지속하고 있습니다. DS부문의 …                    │\n",
       "│ 11 │ Samsung_Electronics_Sustainability_Report_2025_… │   40 │ 스타일에 맞춰 혜택을 받을 수 있는 선택적         │\n",
       "│    │                                                  │      │ 복리후생 제도를 운영합니다. ‧ 이사회 산하        │\n",
       "│    │                                                  │      │ 노사관계 자문그룹 설치 ‧ 노동조합 공동교섭단과   │\n",
       "│    │                                                  │      │ 교섭, 첫 단체 협약 체결(한국) ‧ 임금, 휴일 등을  │\n",
       "│    │                                                  │      │ 포괄하는 임금협약 체결(한국) ‧  임금·단체협약    │\n",
       "│    │                                                  │      │ 관련 잠정…                                       │\n",
       "│ 12 │ Samsung_Electronics_Sustainability_Report_2025_… │    4 │ 사회공헌 분야에서는 2024년 '삼성                 │\n",
       "│    │                                                  │      │ 청년SW·AI아카데미'에 375억 원을  지원해 2,200    │\n",
       "│    │                                                  │      │ 명의 청년 소 프트웨어 인재를 양성했으며,         │\n",
       "│    │                                                  │      │ 2025년에는  마이스터고 졸업생에게까지 교육기회 … │\n",
       "│    │                                                  │      │ 확대할 예정입니다.  또한 자립 준비 청년들의 주   │\n",
       "│    │                                                  │      │ 거안정과 …                                       │\n",
       "│ 13 │ Samsung_Electronics_Sustainability_Report_2025_… │   50 │ 반영하여 구직자 채 용을 지원하고, 삼성 협력회사  │\n",
       "│    │                                                  │      │ 채 용박람회를  개최합니다. 또한 온라인           │\n",
       "│    │                                                  │      │ 채용사이트와 연계해 삼성전자 협력회사 전용       │\n",
       "│    │                                                  │      │ 온라인 채용관을 운영합니다. 컨설팅센터           │\n",
       "│    │                                                  │      │ 컨설팅센터는 제조, 품질, 개발, 구매 등 분야별    │\n",
       "│    │                                                  │      │ 전문인력으로  구성되어 …                         │\n",
       "│ 14 │ Samsung_Electronics_Sustainability_Report_2025_… │   43 │ 삼성전자 지속가능경영보고서 2025 43 추진 체계    │\n",
       "│    │                                                  │      │ 삼성전자는 부문별 최고안전보건책임자(CSO, Chief  │\n",
       "│    │                                                  │      │ Safety Officer) 를 두고 DX부문은 Global E        │\n",
       "│    │                                                  │      │ HS실장, DS부문은 글로벌 제조 &인프라  총괄장이   │\n",
       "│    │                                                  │      │ CSO로서 안전보건 관련 …                          │\n",
       "│ 15 │ Samsung_Electronics_Sustainability_Report_2025_… │   54 │ 필수적으로 관리해야할 대상으로 인식합니다.       │\n",
       "│    │                                                  │      │ 삼성전자 반도체의 주요  기술은 산업기술보호법 1… │\n",
       "│    │                                                  │      │ 과 첨단전략산업법 2) 에 따라 보호되며, 매년 정 … │\n",
       "│    │                                                  │      │ 감사로 보안 시스템의 유효성을 점검하여           │\n",
       "│    │                                                  │      │ 보안사고를 예방합니다. 또한  국가핵심기술 보안   │\n",
       "│    │                                                  │      │ 관리 지침을 …                                    │\n",
       "│ 16 │ Samsung_Electronics_Sustainability_Report_2025_… │   54 │ 보호하여 온디바이스(On-Device)에 안전하게        │\n",
       "│    │                                                  │      │ 저장됩니다. 2025년부터 녹스 볼트가 모바일        │\n",
       "│    │                                                  │      │ 제품군뿐만 아니라 Bespoke AI 패밀리허브 냉장고,… │\n",
       "│    │                                                  │      │ Bespoke AI 콤보 등의 스크린 탑재 스마트          │\n",
       "│    │                                                  │      │ 가전제품에도 적용되어 사용 자가 쉽고 안전하게…   │\n",
       "│ 17 │ Samsung_Electronics_Sustainability_Report_2025_… │   76 │ 삼성전자 지속가능경영보고서 2025 76 독립된       │\n",
       "│    │                                                  │      │ 인증인의 인증보고서 Our Company AppendixFacts &  │\n",
       "│    │                                                  │      │ Figures PrinciplePlanet People                   │\n",
       "│ 18 │ Samsung_Electronics_Sustainability_Report_2025_… │   42 │ 여성비중 임원 4.2 6.5 7.4 간부 12.4 14.7 18.2    │\n",
       "│    │                                                  │      │ 직무별  여성비중 영업·마케팅 30.5 31.2 35.2 개 … │\n",
       "│    │                                                  │      │ 16.7 17.5 19.7 여성 인력 비중 차세대 여성 리더   │\n",
       "│    │                                                  │      │ 워크숍  SEU 교육체계도  DS University 교육체…    │\n",
       "│ 19 │ Samsung_Electronics_Sustainability_Report_2025_… │   86 │ 비록 삼성전자주식회사는 지속가능경영보고서의     │\n",
       "│    │                                                  │      │ 미래 예측 진술이 시의성 있고 합리적인 정보, 가 … │\n",
       "│    │                                                  │      │ 및 믿음에 기반한다고 판단하지만, 이러한 미래     │\n",
       "│    │                                                  │      │ 예측 진술(그리고 이를 이루는 정보, 가정 및       │\n",
       "│    │                                                  │      │ 믿음)은  다양한 요인, 리스크, 불확실성의         │\n",
       "│    │                                                  │      │ 영향권에 있으므로…                               │\n",
       "│ 20 │ Samsung_Electronics_Sustainability_Report_2025_… │   34 │ 삼성전자 지속가능경영보고서 2025 34 임직원       │\n",
       "│    │                                                  │      │ 공급망 사회공헌 개인정보보호와 보안 제품 품질과  │\n",
       "│    │                                                  │      │ 안전 35 45 51 53 55 People 사회적 책임을 다하며  │\n",
       "│    │                                                  │      │ 미래로 함께 나아갑니다. Our Company              │\n",
       "│    │                                                  │      │ AppendixFacts & Figures…                         │\n",
       "│ 21 │ Samsung_Electronics_Sustainability_Report_2025_… │   48 │ 삼성전자 지속가능경영보고서 2025 48 협력회사     │\n",
       "│    │                                                  │      │ 실사 삼성전자는 협력회사의 인권과 환경 관련      │\n",
       "│    │                                                  │      │ 잠재적·실제적 리스크 관리를  위해 자가평가,      │\n",
       "│    │                                                  │      │ 현장점검, 제3자 검증으로 구성된 통합 실사        │\n",
       "│    │                                                  │      │ 프로세스를  운영합니다. 해당 실사 결과를 토대로  │\n",
       "│    │                                                  │      │ 개선 가능한 조…                                  │\n",
       "│ 22 │ Samsung_Electronics_Sustainability_Report_2025_… │   86 │ 삼성전자 지속가능경영보고서 2025 86              │\n",
       "│    │                                                  │      │ 삼성전자주식회사는 경제·사회·환경적 가치 창출    │\n",
       "│    │                                                  │      │ 성과를 다양한 이해관계자와 투명하게 소통하기     │\n",
       "│    │                                                  │      │ 위해 2025년 열여덟 번째 지속가능경영보고서를     │\n",
       "│    │                                                  │      │ 발간합니다. 작성 기준 본 보고서는 지속가능경영   │\n",
       "│    │                                                  │      │ 보고 기준인 GRI(G…                               │\n",
       "│ 23 │ Samsung_Electronics_Sustainability_Report_2025_… │   39 │ 대표 기구와 단체교섭, 정기회의 등을 통해         │\n",
       "│    │                                                  │      │ 소통하며 임직원의 의견을  수렴합니다. 노동조합   │\n",
       "│    │                                                  │      │ 전 세 계 사업장에는 직원을 대표하는 33개의       │\n",
       "│    │                                                  │      │ 노동조합이  있습니다. 삼성전자는 해당 국가의     │\n",
       "│    │                                                  │      │ 법률에 따라 노동조합과 고용조건을  협상하고      │\n",
       "│    │                                                  │      │ 단체협약을 체결합니다…                           │\n",
       "│ 24 │ Samsung_Electronics_Sustainability_Report_2025_… │   53 │ 삼성전자 지속가능경영보고서 2025 53 추진 방향    │\n",
       "│    │                                                  │      │ 삼성전자는 개인정보를 최소한의 범위 내에서       │\n",
       "│    │                                                  │      │ 투명하게 수집하고, 안전하게 처리하며, 사용자의   │\n",
       "│    │                                                  │      │ 선택을 최우선으로 존중합니다. 또한 한발 앞서     │\n",
       "│    │                                                  │      │ 잠재적인  위험 요소를 사전에 식별하고 이에 맞는  │\n",
       "│    │                                                  │      │ 첨단 보안 …                                      │\n",
       "│ 25 │ Samsung_Electronics_Sustainability_Report_2025_… │   30 │ 삼성전자 화성사업장은 2023년 3월 국내 최초로 AW… │\n",
       "│    │                                                  │      │ 인증 최고 등급인   '플래티넘' 등급을 획득        │\n",
       "│    │                                                  │      │ 하였습니다. 2024년 1월 기 흥∙화성(통합), 평 택   │\n",
       "│    │                                                  │      │ 사업장, 2월 중국 시안사업장, 2024년 11월         │\n",
       "│    │                                                  │      │ 천안·온양사업장(통합)이 추가로  '플…             │\n",
       "│ 26 │ Samsung_Electronics_Sustainability_Report_2025_… │    9 │ 대한 기여 · 투명하고 신속한 정보 공개 · 기업     │\n",
       "│    │                                                  │      │ 간담회 · NGO 미팅 · 이해관계자 포럼 · 시민사회 … │\n",
       "│    │                                                  │      │ 경영진 간담회 · 노동인권 이해관계자 워크숍 ·     │\n",
       "│    │                                                  │      │ 지속가능경영 웹사이트 · 산업협회 · 글로벌 NGO    │\n",
       "│    │                                                  │      │ 대상 의견 수렴  · RBA 1) , RM…                   │\n",
       "│ 27 │ Samsung_Electronics_Sustainability_Report_2025_… │   84 │ 삼성전자 지속가능경영보고서 2025 84 코드 공시    │\n",
       "│    │                                                  │      │ 항목 참고 페이지 및 답변 제품 안전 TC-HW-230a.1  │\n",
       "│    │                                                  │      │ 제품의 정보보안 관련 리스크를 발견하고 이를      │\n",
       "│    │                                                  │      │ 개선하는 방법 설명 삼성전자는 개인정보보호팀장,  │\n",
       "│    │                                                  │      │ 정보보호센터장이 개인정보보호 운영위원회와 보안… │\n",
       "│ 28 │ Samsung_Electronics_Sustainability_Report_2025_… │   47 │ 개편하여 운영할 계획입니다. 핫라인 및 사이버     │\n",
       "│    │                                                  │      │ 신문고 2024년 운영 성과 총 57건 접수·개선완료    │\n",
       "│    │                                                  │      │ 핫라인 190건 접수·개선완료 사이버 신문고         │\n",
       "│    │                                                  │      │ 상생협력포털 제보 2024년 운영 성과 총 719건 접 … │\n",
       "│    │                                                  │      │ 접수 708건 처리완료 개선 근로자 소통 삼성전자…   │\n",
       "│ 29 │ Samsung_Electronics_Sustainability_Report_2025_… │   67 │ 삼성전자 지속가능경영보고서 2025 67 책임광물     │\n",
       "│    │                                                  │      │ 관리 투명성 확보 2022년 2023년 2024년 협력회사   │\n",
       "│    │                                                  │      │ 현장점검 1) 개사 438  315  202  1) 협력회사      │\n",
       "│    │                                                  │      │ 현장점검: 분쟁광물 대상 협력회사 제3자 검증      │\n",
       "│    │                                                  │      │ 2022년 2023년 2024년 …                           │\n",
       "│ 30 │ Samsung_Electronics_Sustainability_Report_2025_… │   55 │ · 샘플 분석과 핵심 모듈 협력회사의 현장검증을    │\n",
       "│    │                                                  │      │ 강화 · 신제품의 품질 확보를 위한 품질보증체계    │\n",
       "│    │                                                  │      │ 보강 선행단계 상품화 단계 양산단계   고객 중심 … │\n",
       "│    │                                                  │      │ 고객의 잠재적 요구사항까지 소중히 여기고 이를    │\n",
       "│    │                                                  │      │ 제품에  적극 반영함으로써 고객가치를 높여        │\n",
       "│    │                                                  │      │ 나간다. …                                        │\n",
       "└────┴──────────────────────────────────────────────────┴──────┴──────────────────────────────────────────────────┘\n"
      ]
     },
     "metadata": {},
     "output_type": "display_data"
    }
   ],
   "source": [
    "retriever = vectorsore.as_retriever(\n",
    "    search_type = \"similarity\",\n",
    "    search_kwargs = {\"k\" : 30}\n",
    ")\n",
    "question = \"삼성과 현대 중에서 어느 기업이 더 나아?\"\n",
    "result = retriever.invoke(question)\n",
    "rich_docs(result, title='기업 비교')"
   ]
  },
  {
   "cell_type": "markdown",
   "id": "ac83708c",
   "metadata": {},
   "source": [
    "## 3. reranker 만들기"
   ]
  },
  {
   "cell_type": "code",
   "execution_count": 7,
   "id": "7cf39b5b",
   "metadata": {},
   "outputs": [],
   "source": [
    "from langchain_community.cross_encoders.huggingface import HuggingFaceCrossEncoder\n",
    "from langchain.retrievers.document_compressors import CrossEncoderReranker\n",
    "\n",
    "hf_ce = HuggingFaceCrossEncoder(\n",
    "    model_name = \"cross-encoder/ms-marco-MiniLM-L6-v2\",\n",
    "    model_kwargs = {\n",
    "        \"device\" : \"cuda\",\n",
    "        \"max_length\" : 512\n",
    "    }\n",
    ")\n",
    "\n",
    "reranker = CrossEncoderReranker(\n",
    "    model = hf_ce,\n",
    "    top_n = 10\n",
    ")"
   ]
  },
  {
   "cell_type": "markdown",
   "id": "b96b3a64",
   "metadata": {},
   "source": [
    "## 4. retriever -> reranker"
   ]
  },
  {
   "cell_type": "code",
   "execution_count": 8,
   "id": "d4fb71b9",
   "metadata": {},
   "outputs": [],
   "source": [
    "from langchain.retrievers import ContextualCompressionRetriever\n",
    "\n",
    "com_retriever = ContextualCompressionRetriever(\n",
    "    base_retriever=retriever,\n",
    "    base_compressor=reranker\n",
    ")"
   ]
  },
  {
   "cell_type": "markdown",
   "id": "9abb6855",
   "metadata": {},
   "source": [
    "## 5. reorder(순서 정리)"
   ]
  },
  {
   "cell_type": "code",
   "execution_count": 9,
   "id": "316f6b2b",
   "metadata": {},
   "outputs": [],
   "source": [
    "from langchain_community.document_transformers import LongContextReorder\n",
    "\n",
    "reorder = LongContextReorder()"
   ]
  },
  {
   "cell_type": "markdown",
   "id": "453c1c20",
   "metadata": {},
   "source": [
    "## 6. 검색 결과 문서 합치는 함수 생성"
   ]
  },
  {
   "cell_type": "code",
   "execution_count": 10,
   "id": "c673f354",
   "metadata": {},
   "outputs": [],
   "source": [
    "# 문서를 합치는 함수\n",
    "def format_docs(docs):\n",
    "    return \"\\n\\---\\n\\n\".join([doc.page_content for doc in docs])"
   ]
  },
  {
   "cell_type": "markdown",
   "id": "78431b75",
   "metadata": {},
   "source": [
    "# 2. 기본 체인 만들기"
   ]
  },
  {
   "cell_type": "markdown",
   "id": "bdede4c5",
   "metadata": {},
   "source": [
    "## 1) 프롬프트 설정"
   ]
  },
  {
   "cell_type": "code",
   "execution_count": 11,
   "id": "45ed67bf",
   "metadata": {},
   "outputs": [],
   "source": [
    "reg_prompt = ChatPromptTemplate.from_messages([\n",
    "    ('system', \"\"\"주어진 컨텍스트만 근거로 간결하고 정화하게 답하도록 해라\n",
    "     \n",
    "     [컨텍스트]\n",
    "     {context}\n",
    "    \"\"\"),\n",
    "    ('user', \"{question}\")\n",
    "])"
   ]
  },
  {
   "cell_type": "markdown",
   "id": "8c08ccdf",
   "metadata": {},
   "source": [
    "## 2) 모델 설정"
   ]
  },
  {
   "cell_type": "code",
   "execution_count": 12,
   "id": "dfa888d4",
   "metadata": {},
   "outputs": [],
   "source": [
    "model = ChatOpenAI(\n",
    "    temperature=0,\n",
    "    model = \"gpt-4.1-mini\"\n",
    ")"
   ]
  },
  {
   "cell_type": "markdown",
   "id": "2d63dc66",
   "metadata": {},
   "source": [
    "## 3) outputparser"
   ]
  },
  {
   "cell_type": "code",
   "execution_count": 13,
   "id": "dbd2eaa6",
   "metadata": {},
   "outputs": [],
   "source": [
    "outputparser = StrOutputParser()"
   ]
  },
  {
   "cell_type": "code",
   "execution_count": 14,
   "id": "4f3dc279",
   "metadata": {},
   "outputs": [],
   "source": [
    "chain = reg_prompt | model | outputparser"
   ]
  },
  {
   "cell_type": "markdown",
   "id": "ae24f362",
   "metadata": {},
   "source": [
    "# 3. 통합체인 만들기"
   ]
  },
  {
   "cell_type": "code",
   "execution_count": 18,
   "id": "2b65ffbc",
   "metadata": {},
   "outputs": [
    {
     "data": {
      "text/plain": [
       "'삼성전자는 인재와 기술을 바탕으로 최고의 제품과 서비스를 창출하여 인류사회에 공헌한다는 경영철학 아래, 기술 리더십을 강화하고 새로운 영역에서 미래 성장동력을 확보하는 데 주력할 계획입니다. 또한, 지속가능경영 관리체계와 전략을 충실히 이행하며, 이해관계자 의견을 반영해 지속가능한 성장 기반을 마련하는 데 최선을 다할 예정입니다.'"
      ]
     },
     "execution_count": 18,
     "metadata": {},
     "output_type": "execute_result"
    }
   ],
   "source": [
    "rag_chain = (\n",
    "    {\n",
    "        'docs' : RunnableLambda(lambda x: com_retriever.invoke(x['question'])), # reranker\n",
    "        'question' : RunnablePassthrough()\n",
    "    }\n",
    "    | RunnableLambda(lambda x : {\n",
    "        \"context\" : format_docs(reorder.transform_documents(x['docs'])), # reorder\n",
    "        'question' : x['question']\n",
    "    })\n",
    "    | chain\n",
    ")\n",
    "\n",
    "rag_chain.invoke({\n",
    "    'question' : \"삼성의 미래 계획은 어떻게 되나요?\"\n",
    "})"
   ]
  },
  {
   "cell_type": "code",
   "execution_count": 26,
   "id": "24f23f5f",
   "metadata": {},
   "outputs": [
    {
     "data": {
      "text/plain": [
       "'삼성전자는 ‘함께가요 미래로! Enabling People’ 비전 아래, 청소년에게 양질의 교육 기회를 제공하고 중소기업과 스타트업에 경영 노하우를 전수하는 프로그램을 운영합니다. 2025년에는 삼성 청년SW·AI아카데미 교육 기회를 마이스터고 졸업생까지 확대하고, 자립준비 청년 지원을 위한 희망디딤돌 인천센터를 추가 설립할 예정입니다. 또한, 지속가능경영위원회와 ESG경영협의회를 통해 환경경영전략을 수립·관리하며, 2050년 탄소중립 달성, 재생에너지 전환, 안전보건 강화 등 중장기 목표를 추진합니다. 기술 리더십을 바탕으로 미래 성장동력을 확보하고 지속가능한 성장 기반 마련에 최선을 다할 계획입니다.'"
      ]
     },
     "execution_count": 26,
     "metadata": {},
     "output_type": "execute_result"
    }
   ],
   "source": [
    "rag_chain = (\n",
    "    {\n",
    "        'docs' : RunnableLambda(lambda x: com_retriever.invoke(x['question'])), # reranker\n",
    "        'question' : RunnablePassthrough()\n",
    "    }\n",
    "    | RunnableLambda(lambda x : {\n",
    "        \"docs\" : reorder.transform_documents(x['docs']), # reorder\n",
    "        'question' : x['question']\n",
    "    })\n",
    "    | \n",
    "    {\n",
    "        \"context\" : RunnableLambda(lambda x : format_docs(x['docs'])),\n",
    "        'question' : RunnablePassthrough()\n",
    "    }\n",
    "    | chain\n",
    ")\n",
    "\n",
    "rag_chain.invoke({\n",
    "    'question' : \"삼성의 미래 계획은 어떻게 되나요?\"\n",
    "})"
   ]
  },
  {
   "cell_type": "code",
   "execution_count": 23,
   "id": "f5c1740d",
   "metadata": {},
   "outputs": [
    {
     "data": {
      "text/plain": [
       "'삼성전자는 인재와 기술을 바탕으로 최고의 제품과 서비스를 창출하여 인류사회에 공헌한다는 경영철학 아래, 기술 리더십으로 재도약의 기반을 다지고 새로운 영역에서 미래 성장동력을 확보해 나갈 계획입니다. 또한, 지속가능한 성장 기반 마련을 위해 이해관계자의 의견에 귀 기울이며 지속적으로 노력할 예정입니다.'"
      ]
     },
     "execution_count": 23,
     "metadata": {},
     "output_type": "execute_result"
    }
   ],
   "source": [
    "rag_chain = (\n",
    "    {\n",
    "        \"context\" : RunnableLambda(lambda x: x['question']) | com_retriever | format_docs,\n",
    "        \"question\" : RunnablePassthrough()\n",
    "    } \n",
    "    | chain\n",
    ")\n",
    "\n",
    "rag_chain.invoke({\n",
    "    'question' : \"삼성의 미래 계획은 어떻게 되나요?\"\n",
    "})"
   ]
  },
  {
   "cell_type": "code",
   "execution_count": 24,
   "id": "8edf1e0a",
   "metadata": {},
   "outputs": [
    {
     "data": {
      "text/plain": [
       "'삼성전자는 인재와 기술을 바탕으로 최고의 제품과 서비스를 창출하여 인류사회에 공헌한다는 경영철학 아래, 기술 리더십을 강화하고 새로운 영역에서 미래 성장동력을 확보하는 데 주력할 계획입니다. 또한, 지속가능경영 관리체계와 전략을 충실히 이행하며, 이해관계자의 의견을 반영해 지속가능한 성장 기반을 마련하는 데 최선을 다할 예정입니다.'"
      ]
     },
     "execution_count": 24,
     "metadata": {},
     "output_type": "execute_result"
    }
   ],
   "source": [
    "rag_chain = (\n",
    "    {\n",
    "        \"context\" : RunnableLambda(lambda x: x['question']) | com_retriever | RunnableLambda(lambda x: reorder.transform_documents(x)) | format_docs,\n",
    "        \"question\" : RunnablePassthrough()\n",
    "    } \n",
    "    | chain\n",
    ")\n",
    "\n",
    "rag_chain.invoke({\n",
    "    'question' : \"삼성의 미래 계획은 어떻게 되나요?\"\n",
    "})"
   ]
  },
  {
   "cell_type": "markdown",
   "id": "e2b5aa53",
   "metadata": {},
   "source": [
    "# 4. multi input chain"
   ]
  },
  {
   "cell_type": "code",
   "execution_count": 29,
   "id": "1ad8ae9f",
   "metadata": {},
   "outputs": [],
   "source": [
    "com_retriever_chain = RunnableLambda(lambda x: x['question']) | com_retriever | format_docs"
   ]
  },
  {
   "cell_type": "code",
   "execution_count": 30,
   "id": "6ba47041",
   "metadata": {},
   "outputs": [
    {
     "data": {
      "text/plain": [
       "ChatPromptTemplate(input_variables=['context', 'pro', 'question'], input_types={}, partial_variables={}, messages=[SystemMessagePromptTemplate(prompt=PromptTemplate(input_variables=['context'], input_types={}, partial_variables={}, template='주어진 컨텍스트만 근거로 간결하고 정확하게 답하도록 해라. \\n\\n     [컨텍스트]\\n     {context}\\n\\n     '), additional_kwargs={}), HumanMessagePromptTemplate(prompt=PromptTemplate(input_variables=['pro', 'question'], input_types={}, partial_variables={}, template='{pro} 스타일에 맞게 {question}에 대답해라'), additional_kwargs={})])\n",
       "| ChatOpenAI(client=<openai.resources.chat.completions.completions.Completions object at 0x000001EE868BDDD0>, async_client=<openai.resources.chat.completions.completions.AsyncCompletions object at 0x000001EE86755D50>, root_client=<openai.OpenAI object at 0x000001EE868042D0>, root_async_client=<openai.AsyncOpenAI object at 0x000001EE868BCC50>, model_name='gpt-4.1-mini', temperature=0.0, model_kwargs={}, openai_api_key=SecretStr('**********'), stream_usage=True)\n",
       "| StrOutputParser()"
      ]
     },
     "execution_count": 30,
     "metadata": {},
     "output_type": "execute_result"
    }
   ],
   "source": [
    "# 1. 프롬프트 설정\n",
    "rag_prompt = ChatPromptTemplate.from_messages([\n",
    "    (\"system\", \"\"\"주어진 컨텍스트만 근거로 간결하고 정확하게 답하도록 해라. \n",
    "     \n",
    "     [컨텍스트]\n",
    "     {context}\n",
    "     \n",
    "     \"\"\"),\n",
    "    (\"human\", \"{pro} 스타일에 맞게 {question}에 대답해라\")\n",
    "])\n",
    "\n",
    "# 2. 모델 설정\n",
    "model = ChatOpenAI(\n",
    "    model = \"gpt-4.1-mini\",\n",
    "    temperature=0\n",
    ")\n",
    "\n",
    "# 3. outputparser \n",
    "outputparser = StrOutputParser()\n",
    "\n",
    "# 4. 체인 설정\n",
    "chain = rag_prompt | model | outputparser\n",
    "chain"
   ]
  },
  {
   "cell_type": "code",
   "execution_count": 31,
   "id": "0224ce6d",
   "metadata": {},
   "outputs": [
    {
     "data": {
      "text/plain": [
       "'냥냥~ 삼성은 2050년까지 탄소중립을 목표로 기후변화에 맞서고 있냥! 재생에너지 전환도 쭉쭉 늘리고, 물 사용도 아껴서 환경을 지키려 노력 중이냥~ 또, 청년들 교육에 힘쓰고, 중소기업과 스타트업도 활짝 지원해서 모두 함께 미래로 달려가려 한다옹! 미래 준비는 삼성과 함께라냥~!'"
      ]
     },
     "execution_count": 31,
     "metadata": {},
     "output_type": "execute_result"
    }
   ],
   "source": [
    "rag_chain = (\n",
    "    {\n",
    "        \"context\" :  com_retriever_chain,\n",
    "        \"question\" : RunnableLambda(lambda x: x['question']),\n",
    "        \"pro\" : RunnableLambda(lambda x: x['pro'])\n",
    "    }\n",
    "    | chain\n",
    ")\n",
    "rag_chain.invoke({\n",
    "    \"question\" : \"삼성의 미래 계획은 어떻게 되나요?\",\n",
    "    \"pro\" : \"냥냥체\"\n",
    "})"
   ]
  }
 ],
 "metadata": {
  "kernelspec": {
   "display_name": "LLM-Study (3.11.13)",
   "language": "python",
   "name": "python3"
  },
  "language_info": {
   "codemirror_mode": {
    "name": "ipython",
    "version": 3
   },
   "file_extension": ".py",
   "mimetype": "text/x-python",
   "name": "python",
   "nbconvert_exporter": "python",
   "pygments_lexer": "ipython3",
   "version": "3.11.13"
  }
 },
 "nbformat": 4,
 "nbformat_minor": 5
}
