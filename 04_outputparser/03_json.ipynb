{
 "cells": [
  {
   "cell_type": "code",
   "execution_count": 2,
   "id": "ae15edf2",
   "metadata": {},
   "outputs": [],
   "source": [
    "from dotenv import load_dotenv\n",
    "load_dotenv()\n",
    "\n",
    "import os\n",
    "project_name = \"outputparser_basic\"\n",
    "os.environ[\"LANGSMITH_PROJECT\"] = project_name"
   ]
  },
  {
   "cell_type": "code",
   "execution_count": 3,
   "id": "cb30abbd",
   "metadata": {},
   "outputs": [],
   "source": [
    "from langchain_openai import ChatOpenAI\n",
    "\n",
    "model = ChatOpenAI(\n",
    "    temperature=0.1, # 창의력 정도\n",
    "    model = \"gpt-4.1-mini\",\n",
    "    verbose=True\n",
    ")"
   ]
  },
  {
   "cell_type": "code",
   "execution_count": 1,
   "id": "6d690206",
   "metadata": {},
   "outputs": [],
   "source": [
    "from langchain_core.output_parsers import JsonOutputParser\n",
    "\n",
    "outputparser = JsonOutputParser()"
   ]
  },
  {
   "cell_type": "code",
   "execution_count": 4,
   "id": "27e7b4f6",
   "metadata": {},
   "outputs": [
    {
     "data": {
      "text/plain": [
       "ChatPromptTemplate(input_variables=['text'], input_types={}, partial_variables={}, messages=[HumanMessagePromptTemplate(prompt=PromptTemplate(input_variables=['text'], input_types={}, partial_variables={}, template='\\n    오직 JSON 문자열만 출력을 해라.\\n    코드블록 금지\\n    키 : {{\"title\" : str, \"bullets\" : list[str], \"tone\" : \"neutral|positive|negatic\"}}\\n    {text}\\n'), additional_kwargs={})])"
      ]
     },
     "execution_count": 4,
     "metadata": {},
     "output_type": "execute_result"
    }
   ],
   "source": [
    "from langchain_core.prompts import ChatPromptTemplate\n",
    "\n",
    "template = \"\"\"\n",
    "    오직 JSON 문자열만 출력을 해라.\n",
    "    코드블록 금지\n",
    "    키 : {{\"title\" : str, \"bullets\" : list[str], \"tone\" : \"neutral|positive|negatic\"}}\n",
    "    {text}\n",
    "\"\"\"\n",
    "\n",
    "prompt = ChatPromptTemplate.from_template(\n",
    "    template = template\n",
    ")\n",
    "prompt"
   ]
  },
  {
   "cell_type": "code",
   "execution_count": 5,
   "id": "d33d3129",
   "metadata": {},
   "outputs": [
    {
     "data": {
      "text/plain": [
       "ChatPromptTemplate(input_variables=['text'], input_types={}, partial_variables={}, messages=[HumanMessagePromptTemplate(prompt=PromptTemplate(input_variables=['text'], input_types={}, partial_variables={}, template='\\n    오직 JSON 문자열만 출력을 해라.\\n    코드블록 금지\\n    키 : {{\"title\" : str, \"bullets\" : list[str], \"tone\" : \"neutral|positive|negatic\"}}\\n    {text}\\n'), additional_kwargs={})])\n",
       "| ChatOpenAI(client=<openai.resources.chat.completions.completions.Completions object at 0x00000268020ADF60>, async_client=<openai.resources.chat.completions.completions.AsyncCompletions object at 0x0000026803F33D90>, root_client=<openai.OpenAI object at 0x00000268020AE0B0>, root_async_client=<openai.AsyncOpenAI object at 0x00000268020AC910>, model_name='gpt-4.1-mini', temperature=0.1, model_kwargs={}, openai_api_key=SecretStr('**********'))\n",
       "| JsonOutputParser()"
      ]
     },
     "execution_count": 5,
     "metadata": {},
     "output_type": "execute_result"
    }
   ],
   "source": [
    "chain = prompt | model | outputparser\n",
    "chain"
   ]
  },
  {
   "cell_type": "code",
   "execution_count": 6,
   "id": "823deb43",
   "metadata": {},
   "outputs": [],
   "source": [
    "text = \"\"\"\n",
    "    언어 공부하기는 좋은 앱이지만 영어 외에 다른 언어 공부하려면 영어를 잘해야 되는게 문제입니다. 저는 현재 일본어 학습자인데, 섹션 2부터 모르는 영어단어인 tempura, spacious, well-lit이 나와서 파x고를 돌려야하는 번거로움이 있었습니다. 또한 무과금들의 젬 수급이 너무 힘듭니다. 이제 퀘스트를 하면 젬 대신 물약이 나오고 젬 수급처는 프렌드 퀘스트랑 시간제한 퀘스트인데, 프렌드 퀘스트는 그냥 안하는 놈들이 있고 시간제한은 짬이 안나면 하기 힘듭니다. 광고가 너무 많은것도 문제입니다. 물론 돈벌려고 이 앱을 만들었을테니 광고가 나오는건 자연스러운 현상이지만, 한 레슨이 끝나고 광고가 두번씩이나(다른 앱 광고 1번, 앱 자체 현질유도 광고) 나오는건 심각해보입니다. 또한 출석제도는 한 레슨을 끝내야 이어갈 수 있는데, 하트가 다 줄어서 레슨 진행이 불가능(예:3개 있었는데 지문 3개를 틀려 하트 소멸)한 경우도 있는데 한문제라도 풀면 출석인 제도로 바꿔주세요.\n",
    "    보석적용 버그, 오역있었고 점수가 만점시 80점 들어온다고 하면 보너스시간 적용하고 다맞춰도 뜬금없이 45점 들어옴. 그것도 줬다 안줬다ㅋㅋ 버그가 있는데 성적순으로 줄세우고 있음 피드백 제출해도 뭐 똑같은데... 주류인 영어는 많은데 일본어는 업데이트가 안되네요. 챕터3개가 끝이네요.. 환불받고 싶어요 as가 안좋아요\n",
    "    안녕하세요 듀오링고를 약 270일간 잘 사용하고 있던 유저입니다. 최근 하트에서 에너지로 변화가 생겼는데, 다시 하트로 바꾸거나 에너지를 충전하고 소진하는 방식을 바꿔주셨으면 좋겠습니다. 듀오링고에선 학습을 촉진하기 위해서 에너지 체계로 바꿨다고 하였으나, 실수를 한번도 하지 않아도 레슨마다 기본적으로 깎이는 에너지가 생겨서 서너개밖에 못하고 에너지가 바닥나게 되더군요. 레슨마다 광고 한두개씩 붙는 것도 신경은 쓰였지만 참을만 했습니다. 하지만 이 업데이트는 제가 보기엔 정말 대놓고 돈쓰게 하려고 바꾼 걸로밖에 안보입니다. 진심으로 학습을 촉진하고 싶었으면 실수가 없었던 레슨은 문제를 풀 때마다 소진은 되더라도 그만큼 충전해주어서 최종적으론 에너지가 닳지 않아야 하는 거 아닙니까? 듀오링고의 목적은 무료로 언어를 배울 수 있게 하는 것이라고 광고하던데, 이번 업데이트는 그 목적과 많이 어긋나 보입니다. 전에는 정말 잘 쓰고 있던 유저로서 꼭 시정해주셨으면 합니다. 감사합니다.\n",
    "    \"\"\"\n",
    "\n",
    "result = chain.invoke({\n",
    "    \"text\" : text\n",
    "})"
   ]
  },
  {
   "cell_type": "code",
   "execution_count": 8,
   "id": "91f63a61",
   "metadata": {},
   "outputs": [
    {
     "name": "stdout",
     "output_type": "stream",
     "text": [
      "<class 'dict'>\n"
     ]
    },
    {
     "data": {
      "text/plain": [
       "{'title': '듀오링고 앱 사용 후기 및 개선 요청',\n",
       " 'bullets': ['영어 외 다른 언어 학습 시 영어 단어 이해 필요로 인한 불편함 (예: tempura, spacious, well-lit)',\n",
       "  '무과금 유저의 젬 수급 어려움 및 퀘스트 보상 변경 문제',\n",
       "  '과도한 광고 노출, 한 레슨 후 광고 2회 발생',\n",
       "  '출석 제도 개선 요청: 하트 소진 시에도 출석 인정 방식 필요',\n",
       "  '보석 적용 버그 및 점수 산정 오류 발생',\n",
       "  '일본어 콘텐츠 업데이트 부족 및 챕터 제한 문제',\n",
       "  '에너지 시스템 변경에 따른 학습 불편 및 과금 유도 의심',\n",
       "  '에너지 소진 방식 개선 및 무료 학습 목적에 부합하는 시스템 요청'],\n",
       " 'tone': 'neutral'}"
      ]
     },
     "execution_count": 8,
     "metadata": {},
     "output_type": "execute_result"
    }
   ],
   "source": [
    "print(type(result))\n",
    "result"
   ]
  }
 ],
 "metadata": {
  "kernelspec": {
   "display_name": "langchain-study (3.10.18)",
   "language": "python",
   "name": "python3"
  },
  "language_info": {
   "codemirror_mode": {
    "name": "ipython",
    "version": 3
   },
   "file_extension": ".py",
   "mimetype": "text/x-python",
   "name": "python",
   "nbconvert_exporter": "python",
   "pygments_lexer": "ipython3",
   "version": "3.10.18"
  }
 },
 "nbformat": 4,
 "nbformat_minor": 5
}
