{
 "cells": [
  {
   "cell_type": "code",
   "execution_count": 1,
   "id": "31d29d57",
   "metadata": {},
   "outputs": [],
   "source": [
    "from langchain_community.document_loaders import PyPDFLoader, PyMuPDFLoader"
   ]
  },
  {
   "cell_type": "code",
   "execution_count": 3,
   "id": "d147513d",
   "metadata": {},
   "outputs": [
    {
     "name": "stdout",
     "output_type": "stream",
     "text": [
      "문서 로드중\n"
     ]
    }
   ],
   "source": [
    "file_path = '../data/Sustainability_report_2024_kr.pdf'\n",
    "\n",
    "print(\"문서 로드중\")\n",
    "loader = PyPDFLoader(file_path)\n",
    "docs = loader.load()"
   ]
  },
  {
   "cell_type": "code",
   "execution_count": 4,
   "id": "34fd9a75",
   "metadata": {},
   "outputs": [],
   "source": [
    "from langchain_core.documents import Document\n",
    "from langchain_text_splitters import CharacterTextSplitter, RecursiveCharacterTextSplitter, TokenTextSplitter"
   ]
  },
  {
   "cell_type": "markdown",
   "id": "b81e1d90",
   "metadata": {},
   "source": [
    "# 모델의 인코딩 방식 확인해보기"
   ]
  },
  {
   "cell_type": "code",
   "execution_count": 5,
   "id": "d76e4b4b",
   "metadata": {},
   "outputs": [],
   "source": [
    "import tiktoken"
   ]
  },
  {
   "cell_type": "code",
   "execution_count": 6,
   "id": "0091178d",
   "metadata": {},
   "outputs": [
    {
     "data": {
      "text/plain": [
       "['gpt2',\n",
       " 'r50k_base',\n",
       " 'p50k_base',\n",
       " 'p50k_edit',\n",
       " 'cl100k_base',\n",
       " 'o200k_base',\n",
       " 'o200k_harmony']"
      ]
     },
     "execution_count": 6,
     "metadata": {},
     "output_type": "execute_result"
    }
   ],
   "source": [
    "tiktoken.list_encoding_names()"
   ]
  },
  {
   "cell_type": "code",
   "execution_count": 8,
   "id": "d7831b7d",
   "metadata": {},
   "outputs": [],
   "source": [
    "encoding = tiktoken.encoding_for_model(\"gpt-4.1-mini\")"
   ]
  },
  {
   "cell_type": "code",
   "execution_count": 10,
   "id": "1df1c07e",
   "metadata": {},
   "outputs": [
    {
     "data": {
      "text/plain": [
       "[14307, 171731, 180115, 11, 70135, 85638, 119515, 27001, 13]"
      ]
     },
     "execution_count": 10,
     "metadata": {},
     "output_type": "execute_result"
    }
   ],
   "source": [
    "text = \"안녕하세요 여러분, 좋은 월요일입니다.\"\n",
    "encode_result = encoding.encode(text)\n",
    "encode_result"
   ]
  },
  {
   "cell_type": "code",
   "execution_count": 17,
   "id": "5f88efbc",
   "metadata": {},
   "outputs": [
    {
     "name": "stdout",
     "output_type": "stream",
     "text": [
      "안\n",
      "녕하세요\n",
      " 여러분\n",
      ",\n",
      " 좋은\n",
      " 월\n",
      "요일\n",
      "입니다\n",
      ".\n"
     ]
    }
   ],
   "source": [
    "for i in range(len(encode_result)):\n",
    "    print(encoding.decode(encode_result[i:i+1]))"
   ]
  },
  {
   "cell_type": "markdown",
   "id": "15122c89",
   "metadata": {},
   "source": [
    "# 여러가지 스플리터 종류"
   ]
  },
  {
   "cell_type": "code",
   "execution_count": null,
   "id": "eeb63f87",
   "metadata": {},
   "outputs": [],
   "source": [
    "# 스플리터 종류 테스트\n",
    "char_spliiter = CharacterTextSplitter(\n",
    "    chunk_size = 1000,\n",
    "    chunk_overlap = 100\n",
    ")\n",
    "\n",
    "# 사용은 이걸로\n",
    "recursive_spliiter = RecursiveCharacterTextSplitter(\n",
    "    chunk_size = 1000,\n",
    "    chunk_overlap = 100\n",
    ")\n",
    "token_spliiter = TokenTextSplitter(\n",
    "    chunk_size = 1000,\n",
    "    chunk_overlap = 100\n",
    ")"
   ]
  },
  {
   "cell_type": "code",
   "execution_count": 19,
   "id": "ac6f5686",
   "metadata": {},
   "outputs": [
    {
     "name": "stdout",
     "output_type": "stream",
     "text": [
      "82 전체 잘린 chunk 사이즈\n"
     ]
    }
   ],
   "source": [
    "char_chunks = char_spliiter.split_documents(docs)\n",
    "print(len(char_chunks), \"전체 잘린 chunk 사이즈\")"
   ]
  },
  {
   "cell_type": "code",
   "execution_count": 20,
   "id": "1f2d7c22",
   "metadata": {},
   "outputs": [
    {
     "name": "stdout",
     "output_type": "stream",
     "text": [
      "207 전체 잘린 chunk 사이즈\n"
     ]
    }
   ],
   "source": [
    "recursive_chunks = recursive_spliiter.split_documents(docs)\n",
    "print(len(recursive_chunks), \"전체 잘린 chunk 사이즈\")"
   ]
  },
  {
   "cell_type": "code",
   "execution_count": 21,
   "id": "56d8fe8d",
   "metadata": {},
   "outputs": [
    {
     "name": "stdout",
     "output_type": "stream",
     "text": [
      "340 전체 잘린 chunk 사이즈\n"
     ]
    }
   ],
   "source": [
    "token_chunks = token_spliiter.split_documents(docs)\n",
    "print(len(token_chunks), \"전체 잘린 chunk 사이즈\")"
   ]
  },
  {
   "cell_type": "code",
   "execution_count": 29,
   "id": "d8b8d2e8",
   "metadata": {},
   "outputs": [],
   "source": [
    "label = 6"
   ]
  },
  {
   "cell_type": "code",
   "execution_count": 33,
   "id": "dd24e226",
   "metadata": {},
   "outputs": [
    {
     "data": {
      "text/plain": [
       "'Materiality  \\n Assessment\\n삼성전자 지속가능경영보고서 2024 07Our Company AppendixMateriality Assessment Facts & Figures PrinciplePlanet People'"
      ]
     },
     "execution_count": 33,
     "metadata": {},
     "output_type": "execute_result"
    }
   ],
   "source": [
    "char_chunks[label].page_content"
   ]
  },
  {
   "cell_type": "code",
   "execution_count": null,
   "id": "3141c549",
   "metadata": {},
   "outputs": [
    {
     "data": {
      "text/plain": [
       "'삼성전자 지속가능경영보고서 2024\\n05\\nOur Company AppendixMateriality Assessment Facts & Figures PrinciplePlanet People\\n회사소개\\nAbout Us\\n삼성전자주식회사(이하 삼성전자)는 인재와 기술을 바탕으로 최고의 제품과 서비스를 창출하여 인류사회에 공헌하는 글로벌 초일류기업을 지향합니다. \\n이를 위해 삼성전자의 경영철학을 반영한 5가지 핵심가치 를 수립하였고, 핵심가치를 세부원칙과 행동지침 으로 구체화하여 삼성전자 임직원이 \\n지켜야 할 글로벌 행동규범(Global Code of Conduct) 을 제정하였습니다. 삼성전자는 조직문화에 5가지 핵심가치를 내재화하고 글로벌 행동규범을 \\n모든 경영활동의 기준으로 삼아 지속적으로 성장해갈 것입니다. \\n사업부문 및 글로벌 네트워크 소개\\n삼성전자는 제품 특성에 따라 DX(Device eXperience)와 DS(Device Solutions) 2개 부문으로 나뉘어 독립적으로 운영되고 있습니다. DX부문은 \\n스마트폰, 네트워크 시스템, 컴퓨터, TV, 냉장고, 세탁기, 에어컨, 의료기기 등 완제품을 생산/판매하고 있으며, DS부문은 메모리 반도체 사업, Foundry \\n사업, System LSI 사업으로 구성되어 DRAM, NAND Flash, 모바일AP 등의 반도체 부품을 생산/판매하고 있습니다. 삼성전자는 2023년 말 기준 전 \\n세계에 232개의 생산거점, 판매거점, R&D 센터, 디자인 센터를 보유하고 있습니다.\\n Our Company\\n매출\\n169조 9,923억 원\\n영업이익\\n14조 3,847억 원 네트워크\\nMobile eXperience 영상디스플레이 생활가전\\n의료기기\\n매출\\n66조 5,945억 원\\n영업이익\\n△14조 8,795억 원\\nFoundry System LSI\\n주요 사업부\\nDevice eXperienceDX\\nDS Device Solutions\\n메모리\\n※ 상기 매출과 영업이익은 2023년 실적을 기준으로, SDC, Harman을 제외하고 작성했습니다.'"
      ]
     },
     "execution_count": 31,
     "metadata": {},
     "output_type": "execute_result"
    }
   ],
   "source": [
    "recursive_chunks[label].page_content"
   ]
  },
  {
   "cell_type": "code",
   "execution_count": null,
   "id": "9345f37d",
   "metadata": {},
   "outputs": [],
   "source": [
    "recursive_chunks[label].metadata[\"test\"] = \"항목 추가\""
   ]
  },
  {
   "cell_type": "code",
   "execution_count": null,
   "id": "91ec6432",
   "metadata": {},
   "outputs": [],
   "source": [
    "recursive_chunks[label].page_content = "
   ]
  },
  {
   "cell_type": "code",
   "execution_count": null,
   "id": "0cc945fc",
   "metadata": {},
   "outputs": [
    {
     "data": {
      "text/plain": [
       "\"�수 취수량을 2021년 수준으로 절 감하는 것을 목 표로 하고 있으며, \\n국제수자원관리동맹(AWS)으로부터 기흥/화성, 평택, 중국 시안 사업장에 \\n대해 최고 등급인 ' 플래티넘' 인증을 획득하여 수자원 관리 체계의 \\n우수성을 입증 받았습니다. 아울러, 폐기물 발생량 저감을 위해 2024년 \\n3월, 웨이퍼박스 등 9건에 대해 환경부 순환자원 인정을 추가 취득하여 \\n현재까지 총 49건을 순환자원으로 인정받았고 매년 품목을 확대해나가고 \\n있습니다.\\n사회 분야에서는 지난 2023년 2월 발표한 글로벌 인권원칙에 연계하여, \\n글로벌 고충처리 정책 을 2024년 4월 제정, 고충  접수 채널 운영과 \\n접수된 고충의 처리 원칙에 대한 기준을 수립하였고, 공급망 관리에 \\n있어서는 비제조 분야 및 리스크 분석에 따라 제조 분야 2차 협력회사로 \\n근로환경 관리 범위를 확대하고 있습니다. 또한 2023년 3월 자회사 형 \\n장애인표준사업장 주식 회사 '희망별숲'을 개소하여, 발달 장애인들이\""
      ]
     },
     "execution_count": 32,
     "metadata": {},
     "output_type": "execute_result"
    }
   ],
   "source": [
    "token_chunks[label].page_content"
   ]
  }
 ],
 "metadata": {
  "kernelspec": {
   "display_name": "LLM-Study (3.11.13)",
   "language": "python",
   "name": "python3"
  },
  "language_info": {
   "codemirror_mode": {
    "name": "ipython",
    "version": 3
   },
   "file_extension": ".py",
   "mimetype": "text/x-python",
   "name": "python",
   "nbconvert_exporter": "python",
   "pygments_lexer": "ipython3",
   "version": "3.11.13"
  }
 },
 "nbformat": 4,
 "nbformat_minor": 5
}
