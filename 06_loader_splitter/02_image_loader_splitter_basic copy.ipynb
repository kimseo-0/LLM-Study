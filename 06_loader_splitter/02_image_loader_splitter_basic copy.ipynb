{
 "cells": [
  {
   "cell_type": "markdown",
   "id": "028af78e",
   "metadata": {},
   "source": [
    "# 이미지 pdf 로더 (with. easyocr)"
   ]
  },
  {
   "cell_type": "code",
   "execution_count": 1,
   "id": "6329a309",
   "metadata": {},
   "outputs": [],
   "source": [
    "# uv add easyocr\n",
    "# uv add -U PyMupdf"
   ]
  },
  {
   "cell_type": "code",
   "execution_count": 2,
   "id": "5ce003f4",
   "metadata": {},
   "outputs": [],
   "source": [
    "import fitz\n",
    "import numpy as np\n",
    "from PIL import Image\n",
    "import easyocr\n",
    "from langchain.docstore.document import Document"
   ]
  },
  {
   "cell_type": "code",
   "execution_count": 3,
   "id": "7eb6b062",
   "metadata": {},
   "outputs": [],
   "source": [
    "# reader = easyocr.Reader(['ko', 'en'], gpu=True)\n",
    "# file_path = '../data/Image_Samsung_Electronics_Sustainability_Report_2025_KOR_partial.pdf'\n",
    "\n",
    "# # with fitz.open(file_path) as pdf:\n",
    "# #     mat = fitz.Matrix(300, 300)\n",
    "# #     pix = pdf[0].get_pixmap(matrix=mat, alpha=False)\n",
    "# #     img = Image.frombytes(\"RGB\")\n",
    "\n",
    "# with fitz.open(file_path) as pdf:\n",
    "#     dpi = 300\n",
    "#     zoom = dpi / 72.0\n",
    "#     mat = fitz.Matrix(zoom, zoom)\n",
    "#     mat = fitz.Matrix(300, 300)\n",
    "#     pix = pdf[0].get_pixmap(matrix=mat, alpha=False)\n",
    "#     img = Image.frombytes(\"RGB\", (pix.width, pix.height), pix.samples)\n",
    "#     arr = np.array(img)\n",
    "#     result = reader.readtext(arr, detail=0, paragraph=True)"
   ]
  },
  {
   "cell_type": "code",
   "execution_count": 4,
   "id": "582de322",
   "metadata": {},
   "outputs": [],
   "source": [
    "def load_pdf_with_easyocr(\n",
    "    pdf_path: str,\n",
    "    languages=(\"ko\",\"en\"),   # 한국어+영어\n",
    "    gpu=True,                # GPU 사용\n",
    "    dpi=300,                 # OCR 품질용 렌더 DPI\n",
    "    page_from=None,          # 1부터 시작, None=첫 페이지\n",
    "    page_to=None             # 포함, None=마지막 페이지\n",
    "):\n",
    "    reader = easyocr.Reader(list(languages), gpu=gpu)\n",
    "    docs = []\n",
    "\n",
    "    with fitz.open(pdf_path) as pdf:\n",
    "        total = len(pdf)\n",
    "        start = 1 if page_from is None else max(1, page_from)\n",
    "        end   = total if page_to is None else min(total, page_to)\n",
    "\n",
    "        for p in range(start-1, end):\n",
    "            page = pdf[p]\n",
    "            zoom = dpi / 72.0\n",
    "            mat = fitz.Matrix(zoom, zoom)\n",
    "            pix = page.get_pixmap(matrix=mat, alpha=False)\n",
    "            img = Image.frombytes(\"RGB\", (pix.width, pix.height), pix.samples)\n",
    "\n",
    "            arr = np.array(img)\n",
    "            result = reader.readtext(arr, detail=0, paragraph=True)\n",
    "            text = \"\\n\".join(result) if result else \"\"\n",
    "\n",
    "            docs.append(Document(\n",
    "                page_content=text,\n",
    "                metadata={\"source\": pdf_path, \"page\": p+1, \"dpi\": dpi, \"ocr_engine\": \"EasyOCR\"}\n",
    "            ))\n",
    "\n",
    "    return docs"
   ]
  },
  {
   "cell_type": "code",
   "execution_count": 6,
   "id": "89331265",
   "metadata": {},
   "outputs": [],
   "source": [
    "file_path = '../data/Image_Samsung_Electronics_Sustainability_Report_2025_KOR_partial.pdf'\n",
    "docs = load_pdf_with_easyocr(file_path, languages=['ko', 'en'], gpu=True, dpi=300)"
   ]
  },
  {
   "cell_type": "code",
   "execution_count": 8,
   "id": "888606fa",
   "metadata": {},
   "outputs": [
    {
     "data": {
      "text/plain": [
       "30"
      ]
     },
     "execution_count": 8,
     "metadata": {},
     "output_type": "execute_result"
    }
   ],
   "source": [
    "len(docs)"
   ]
  },
  {
   "cell_type": "code",
   "execution_count": null,
   "id": "c7cdf418",
   "metadata": {},
   "outputs": [],
   "source": [
    "from langchain_text_splitters import RecursiveCharacterTextSplitter\n",
    "\n",
    "recursive_spliiter = RecursiveCharacterTextSplitter(\n",
    "    chunk_size = 1000,\n",
    "    chunk_overlap = 100\n",
    ")\n",
    "recursive_chunks = recursive_spliiter.split_documents(docs)\n",
    "print(len(recursive_chunks), \"전체 잘린 chunk 사이즈\")"
   ]
  }
 ],
 "metadata": {
  "kernelspec": {
   "display_name": "LLM-Study (3.10.18)",
   "language": "python",
   "name": "python3"
  },
  "language_info": {
   "codemirror_mode": {
    "name": "ipython",
    "version": 3
   },
   "file_extension": ".py",
   "mimetype": "text/x-python",
   "name": "python",
   "nbconvert_exporter": "python",
   "pygments_lexer": "ipython3",
   "version": "3.10.18"
  }
 },
 "nbformat": 4,
 "nbformat_minor": 5
}
