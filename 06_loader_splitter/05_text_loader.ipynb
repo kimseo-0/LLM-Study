{
 "cells": [
  {
   "cell_type": "markdown",
   "id": "91af2482",
   "metadata": {},
   "source": [
    "# 텍스트 로더"
   ]
  },
  {
   "cell_type": "code",
   "execution_count": 16,
   "id": "c70bbabc",
   "metadata": {},
   "outputs": [],
   "source": [
    "from langchain_community.document_loaders import TextLoader\n",
    "from langchain_text_splitters import MarkdownHeaderTextSplitter, RecursiveCharacterTextSplitter, TokenTextSplitter"
   ]
  },
  {
   "cell_type": "code",
   "execution_count": 2,
   "id": "c86e754e",
   "metadata": {},
   "outputs": [],
   "source": [
    "file_path = \"../data/npc_persona.txt\"\n",
    "\n",
    "loader = TextLoader(file_path, encoding=\"utf-8\")\n",
    "\n",
    "docs = loader.load()"
   ]
  },
  {
   "cell_type": "code",
   "execution_count": 3,
   "id": "a15fb080",
   "metadata": {},
   "outputs": [
    {
     "data": {
      "text/plain": [
       "1"
      ]
     },
     "execution_count": 3,
     "metadata": {},
     "output_type": "execute_result"
    }
   ],
   "source": [
    "len(docs)"
   ]
  },
  {
   "cell_type": "code",
   "execution_count": 6,
   "id": "83b05386",
   "metadata": {},
   "outputs": [],
   "source": [
    "header_splitter = MarkdownHeaderTextSplitter(\n",
    "    headers_to_split_on= [\n",
    "        (\"#\", \"persona\"),\n",
    "        (\"##\", \"section\")\n",
    "    ]\n",
    ")\n",
    "header_docs = header_splitter.split_text(docs[0].page_content)"
   ]
  },
  {
   "cell_type": "code",
   "execution_count": 13,
   "id": "5177cb54",
   "metadata": {},
   "outputs": [
    {
     "data": {
      "text/plain": [
       "10"
      ]
     },
     "execution_count": 13,
     "metadata": {},
     "output_type": "execute_result"
    }
   ],
   "source": [
    "len(header_docs)"
   ]
  },
  {
   "cell_type": "code",
   "execution_count": 9,
   "id": "47c73960",
   "metadata": {},
   "outputs": [
    {
     "data": {
      "text/plain": [
       "Document(metadata={'persona': 'Persona : 공예품 장인', 'section': 'role'}, page_content='경주 지역의 전통 공예품 제작에 능통한 숙련된 장인. 신라 시대의 예술적 전통과 기법을 계승하고 있으며, 특히 목공예, 금속공예, 또는 토기 제작 중 한 분야에 깊이 정통해 있습니다.')"
      ]
     },
     "execution_count": 9,
     "metadata": {},
     "output_type": "execute_result"
    }
   ],
   "source": [
    "header_docs[0]"
   ]
  },
  {
   "cell_type": "markdown",
   "id": "b97c864d",
   "metadata": {},
   "source": [
    "# 길이 기반 세부 chunk 나누기"
   ]
  },
  {
   "cell_type": "code",
   "execution_count": 35,
   "id": "e524d6b0",
   "metadata": {},
   "outputs": [],
   "source": [
    "texts_spliiter = RecursiveCharacterTextSplitter(\n",
    "    chunk_size = 200,\n",
    "    chunk_overlap = 50\n",
    ")"
   ]
  },
  {
   "cell_type": "code",
   "execution_count": 36,
   "id": "0e8c634d",
   "metadata": {},
   "outputs": [],
   "source": [
    "text_docs = texts_spliiter.split_documents([header_docs[2]])"
   ]
  },
  {
   "cell_type": "code",
   "execution_count": 37,
   "id": "92fa46d8",
   "metadata": {},
   "outputs": [
    {
     "data": {
      "text/plain": [
       "2"
      ]
     },
     "execution_count": 37,
     "metadata": {},
     "output_type": "execute_result"
    }
   ],
   "source": [
    "len(text_docs)"
   ]
  },
  {
   "cell_type": "code",
   "execution_count": 38,
   "id": "805de8c1",
   "metadata": {},
   "outputs": [
    {
     "data": {
      "text/plain": [
       "\"경주 토박이로, 대대로 가업을 이어온 장인 가문에서 태어났습니다. 어릴 적부터 작업장에서 나무 냄새, 흙 냄새, 쇠 다루는 소리를 들으며 자랐습니다. 젊은 시절, 경주의 수많은 문화유적을 직접 답사하며 신라 예술의 아름다움과 그 속에 담긴 조상의 지혜에 깊이 매료되었습니다. 수십 년간 묵묵히 한 가지 재료와 기법에만 몰두하여, 이제는 경주를 대표하는 공예가 중 한 명으로 인정받고 있습니다. 전통을 고수하되, 현대적인 미감을 해치지 않는 절제된 아름다움을 추구합니다. 그의 작품은 단순한 물건을 넘어, 신라 천년의 역사와 혼이 깃든 '예술품'으로 평가받습니다.\""
      ]
     },
     "execution_count": 38,
     "metadata": {},
     "output_type": "execute_result"
    }
   ],
   "source": [
    "header_docs[2].page_content"
   ]
  },
  {
   "cell_type": "code",
   "execution_count": 40,
   "id": "95f2545c",
   "metadata": {},
   "outputs": [
    {
     "name": "stdout",
     "output_type": "stream",
     "text": [
      "경주 토박이로, 대대로 가업을 이어온 장인 가문에서 태어났습니다. 어릴 적부터 작업장에서 나무 냄새, 흙 냄새, 쇠 다루는 소리를 들으며 자랐습니다. 젊은 시절, 경주의 수많은 문화유적을 직접 답사하며 신라 예술의 아름다움과 그 속에 담긴 조상의 지혜에 깊이 매료되었습니다. 수십 년간 묵묵히 한 가지 재료와 기법에만 몰두하여, 이제는 경주를 대표하는 공예가\n",
      "---\n",
      "수십 년간 묵묵히 한 가지 재료와 기법에만 몰두하여, 이제는 경주를 대표하는 공예가 중 한 명으로 인정받고 있습니다. 전통을 고수하되, 현대적인 미감을 해치지 않는 절제된 아름다움을 추구합니다. 그의 작품은 단순한 물건을 넘어, 신라 천년의 역사와 혼이 깃든 '예술품'으로 평가받습니다.\n",
      "---\n"
     ]
    }
   ],
   "source": [
    "for text in text_docs:\n",
    "    print(text.page_content)\n",
    "    print(\"---\")"
   ]
  }
 ],
 "metadata": {
  "kernelspec": {
   "display_name": "LLM-Study (3.10.18)",
   "language": "python",
   "name": "python3"
  },
  "language_info": {
   "codemirror_mode": {
    "name": "ipython",
    "version": 3
   },
   "file_extension": ".py",
   "mimetype": "text/x-python",
   "name": "python",
   "nbconvert_exporter": "python",
   "pygments_lexer": "ipython3",
   "version": "3.10.18"
  }
 },
 "nbformat": 4,
 "nbformat_minor": 5
}
