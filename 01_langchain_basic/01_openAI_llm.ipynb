{
 "cells": [
  {
   "cell_type": "markdown",
   "id": "920c8c68",
   "metadata": {},
   "source": [
    "## 랭스미스 추적 설정"
   ]
  },
  {
   "cell_type": "markdown",
   "id": "26b2cc2b",
   "metadata": {},
   "source": [
    "LangSmith는 LLM 애플리케이션 개발, 모니터링 및 테스트 를 위한 플랫폼입니다. 프로젝트나 LangChain 학습을 시작하시는 분들이라면 LangSmith는 꼭 설정 후 진행하는 것을 추천 드립니다."
   ]
  },
  {
   "cell_type": "code",
   "execution_count": 1,
   "id": "d9e5f089",
   "metadata": {},
   "outputs": [],
   "source": [
    "from dotenv import load_dotenv\n",
    "load_dotenv()\n",
    "\n",
    "import os\n",
    "project_name = \"langchain_basic\"\n",
    "os.environ[\"LANGSMITH_PROJECT\"] = project_name"
   ]
  },
  {
   "cell_type": "markdown",
   "id": "47719f57",
   "metadata": {},
   "source": [
    "## ChatOpenAI"
   ]
  },
  {
   "cell_type": "code",
   "execution_count": 7,
   "id": "b91b206f",
   "metadata": {},
   "outputs": [],
   "source": [
    "from langchain_openai import ChatOpenAI\n",
    "\n",
    "model = ChatOpenAI(\n",
    "    temperature=0.1, # 창의력 정도\n",
    "    model = \"gpt-4.1-mini\",\n",
    "    verbose=True,\n",
    ")"
   ]
  },
  {
   "cell_type": "code",
   "execution_count": null,
   "id": "47705f39",
   "metadata": {},
   "outputs": [],
   "source": [
    "question = \"일년에 한국에 오는 관광객 수는?\"\n",
    "response = model.invoke(question)"
   ]
  },
  {
   "cell_type": "code",
   "execution_count": 12,
   "id": "ab3c10d7",
   "metadata": {},
   "outputs": [
    {
     "data": {
      "text/plain": [
       "{'token_usage': {'completion_tokens': 188,\n",
       "  'prompt_tokens': 17,\n",
       "  'total_tokens': 205,\n",
       "  'completion_tokens_details': {'accepted_prediction_tokens': 0,\n",
       "   'audio_tokens': 0,\n",
       "   'reasoning_tokens': 0,\n",
       "   'rejected_prediction_tokens': 0},\n",
       "  'prompt_tokens_details': {'audio_tokens': 0, 'cached_tokens': 0}},\n",
       " 'model_name': 'gpt-4.1-mini-2025-04-14',\n",
       " 'system_fingerprint': 'fp_6d7dcc9a98',\n",
       " 'id': 'chatcmpl-CLKAMaVTt3gl7dhhrv3H8BjVUIsco',\n",
       " 'service_tier': 'default',\n",
       " 'finish_reason': 'stop',\n",
       " 'logprobs': None}"
      ]
     },
     "execution_count": 12,
     "metadata": {},
     "output_type": "execute_result"
    }
   ],
   "source": [
    "response.response_metadata"
   ]
  },
  {
   "cell_type": "code",
   "execution_count": 7,
   "id": "168271ef",
   "metadata": {},
   "outputs": [
    {
     "name": "stdout",
     "output_type": "stream",
     "text": [
      "content='한국을 방문하는 연간 관광객 수는 해마다 변동이 있지만, 최근 몇 년간의 데이터를 참고하면 대략적인 추이를 알 수 있습니다.\\n\\n- 2019년: 약 1,740만 명의 외국인 관광객이 한국을 방문했습니다. 이는 코로나19 팬데믹 이전의 최고 기록 중 하나입니다.\\n- 2020년~2021년: 코로나19 팬데믹으로 인해 입국 제한과 여행 감소로 관광객 수가 크게 줄어들어 수백만 명 수준에 머물렀습니다.\\n- 2022년 이후: 방역 완화와 국제 여행 재개로 관광객 수가 점차 회복되고 있습니다.\\n\\n정확한 최신 수치는 한국관광공사나 문화체육관광부의 공식 통계를 참고하는 것이 좋습니다. 필요하시면 최신 자료를 찾아드릴 수도 있습니다.' additional_kwargs={'refusal': None} response_metadata={'token_usage': {'completion_tokens': 188, 'prompt_tokens': 17, 'total_tokens': 205, 'completion_tokens_details': {'accepted_prediction_tokens': 0, 'audio_tokens': 0, 'reasoning_tokens': 0, 'rejected_prediction_tokens': 0}, 'prompt_tokens_details': {'audio_tokens': 0, 'cached_tokens': 0}}, 'model_name': 'gpt-4.1-mini-2025-04-14', 'system_fingerprint': 'fp_6d7dcc9a98', 'id': 'chatcmpl-CLKAMaVTt3gl7dhhrv3H8BjVUIsco', 'service_tier': 'default', 'finish_reason': 'stop', 'logprobs': None} id='run--95512980-9ea5-43b4-addb-f1f4749b17ec-0' usage_metadata={'input_tokens': 17, 'output_tokens': 188, 'total_tokens': 205, 'input_token_details': {'audio': 0, 'cache_read': 0}, 'output_token_details': {'audio': 0, 'reasoning': 0}}\n"
     ]
    }
   ],
   "source": [
    "print(response)"
   ]
  },
  {
   "cell_type": "code",
   "execution_count": 8,
   "id": "9190b710",
   "metadata": {},
   "outputs": [
    {
     "name": "stdout",
     "output_type": "stream",
     "text": [
      "한국을 방문하는 연간 관광객 수는 해마다 변동이 있지만, 최근 몇 년간의 데이터를 참고하면 대략적인 추이를 알 수 있습니다.\n",
      "\n",
      "- 2019년: 약 1,740만 명의 외국인 관광객이 한국을 방문했습니다. 이는 코로나19 팬데믹 이전의 최고 기록 중 하나입니다.\n",
      "- 2020년~2021년: 코로나19 팬데믹으로 인해 입국 제한과 여행 감소로 관광객 수가 크게 줄어들어 수백만 명 수준에 머물렀습니다.\n",
      "- 2022년 이후: 방역 완화와 국제 여행 재개로 관광객 수가 점차 회복되고 있습니다.\n",
      "\n",
      "정확한 최신 수치는 한국관광공사나 문화체육관광부의 공식 통계를 참고하는 것이 좋습니다. 필요하시면 최신 자료를 찾아드릴 수도 있습니다.\n"
     ]
    }
   ],
   "source": [
    "print(response.content)"
   ]
  },
  {
   "cell_type": "markdown",
   "id": "1e3bcd66",
   "metadata": {},
   "source": [
    "### LogProb 활성화\n",
    "\n",
    "주어진 텍스트에 대한 모델의 **토큰 확률의 로그 값** 을 의미합니다. 토큰이란 문장을 구성하는 개별 단어나 문자 등의 요소를 의미하고, 확률은 **모델이 그 토큰을 예측할 확률**을 나타냅니다."
   ]
  },
  {
   "cell_type": "code",
   "execution_count": 3,
   "id": "b4c2e5ef",
   "metadata": {},
   "outputs": [],
   "source": [
    "from langchain_openai import ChatOpenAI\n",
    "\n",
    "llm_with_logprob = ChatOpenAI(\n",
    "    temperature=0.1,  # 창의성 (0.0 ~ 2.0)\n",
    "    max_tokens=2048,  # 최대 토큰수\n",
    "    model=\"gpt-4.1-mini\",  # 모델명\n",
    ").bind(logprobs=True)"
   ]
  },
  {
   "cell_type": "code",
   "execution_count": 4,
   "id": "3cbba852",
   "metadata": {},
   "outputs": [],
   "source": [
    "# 질의내용\n",
    "question = \"대한민국의 수도는 어디인가요?\"\n",
    "\n",
    "# 질의\n",
    "response = llm_with_logprob.invoke(question)"
   ]
  },
  {
   "cell_type": "code",
   "execution_count": 5,
   "id": "e4e74189",
   "metadata": {},
   "outputs": [
    {
     "data": {
      "text/plain": [
       "{'token_usage': {'completion_tokens': 11,\n",
       "  'prompt_tokens': 16,\n",
       "  'total_tokens': 27,\n",
       "  'completion_tokens_details': {'accepted_prediction_tokens': 0,\n",
       "   'audio_tokens': 0,\n",
       "   'reasoning_tokens': 0,\n",
       "   'rejected_prediction_tokens': 0},\n",
       "  'prompt_tokens_details': {'audio_tokens': 0, 'cached_tokens': 0}},\n",
       " 'model_name': 'gpt-4.1-mini-2025-04-14',\n",
       " 'system_fingerprint': 'fp_c064fdde7c',\n",
       " 'id': 'chatcmpl-CQuQTiYT8XJTOGPEWPP0vPjNbsKGa',\n",
       " 'service_tier': 'default',\n",
       " 'finish_reason': 'stop',\n",
       " 'logprobs': {'content': [{'token': '대한',\n",
       "    'bytes': [235, 140, 128, 237, 149, 156],\n",
       "    'logprob': 0.0,\n",
       "    'top_logprobs': []},\n",
       "   {'token': '민국',\n",
       "    'bytes': [235, 175, 188, 234, 181, 173],\n",
       "    'logprob': -3.128163257315464e-07,\n",
       "    'top_logprobs': []},\n",
       "   {'token': '의',\n",
       "    'bytes': [236, 157, 152],\n",
       "    'logprob': -1.2664456789934775e-06,\n",
       "    'top_logprobs': []},\n",
       "   {'token': ' 수도',\n",
       "    'bytes': [32, 236, 136, 152, 235, 143, 132],\n",
       "    'logprob': -7.822646693966817e-06,\n",
       "    'top_logprobs': []},\n",
       "   {'token': '는',\n",
       "    'bytes': [235, 138, 148],\n",
       "    'logprob': 0.0,\n",
       "    'top_logprobs': []},\n",
       "   {'token': ' 서울',\n",
       "    'bytes': [32, 236, 132, 156, 236, 154, 184],\n",
       "    'logprob': -0.000432695698691532,\n",
       "    'top_logprobs': []},\n",
       "   {'token': '특',\n",
       "    'bytes': [237, 138, 185],\n",
       "    'logprob': -0.38695862889289856,\n",
       "    'top_logprobs': []},\n",
       "   {'token': '별',\n",
       "    'bytes': [235, 179, 132],\n",
       "    'logprob': -1.3425219549390022e-05,\n",
       "    'top_logprobs': []},\n",
       "   {'token': '시',\n",
       "    'bytes': [236, 139, 156],\n",
       "    'logprob': -7.100059156073257e-05,\n",
       "    'top_logprobs': []},\n",
       "   {'token': '입니다',\n",
       "    'bytes': [236, 158, 133, 235, 139, 136, 235, 139, 164],\n",
       "    'logprob': -0.0001242772996192798,\n",
       "    'top_logprobs': []},\n",
       "   {'token': '.',\n",
       "    'bytes': [46],\n",
       "    'logprob': -1.9361264946837764e-07,\n",
       "    'top_logprobs': []}],\n",
       "  'refusal': None}}"
      ]
     },
     "execution_count": 5,
     "metadata": {},
     "output_type": "execute_result"
    }
   ],
   "source": [
    "# 결과 출력\n",
    "response.response_metadata"
   ]
  },
  {
   "cell_type": "markdown",
   "id": "f2a76dd8",
   "metadata": {},
   "source": [
    "### 스트리밍 출력"
   ]
  },
  {
   "cell_type": "code",
   "execution_count": 8,
   "id": "12778a98",
   "metadata": {},
   "outputs": [
    {
     "name": "stdout",
     "output_type": "stream",
     "text": [
      "대한민국의 수도는 서울특별시입니다."
     ]
    }
   ],
   "source": [
    "answer = model.stream(question)\n",
    "\n",
    "for token in answer:\n",
    "    print(token.content, end=\"\", flush=True)"
   ]
  },
  {
   "cell_type": "markdown",
   "id": "6d81db13",
   "metadata": {},
   "source": [
    "## 멀티모달 모델(이미지 인식)"
   ]
  },
  {
   "cell_type": "code",
   "execution_count": 9,
   "id": "a1a57c60",
   "metadata": {},
   "outputs": [],
   "source": [
    "import base64, os\n",
    "\n",
    "def encode_image_from_file(file_path):\n",
    "        with open(file_path, \"rb\") as image_file:\n",
    "            image_content = image_file.read()\n",
    "            file_ext = os.path.splitext(file_path)[1].lower()\n",
    "            if file_ext in [\".jpg\", \".jpeg\"]:\n",
    "                mime_type = \"image/jpeg\"\n",
    "            elif file_ext == \".png\":\n",
    "                mime_type = \"image/png\"\n",
    "            else:\n",
    "                mime_type = \"image/unknown\"\n",
    "            return f\"data:{mime_type};base64,{base64.b64encode(image_content).decode('utf-8')}\""
   ]
  },
  {
   "cell_type": "code",
   "execution_count": 10,
   "id": "e786570e",
   "metadata": {},
   "outputs": [],
   "source": [
    "from langchain_openai import ChatOpenAI\n",
    "\n",
    "model = ChatOpenAI(\n",
    "    temperature=0.1, # 창의력 정도\n",
    "    model = \"gpt-4.1-mini\",\n",
    "    verbose=True,\n",
    ")"
   ]
  },
  {
   "cell_type": "code",
   "execution_count": 11,
   "id": "cff1bc5d",
   "metadata": {},
   "outputs": [],
   "source": [
    "encoded_image = encode_image_from_file(\"../data/tom.png\")"
   ]
  },
  {
   "cell_type": "code",
   "execution_count": 12,
   "id": "b834ab00",
   "metadata": {},
   "outputs": [],
   "source": [
    "system_prompt = \"\"\n",
    "user_prompt = \"\""
   ]
  },
  {
   "cell_type": "code",
   "execution_count": 14,
   "id": "eb7a1bd5",
   "metadata": {},
   "outputs": [],
   "source": [
    "result = model.invoke([\n",
    "            {\n",
    "                \"role\": \"system\",\n",
    "                \"content\": system_prompt,\n",
    "            },\n",
    "            {\n",
    "                \"role\": \"user\",\n",
    "                \"content\": [\n",
    "                    {\n",
    "                        \"type\": \"text\",\n",
    "                        \"text\": user_prompt,\n",
    "                    },\n",
    "                    {\n",
    "                        \"type\": \"image_url\",\n",
    "                        \"image_url\": {\"url\": f\"{encoded_image}\"},\n",
    "                    },\n",
    "                ],\n",
    "            },\n",
    "        ])"
   ]
  },
  {
   "cell_type": "code",
   "execution_count": 16,
   "id": "745f3713",
   "metadata": {},
   "outputs": [
    {
     "data": {
      "text/plain": [
       "'This image depicts the classic cartoon characters Tom and Jerry. Tom, the gray cat, appears to be running away with a surprised or scared expression, while Jerry, the brown mouse, is chasing him with an angry or determined look. The background is a simple beige color, emphasizing the characters and their dynamic interaction. This scene captures the typical chase and comedic conflict that is central to the \"Tom and Jerry\" series.'"
      ]
     },
     "execution_count": 16,
     "metadata": {},
     "output_type": "execute_result"
    }
   ],
   "source": [
    "result.content"
   ]
  }
 ],
 "metadata": {
  "kernelspec": {
   "display_name": "LLM-Study (3.11.13)",
   "language": "python",
   "name": "python3"
  },
  "language_info": {
   "codemirror_mode": {
    "name": "ipython",
    "version": 3
   },
   "file_extension": ".py",
   "mimetype": "text/x-python",
   "name": "python",
   "nbconvert_exporter": "python",
   "pygments_lexer": "ipython3",
   "version": "3.11.13"
  }
 },
 "nbformat": 4,
 "nbformat_minor": 5
}
