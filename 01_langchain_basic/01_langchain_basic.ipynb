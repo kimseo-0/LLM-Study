{
 "cells": [
  {
   "cell_type": "markdown",
   "id": "920c8c68",
   "metadata": {},
   "source": [
    "# 랭스미스 추적 설정"
   ]
  },
  {
   "cell_type": "markdown",
   "id": "26b2cc2b",
   "metadata": {},
   "source": [
    "LangSmith는 LLM 애플리케이션 개발, 모니터링 및 테스트 를 위한 플랫폼입니다. 프로젝트나 LangChain 학습을 시작하시는 분들이라면 LangSmith는 꼭 설정 후 진행하는 것을 추천 드립니다."
   ]
  },
  {
   "cell_type": "code",
   "execution_count": 2,
   "id": "d9e5f089",
   "metadata": {},
   "outputs": [],
   "source": [
    "from dotenv import load_dotenv\n",
    "load_dotenv()\n",
    "\n",
    "import os\n",
    "project_name = \"langchain_basic\"\n",
    "os.environ[\"LANGSMITH_PROJECT\"] = project_name"
   ]
  },
  {
   "cell_type": "markdown",
   "id": "47719f57",
   "metadata": {},
   "source": [
    "# 연결 확인"
   ]
  },
  {
   "cell_type": "code",
   "execution_count": 3,
   "id": "b91b206f",
   "metadata": {},
   "outputs": [],
   "source": [
    "from langchain_openai import ChatOpenAI\n",
    "\n",
    "model = ChatOpenAI(\n",
    "    temperature=0.1, # 창의력 정도\n",
    "    model = \"gpt-4.1-mini\",\n",
    "    verbose=True\n",
    ")"
   ]
  },
  {
   "cell_type": "code",
   "execution_count": 4,
   "id": "47705f39",
   "metadata": {},
   "outputs": [],
   "source": [
    "question = \"일년에 한국에 오는 관광객 수는?\"\n",
    "response = model.invoke(question)"
   ]
  },
  {
   "cell_type": "code",
   "execution_count": 12,
   "id": "ab3c10d7",
   "metadata": {},
   "outputs": [
    {
     "data": {
      "text/plain": [
       "{'token_usage': {'completion_tokens': 188,\n",
       "  'prompt_tokens': 17,\n",
       "  'total_tokens': 205,\n",
       "  'completion_tokens_details': {'accepted_prediction_tokens': 0,\n",
       "   'audio_tokens': 0,\n",
       "   'reasoning_tokens': 0,\n",
       "   'rejected_prediction_tokens': 0},\n",
       "  'prompt_tokens_details': {'audio_tokens': 0, 'cached_tokens': 0}},\n",
       " 'model_name': 'gpt-4.1-mini-2025-04-14',\n",
       " 'system_fingerprint': 'fp_6d7dcc9a98',\n",
       " 'id': 'chatcmpl-CLKAMaVTt3gl7dhhrv3H8BjVUIsco',\n",
       " 'service_tier': 'default',\n",
       " 'finish_reason': 'stop',\n",
       " 'logprobs': None}"
      ]
     },
     "execution_count": 12,
     "metadata": {},
     "output_type": "execute_result"
    }
   ],
   "source": [
    "response.response_metadata"
   ]
  },
  {
   "cell_type": "code",
   "execution_count": 7,
   "id": "168271ef",
   "metadata": {},
   "outputs": [
    {
     "name": "stdout",
     "output_type": "stream",
     "text": [
      "content='한국을 방문하는 연간 관광객 수는 해마다 변동이 있지만, 최근 몇 년간의 데이터를 참고하면 대략적인 추이를 알 수 있습니다.\\n\\n- 2019년: 약 1,740만 명의 외국인 관광객이 한국을 방문했습니다. 이는 코로나19 팬데믹 이전의 최고 기록 중 하나입니다.\\n- 2020년~2021년: 코로나19 팬데믹으로 인해 입국 제한과 여행 감소로 관광객 수가 크게 줄어들어 수백만 명 수준에 머물렀습니다.\\n- 2022년 이후: 방역 완화와 국제 여행 재개로 관광객 수가 점차 회복되고 있습니다.\\n\\n정확한 최신 수치는 한국관광공사나 문화체육관광부의 공식 통계를 참고하는 것이 좋습니다. 필요하시면 최신 자료를 찾아드릴 수도 있습니다.' additional_kwargs={'refusal': None} response_metadata={'token_usage': {'completion_tokens': 188, 'prompt_tokens': 17, 'total_tokens': 205, 'completion_tokens_details': {'accepted_prediction_tokens': 0, 'audio_tokens': 0, 'reasoning_tokens': 0, 'rejected_prediction_tokens': 0}, 'prompt_tokens_details': {'audio_tokens': 0, 'cached_tokens': 0}}, 'model_name': 'gpt-4.1-mini-2025-04-14', 'system_fingerprint': 'fp_6d7dcc9a98', 'id': 'chatcmpl-CLKAMaVTt3gl7dhhrv3H8BjVUIsco', 'service_tier': 'default', 'finish_reason': 'stop', 'logprobs': None} id='run--95512980-9ea5-43b4-addb-f1f4749b17ec-0' usage_metadata={'input_tokens': 17, 'output_tokens': 188, 'total_tokens': 205, 'input_token_details': {'audio': 0, 'cache_read': 0}, 'output_token_details': {'audio': 0, 'reasoning': 0}}\n"
     ]
    }
   ],
   "source": [
    "print(response)"
   ]
  },
  {
   "cell_type": "code",
   "execution_count": 8,
   "id": "9190b710",
   "metadata": {},
   "outputs": [
    {
     "name": "stdout",
     "output_type": "stream",
     "text": [
      "한국을 방문하는 연간 관광객 수는 해마다 변동이 있지만, 최근 몇 년간의 데이터를 참고하면 대략적인 추이를 알 수 있습니다.\n",
      "\n",
      "- 2019년: 약 1,740만 명의 외국인 관광객이 한국을 방문했습니다. 이는 코로나19 팬데믹 이전의 최고 기록 중 하나입니다.\n",
      "- 2020년~2021년: 코로나19 팬데믹으로 인해 입국 제한과 여행 감소로 관광객 수가 크게 줄어들어 수백만 명 수준에 머물렀습니다.\n",
      "- 2022년 이후: 방역 완화와 국제 여행 재개로 관광객 수가 점차 회복되고 있습니다.\n",
      "\n",
      "정확한 최신 수치는 한국관광공사나 문화체육관광부의 공식 통계를 참고하는 것이 좋습니다. 필요하시면 최신 자료를 찾아드릴 수도 있습니다.\n"
     ]
    }
   ],
   "source": [
    "print(response.content)"
   ]
  },
  {
   "cell_type": "markdown",
   "id": "f2a76dd8",
   "metadata": {},
   "source": [
    "# 스트리밍 출력"
   ]
  },
  {
   "cell_type": "code",
   "execution_count": 15,
   "id": "12778a98",
   "metadata": {},
   "outputs": [
    {
     "name": "stdout",
     "output_type": "stream",
     "text": [
      "한국을 방문하는 연간 관광객 수는 해마다 변동이 있지만, 최근 몇 년간의 데이터를 참고하면 대략적인 추정을 할 수 있습니다.\n",
      "\n",
      "- 2019년: 약 1,740만 명의 외국인 관광객이 한국을 방문했습니다. 이는 코로나19 팬데믹 이전의 최고 기록 중 하나입니다.\n",
      "- 2020년~2021년: 코로나19 팬데믹으로 인해 입국 제한과 여행 감소로 관광객 수가 크게 줄어들어 수백만 명 수준에 머물렀습니다.\n",
      "- 2022년 이후: 방역 완화와 국제 여행 재개로 관광객 수가 점차 회복되고 있습니다.\n",
      "\n",
      "정확한 최신 통계는 한국관광공사나 통계청의 공식 자료를 참고하는 것이 좋습니다."
     ]
    }
   ],
   "source": [
    "answer = model.stream(question)\n",
    "\n",
    "for token in answer:\n",
    "    print(token.content, end=\"\", flush=True)"
   ]
  }
 ],
 "metadata": {
  "kernelspec": {
   "display_name": "langchain-study (3.10.18)",
   "language": "python",
   "name": "python3"
  },
  "language_info": {
   "codemirror_mode": {
    "name": "ipython",
    "version": 3
   },
   "file_extension": ".py",
   "mimetype": "text/x-python",
   "name": "python",
   "nbconvert_exporter": "python",
   "pygments_lexer": "ipython3",
   "version": "3.10.18"
  }
 },
 "nbformat": 4,
 "nbformat_minor": 5
}
