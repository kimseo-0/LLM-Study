{
 "cells": [
  {
   "cell_type": "code",
   "execution_count": 1,
   "id": "9598765a",
   "metadata": {},
   "outputs": [
    {
     "data": {
      "text/plain": [
       "True"
      ]
     },
     "execution_count": 1,
     "metadata": {},
     "output_type": "execute_result"
    }
   ],
   "source": [
    "from dotenv import load_dotenv\n",
    "load_dotenv()"
   ]
  },
  {
   "cell_type": "markdown",
   "id": "c722136e",
   "metadata": {},
   "source": [
    "### 1. 상태를 정의하기\n",
    "- state 정의\n",
    "- 이름이나, 대화 내용 설정"
   ]
  },
  {
   "cell_type": "code",
   "execution_count": 2,
   "id": "c20c938f",
   "metadata": {},
   "outputs": [],
   "source": [
    "from typing import Annotated, TypedDict\n",
    "from langgraph.graph import StateGraph, START, END\n",
    "from langgraph.graph.message import add_messages\n",
    "from langchain_openai import ChatOpenAI\n",
    "\n",
    "# 도구\n",
    "from langgraph.prebuilt.tool_node import ToolNode, tools_condition"
   ]
  },
  {
   "cell_type": "code",
   "execution_count": 3,
   "id": "d794a1f4",
   "metadata": {},
   "outputs": [],
   "source": [
    "# 1. tool 세팅\n",
    "from langchain_tavily import TavilySearch\n",
    "search_tool = TavilySearch(max_result=5)\n",
    "tools = [search_tool]\n",
    "\n",
    "# 2. State 정의\n",
    "class State(TypedDict):\n",
    "    messages : Annotated[list, add_messages]\n",
    "\n",
    "# 3. LLM + tool 연결\n",
    "model = ChatOpenAI(\n",
    "    model = \"gpt-4.1-mini\",\n",
    "    temperature=0\n",
    ")\n",
    "llm_with_tool = model.bind_tools(tools)\n",
    "\n",
    "# 4. chatbot 노드 정의\n",
    "def agent_chatbot(state : State):\n",
    "    answer = llm_with_tool.invoke(state['messages'])\n",
    "    return {\"messages\" : [answer]}\n",
    "\n",
    "# 5. 그래프 초기화 & 노드 추가\n",
    "graph_builder = StateGraph(State)\n",
    "graph_builder.add_node(\"chatbot\", agent_chatbot)\n",
    "\n",
    "# 6. 도구 노드 생성\n",
    "tool_node = ToolNode(tools=tools)\n",
    "graph_builder.add_node(\"tools\", tool_node)\n",
    "\n",
    "# 7-1. 조건부 엣지 설정\n",
    "graph_builder.add_conditional_edges(\n",
    "    source=\"chatbot\",\n",
    "    path = tools_condition,\n",
    "    path_map = [\"tools\", END]\n",
    "    # path_map = {\"tools\": \"tools\", END : END}\n",
    "    )\n",
    "\n",
    "# 7-2. 전체 엣지 설정 (나머지 부분 연결하는 것)\n",
    "graph_builder.add_edge(\"tools\", \"chatbot\")\n",
    "graph_builder.add_edge(START, \"chatbot\")\n",
    "\n",
    "# 8. 그래프 컴파일\n",
    "graph = graph_builder.compile()"
   ]
  },
  {
   "cell_type": "code",
   "execution_count": 4,
   "id": "5a9ffbf6",
   "metadata": {},
   "outputs": [
    {
     "data": {
      "image/png": "[encoded data removed]",
      "text/plain": [
       "<langgraph.graph.state.CompiledStateGraph object at 0x00000175B4DA6B90>"
      ]
     },
     "execution_count": 4,
     "metadata": {},
     "output_type": "execute_result"
    }
   ],
   "source": [
    "graph"
   ]
  },
  {
   "cell_type": "code",
   "execution_count": null,
   "id": "86db0766",
   "metadata": {},
   "outputs": [
    {
     "name": "stdout",
     "output_type": "stream",
     "text": [
      "------------------------------ messages ------------------------------\n",
      "================================\u001b[1m Human Message \u001b[0m=================================\n",
      "\n",
      "2025년 석촌동민의날 축제 하는거 알아? 해당 축제에 대한 세부 내용을 찾아서 알려줘\n",
      "------------------------------ messages ------------------------------\n",
      "==================================\u001b[1m Ai Message \u001b[0m==================================\n",
      "Tool Calls:\n",
      "  tavily_search (call_DhJmbPk9fD2MzJrdx8Z7TKM1)\n",
      " Call ID: call_DhJmbPk9fD2MzJrdx8Z7TKM1\n",
      "  Args:\n",
      "    query: 2025년 석촌동민의날 축제 세부 내용\n",
      "------------------------------ messages ------------------------------\n",
      "=================================\u001b[1m Tool Message \u001b[0m=================================\n",
      "Name: tavily_search\n",
      "\n",
      "{\"query\": \"2025년 석촌동민의날 축제 세부 내용\", \"follow_up_questions\": null, \"answer\": null, \"images\": [], \"results\": [{\"url\": \"https://karrotmarket.com/kr/community/?in=%EC%86%A1%ED%8C%8C2%EB%8F%99-416&search=%EB%B4%89%EC%82%AC%ED%99%9C%EB%8F%99\", \"title\": \"서울특별시 송파구 송파2동 이야기 | 당근 동네생활 - Karrot\", \"content\": \"10월 31일(금)부터 석촌호수에서 개최되는 송파구의 가을겨울 대표 빛축제! ＇2025년 호수의 가을과 겨울 그리고 루미나리에＇ 축제의 자원봉사자를 다음과 같이 모집합니다.\", \"score\": 0.33928064, \"raw_content\": null}, {\"url\": \"https://songpa.newstool.co.kr/pdf/songpa_202502.pdf\", \"title\": \"[PDF] 2025. 2. 제620호 - 송파소식\", \"content\": \"아름다운 석촌호수에서 현실과 고대국. 가를 오가는 판타지 멜로영화가 촬영되길 기대한다. <봄. 날은 간다> <8월의 크리스마스> <덕혜옹주> <천문:하. 늘\", \"score\": 0.21703075, \"raw_content\": null}, {\"url\": \"http://www.tvseoul.kr/news/article_list_writer.html?name=%EB%8F%84%EA%B8%B0%ED%98%84&user_no=0&page=74\", \"title\": \"TV서울\", \"content\": \"'2025 문화도시 박람회' 개막 · 3걸그룹 에스파 신보 '리치 맨', 14개국 아이튠즈 '톱 앨범' 1위 · 4동작구, '2025 빵도동 축제' 개최 · 5경찰, \\\"서대문 초등생 유괴미수\", \"score\": 0.17955965, \"raw_content\": null}, {\"url\": \"https://songpa.newstool.co.kr/pdf/songpa_202405.pdf\", \"title\": \"[PDF] 2024. 05. 제611호 - 송파소식\", \"content\": \"사업대상 \\u0007 송파구 거주 중장년(40세~64세) 1인가구 사업내용 \\u0007 중장년 1인가구가 함께 하는 요리 및 저녁 식사 참가비 무료 신청방법 \\u0007 매월 1일 송파구가족센터 (familynet.or.kr)를 프로그램 안내 에서 신청 신청결과 개별 전화/문자 안내 문의 \\u0007 송파구 가족센터 1인가구지원팀 070-7450-4331 행정정보 운영단체 장소 운영일 새마을운동 송파구지회 등 성내천 5교 ~ 6교 5, 6, 9, 10월 둘째주 토요일 (10:00 ~ 16:00) 레이크팰리스 부녀회 개나리공원 (잠실3동) 장미마을나눔 봉사단 잠실나루역 3번 출구 주변 오후(13시)부터 운영 가락1동 새마을부녀회 가락1동 주민센터 앞 ※ \\u0007 세부사항 송파구 홈페이지 참조 (사정에 따라 일정·장소 변경될 수 있음) 교육명 자전거 안전교육 자전거 수리체험 교육 일시 • 기간 1회차(5.\", \"score\": 0.07602966, \"raw_content\": null}, {\"url\": \"https://ms.smc.seoul.kr/record/pdfDownload.do?key=923b9cb97a8ff58fcc548cd41807b1e1f355c182da736518c963a540175daa010c4e322bc30bcc09\", \"title\": \"[PDF] 문화체육관광위원회회의록 - 서울특별시의회 회의록\", \"content\": \"주요 내용으로는 2025년까지 운영 예정이던 5명. 의 한시정원을 삭제하고 사무처 157명에서 165명. 으로 총정원을 526명에서 534명으로 8명 증원하고. 자 합니다. 자세한\", \"score\": 0.061791133, \"raw_content\": null}], \"response_time\": 0.77, \"request_id\": \"0fb2d89b-e4ea-4278-af12-ca332e90c848\"}\n",
      "------------------------------ messages ------------------------------\n",
      "==================================\u001b[1m Ai Message \u001b[0m==================================\n",
      "\n",
      "2025년 석촌동민의날 축제에 대한 구체적인 세부 내용은 검색 결과에서 직접적으로 확인되지 않았습니다. 다만, 석촌동이 위치한 송파구에서는 10월 31일부터 석촌호수에서 '2025년 호수의 가을과 겨울 그리고 루미나리에'라는 빛축제가 개최될 예정이며, 이와 관련된 자원봉사자 모집 소식이 있습니다.\n",
      "\n",
      "추가로, 송파구 관련 행사나 축제 정보는 송파구 공식 홈페이지나 지역 소식지를 통해 확인하는 것이 가장 정확할 것으로 보입니다.\n",
      "\n",
      "필요하시면 송파구 축제나 석촌동 관련 다른 행사에 대해 더 찾아드릴 수 있습니다.\n"
     ]
    }
   ],
   "source": [
    "question = \"2025년 석촌동민의날 축제 하는거 알아? 세부 내용도 알려줘\"\n",
    "\n",
    "for evt in graph.stream({\"messages\" : [(\"user\", question)]}, stream_mode=\"values\"):\n",
    "    for key, value in evt.items():\n",
    "        print(\"-\"*30, key,\"-\"*30)\n",
    "        value[-1].pretty_print()"
   ]
  }
 ],
 "metadata": {
  "kernelspec": {
   "display_name": "LLM-Study (3.11.13)",
   "language": "python",
   "name": "python3"
  },
  "language_info": {
   "codemirror_mode": {
    "name": "ipython",
    "version": 3
   },
   "file_extension": ".py",
   "mimetype": "text/x-python",
   "name": "python",
   "nbconvert_exporter": "python",
   "pygments_lexer": "ipython3",
   "version": "3.11.13"
  }
 },
 "nbformat": 4,
 "nbformat_minor": 5
}
