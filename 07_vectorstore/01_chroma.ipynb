{
 "cells": [
  {
   "cell_type": "code",
   "execution_count": 1,
   "id": "3415b350",
   "metadata": {},
   "outputs": [],
   "source": [
    "from langchain_chroma import Chroma\n",
    "from langchain.retrievers import EnsembleRetriever\n",
    "from langchain_openai import OpenAIEmbeddings\n",
    "from langchain_community.document_loaders import PyPDFLoader"
   ]
  },
  {
   "cell_type": "code",
   "execution_count": 2,
   "id": "a8fd33de",
   "metadata": {},
   "outputs": [],
   "source": [
    "emb = OpenAIEmbeddings(model=\"text-embedding-3-small\")"
   ]
  },
  {
   "cell_type": "code",
   "execution_count": 3,
   "id": "abc930b5",
   "metadata": {},
   "outputs": [],
   "source": [
    "sv_2024_pdf_path = \"../data/Sustainability_report_2024_kr.pdf\"\n",
    "sv_2025_pdf_path = \"../data/Samsung_Electronics_Sustainability_Report_2025_KOR.pdf\""
   ]
  },
  {
   "cell_type": "markdown",
   "id": "848040e2",
   "metadata": {},
   "source": [
    "# 문서 가져오기"
   ]
  },
  {
   "cell_type": "code",
   "execution_count": 4,
   "id": "2d814ae0",
   "metadata": {},
   "outputs": [
    {
     "name": "stdout",
     "output_type": "stream",
     "text": [
      "2024년 문서 로드 완료\n",
      "2025년 문서 로드 완료\n"
     ]
    }
   ],
   "source": [
    "# 문서 가져오기\n",
    "loader_2024 = PyPDFLoader(sv_2024_pdf_path)\n",
    "docs_2024 = loader_2024.load()\n",
    "print(\"2024년 문서 로드 완료\")\n",
    "\n",
    "loader_2025 = PyPDFLoader(sv_2025_pdf_path)\n",
    "docs_2025 = loader_2025.load()\n",
    "print(\"2025년 문서 로드 완료\")"
   ]
  },
  {
   "cell_type": "code",
   "execution_count": 5,
   "id": "a97842c6",
   "metadata": {},
   "outputs": [
    {
     "name": "stdout",
     "output_type": "stream",
     "text": [
      "83\n",
      "87\n"
     ]
    }
   ],
   "source": [
    "print(len(docs_2024))\n",
    "print(len(docs_2025))"
   ]
  },
  {
   "cell_type": "markdown",
   "id": "cefa9081",
   "metadata": {},
   "source": [
    "# 텍스트 스플리트"
   ]
  },
  {
   "cell_type": "code",
   "execution_count": 6,
   "id": "6a86cea9",
   "metadata": {},
   "outputs": [],
   "source": [
    "# 텍스트 스플리트\n",
    "from langchain_text_splitters import RecursiveCharacterTextSplitter\n",
    "\n",
    "spliiter = RecursiveCharacterTextSplitter(\n",
    "    chunk_size = 1000,\n",
    "    chunk_overlap = 100\n",
    ")\n",
    "chunck_2024 = spliiter.split_documents(docs_2024)\n",
    "chunck_2025 = spliiter.split_documents(docs_2025)"
   ]
  },
  {
   "cell_type": "code",
   "execution_count": 7,
   "id": "6143570a",
   "metadata": {},
   "outputs": [
    {
     "data": {
      "text/plain": [
       "207"
      ]
     },
     "execution_count": 7,
     "metadata": {},
     "output_type": "execute_result"
    }
   ],
   "source": [
    "len(chunck_2024)"
   ]
  },
  {
   "cell_type": "code",
   "execution_count": 8,
   "id": "83cad42b",
   "metadata": {},
   "outputs": [
    {
     "data": {
      "text/plain": [
       "237"
      ]
     },
     "execution_count": 8,
     "metadata": {},
     "output_type": "execute_result"
    }
   ],
   "source": [
    "len(chunck_2025)"
   ]
  },
  {
   "cell_type": "markdown",
   "id": "8eb9f588",
   "metadata": {},
   "source": [
    "# 벡터 스토어 저장"
   ]
  },
  {
   "cell_type": "code",
   "execution_count": 9,
   "id": "34bab82b",
   "metadata": {},
   "outputs": [],
   "source": [
    "# 벡터 스토어 저장\n",
    "db_path = \"../vectorstore/chromadb_store\"\n",
    "\n",
    "vs_2024 = Chroma.from_documents(\n",
    "    documents=chunck_2024,\n",
    "    embedding=emb,\n",
    "    persist_directory=db_path,\n",
    "    collection_name=\"samsung_2024\"\n",
    ")"
   ]
  },
  {
   "cell_type": "code",
   "execution_count": 10,
   "id": "19a6cc8b",
   "metadata": {},
   "outputs": [],
   "source": [
    "vs_2025 = Chroma.from_documents(\n",
    "    documents=chunck_2025,\n",
    "    embedding=emb,\n",
    "    persist_directory=db_path,\n",
    "    collection_name=\"samsung_2025\"\n",
    ")"
   ]
  },
  {
   "cell_type": "code",
   "execution_count": 11,
   "id": "869be2fc",
   "metadata": {},
   "outputs": [],
   "source": [
    "r_2024 = vs_2024.as_retriever(search_kwargs = {\"k\":5})\n",
    "r_2025 = vs_2025.as_retriever(search_kwargs = {\"k\":5})"
   ]
  },
  {
   "cell_type": "code",
   "execution_count": 12,
   "id": "6d5d5421",
   "metadata": {},
   "outputs": [
    {
     "data": {
      "text/plain": [
       "[Document(id='fac7d5cb-ac8e-46b3-9f21-8334522dd535', metadata={'total_pages': 83, 'trapped': '/False', 'moddate': '2024-11-25T11:10:46+09:00', 'page': 29, 'source': '../data/Sustainability_report_2024_kr.pdf', 'creator': 'Adobe InDesign 15.1 (Macintosh)', 'creationdate': '2024-11-25T11:10:32+09:00', 'page_label': '30', 'producer': 'Adobe PDF Library 15.0'}, page_content='삼성전자 지속가능경영보고서 2024 30Our Company AppendixMateriality Assessment Facts & Figures PrinciplePlanet People\\n사회적 책임을 다하며 미래로 함께 나아갑니다.\\nPeople\\n31    임직원\\n39    공급망\\n45    사회공헌\\n48    개인정보보호/보안\\n50    고객의 안전/품질'),\n",
       " Document(id='2f96f1bf-a6b7-492d-a440-4c873e60ed38', metadata={'source': '../data/Sustainability_report_2024_kr.pdf', 'moddate': '2024-11-25T11:10:46+09:00', 'creator': 'Adobe InDesign 15.1 (Macintosh)', 'producer': 'Adobe PDF Library 15.0', 'trapped': '/False', 'creationdate': '2024-11-25T11:10:32+09:00', 'total_pages': 83, 'page': 81, 'page_label': '82'}, page_content='삼성전자 지속가능경영보고서 2024\\n82\\nOur Company AppendixMateriality Assessment Facts & Figures PrinciplePlanet People\\nAbout This Report\\n삼성전자주식회사는 경제·사회·환경적 가치 창출 성과를 다양한 이해관계자와 투명하게 소통하기 위해 2024년 열일곱번째 지속가능경영보고서를 발간합니다.\\n작성 기준\\n본 보고서는 지속가능경영 보고 기준인 GRI(Global Reporting Initiative) \\nStandard 2021에 따라  작성 했습니다. 또한 글로벌 지속가능경영 \\n표준과 이니셔티브인 UN SDGs(Sustainab le Development Goals)\\n와 TCFD(Task Force on Cl imate-related Financial Disclosures), \\nSASB(Sustainabil ity Accountin g Standards Board)의 지표를 \\n반영했습니다.\\n보고 범위\\n국내와 해외 모든  사업장과 공급망을 포 함합니다. 재무성과는 K- IFRS  \\n연결기준으로 작성했으며, 사업장 환경 성과는 국내외 31개 생산거점에서 \\n수집한 데이터를 기준으로 작성했습니다. 삼성전자의 본점소재지는 경기도 \\n수원시 영통구 삼성로 129(매탄동)에 위치해 있습니다.\\n보고 기간\\n2023년 1월1일부터 2023년 12월 31일까지의 경제·사회·환경적 성과와 \\n활동을 담고 있으며, 일부 성과에 대해서는 2024년 5월 까지의 정보를 \\n포함하고 있습니다. 정량성과는 연도별 추이 분석이 가능하도록 최근 3개년 \\n수치를 포함하고 있습니다.\\n보고 주기\\n매년(지난해 보고서 발간 시기 : 2023년 6월)\\n보고서 인증\\n보고서 작성 프 로세스와 게재된 정보에 대한 신뢰  확보를 위해 독립된 \\n인증 기관인 안진회계법인이 제3자 검증을 수행했습니다. 검증기준은 \\nISAE3000을 적용했습니다.\\n관련 정보\\n·  삼성전자주식회사 대표 홈페이지 \\n http://www.samsung.com/sec'),\n",
       " Document(id='2b01154c-3171-44f7-a8b1-a51da75f8651', metadata={'moddate': '2024-11-25T11:10:46+09:00', 'creator': 'Adobe InDesign 15.1 (Macintosh)', 'page': 4, 'total_pages': 83, 'page_label': '5', 'trapped': '/False', 'creationdate': '2024-11-25T11:10:32+09:00', 'producer': 'Adobe PDF Library 15.0', 'source': '../data/Sustainability_report_2024_kr.pdf'}, page_content='삼성전자 지속가능경영보고서 2024\\n05\\nOur Company AppendixMateriality Assessment Facts & Figures PrinciplePlanet People\\n회사소개\\nAbout Us\\n삼성전자주식회사(이하 삼성전자)는 인재와 기술을 바탕으로 최고의 제품과 서비스를 창출하여 인류사회에 공헌하는 글로벌 초일류기업을 지향합니다. \\n이를 위해 삼성전자의 경영철학을 반영한 5가지 핵심가치 를 수립하였고, 핵심가치를 세부원칙과 행동지침 으로 구체화하여 삼성전자 임직원이 \\n지켜야 할 글로벌 행동규범(Global Code of Conduct) 을 제정하였습니다. 삼성전자는 조직문화에 5가지 핵심가치를 내재화하고 글로벌 행동규범을 \\n모든 경영활동의 기준으로 삼아 지속적으로 성장해갈 것입니다. \\n사업부문 및 글로벌 네트워크 소개\\n삼성전자는 제품 특성에 따라 DX(Device eXperience)와 DS(Device Solutions) 2개 부문으로 나뉘어 독립적으로 운영되고 있습니다. DX부문은 \\n스마트폰, 네트워크 시스템, 컴퓨터, TV, 냉장고, 세탁기, 에어컨, 의료기기 등 완제품을 생산/판매하고 있으며, DS부문은 메모리 반도체 사업, Foundry \\n사업, System LSI 사업으로 구성되어 DRAM, NAND Flash, 모바일AP 등의 반도체 부품을 생산/판매하고 있습니다. 삼성전자는 2023년 말 기준 전 \\n세계에 232개의 생산거점, 판매거점, R&D 센터, 디자인 센터를 보유하고 있습니다.\\n Our Company\\n매출\\n169조 9,923억 원\\n영업이익\\n14조 3,847억 원 네트워크\\nMobile eXperience 영상디스플레이 생활가전\\n의료기기\\n매출\\n66조 5,945억 원\\n영업이익\\n△14조 8,795억 원\\nFoundry System LSI\\n주요 사업부\\nDevice eXperienceDX\\nDS Device Solutions\\n메모리\\n※ 상기 매출과 영업이익은 2023년 실적을 기준으로, SDC, Harman을 제외하고 작성했습니다.'),\n",
       " Document(id='cfe4bb7c-fe34-40e7-ad65-3436f0f6e238', metadata={'trapped': '/False', 'page_label': '57', 'total_pages': 83, 'creationdate': '2024-11-25T11:10:32+09:00', 'creator': 'Adobe InDesign 15.1 (Macintosh)', 'producer': 'Adobe PDF Library 15.0', 'moddate': '2024-11-25T11:10:46+09:00', 'page': 56, 'source': '../data/Sustainability_report_2024_kr.pdf'}, page_content='삼성전자 지속가능경영보고서 2024\\n57\\nOur Company AppendixMateriality Assessment Facts & Figures PrinciplePlanet People\\n사회성과\\n준법·윤리경영 2021년 2022년 2023년\\n컴플라이언스 교육\\n컴플라이언스 교육\\n1)\\n명 141,723 126,867  138,742 \\n부정 예방 교육\\n부정 예방 교육\\n2)\\n명 198,592 254,045  254,511 \\n컴플라이언스 제보\\n컴플라이언스 제보\\n3)\\n건 911 1,098  1,400 \\n부정 제보\\n부정 제보\\n4)\\n건 929 999  892 \\n부정 제보 비율 % 12 13  16 \\n소비자 민원 비중 % 30 34  36 \\n기타 비율 % 58 54  49 \\n1) 컴플라이언스 교육 수집범위 : 국내 임직원(계약직 포함), 중복 포함\\n2) 부정 예방 교육 수집범위 : 국내외 임직원(중복 포함)\\n3) 컴플라이언스 제보 : 삼성전자 준법경영사이트(https://sec-compliance.net) 집계기준\\n4) 부정 제보 : 삼성전자 윤리경영사이트(https://sec-audit.com) 집계기준\\n사회공헌 2021년\\n3)\\n2022년 2023년\\n임직원 봉사활동 총 시간\\n임직원 봉사활동 총 시간\\n1)\\n시간 824,329 1,068,867 652,677\\n임직원 인당 봉사시간 시간 3.04 3.95 2.44\\n프로그램 누적 수혜자 수\\n2)\\n삼성청년SW아카데미 명 3,950 6,250  8,550 \\n삼성드림클래스 명 112,602 116,999  124,604 \\n삼성스마트스쿨\\n3)\\n명 5 ,917 5,9 17  5 , 917 \\n삼성주니어SW아카데미 명 112,341 156,061 210,294\\n삼성희망디딤돌 명 10,476 16,760  27 ,065 \\n삼성푸른코끼리 명 353,201 662,142  940,029 \\n삼성솔브포투모로우 명 2,146,951 2,397,255  2,619,592 \\n삼성이노베이션캠퍼스 명 74,984 119,807  177 ,619'),\n",
       " Document(id='1b39a073-5fdf-4628-bfc6-155755885997', metadata={'page': 39, 'page_label': '40', 'producer': 'Adobe PDF Library 15.0', 'total_pages': 83, 'moddate': '2024-11-25T11:10:46+09:00', 'trapped': '/False', 'creator': 'Adobe InDesign 15.1 (Macintosh)', 'creationdate': '2024-11-25T11:10:32+09:00', 'source': '../data/Sustainability_report_2024_kr.pdf'}, page_content='삼성전자 지속가능경영보고서 2024\\n40\\nOur Company AppendixMateriality Assessment Facts & Figures PrinciplePlanet People\\n근로자 소통 \\n삼성전자는 신규 협력회사 선정, ESG 점검, 고충처리 절차 설계 과정에서 \\n협력회사와 협력회사 근로자의 의견에 귀를 기울입니다. \\n고충처리 시스템 구축 및 운영\\n핫라인\\n삼성전자 DX부문은 핫라인을 운영하여 협력회사 내부에서 발생 하는 \\n근로환경 기준 위반이나 인권침해 사례를 전화, 이메일 등을 통해 제보 \\n받은 후, 사실관계를 확인하여 개선조치를 취합니다. 협력회사 임직원들이 \\n보복에 대한 두려움 없이 제보할 수 있도록 전 과정에서 제보자의 신원을 \\n철저히 보호하고 있습니다. 핫라인 안내 포스터는 사무실, 복도, 생산 현장, \\n기숙사, 식당 등에 현지 언어로 게시합니다.\\n삼성전자의 고충처리 담당 부서는 모 든 접수 사례에 대한 사실관계를 \\n1주일 이내에 직 접 확인하고, 제보자에게 조 치 계 획을 회 신한 후 \\n협력회사의 개선 여부를 확인합니다. 고충처리가 원만히 진행되었는지 \\n최종적으로 확인하기 위해 제보자 만족도 조사를 실시합니다. \\n사이버신문고\\n삼성전자 DX부문은 2010년부터 사이버신문고를 통해 직/간접 거래를 \\n하는 1차 협력회사 뿐만 아니라 2차 이하 및 비제조 협력회사 등 다양한 \\n이해관계자들로부터 애로 및 건의사항을 청취하고 분쟁이 발생할 경우 \\n중재 역할을 합니다.\\n사이버신문고는 홈페이지, 협력회사 포 탈 사이 트, 이메일 등을 통해 \\n접속하며 거래관계 개선, 대금 결제, 보상, 협력회사 지원 프로그램, 언행 \\n및 태도뿐만 아니라 기타 과도한 근로시간, 부당해고, 이동의 자유 제한, \\n급여 미지급 등과 같은 다양한 고충을 접수합니다. \\n상생협력포털 고충처리 제보 채널   \\n삼성전자 DS부문은 상 생협력포털 의 익명/실명 게시 판, 유선 및 \\n이메일 등 다양한 경로로 협력회사의 고충을 접수하고, 협력회사 근로환경')]"
      ]
     },
     "execution_count": 12,
     "metadata": {},
     "output_type": "execute_result"
    }
   ],
   "source": [
    "r_2024.invoke(\"2024년 삼성 경영 관련 내용 알려줘\")"
   ]
  },
  {
   "cell_type": "code",
   "execution_count": 13,
   "id": "a4c6a050",
   "metadata": {},
   "outputs": [
    {
     "data": {
      "text/plain": [
       "[Document(id='176c5eff-fe0a-4024-aedf-dc0e9919c419', metadata={'page_label': '5', 'source': '../data/Samsung_Electronics_Sustainability_Report_2025_KOR.pdf', 'page': 4, 'producer': 'Adobe PDF Library 15.0', 'trapped': '/False', 'creationdate': '2025-07-10T16:11:16+09:00', 'creator': 'Adobe InDesign 15.1 (Macintosh)', 'total_pages': 87, 'moddate': '2025-09-04T16:51:11+09:00'}, page_content='삼성전자 지속가능경영보고서 2025\\n05\\nOur Company AppendixFacts & Figures PrinciplePlanet People\\n회사소개\\nAbout Us\\n삼성전자주식회사(이하 삼성전자)는 인재와 기술을 기반으로 최고의 제품과 서비스를 창출함으로써 인류사회에 기여하는 글로벌 초일류 기업을 지향합니다. 이를 위해 삼성전자가 지켜나갈 약속인 5가지 경영원칙 을 세부원칙과 \\n행동지침으로 구체화하고, 삼성전자 임직원이 지켜야 할 행동규범 으로 제정하여 모든 경영활동의 기준으로 삼고 있습니다. 앞으로도 삼성전자는 조직문화에 5가지 핵심가치 를 내재화하여 지속적으로 성장해갈 것입니다.\\n사업부문 및 글로벌 네트워크 소개\\n삼성전자는 제품 특성에 따라 DX(Device eXperience)와 DS(Device Solutions) 2개 부문으로 나뉘어 독립적으로 운영되고 있습니다. DX부문은 스마트폰, 네트워크 시스템, 컴퓨터, TV, 냉장고, 세탁기, 에어컨, 의료기기 등 완제품을 \\n생산·판매하고 있으며, DS부문은 메모리 사업, Foundry 사업, System LSI 사업으로 구성되어 DRAM, NAND Flash, 모바일AP 등의 반도체 부품을 생산·판매합니다. 삼성전자는 2024년 말 기준 전 세계에 240개의 생산거점, \\n판매거점, R&D 센터, 디자인 센터 등을 보유하고 있습니다.\\n매출\\n174조 8,877억 원\\n영업이익\\n12조 4,399억 원\\n네트워크\\nMobile eXperience 영상디스플레이\\n생활가전 의료기기\\n주요 사업부\\nDevice eXperience\\nDX DS\\nDevice Solutions\\n※ 상기 매출과 영업이익은 2024년 실적 기준이며, SDC, Harman의 실적은 제외된 것입니다.\\n1) 내부관리 기준에 따른 지역구분   2) 판매법인, 지점 등   3) 물류법인, IP 오피스 등   4) 당사 제품 생산용 부품을 공급하는 기업\\n임직원 262,647명 연구개발비 35.0조 원운영국가 76개국협력회사\\n4)\\n 2,503개\\n지역총괄\\n1)'),\n",
       " Document(id='01308d54-4ea7-418d-84f1-59259c7a87e2', metadata={'creator': 'Adobe InDesign 15.1 (Macintosh)', 'moddate': '2025-09-04T16:51:11+09:00', 'page_label': '3', 'producer': 'Adobe PDF Library 15.0', 'creationdate': '2025-07-10T16:11:16+09:00', 'source': '../data/Samsung_Electronics_Sustainability_Report_2025_KOR.pdf', 'trapped': '/False', 'total_pages': 87, 'page': 2}, page_content='삼성전자 지속가능경영보고서 2025\\n03\\nOur Company AppendixFacts & Figures PrinciplePlanet People\\nOur Company\\nCEO 메시지\\n회사소개\\n기업 지배구조\\n중대성 평가\\n이해관계자 소통\\n04\\n05\\n06\\n07\\n09'),\n",
       " Document(id='f058b7c5-34ad-4a62-8884-bd390fade02e', metadata={'creator': 'Adobe InDesign 15.1 (Macintosh)', 'producer': 'Adobe PDF Library 15.0', 'total_pages': 87, 'trapped': '/False', 'moddate': '2025-09-04T16:51:11+09:00', 'page': 46, 'source': '../data/Samsung_Electronics_Sustainability_Report_2025_KOR.pdf', 'page_label': '47', 'creationdate': '2025-07-10T16:11:16+09:00'}, page_content='삼성전자 지속가능경영보고서 2025\\n47\\n고충처리 시스템 구축과 운영\\n핫라인\\n삼성전자 DX부문은 협력회사 내부에서 발생하는 근 로환경 기준 \\n위반이나 인권침해 사례를 제보할 수 있는 핫 라인을 운영합니다. 또한 \\n협력회사 임직원들이 보복에 대한 두려움 없이 고충을 제보할 수 있도록 \\n고충처리 전 과정에서 제보자의 신원을 보호하고 있습니다. 핫라인 이용 \\n안내문은 현지 언어로 제작하여 사무실, 복도, 생산 현장, 기숙사, 식당 \\n등 근로자들이 자주 이용하는 공 간에 부착하며, 전화와 이메일 등으로 \\n제보를 입수합니다. \\n핫라인 담당부서는 고충 접수 후 7일 이내에 사실 확인을 거쳐 구체적인 \\n개선방안을 제보자에게 안내해야 합니다. 이후 개선사항의 이행 여부를 \\n주기적으로 확인하며, 최종 적으로 제보자 만족 도 조사를 실시하여 \\n실질적 문제 해결 여부를 모니터링합니다.\\n사이버 신문고\\nDX부문은 사이버 신문고를 통해 2010년부터 1차 협력회사뿐만 아니라 \\n2차 이하와 비제조 협력회사 등 다양한 이해관계자들로부터 애로사항과 \\n고충을 청취합니다. 외부에서 접속할 수 있는 삼성전자 구매 통합 \\n시스템 내 고충 건의 창구인 사이버 신문고와 대외 이메일로 협력회사와 \\n협력회사 근로자들은 애로사항과 고충을 접수할 수 있으며, 익 명으로 \\n접수가 가능하여 불이익이나 보복의 대상이 되지 않도록 합니다. 접수된 \\n모든 내용은 신속성 ·투명성·공정성을 원 칙으로 하여, 정해진 절 차와 \\n기준에 따라 사실관계를 파악하고 처리한 후 결과를 공유합니다. 단, 장기 \\n검토가 필요한 경우 다소 시 간이 걸리더라도 관련 부서와 이해관계자 \\n협의체를 구성하여 고충 해결을 위해 노력합니다.\\n2024년에는 접수된 190건의 고충을 모두 처리하였으며, 2025년부터는 \\n고충제기의 편의성 제고와 신속한 대응을 위해 사이버 신문고 시스템을 \\n개편하여 운영할 계획입니다.\\n핫라인 및 사이버 신문고 2024년 운영 성과\\n총 57건 접수·개선완료\\n핫라인\\n190건 접수·개선완료\\n사이버 신문고'),\n",
       " Document(id='772b2973-b526-42da-a1cf-047490686abd', metadata={'producer': 'Adobe PDF Library 15.0', 'total_pages': 87, 'moddate': '2025-09-04T16:51:11+09:00', 'source': '../data/Samsung_Electronics_Sustainability_Report_2025_KOR.pdf', 'trapped': '/False', 'page_label': '86', 'page': 85, 'creationdate': '2025-07-10T16:11:16+09:00', 'creator': 'Adobe InDesign 15.1 (Macintosh)'}, page_content='삼성전자 지속가능경영보고서 2025\\n86\\n삼성전자주식회사는 경제·사회·환경적 가치 창출 성과를 다양한 이해관계자와 투명하게 소통하기 위해 2025년 열여덟 번째 지속가능경영보고서를 발간합니다.\\n작성 기준\\n본 보고서는 지속가능경영 보고 기준인 GRI(Global Reporting Initiative) \\nStandard 2021에 따라 작성했습니다. 또한 글로벌 지속가능경영 \\n표준과 이니셔티브인 UN SDGs(Sustainable Development Goals) \\n와 TCFD(Task Force on Climate -related Financial Disclosures), \\nSASB(Sustainability Accounting Standards Board)의 지표를 \\n반영했습니다.\\n보고 범위\\n국내와 해 외 모든 사업장과 공급망을 포함합니다. 재무성과는 K-IFRS \\n연결기준으로 작성했으며, 사업장 환경 성과는 국내 외 33개 생산 거점 \\n뿐만 아니라 판매/연구소 등을 포함 하여 수집한 데이터를 기준으로 \\n작성했습니다. 삼성전자의 본 점소재지는 경기도 수원시 영통구 삼성로 \\n129(매탄동)에 위치해 있습니다.\\n보고 기간\\n2024년 1월1일부터 2024년 12월 31일까지의 경제·사회·환경적 성과와 \\n활동을 담고 있으며, 일부 성과에 대해서는 2025년 6월 까지의 정보를 \\n포함하고 있습니다. 정량성과는 연도별 추이 분 석이 가능하도록 최근  \\n3개년 수치를 포함하고 있습니다.\\n보고 주기\\n매년(지난해 보고서 발간 시기: 2024년 6월)\\n보고서 인증\\n보고서 작성 프로세스와 게재된 정보에 대한 신뢰 확보를 위해 독립된 인증 \\n기관인 안진회계법인이 제3자 검증을 수 행했습니다. 검증기준은 ISAE \\n3000을 적용했습니다.\\n관련 정보\\n·  삼성전자주식회사 대표 웹사이트  \\nhttp://www.samsung.com/sec\\n·  삼성전자주식회사 지속가능경영 웹사이트   \\nhttp://www.samsung.com/sec/sustainability/main'),\n",
       " Document(id='aa291809-9cec-4163-aeb1-dc213c9c03bd', metadata={'trapped': '/False', 'page': 1, 'page_label': '2', 'producer': 'Adobe PDF Library 15.0', 'total_pages': 87, 'creationdate': '2025-07-10T16:11:16+09:00', 'moddate': '2025-09-04T16:51:11+09:00', 'source': '../data/Samsung_Electronics_Sustainability_Report_2025_KOR.pdf', 'creator': 'Adobe InDesign 15.1 (Macintosh)'}, page_content='삼성전자 지속가능경영보고서 2025 02AppendixFacts & Figures PrinciplePlanet PeopleOur Company삼성전자 지속가능경영보고서 2025 02\\nA Journey  Towards \\n a Sustainable Future\\nA Journey  Towards \\n a Sustainable Future\\n삼성전자 지속가능경영보고서 2025\\nCEO 메시지\\n회사소개\\n기업 지배구조\\n중대성 평가\\n이해관계자 소통\\n준법과 윤리경영\\n[DX부문] \\n추진체계와 주요성과 \\n기후변화 \\n자원순환\\n수자원\\n오염물질\\n경제성과\\n사회성과\\n환경성과 \\n사업부문별 환경성과 \\n[DS부문] \\n추진체계와 주요성과 \\n기후변화 \\n자원순환\\n수자원\\n오염물질\\n독립된 인증인의 인증보고서\\nScope 1, 2 온실가스 배출량 검증 의견서 \\nScope 3 온실가스 배출량 검증 의견서 \\nGRI Index\\nTCFD 대조표\\nSASB 대조표\\nAbout This Report \\n임직원\\n공급망\\n사회공헌\\n개인정보보호와 보안\\n제품 품질과 안전\\nOur Company\\nPrinciple\\nPlanet\\nFacts & Figures Appendix \\nPeople\\n04\\n05\\n06\\n07\\n09\\n59\\n11\\n12\\n16\\n18\\n20\\n62\\n63\\n68\\n72\\n21\\n22\\n27\\n29\\n32\\n76\\n77\\n78\\n80\\n82\\n84\\n86\\n35\\n45\\n51\\n53\\n55')]"
      ]
     },
     "execution_count": 13,
     "metadata": {},
     "output_type": "execute_result"
    }
   ],
   "source": [
    "r_2025.invoke(\"2025년 삼성 경영 관련 내용 알려줘\")"
   ]
  },
  {
   "cell_type": "code",
   "execution_count": 14,
   "id": "d37f45a3",
   "metadata": {},
   "outputs": [
    {
     "name": "stdout",
     "output_type": "stream",
     "text": [
      "삼성전자 지속가능경영보고서 2024\n",
      "04\n",
      "Our Company AppendixMateriality Assessment Facts & Figures PrinciplePlanet People\n",
      "CEO 메시지\n",
      "Message from \n",
      "Our CEO\n",
      "주주, 고객, 협력회사, 그리고 임직원 여러분,\n",
      "2023년은 고금리와 인플레이션, 지정학적 이슈 등 매우 불확실한 \n",
      "거시경제 환경과 함께, 메모리 산업 부진과 다양한 제품군에서의 경쟁 \n",
      "심화로 삼성전자에게 매우 어려운 한 해였습니다. 이토록 대내외적으로 \n",
      "어려운 환경에서도 지속 성장의 기반 마련을 위해 역대 최고 수준의 28.3\n",
      "조원을 연구개발에 투자하고, 53.1조원 수준의 전략적 시설투자로 기술 \n",
      "리더십을 강화하며 중장기 수요에 미리 대응할 수 있었던 것은 삼성전자를 \n",
      "아껴주시는 이해관계자 여러분의 관심과 격려 덕분입니다. 다시 한 번 \n",
      "깊이 감사 드립니다.\n",
      "급격한 변화를 겪고 있는 경제 상황에 맞춰, 기업의 지속가능경영 \n",
      "분야에서도 많은 변화가 일어나고 있습니다. 특히 기업의 지속가능경영 \n",
      "활동 정보 공개는 글로벌 비재무정보 공시 제도의 확산에 맞춰, 새로운 \n",
      "국면을 맞고 있습니다. 국제회계기준재단(IFRS Foundation)이 2023년 \n",
      "6월 지속가능성 지표를 확정한 것을 시작으로, EU의 지속가능성 보고지침\n",
      "(CSRD)과 미국 증권거래위원회(SEC) 기후공시 기준 역시 세부 내용을 \n",
      "순차적으로 확정하며 ESG 정보의 의무 공시 시대가 열리고 있습니다.\n",
      "이와 함께, EU 탄소국경조정제도(CBAM)와 EU 배터리규제 등을 통한 \n",
      "환경규제 역시 지속 강화되는 추세이고, 독일에서는 공급망의 인권과 \n",
      "근로환경 관리를 의무화하는 공급망실사법이 2023년 발효되었으며, \n",
      "2024년 5월 EU 공급망 실사지침(CSDDD)이 확정되는 등 인권 분야에 \n",
      "대한 관심 또한 지속 고조되고 있습니다. \n",
      "삼성전자는 이러한 추세에 맞춰 지속가능한 미래를 위한 노력을 계속해\n"
     ]
    }
   ],
   "source": [
    "esb_r = EnsembleRetriever(retrievers=[r_2024, r_2025], weights=[0.5, 0.5])\n",
    "result = esb_r.invoke(\"2024년과 2025년 차이 요약해줘\")\n",
    "print(result[0].page_content)"
   ]
  },
  {
   "cell_type": "code",
   "execution_count": 15,
   "id": "093f4dfc",
   "metadata": {},
   "outputs": [
    {
     "name": "stdout",
     "output_type": "stream",
     "text": [
      "삼성전자 지속가능경영보고서 2025\n",
      "62\n",
      "경제성과\n",
      "핵심 재무 성과\n",
      "1)\n",
      "2022년 2023년 2024년\n",
      "매출액 조 원  302.2  258.9  300.9 \n",
      "영업이익 조 원  43.4  6.6  32.7 \n",
      "당기순이익 조 원  55.7  15.5  34.5 \n",
      "1) 연결 재무제표 기준\n",
      "사업부문별 매출\n",
      "1)\n",
      "2022년 2023년 2024년\n",
      "[사업부문별 매출(절대값)]\n",
      "DX부문 조 원  182.5  170.0  174.9 \n",
      "DS부문 조 원  98.5  66.6  111.1 \n",
      "SDC 조 원  34.4  31.0  29.2\n",
      "Harman\n",
      "2)\n",
      "조 원  13.2  14.4  14.3 \n",
      "[사업부문별 매출(비율)]\n",
      "DX부문 %  56  60  53 \n",
      "DS부문 %  30  24  34 \n",
      "SDC %  10  11  9 \n",
      "Harman %  4  5  4 \n",
      "1) 순매출액 기준\n",
      "2) 2016년 인수\n",
      "지역별 매출\n",
      "1)\n",
      "2022년 2023년 2024년\n",
      "[지역별 매출(절대값)]\n",
      "미주 조 원  119.0  92.1  118.8 \n",
      "유럽 조 원  50.3  48.1  50.1 \n",
      "한국 조 원  48.7  45.6  39.8 \n",
      "아시아·아프리카\n",
      "2) 조 원  84.3  73.1  92.1 \n",
      "[지역별 매출(비율)]\n",
      "미주 %  39  35  39 \n",
      "유럽 %  17  19  17 \n",
      "한국 %  16  18  13 \n",
      "아시아∙아프리카 %  28  28  31 \n",
      "1) 순매출액 기준\n",
      "2) 2024년 보고서부터 아시아·아프리카에 중국도 합산\n",
      "경제 가치 분배 2022년 2023년 2024년\n",
      "[협력회사] \n",
      "구매 비용 조 원  219.8  212.8  226.1 \n",
      "[지역사회]\n",
      "사회공헌 비용 조 원  0.4  0.4  0.3 \n",
      "[주주·투자자] \n",
      "배당금 조 원  9.8  9.8  9.8 \n",
      "배당성향 %  18  68  29 \n",
      "[채권자] \n",
      "이자 비용 조 원  0.8  0.9  0.9 \n",
      "[임직원] \n",
      "인건비 조 원  37 .6  38.0  40.5 \n",
      "[정부]\n",
      "조세공과금 조 원  13.0  8.2  8.2\n"
     ]
    }
   ],
   "source": [
    "esb_r = EnsembleRetriever(retrievers=[r_2024, r_2025], weights=[0.3, 0.7])\n",
    "result = esb_r.invoke(\"2024년과 2025년 차이 요약해줘\")\n",
    "print(result[0].page_content)"
   ]
  },
  {
   "cell_type": "markdown",
   "id": "fcd2363d",
   "metadata": {},
   "source": [
    "# 크로마 DB 병합"
   ]
  },
  {
   "cell_type": "code",
   "execution_count": 16,
   "id": "3180cd03",
   "metadata": {},
   "outputs": [],
   "source": [
    "import chromadb\n",
    "from chromadb.config import Settings\n",
    "\n",
    "db_path = \"../vectorstore/chromadb_store\"\n",
    "\n",
    "client = chromadb.PersistentClient(path=db_path)\n",
    "\n",
    "src24 = client.get_collection(\"samsung_2024\")\n",
    "src25 = client.get_collection(\"samsung_2025\")"
   ]
  },
  {
   "cell_type": "code",
   "execution_count": 17,
   "id": "27186ff4",
   "metadata": {},
   "outputs": [],
   "source": [
    "# 새롭게 전체 데이터베이스 생성\n",
    "vs_all = Chroma(\n",
    "    collection_name=\"samsung_all\",\n",
    "    persist_directory=db_path,\n",
    "    embedding_function=emb,\n",
    ")"
   ]
  },
  {
   "cell_type": "code",
   "execution_count": 18,
   "id": "ef365f84",
   "metadata": {},
   "outputs": [],
   "source": [
    "dst = client.get_collection(\"samsung_all\")"
   ]
  },
  {
   "cell_type": "code",
   "execution_count": 19,
   "id": "b88ec471",
   "metadata": {},
   "outputs": [
    {
     "name": "stdout",
     "output_type": "stream",
     "text": [
      "[samsung_2024] moved 207 docs so far...\n"
     ]
    }
   ],
   "source": [
    "# 2. samsung_2024 → samsung_all 복사\n",
    "batch = 1000\n",
    "offset = 0\n",
    "while True:\n",
    "    batch_data = src24.get(\n",
    "        include=[\"embeddings\", \"metadatas\", \"documents\"],\n",
    "        limit=batch, offset=offset\n",
    "    )\n",
    "    ids = batch_data[\"ids\"]\n",
    "    if not ids:\n",
    "        break\n",
    "\n",
    "    # ID 충돌 방지: 접두사 붙이기\n",
    "    new_ids = [f\"{src24.name}::{i}\" for i in ids]\n",
    "\n",
    "    dst.upsert(\n",
    "        ids=new_ids,\n",
    "        documents=batch_data[\"documents\"],\n",
    "        embeddings=batch_data[\"embeddings\"],   # 이미 계산된 벡터 재사용\n",
    "        metadatas=batch_data[\"metadatas\"],\n",
    "    )\n",
    "    offset += len(ids)\n",
    "    print(f\"[{src24.name}] moved {offset} docs so far...\")"
   ]
  },
  {
   "cell_type": "code",
   "execution_count": 20,
   "id": "768327c9",
   "metadata": {},
   "outputs": [
    {
     "name": "stdout",
     "output_type": "stream",
     "text": [
      "[samsung_2025] moved 237 docs so far...\n"
     ]
    }
   ],
   "source": [
    "# 3. samsung_2025 → samsung_all 복사\n",
    "batch = 1000\n",
    "offset = 0\n",
    "while True:\n",
    "    batch_data = src25.get(\n",
    "        include=[\"embeddings\", \"metadatas\", \"documents\"],\n",
    "        limit=batch, offset=offset\n",
    "    )\n",
    "    ids = batch_data[\"ids\"]\n",
    "    if not ids:\n",
    "        break\n",
    "\n",
    "    new_ids = [f\"{src25.name}::{i}\" for i in ids]\n",
    "\n",
    "    dst.upsert(\n",
    "        ids=new_ids,\n",
    "        documents=batch_data[\"documents\"],\n",
    "        embeddings=batch_data[\"embeddings\"],\n",
    "        metadatas=batch_data[\"metadatas\"],\n",
    "    )\n",
    "    offset += len(ids)\n",
    "    print(f\"[{src25.name}] moved {offset} docs so far...\")"
   ]
  },
  {
   "cell_type": "code",
   "execution_count": 21,
   "id": "5d39aff3",
   "metadata": {},
   "outputs": [
    {
     "data": {
      "text/plain": [
       "444"
      ]
     },
     "execution_count": 21,
     "metadata": {},
     "output_type": "execute_result"
    }
   ],
   "source": [
    "vs_all._collection.count()"
   ]
  },
  {
   "cell_type": "code",
   "execution_count": 27,
   "id": "9abdacbe",
   "metadata": {},
   "outputs": [],
   "source": [
    "result = vs_all.similarity_search(\"2024년과 2025년 변화 요약\", k=5)"
   ]
  },
  {
   "cell_type": "code",
   "execution_count": 28,
   "id": "18c7cd95",
   "metadata": {},
   "outputs": [
    {
     "data": {
      "text/plain": [
       "\"삼성전자 지속가능경영보고서 2025\\n04\\nOur Company AppendixFacts & Figures PrinciplePlanet People\\n주주, 고객, 협력회사, 그리고 임직원 여러분,\\n2024년은 글로벌 지정학적 리스크와 AI 기술의 성장 등 급격한 산업의 \\n변화를 겪은 한 해였습니다. 산업계 전반에 걸친 경쟁은 한층 더 \\n치열해지고 있으며, 새로운 기술은 사업 전반에 큰 변화를 요구하고 \\n있습니다. \\n삼성전자는 이러한 환경에서도 전년 대비 16%의 매출 증가와 5배에 \\n달하는 영업이익을 기록했습니다. 전략적 시설투자와 연구개발 강화 등 \\n지속 성장의 기반을 다지는 데에도 집중했습니다.\\n다양한 분야의 이해관계자 여러분께서 삼성전자의 이러한 노력을 \\n인정하고 성원해 주신 결과, 삼성전자의 브랜드 가치는 인터브랜드 평가 \\n기준 사상 첫 1,000억 달러를 돌파하며 5년 연속 글로벌 5위로 평가 \\n받았습니다. 진심으로 감사드립니다.\\n급변하는 경영 환경과 사회∙경제적 리스크에 대응하기 위한 확실한 \\n해법은 기본에 충실한 경영과 지속가능한 성장 기반 마련에 있습니다. \\n삼성전자는 이러한 믿음을 바탕으로 사업경쟁력과 기술혁신의 원동력을 \\n제고하기 위해 사회 전반에서 다양한 활동을 지속하고 있습니다.\\n환경 분야에 대해 먼저 말씀드립니다. 삼성전자는 2022년 9월 발표한 '新\\n환경경영전략'을 기반으로 탄소중립 달성, 자원순환 극대화, 그리고 기술 \\n혁신을 통한 환경 난제 해결을 위해 노력하고 있습니다.\\nDX(Device eXperience)부문은 2030년 탄소중립 달성을 목표로 2024\\n년 말 기준 전체 에너지의 93.4%가 재생에너지로 전환되었고, 대표 \\n제품 모델에는 고효율 에너지 기술을 적용해 2019년 대비 평균 31.5%\\n의 소비전력을 절감했습니다. 제품에 사용되는 플라스틱 부품의 31%에 \\n재활용 소재를 적용하는 성과를 이뤘습니다.\\nDS(Device Solutions)부문은 2050년 탄소중립 달성을 목표로\""
      ]
     },
     "execution_count": 28,
     "metadata": {},
     "output_type": "execute_result"
    }
   ],
   "source": [
    "result[0].page_content"
   ]
  }
 ],
 "metadata": {
  "kernelspec": {
   "display_name": "LLM-Study (3.11.13)",
   "language": "python",
   "name": "python3"
  },
  "language_info": {
   "codemirror_mode": {
    "name": "ipython",
    "version": 3
   },
   "file_extension": ".py",
   "mimetype": "text/x-python",
   "name": "python",
   "nbconvert_exporter": "python",
   "pygments_lexer": "ipython3",
   "version": "3.11.13"
  }
 },
 "nbformat": 4,
 "nbformat_minor": 5
}
