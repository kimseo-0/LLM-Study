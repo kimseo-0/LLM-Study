{
 "cells": [
  {
   "cell_type": "code",
   "execution_count": 1,
   "id": "d48a5d00",
   "metadata": {},
   "outputs": [
    {
     "data": {
      "text/plain": [
       "True"
      ]
     },
     "execution_count": 1,
     "metadata": {},
     "output_type": "execute_result"
    }
   ],
   "source": [
    "from dotenv import load_dotenv\n",
    "load_dotenv()"
   ]
  },
  {
   "cell_type": "code",
   "execution_count": 2,
   "id": "802992d0",
   "metadata": {},
   "outputs": [],
   "source": [
    "from langchain_community.document_loaders import PyPDFLoader\n",
    "\n",
    "pdf_docs = PyPDFLoader(\"../data/Sustainability_report_2024_kr.pdf\").load()"
   ]
  },
  {
   "cell_type": "code",
   "execution_count": 3,
   "id": "0dc211d1",
   "metadata": {},
   "outputs": [
    {
     "data": {
      "text/plain": [
       "83"
      ]
     },
     "execution_count": 3,
     "metadata": {},
     "output_type": "execute_result"
    }
   ],
   "source": [
    "len(pdf_docs)"
   ]
  },
  {
   "cell_type": "code",
   "execution_count": 4,
   "id": "140439a5",
   "metadata": {},
   "outputs": [
    {
     "data": {
      "text/plain": [
       "207"
      ]
     },
     "execution_count": 4,
     "metadata": {},
     "output_type": "execute_result"
    }
   ],
   "source": [
    "from langchain_text_splitters import RecursiveCharacterTextSplitter\n",
    "\n",
    "rec_splitter = RecursiveCharacterTextSplitter(\n",
    "    chunk_size=1000,\n",
    "    chunk_overlap=100\n",
    ")\n",
    "chunk_docs = rec_splitter.split_documents(pdf_docs)\n",
    "len(chunk_docs)"
   ]
  },
  {
   "cell_type": "code",
   "execution_count": 5,
   "id": "33cb0572",
   "metadata": {},
   "outputs": [
    {
     "data": {
      "text/plain": [
       "Document(metadata={'producer': 'Adobe PDF Library 15.0', 'creator': 'Adobe InDesign 15.1 (Macintosh)', 'creationdate': '2024-11-25T11:10:32+09:00', 'moddate': '2024-11-25T11:10:46+09:00', 'trapped': '/False', 'source': '../data/Sustainability_report_2024_kr.pdf', 'total_pages': 83, 'page': 0, 'page_label': '1'}, page_content='A Journey Towards  \\na Sustainable Future\\n삼성전자 지속가능경영보고서 2024')"
      ]
     },
     "execution_count": 5,
     "metadata": {},
     "output_type": "execute_result"
    }
   ],
   "source": [
    "chunk_docs[0]"
   ]
  },
  {
   "cell_type": "code",
   "execution_count": 6,
   "id": "cb142f7a",
   "metadata": {},
   "outputs": [],
   "source": [
    "for item in chunk_docs:\n",
    "    item.metadata = {**(item.metadata), \"class\" : \"wanted\"}"
   ]
  },
  {
   "cell_type": "code",
   "execution_count": 7,
   "id": "2b27ecca",
   "metadata": {},
   "outputs": [
    {
     "data": {
      "text/plain": [
       "Document(metadata={'producer': 'Adobe PDF Library 15.0', 'creator': 'Adobe InDesign 15.1 (Macintosh)', 'creationdate': '2024-11-25T11:10:32+09:00', 'moddate': '2024-11-25T11:10:46+09:00', 'trapped': '/False', 'source': '../data/Sustainability_report_2024_kr.pdf', 'total_pages': 83, 'page': 0, 'page_label': '1', 'class': 'wanted'}, page_content='A Journey Towards  \\na Sustainable Future\\n삼성전자 지속가능경영보고서 2024')"
      ]
     },
     "execution_count": 7,
     "metadata": {},
     "output_type": "execute_result"
    }
   ],
   "source": [
    "chunk_docs[0]"
   ]
  },
  {
   "cell_type": "markdown",
   "id": "ccb48676",
   "metadata": {},
   "source": [
    "# Fiass 벡터 DB 생성"
   ]
  },
  {
   "cell_type": "code",
   "execution_count": 8,
   "id": "5eb8da9a",
   "metadata": {},
   "outputs": [],
   "source": [
    "from langchain_openai.embeddings import OpenAIEmbeddings\n",
    "\n",
    "embeddings = OpenAIEmbeddings(model=\"text-embedding-3-large\")"
   ]
  },
  {
   "cell_type": "code",
   "execution_count": 10,
   "id": "d31cd801",
   "metadata": {},
   "outputs": [
    {
     "name": "stdout",
     "output_type": "stream",
     "text": [
      "3072\n"
     ]
    }
   ],
   "source": [
    "dim_size = len(embeddings.embed_query(\"안녕하세요\"))\n",
    "print(dim_size)"
   ]
  },
  {
   "cell_type": "code",
   "execution_count": null,
   "id": "400ca672",
   "metadata": {},
   "outputs": [],
   "source": [
    "# uv add faiss-cpu"
   ]
  },
  {
   "cell_type": "code",
   "execution_count": 9,
   "id": "3cce33bd",
   "metadata": {},
   "outputs": [],
   "source": [
    "import faiss\n",
    "from langchain_community.vectorstores import FAISS\n",
    "from langchain_community.docstore.in_memory import InMemoryDocstore"
   ]
  },
  {
   "cell_type": "code",
   "execution_count": 21,
   "id": "a36c3971",
   "metadata": {},
   "outputs": [
    {
     "data": {
      "text/plain": [
       "{0: 'a56e3877-4efc-4a9c-985e-cdd953d789b8',\n",
       " 1: '2cc269b3-1c85-4ccd-b148-588aceaa5df5'}"
      ]
     },
     "execution_count": 21,
     "metadata": {},
     "output_type": "execute_result"
    }
   ],
   "source": [
    "db = FAISS.from_documents(\n",
    "    documents=[chunk_docs[0], chunk_docs[1]],\n",
    "    embedding=embeddings,\n",
    "    # ids = ['문서1', '문서2']\n",
    ")\n",
    "db.index_to_docstore_id"
   ]
  },
  {
   "cell_type": "code",
   "execution_count": 22,
   "id": "059b093b",
   "metadata": {},
   "outputs": [
    {
     "data": {
      "text/plain": [
       "{'a56e3877-4efc-4a9c-985e-cdd953d789b8': Document(id='a56e3877-4efc-4a9c-985e-cdd953d789b8', metadata={'producer': 'Adobe PDF Library 15.0', 'creator': 'Adobe InDesign 15.1 (Macintosh)', 'creationdate': '2024-11-25T11:10:32+09:00', 'moddate': '2024-11-25T11:10:46+09:00', 'trapped': '/False', 'source': '../data/Sustainability_report_2024_kr.pdf', 'total_pages': 83, 'page': 0, 'page_label': '1', 'class': 'wanted'}, page_content='A Journey Towards  \\na Sustainable Future\\n삼성전자 지속가능경영보고서 2024'),\n",
       " '2cc269b3-1c85-4ccd-b148-588aceaa5df5': Document(id='2cc269b3-1c85-4ccd-b148-588aceaa5df5', metadata={'producer': 'Adobe PDF Library 15.0', 'creator': 'Adobe InDesign 15.1 (Macintosh)', 'creationdate': '2024-11-25T11:10:32+09:00', 'moddate': '2024-11-25T11:10:46+09:00', 'trapped': '/False', 'source': '../data/Sustainability_report_2024_kr.pdf', 'total_pages': 83, 'page': 1, 'page_label': '2', 'class': 'wanted'}, page_content='A Journey Towards  \\na Sustainable Future\\n삼성전자 지속가능경영보고서 2024\\nCEO 메시지\\n회사 소개\\n이해관계자 소통\\nOur Company\\n04\\n05\\n06\\n준법과 윤리경영\\nPrinciple\\n53\\n중대성 평가\\nMateriality Assessment\\n08\\n임직원\\n공급망\\n사회공헌\\n개인정보보호/보안\\n고객의 안전/품질\\nPeople\\n31\\n39\\n45\\n48\\n50\\n경제성과\\n사회성과\\n환경성과\\n지역별 수자원 현황   \\n사업부문별 환경성과\\nFacts & Figures\\n56\\n57\\n62\\n65\\n66\\n독립된 인증인의 인증보고서\\nScope 1, 2 온실가스 배출량 검증 의견서\\nScope 3 온실가스 배출량 검증 의견서\\nGRI Index\\nTCFD 대조표\\nSASB 대조표\\n전사차원의 기후변화 대응 협력 활동\\nAbout This Report\\nAppendix\\n70\\n71\\n72\\n74\\n77\\n79\\n81\\n82\\n[DX부문] \\n추진체계 및 주요성과\\n기후변화\\n자원순환\\n수자원 및 오염물질\\n[DS부문]  \\n추진체계 및 주요성과 \\n기후변화\\n수자원\\n폐기물\\n오염물질\\nPlanet\\n12\\n13\\n15\\n17\\n19\\n20\\n23\\n26\\n28\\n삼성전자 지속가능경영보고서 2024 02Our Company AppendixMateriality Assessment Facts & Figures PrinciplePlanet People')}"
      ]
     },
     "execution_count": 22,
     "metadata": {},
     "output_type": "execute_result"
    }
   ],
   "source": [
    "db.docstore.__dict__['_dict']"
   ]
  },
  {
   "cell_type": "code",
   "execution_count": 23,
   "id": "dbf6cbbb",
   "metadata": {},
   "outputs": [
    {
     "data": {
      "text/plain": [
       "[Document(id='a56e3877-4efc-4a9c-985e-cdd953d789b8', metadata={'producer': 'Adobe PDF Library 15.0', 'creator': 'Adobe InDesign 15.1 (Macintosh)', 'creationdate': '2024-11-25T11:10:32+09:00', 'moddate': '2024-11-25T11:10:46+09:00', 'trapped': '/False', 'source': '../data/Sustainability_report_2024_kr.pdf', 'total_pages': 83, 'page': 0, 'page_label': '1', 'class': 'wanted'}, page_content='A Journey Towards  \\na Sustainable Future\\n삼성전자 지속가능경영보고서 2024'),\n",
       " Document(id='2cc269b3-1c85-4ccd-b148-588aceaa5df5', metadata={'producer': 'Adobe PDF Library 15.0', 'creator': 'Adobe InDesign 15.1 (Macintosh)', 'creationdate': '2024-11-25T11:10:32+09:00', 'moddate': '2024-11-25T11:10:46+09:00', 'trapped': '/False', 'source': '../data/Sustainability_report_2024_kr.pdf', 'total_pages': 83, 'page': 1, 'page_label': '2', 'class': 'wanted'}, page_content='A Journey Towards  \\na Sustainable Future\\n삼성전자 지속가능경영보고서 2024\\nCEO 메시지\\n회사 소개\\n이해관계자 소통\\nOur Company\\n04\\n05\\n06\\n준법과 윤리경영\\nPrinciple\\n53\\n중대성 평가\\nMateriality Assessment\\n08\\n임직원\\n공급망\\n사회공헌\\n개인정보보호/보안\\n고객의 안전/품질\\nPeople\\n31\\n39\\n45\\n48\\n50\\n경제성과\\n사회성과\\n환경성과\\n지역별 수자원 현황   \\n사업부문별 환경성과\\nFacts & Figures\\n56\\n57\\n62\\n65\\n66\\n독립된 인증인의 인증보고서\\nScope 1, 2 온실가스 배출량 검증 의견서\\nScope 3 온실가스 배출량 검증 의견서\\nGRI Index\\nTCFD 대조표\\nSASB 대조표\\n전사차원의 기후변화 대응 협력 활동\\nAbout This Report\\nAppendix\\n70\\n71\\n72\\n74\\n77\\n79\\n81\\n82\\n[DX부문] \\n추진체계 및 주요성과\\n기후변화\\n자원순환\\n수자원 및 오염물질\\n[DS부문]  \\n추진체계 및 주요성과 \\n기후변화\\n수자원\\n폐기물\\n오염물질\\nPlanet\\n12\\n13\\n15\\n17\\n19\\n20\\n23\\n26\\n28\\n삼성전자 지속가능경영보고서 2024 02Our Company AppendixMateriality Assessment Facts & Figures PrinciplePlanet People')]"
      ]
     },
     "execution_count": 23,
     "metadata": {},
     "output_type": "execute_result"
    }
   ],
   "source": [
    "db.similarity_search(\"삼성\", k=5)"
   ]
  },
  {
   "cell_type": "code",
   "execution_count": 26,
   "id": "6f2d81ed",
   "metadata": {},
   "outputs": [],
   "source": [
    "vectorstore_db_path = \"../vectorstore/samsung_faiss.db\"\n",
    "index_name = \"samsung2025\"\n",
    "db.save_local(\n",
    "    folder_path = vectorstore_db_path,\n",
    "    index_name = index_name\n",
    ")"
   ]
  },
  {
   "cell_type": "code",
   "execution_count": 28,
   "id": "945c65fd",
   "metadata": {},
   "outputs": [],
   "source": [
    "# 저장된 db 불러오기\n",
    "load_db = FAISS.load_local(\n",
    "    folder_path = vectorstore_db_path,\n",
    "    index_name = index_name,\n",
    "    embeddings = embeddings,\n",
    "    allow_dangerous_deserialization = True\n",
    ")"
   ]
  },
  {
   "cell_type": "code",
   "execution_count": 29,
   "id": "f7e4ff86",
   "metadata": {},
   "outputs": [
    {
     "data": {
      "text/plain": [
       "{'a56e3877-4efc-4a9c-985e-cdd953d789b8': Document(id='a56e3877-4efc-4a9c-985e-cdd953d789b8', metadata={'producer': 'Adobe PDF Library 15.0', 'creator': 'Adobe InDesign 15.1 (Macintosh)', 'creationdate': '2024-11-25T11:10:32+09:00', 'moddate': '2024-11-25T11:10:46+09:00', 'trapped': '/False', 'source': '../data/Sustainability_report_2024_kr.pdf', 'total_pages': 83, 'page': 0, 'page_label': '1', 'class': 'wanted'}, page_content='A Journey Towards  \\na Sustainable Future\\n삼성전자 지속가능경영보고서 2024'),\n",
       " '2cc269b3-1c85-4ccd-b148-588aceaa5df5': Document(id='2cc269b3-1c85-4ccd-b148-588aceaa5df5', metadata={'producer': 'Adobe PDF Library 15.0', 'creator': 'Adobe InDesign 15.1 (Macintosh)', 'creationdate': '2024-11-25T11:10:32+09:00', 'moddate': '2024-11-25T11:10:46+09:00', 'trapped': '/False', 'source': '../data/Sustainability_report_2024_kr.pdf', 'total_pages': 83, 'page': 1, 'page_label': '2', 'class': 'wanted'}, page_content='A Journey Towards  \\na Sustainable Future\\n삼성전자 지속가능경영보고서 2024\\nCEO 메시지\\n회사 소개\\n이해관계자 소통\\nOur Company\\n04\\n05\\n06\\n준법과 윤리경영\\nPrinciple\\n53\\n중대성 평가\\nMateriality Assessment\\n08\\n임직원\\n공급망\\n사회공헌\\n개인정보보호/보안\\n고객의 안전/품질\\nPeople\\n31\\n39\\n45\\n48\\n50\\n경제성과\\n사회성과\\n환경성과\\n지역별 수자원 현황   \\n사업부문별 환경성과\\nFacts & Figures\\n56\\n57\\n62\\n65\\n66\\n독립된 인증인의 인증보고서\\nScope 1, 2 온실가스 배출량 검증 의견서\\nScope 3 온실가스 배출량 검증 의견서\\nGRI Index\\nTCFD 대조표\\nSASB 대조표\\n전사차원의 기후변화 대응 협력 활동\\nAbout This Report\\nAppendix\\n70\\n71\\n72\\n74\\n77\\n79\\n81\\n82\\n[DX부문] \\n추진체계 및 주요성과\\n기후변화\\n자원순환\\n수자원 및 오염물질\\n[DS부문]  \\n추진체계 및 주요성과 \\n기후변화\\n수자원\\n폐기물\\n오염물질\\nPlanet\\n12\\n13\\n15\\n17\\n19\\n20\\n23\\n26\\n28\\n삼성전자 지속가능경영보고서 2024 02Our Company AppendixMateriality Assessment Facts & Figures PrinciplePlanet People')}"
      ]
     },
     "execution_count": 29,
     "metadata": {},
     "output_type": "execute_result"
    }
   ],
   "source": [
    "load_db.docstore.__dict__[\"_dict\"]"
   ]
  },
  {
   "cell_type": "markdown",
   "id": "8f6af26d",
   "metadata": {},
   "source": [
    "# 벡터 스토어 조작하기"
   ]
  },
  {
   "cell_type": "markdown",
   "id": "e093f41d",
   "metadata": {},
   "source": [
    "## 문서 추가하기"
   ]
  },
  {
   "cell_type": "code",
   "execution_count": null,
   "id": "fe90a329",
   "metadata": {},
   "outputs": [],
   "source": [
    "chunk_docs[1:10]"
   ]
  },
  {
   "cell_type": "code",
   "execution_count": 31,
   "id": "b5e0372a",
   "metadata": {},
   "outputs": [
    {
     "data": {
      "text/plain": [
       "['7d23524a-05cf-4712-aa00-5c5702d1b949',\n",
       " 'aff32032-b54d-4a85-a749-3b56f0071a01',\n",
       " 'f378481b-2aeb-4b58-8f4b-de5c1c7ca8f2',\n",
       " '7a08ef8f-4d85-4c67-a85a-3cbe9028a55d',\n",
       " '9cd3e25d-ff7f-4c4d-a704-0fc6eba46057',\n",
       " '45ccdaa1-b5d1-44be-802a-a4d4a8f79132',\n",
       " '505af196-e3e6-46ec-aa10-9b92f2ce6054',\n",
       " 'd361819a-5c46-4b91-ad5d-6cd6bcfcfb48',\n",
       " 'eb2a6fff-5e1d-4665-8600-164cc5542e37']"
      ]
     },
     "execution_count": 31,
     "metadata": {},
     "output_type": "execute_result"
    }
   ],
   "source": [
    "load_db.add_documents(\n",
    "    chunk_docs[1:10]\n",
    ")"
   ]
  },
  {
   "cell_type": "code",
   "execution_count": 32,
   "id": "155c04e2",
   "metadata": {},
   "outputs": [
    {
     "data": {
      "text/plain": [
       "{0: 'a56e3877-4efc-4a9c-985e-cdd953d789b8',\n",
       " 1: '2cc269b3-1c85-4ccd-b148-588aceaa5df5',\n",
       " 2: '7d23524a-05cf-4712-aa00-5c5702d1b949',\n",
       " 3: 'aff32032-b54d-4a85-a749-3b56f0071a01',\n",
       " 4: 'f378481b-2aeb-4b58-8f4b-de5c1c7ca8f2',\n",
       " 5: '7a08ef8f-4d85-4c67-a85a-3cbe9028a55d',\n",
       " 6: '9cd3e25d-ff7f-4c4d-a704-0fc6eba46057',\n",
       " 7: '45ccdaa1-b5d1-44be-802a-a4d4a8f79132',\n",
       " 8: '505af196-e3e6-46ec-aa10-9b92f2ce6054',\n",
       " 9: 'd361819a-5c46-4b91-ad5d-6cd6bcfcfb48',\n",
       " 10: 'eb2a6fff-5e1d-4665-8600-164cc5542e37'}"
      ]
     },
     "execution_count": 32,
     "metadata": {},
     "output_type": "execute_result"
    }
   ],
   "source": [
    "load_db.index_to_docstore_id"
   ]
  },
  {
   "cell_type": "code",
   "execution_count": 37,
   "id": "94f8bdeb",
   "metadata": {},
   "outputs": [],
   "source": [
    "vectorstore_db_path = \"../vectorstore/samsung_faiss.db\"\n",
    "index_name = \"samsung2025\"\n",
    "load_db.save_local(\n",
    "    folder_path = vectorstore_db_path,\n",
    "    index_name = index_name\n",
    ")"
   ]
  },
  {
   "cell_type": "code",
   "execution_count": 38,
   "id": "9d1ad596",
   "metadata": {},
   "outputs": [
    {
     "data": {
      "text/plain": [
       "{0: 'a56e3877-4efc-4a9c-985e-cdd953d789b8',\n",
       " 1: '2cc269b3-1c85-4ccd-b148-588aceaa5df5',\n",
       " 2: '7d23524a-05cf-4712-aa00-5c5702d1b949',\n",
       " 3: 'aff32032-b54d-4a85-a749-3b56f0071a01',\n",
       " 4: 'f378481b-2aeb-4b58-8f4b-de5c1c7ca8f2',\n",
       " 5: '7a08ef8f-4d85-4c67-a85a-3cbe9028a55d',\n",
       " 6: '9cd3e25d-ff7f-4c4d-a704-0fc6eba46057',\n",
       " 7: '45ccdaa1-b5d1-44be-802a-a4d4a8f79132',\n",
       " 8: '505af196-e3e6-46ec-aa10-9b92f2ce6054',\n",
       " 9: 'd361819a-5c46-4b91-ad5d-6cd6bcfcfb48',\n",
       " 10: 'eb2a6fff-5e1d-4665-8600-164cc5542e37'}"
      ]
     },
     "execution_count": 38,
     "metadata": {},
     "output_type": "execute_result"
    }
   ],
   "source": [
    "# 저장된 db 불러오기\n",
    "updated_db = FAISS.load_local(\n",
    "    folder_path = vectorstore_db_path,\n",
    "    index_name = index_name,\n",
    "    embeddings = embeddings,\n",
    "    allow_dangerous_deserialization = True\n",
    ")\n",
    "updated_db.index_to_docstore_id"
   ]
  },
  {
   "cell_type": "markdown",
   "id": "857e1da4",
   "metadata": {},
   "source": [
    "## 직접 추가하기"
   ]
  },
  {
   "cell_type": "code",
   "execution_count": 39,
   "id": "365e63c5",
   "metadata": {},
   "outputs": [
    {
     "data": {
      "text/plain": [
       "['3a93e0f8-1261-4f54-9743-401d090aa9ed',\n",
       " '95d6baff-d496-4f1b-b8ea-301352f6876c']"
      ]
     },
     "execution_count": 39,
     "metadata": {},
     "output_type": "execute_result"
    }
   ],
   "source": [
    "from langchain_core.documents import Document\n",
    "\n",
    "# 직접 추가하기\n",
    "updated_db.add_documents(\n",
    "    [\n",
    "        Document(\n",
    "            page_content= \"새로운 문서는 이렇게 추가하기\",\n",
    "            metadata = {\"source\" : \"수동\"}\n",
    "        ),\n",
    "         Document(\n",
    "            page_content= \"2024년 삼성 전자 주시 사지마세요\",\n",
    "            metadata = {\"source\" : \"윤택한\"}\n",
    "        ),\n",
    "    ]\n",
    ")"
   ]
  },
  {
   "cell_type": "code",
   "execution_count": 40,
   "id": "85fb5b9c",
   "metadata": {},
   "outputs": [
    {
     "data": {
      "text/plain": [
       "{0: 'a56e3877-4efc-4a9c-985e-cdd953d789b8',\n",
       " 1: '2cc269b3-1c85-4ccd-b148-588aceaa5df5',\n",
       " 2: '7d23524a-05cf-4712-aa00-5c5702d1b949',\n",
       " 3: 'aff32032-b54d-4a85-a749-3b56f0071a01',\n",
       " 4: 'f378481b-2aeb-4b58-8f4b-de5c1c7ca8f2',\n",
       " 5: '7a08ef8f-4d85-4c67-a85a-3cbe9028a55d',\n",
       " 6: '9cd3e25d-ff7f-4c4d-a704-0fc6eba46057',\n",
       " 7: '45ccdaa1-b5d1-44be-802a-a4d4a8f79132',\n",
       " 8: '505af196-e3e6-46ec-aa10-9b92f2ce6054',\n",
       " 9: 'd361819a-5c46-4b91-ad5d-6cd6bcfcfb48',\n",
       " 10: 'eb2a6fff-5e1d-4665-8600-164cc5542e37',\n",
       " 11: '3a93e0f8-1261-4f54-9743-401d090aa9ed',\n",
       " 12: '95d6baff-d496-4f1b-b8ea-301352f6876c'}"
      ]
     },
     "execution_count": 40,
     "metadata": {},
     "output_type": "execute_result"
    }
   ],
   "source": [
    "updated_db.index_to_docstore_id"
   ]
  },
  {
   "cell_type": "markdown",
   "id": "a9a63896",
   "metadata": {},
   "source": [
    "## 삭제하기"
   ]
  },
  {
   "cell_type": "code",
   "execution_count": 42,
   "id": "7ac35bf9",
   "metadata": {},
   "outputs": [
    {
     "data": {
      "text/plain": [
       "{0: '2cc269b3-1c85-4ccd-b148-588aceaa5df5',\n",
       " 1: '7d23524a-05cf-4712-aa00-5c5702d1b949',\n",
       " 2: 'aff32032-b54d-4a85-a749-3b56f0071a01',\n",
       " 3: 'f378481b-2aeb-4b58-8f4b-de5c1c7ca8f2',\n",
       " 4: '7a08ef8f-4d85-4c67-a85a-3cbe9028a55d',\n",
       " 5: '9cd3e25d-ff7f-4c4d-a704-0fc6eba46057',\n",
       " 6: '45ccdaa1-b5d1-44be-802a-a4d4a8f79132',\n",
       " 7: '505af196-e3e6-46ec-aa10-9b92f2ce6054',\n",
       " 8: 'd361819a-5c46-4b91-ad5d-6cd6bcfcfb48',\n",
       " 9: 'eb2a6fff-5e1d-4665-8600-164cc5542e37',\n",
       " 10: '3a93e0f8-1261-4f54-9743-401d090aa9ed',\n",
       " 11: '95d6baff-d496-4f1b-b8ea-301352f6876c'}"
      ]
     },
     "execution_count": 42,
     "metadata": {},
     "output_type": "execute_result"
    }
   ],
   "source": [
    "updated_db.delete(['a56e3877-4efc-4a9c-985e-cdd953d789b8'])\n",
    "updated_db.index_to_docstore_id"
   ]
  },
  {
   "cell_type": "code",
   "execution_count": 45,
   "id": "b3debb82",
   "metadata": {},
   "outputs": [
    {
     "data": {
      "text/plain": [
       "[Document(id='95d6baff-d496-4f1b-b8ea-301352f6876c', metadata={'source': '윤택한'}, page_content='2024년 삼성 전자 주시 사지마세요'),\n",
       " Document(id='45ccdaa1-b5d1-44be-802a-a4d4a8f79132', metadata={'producer': 'Adobe PDF Library 15.0', 'creator': 'Adobe InDesign 15.1 (Macintosh)', 'creationdate': '2024-11-25T11:10:32+09:00', 'moddate': '2024-11-25T11:10:46+09:00', 'trapped': '/False', 'source': '../data/Sustainability_report_2024_kr.pdf', 'total_pages': 83, 'page': 4, 'page_label': '5', 'class': 'wanted'}, page_content='삼성전자 지속가능경영보고서 2024\\n05\\nOur Company AppendixMateriality Assessment Facts & Figures PrinciplePlanet People\\n회사소개\\nAbout Us\\n삼성전자주식회사(이하 삼성전자)는 인재와 기술을 바탕으로 최고의 제품과 서비스를 창출하여 인류사회에 공헌하는 글로벌 초일류기업을 지향합니다. \\n이를 위해 삼성전자의 경영철학을 반영한 5가지 핵심가치 를 수립하였고, 핵심가치를 세부원칙과 행동지침 으로 구체화하여 삼성전자 임직원이 \\n지켜야 할 글로벌 행동규범(Global Code of Conduct) 을 제정하였습니다. 삼성전자는 조직문화에 5가지 핵심가치를 내재화하고 글로벌 행동규범을 \\n모든 경영활동의 기준으로 삼아 지속적으로 성장해갈 것입니다. \\n사업부문 및 글로벌 네트워크 소개\\n삼성전자는 제품 특성에 따라 DX(Device eXperience)와 DS(Device Solutions) 2개 부문으로 나뉘어 독립적으로 운영되고 있습니다. DX부문은 \\n스마트폰, 네트워크 시스템, 컴퓨터, TV, 냉장고, 세탁기, 에어컨, 의료기기 등 완제품을 생산/판매하고 있으며, DS부문은 메모리 반도체 사업, Foundry \\n사업, System LSI 사업으로 구성되어 DRAM, NAND Flash, 모바일AP 등의 반도체 부품을 생산/판매하고 있습니다. 삼성전자는 2023년 말 기준 전 \\n세계에 232개의 생산거점, 판매거점, R&D 센터, 디자인 센터를 보유하고 있습니다.\\n Our Company\\n매출\\n169조 9,923억 원\\n영업이익\\n14조 3,847억 원 네트워크\\nMobile eXperience 영상디스플레이 생활가전\\n의료기기\\n매출\\n66조 5,945억 원\\n영업이익\\n△14조 8,795억 원\\nFoundry System LSI\\n주요 사업부\\nDevice eXperienceDX\\nDS Device Solutions\\n메모리\\n※ 상기 매출과 영업이익은 2023년 실적을 기준으로, SDC, Harman을 제외하고 작성했습니다.'),\n",
       " Document(id='aff32032-b54d-4a85-a749-3b56f0071a01', metadata={'producer': 'Adobe PDF Library 15.0', 'creator': 'Adobe InDesign 15.1 (Macintosh)', 'creationdate': '2024-11-25T11:10:32+09:00', 'moddate': '2024-11-25T11:10:46+09:00', 'trapped': '/False', 'source': '../data/Sustainability_report_2024_kr.pdf', 'total_pages': 83, 'page': 2, 'page_label': '3', 'class': 'wanted'}, page_content='Our Company\\n04    CEO 메시지\\n05    회사 소개\\xa0\\n06    이해관계자 소통\\n삼성전자 지속가능경영보고서 2024 03Our Company AppendixMateriality Assessment Facts & Figures PrinciplePlanet People'),\n",
       " Document(id='9cd3e25d-ff7f-4c4d-a704-0fc6eba46057', metadata={'producer': 'Adobe PDF Library 15.0', 'creator': 'Adobe InDesign 15.1 (Macintosh)', 'creationdate': '2024-11-25T11:10:32+09:00', 'moddate': '2024-11-25T11:10:46+09:00', 'trapped': '/False', 'source': '../data/Sustainability_report_2024_kr.pdf', 'total_pages': 83, 'page': 3, 'page_label': '4', 'class': 'wanted'}, page_content=\"접수된 고충의 처리 원칙에 대한 기준을 수립하였고, 공급망 관리에 \\n있어서는 비제조 분야 및 리스크 분석에 따라 제조 분야 2차 협력회사로 \\n근로환경 관리 범위를 확대하고 있습니다. 또한 2023년 3월 자회사 형 \\n장애인표준사업장 주식 회사 '희망별숲'을 개소하여, 발달 장애인들이 \\n삼성전자 임직원에게 제공되는 쿠키 , 머핀 등 제과 제품을 만들 고 \\n있습니다. 제과 분야를 시작으로 발달장애인들에게 안정적인 일자리를 \\n제공할 예정입니다.\\n무엇보다 올해 지속가능경영보고서는 글로벌 공시규제 프레임워크에 \\n맞춰, 당사의 주요 지속가능경영 이슈를 발 굴하고, 주요 이슈의 관리 \\n체계와 전략, 이행 활동과 현황을 충 실히 전달 하고자 구성하였으며, \\n삼성전자의 지속가능경영 웹사이트와도 긴밀히 연계되도록 하였습니다. \\n삼성전자는 환경, 사회, 경제적 리스크 와 지정학적 불확실성이 일상이 \\n되어버린 시대를 경험 하면서, 지속가능성을 삼성전자가 나아가야할 \\n방향의 흔들리지 않는 지표이자, 사업경쟁력과 기술혁신의 원동력으로 \\n삼고 있습니다. 어려움은 위대함을 키운다(Difficulty is the Nurse of \\nGreatness)는 격언처럼, 삼성전자는 지속가능성을 통해 새로운 도약을 \\n모색하고, 더욱 발전하는 모습으로 이해관계자 여러분의 기대에 부응하기 \\n위해 최선을 다하겠습니다. \\n감사합니다.\\n삼성전자주식회사\\n 대표이사 부회장\\n한종희\\n삼성전자주식회사 \\nDS부문장 부회장\\n전영현\\n Our Company\"),\n",
       " Document(id='505af196-e3e6-46ec-aa10-9b92f2ce6054', metadata={'producer': 'Adobe PDF Library 15.0', 'creator': 'Adobe InDesign 15.1 (Macintosh)', 'creationdate': '2024-11-25T11:10:32+09:00', 'moddate': '2024-11-25T11:10:46+09:00', 'trapped': '/False', 'source': '../data/Sustainability_report_2024_kr.pdf', 'total_pages': 83, 'page': 4, 'page_label': '5', 'class': 'wanted'}, page_content='DS Device Solutions\\n메모리\\n※ 상기 매출과 영업이익은 2023년 실적을 기준으로, SDC, Harman을 제외하고 작성했습니다.\\n지역총괄\\n1)\\n판매거점\\n2)\\n생산거점 구매 센터\\n15 109 32 6\\n1) 내부관리 기준에 따른 지역구분  2) 판매법인, 지점 등  3) 물류법인, IP 오피스 등  4) 당사 제품 생산용 부품을 공급하는 기업 \\n임직원 267 ,860명 연구개발비 28.3조 원운영국가 76개국협력회사\\n4)\\n 2,515개\\nR&D 센터 디자인 센터 기타\\n 3)\\n합계\\n40 7 23 232')]"
      ]
     },
     "execution_count": 45,
     "metadata": {},
     "output_type": "execute_result"
    }
   ],
   "source": [
    "updated_db.similarity_search(\"삼성 전자 주식\", k=5)"
   ]
  },
  {
   "cell_type": "markdown",
   "id": "82edb3a4",
   "metadata": {},
   "source": [
    "# 벡터 스토어 합치기\n",
    "- 물리적으로 합치기\n",
    "- 검색기만 하이브리드로 사용"
   ]
  },
  {
   "cell_type": "markdown",
   "id": "d1e562ac",
   "metadata": {},
   "source": [
    "## 물리적으로 합치기"
   ]
  },
  {
   "cell_type": "code",
   "execution_count": 52,
   "id": "0986b5e5",
   "metadata": {},
   "outputs": [],
   "source": [
    "db1 = FAISS.from_documents(\n",
    "    chunk_docs[0:10],\n",
    "    embedding=embeddings\n",
    ")\n",
    "\n",
    "db2 = FAISS.from_documents(\n",
    "    chunk_docs[10:20],\n",
    "    embedding=embeddings\n",
    ")"
   ]
  },
  {
   "cell_type": "code",
   "execution_count": 47,
   "id": "b4f24bdf",
   "metadata": {},
   "outputs": [
    {
     "data": {
      "text/plain": [
       "{0: '3368b358-6840-4d63-b421-dcb982c5255d',\n",
       " 1: 'a571fd00-d35e-4eb0-badd-5548c33b42b6',\n",
       " 2: '47ff41dc-d649-4815-97d0-08118cd26201',\n",
       " 3: '66308087-1f64-471d-be48-90a856ae6121',\n",
       " 4: '3f34c124-e221-4645-9d12-b3bd6d198d95',\n",
       " 5: '2684078d-1a10-4d2b-b8d8-3f79c1d07e2c',\n",
       " 6: 'f7000a47-85d0-4303-8789-df5022a76470',\n",
       " 7: '58a32de8-cc52-483a-b25d-cdc5e7a0d48c',\n",
       " 8: 'bac261c8-072e-4ae5-b3d5-1ab67473cb75',\n",
       " 9: '43a67bbf-431b-4cea-89b1-fd931c8f5519',\n",
       " 10: '398e7629-f32e-4a5d-be2f-8ba2acfef6d9',\n",
       " 11: '4571cab0-5c8f-406e-b6dc-8a83f62bbb80',\n",
       " 12: 'f9147c5c-f981-4af5-9cfe-0fb632a2f1b0',\n",
       " 13: 'f3e5e451-5f80-4c2b-b2c9-900ccfa144ef',\n",
       " 14: '3e11ff9b-6bad-45b0-be87-4f4c3255d552',\n",
       " 15: 'd0527e66-7fd3-44a5-b4d2-d92e4467c2f0',\n",
       " 16: '7a28c44e-1b3e-4220-866b-72e319555b70',\n",
       " 17: 'a0476a09-a82f-4f3c-8cfc-05aa83c5c78b',\n",
       " 18: '9ebf48ec-b270-4dba-af50-228aa558c94a',\n",
       " 19: 'de85ff58-94f9-4a0c-9d40-16569c85732c'}"
      ]
     },
     "execution_count": 47,
     "metadata": {},
     "output_type": "execute_result"
    }
   ],
   "source": [
    "db1.merge_from(\n",
    "    target=db2\n",
    ")\n",
    "db1.index_to_docstore_id"
   ]
  },
  {
   "cell_type": "code",
   "execution_count": 48,
   "id": "31a86c1e",
   "metadata": {},
   "outputs": [
    {
     "data": {
      "text/plain": [
       "{0: '398e7629-f32e-4a5d-be2f-8ba2acfef6d9',\n",
       " 1: '4571cab0-5c8f-406e-b6dc-8a83f62bbb80',\n",
       " 2: 'f9147c5c-f981-4af5-9cfe-0fb632a2f1b0',\n",
       " 3: 'f3e5e451-5f80-4c2b-b2c9-900ccfa144ef',\n",
       " 4: '3e11ff9b-6bad-45b0-be87-4f4c3255d552',\n",
       " 5: 'd0527e66-7fd3-44a5-b4d2-d92e4467c2f0',\n",
       " 6: '7a28c44e-1b3e-4220-866b-72e319555b70',\n",
       " 7: 'a0476a09-a82f-4f3c-8cfc-05aa83c5c78b',\n",
       " 8: '9ebf48ec-b270-4dba-af50-228aa558c94a',\n",
       " 9: 'de85ff58-94f9-4a0c-9d40-16569c85732c'}"
      ]
     },
     "execution_count": 48,
     "metadata": {},
     "output_type": "execute_result"
    }
   ],
   "source": [
    "db2.index_to_docstore_id"
   ]
  },
  {
   "cell_type": "markdown",
   "id": "35833bb0",
   "metadata": {},
   "source": [
    "## 빈 DB에 합치기"
   ]
  },
  {
   "cell_type": "code",
   "execution_count": 53,
   "id": "ea6b1af7",
   "metadata": {},
   "outputs": [],
   "source": [
    "db1 = FAISS.from_documents(\n",
    "    chunk_docs[0:10],\n",
    "    embedding=embeddings\n",
    ")\n",
    "\n",
    "db2 = FAISS.from_documents(\n",
    "    chunk_docs[10:20],\n",
    "    embedding=embeddings\n",
    ")"
   ]
  },
  {
   "cell_type": "code",
   "execution_count": 57,
   "id": "b6ae8e53",
   "metadata": {},
   "outputs": [
    {
     "data": {
      "text/plain": [
       "{0: '9092f90c-fba6-4c71-b08e-14312a840514',\n",
       " 1: '7d5706c4-9b0b-4a00-b47b-4ddf173e299e',\n",
       " 2: '391d5017-81cf-46f3-b754-6c08ef1174a2',\n",
       " 3: 'bf01598b-5691-4d98-a7d2-57d3e480e47b',\n",
       " 4: 'b09adaf9-0b5e-4e40-a637-e8d366f83c62',\n",
       " 5: 'e7f43c52-e005-43e2-96e4-f6ea9cd84dc6',\n",
       " 6: 'eda393de-0de1-42fc-ac24-8259bbc2d933',\n",
       " 7: '36f3b3ae-aca3-455b-9d61-b768e08843c4',\n",
       " 8: '62ffb86f-1e40-4330-b01c-90f2b243cb7b',\n",
       " 9: 'f14759a4-d9eb-4536-a072-8002e654d085'}"
      ]
     },
     "execution_count": 57,
     "metadata": {},
     "output_type": "execute_result"
    }
   ],
   "source": [
    "db1.index_to_docstore_id"
   ]
  },
  {
   "cell_type": "code",
   "execution_count": 58,
   "id": "c9e0accd",
   "metadata": {},
   "outputs": [
    {
     "data": {
      "text/plain": [
       "{0: '2079151e-a259-4f93-bcfe-bcfd8c9aaa98',\n",
       " 1: '0fdf7f2f-fee4-49af-ace8-72576c5651f8',\n",
       " 2: 'cbf8585f-37db-48ad-9bad-f4073d1c6987',\n",
       " 3: '7bedd85d-4bfe-4510-8082-17c347292092',\n",
       " 4: '5dfad63c-25f0-415e-a93b-e11644079c9a',\n",
       " 5: '4b2aacc5-32ac-4bef-8abc-6dc6bfff2b63',\n",
       " 6: '8294551f-f038-48ad-846c-7a2c1faeba4b',\n",
       " 7: '52679d31-fe7c-4290-8bfc-121f2a97eb02',\n",
       " 8: 'e9764394-d0f1-44eb-a72d-e1f15987657e',\n",
       " 9: 'bf5fe1cf-e899-4bed-ac37-a02b84702019'}"
      ]
     },
     "execution_count": 58,
     "metadata": {},
     "output_type": "execute_result"
    }
   ],
   "source": [
    "db2.index_to_docstore_id"
   ]
  },
  {
   "cell_type": "code",
   "execution_count": 64,
   "id": "d72eebe6",
   "metadata": {},
   "outputs": [
    {
     "data": {
      "text/plain": [
       "{}"
      ]
     },
     "execution_count": 64,
     "metadata": {},
     "output_type": "execute_result"
    }
   ],
   "source": [
    "db3 = FAISS(\n",
    "    docstore=InMemoryDocstore(),\n",
    "    index_to_docstore_id={},\n",
    "    embedding_function = embeddings,\n",
    "    index = faiss.IndexFlatL2(dim_size) # 차원을 맞춰주기 위해\n",
    "    )\n",
    "db3.index_to_docstore_id"
   ]
  },
  {
   "cell_type": "code",
   "execution_count": 65,
   "id": "b2efdb4a",
   "metadata": {},
   "outputs": [
    {
     "data": {
      "text/plain": [
       "{0: '9092f90c-fba6-4c71-b08e-14312a840514',\n",
       " 1: '7d5706c4-9b0b-4a00-b47b-4ddf173e299e',\n",
       " 2: '391d5017-81cf-46f3-b754-6c08ef1174a2',\n",
       " 3: 'bf01598b-5691-4d98-a7d2-57d3e480e47b',\n",
       " 4: 'b09adaf9-0b5e-4e40-a637-e8d366f83c62',\n",
       " 5: 'e7f43c52-e005-43e2-96e4-f6ea9cd84dc6',\n",
       " 6: 'eda393de-0de1-42fc-ac24-8259bbc2d933',\n",
       " 7: '36f3b3ae-aca3-455b-9d61-b768e08843c4',\n",
       " 8: '62ffb86f-1e40-4330-b01c-90f2b243cb7b',\n",
       " 9: 'f14759a4-d9eb-4536-a072-8002e654d085',\n",
       " 10: '2079151e-a259-4f93-bcfe-bcfd8c9aaa98',\n",
       " 11: '0fdf7f2f-fee4-49af-ace8-72576c5651f8',\n",
       " 12: 'cbf8585f-37db-48ad-9bad-f4073d1c6987',\n",
       " 13: '7bedd85d-4bfe-4510-8082-17c347292092',\n",
       " 14: '5dfad63c-25f0-415e-a93b-e11644079c9a',\n",
       " 15: '4b2aacc5-32ac-4bef-8abc-6dc6bfff2b63',\n",
       " 16: '8294551f-f038-48ad-846c-7a2c1faeba4b',\n",
       " 17: '52679d31-fe7c-4290-8bfc-121f2a97eb02',\n",
       " 18: 'e9764394-d0f1-44eb-a72d-e1f15987657e',\n",
       " 19: 'bf5fe1cf-e899-4bed-ac37-a02b84702019'}"
      ]
     },
     "execution_count": 65,
     "metadata": {},
     "output_type": "execute_result"
    }
   ],
   "source": [
    "db3.merge_from(\n",
    "    target=db1\n",
    ")\n",
    "db3.merge_from(\n",
    "    target=db2\n",
    ")\n",
    "\n",
    "db3.index_to_docstore_id"
   ]
  }
 ],
 "metadata": {
  "kernelspec": {
   "display_name": "LLM-Study (3.11.13)",
   "language": "python",
   "name": "python3"
  },
  "language_info": {
   "codemirror_mode": {
    "name": "ipython",
    "version": 3
   },
   "file_extension": ".py",
   "mimetype": "text/x-python",
   "name": "python",
   "nbconvert_exporter": "python",
   "pygments_lexer": "ipython3",
   "version": "3.11.13"
  }
 },
 "nbformat": 4,
 "nbformat_minor": 5
}
