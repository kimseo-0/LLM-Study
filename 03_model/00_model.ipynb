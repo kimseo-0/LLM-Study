{
 "cells": [
  {
   "cell_type": "markdown",
   "id": "0628411a",
   "metadata": {},
   "source": [
    "# 모델 비교"
   ]
  },
  {
   "cell_type": "markdown",
   "id": "dfc389fa",
   "metadata": {},
   "source": [
    "- https://platform.openai.com/docs/models\n",
    "- https://platform.openai.com/docs/models/compare"
   ]
  },
  {
   "cell_type": "code",
   "execution_count": null,
   "id": "afad6be1",
   "metadata": {},
   "outputs": [],
   "source": []
  }
 ],
 "metadata": {
  "language_info": {
   "name": "python"
  }
 },
 "nbformat": 4,
 "nbformat_minor": 5
}
