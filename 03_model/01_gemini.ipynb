{
 "cells": [
  {
   "cell_type": "markdown",
   "id": "e1ef884e",
   "metadata": {},
   "source": [
    "# GEMINI 모델 사용하기"
   ]
  },
  {
   "cell_type": "markdown",
   "id": "d38cfb3e",
   "metadata": {},
   "source": [
    "[공식 문서](https://ai.google.dev/gemini-api/docs?hl=ko)    \n",
    "[API KEY 발급](https://ai.google.dev/gemini-api/docs/api-key?hl=ko)"
   ]
  },
  {
   "cell_type": "markdown",
   "id": "b53a8145",
   "metadata": {},
   "source": [
    "[랭체인에 GEMINI 사용](https://wikidocs.net/259654)"
   ]
  },
  {
   "cell_type": "code",
   "execution_count": 3,
   "id": "e7d66cb9",
   "metadata": {},
   "outputs": [],
   "source": [
    "from dotenv import load_dotenv\n",
    "load_dotenv()\n",
    "\n",
    "import os\n",
    "project_name = \"prompt_basic\"\n",
    "os.environ[\"LANGSMITH_PROJECT\"] = project_name"
   ]
  },
  {
   "cell_type": "code",
   "execution_count": 5,
   "id": "a7e32723",
   "metadata": {},
   "outputs": [
    {
     "name": "stdout",
     "output_type": "stream",
     "text": [
      "Machines learn from data to recognize patterns and make decisions.\n"
     ]
    }
   ],
   "source": [
    "from google import genai\n",
    "\n",
    "client = genai.Client()\n",
    "\n",
    "response = client.models.generate_content(\n",
    "    model=\"gemini-2.5-flash\",\n",
    "    contents=\"Explain how AI works in a few words\",\n",
    ")\n",
    "\n",
    "print(response.text)"
   ]
  }
 ],
 "metadata": {
  "kernelspec": {
   "display_name": "langchain-study (3.10.18)",
   "language": "python",
   "name": "python3"
  },
  "language_info": {
   "codemirror_mode": {
    "name": "ipython",
    "version": 3
   },
   "file_extension": ".py",
   "mimetype": "text/x-python",
   "name": "python",
   "nbconvert_exporter": "python",
   "pygments_lexer": "ipython3",
   "version": "3.10.18"
  }
 },
 "nbformat": 4,
 "nbformat_minor": 5
}
