{
 "cells": [
  {
   "cell_type": "markdown",
   "id": "5792532d",
   "metadata": {},
   "source": [
    "- 함수는 객체 -> 변수에 저장 가능\n",
    "- 함수를 다른 하뭇에 인자로 전달, 그 함수에 새 함수 반환 가능"
   ]
  },
  {
   "cell_type": "code",
   "execution_count": 15,
   "id": "05862ab8",
   "metadata": {},
   "outputs": [
    {
     "data": {
      "text/plain": [
       "'안녕하세요 김서영님'"
      ]
     },
     "execution_count": 15,
     "metadata": {},
     "output_type": "execute_result"
    }
   ],
   "source": [
    "def greet(name):\n",
    "    return f\"안녕하세요 {name}님\"\n",
    "\n",
    "greet(\"김서영\")"
   ]
  },
  {
   "cell_type": "code",
   "execution_count": 16,
   "id": "5849d220",
   "metadata": {},
   "outputs": [
    {
     "data": {
      "text/plain": [
       "'안녕하세요 차요준님'"
      ]
     },
     "execution_count": 16,
     "metadata": {},
     "output_type": "execute_result"
    }
   ],
   "source": [
    "say = greet\n",
    "say(\"차요준\")"
   ]
  },
  {
   "cell_type": "code",
   "execution_count": 17,
   "id": "2d7cbeca",
   "metadata": {},
   "outputs": [],
   "source": [
    "def call_func(func, arg):\n",
    "    return func(arg)"
   ]
  },
  {
   "cell_type": "code",
   "execution_count": 18,
   "id": "113fad71",
   "metadata": {},
   "outputs": [
    {
     "data": {
      "text/plain": [
       "'안녕하세요 차요준님'"
      ]
     },
     "execution_count": 18,
     "metadata": {},
     "output_type": "execute_result"
    }
   ],
   "source": [
    "call_func(greet, \"차요준\")"
   ]
  },
  {
   "cell_type": "code",
   "execution_count": 28,
   "id": "a69f759f",
   "metadata": {},
   "outputs": [],
   "source": [
    "def my_decorator(func):\n",
    "    def wrapper(*args, **kwargs):\n",
    "        print(\"함수 실행 전\")\n",
    "        result = func(*args, **kwargs)\n",
    "        print(\"함수 실행 후\")\n",
    "        return result\n",
    "    return wrapper"
   ]
  },
  {
   "cell_type": "code",
   "execution_count": 33,
   "id": "7487d3b1",
   "metadata": {},
   "outputs": [
    {
     "name": "stdout",
     "output_type": "stream",
     "text": [
      "함수 실행 전\n",
      "김서영님 반가워요\n",
      "함수 실행 후\n"
     ]
    }
   ],
   "source": [
    "@my_decorator\n",
    "def say_hello(name, greeting = \"반가워요\"):\n",
    "    print(f\"{name}님 {greeting}\")\n",
    "\n",
    "say_hello(\"김서영\")"
   ]
  }
 ],
 "metadata": {
  "kernelspec": {
   "display_name": "LLM-Study (3.11.13)",
   "language": "python",
   "name": "python3"
  },
  "language_info": {
   "codemirror_mode": {
    "name": "ipython",
    "version": 3
   },
   "file_extension": ".py",
   "mimetype": "text/x-python",
   "name": "python",
   "nbconvert_exporter": "python",
   "pygments_lexer": "ipython3",
   "version": "3.11.13"
  }
 },
 "nbformat": 4,
 "nbformat_minor": 5
}
