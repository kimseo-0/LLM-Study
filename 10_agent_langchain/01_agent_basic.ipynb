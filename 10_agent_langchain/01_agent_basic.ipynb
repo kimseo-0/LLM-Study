{
 "cells": [
  {
   "cell_type": "code",
   "execution_count": 104,
   "id": "05389497",
   "metadata": {},
   "outputs": [],
   "source": [
    "from dotenv import load_dotenv\n",
    "load_dotenv()\n",
    "\n",
    "import os\n",
    "project_name = \"agent_basic\"\n",
    "os.environ[\"LANGSMITH_PROJECT\"] = project_name"
   ]
  },
  {
   "cell_type": "code",
   "execution_count": null,
   "id": "6bdbcbab",
   "metadata": {},
   "outputs": [],
   "source": [
    "from langchain_openai import ChatOpenAI\n",
    "from langchain.agents import create_openai_tools_agent, AgentExecutor\n",
    "from langchain_core.prompts import ChatPromptTemplate"
   ]
  },
  {
   "cell_type": "markdown",
   "id": "edec4ae4",
   "metadata": {},
   "source": [
    "### 빌트인 도구\n",
    "- 랭체인 제공\n",
    "- 도구와 툴킷\n",
    "- 툴 -> 단일 도구, 툴킷 -> 여러 도구가 묶여 잇따\n",
    "- 파일 관리 툴킷 : 파일 삭제 툴, 파일 읽기 툴"
   ]
  },
  {
   "cell_type": "markdown",
   "id": "d6fecc50",
   "metadata": {},
   "source": [
    "### 1. 검색 툴 사용해보기"
   ]
  },
  {
   "cell_type": "code",
   "execution_count": null,
   "id": "b18f81fd",
   "metadata": {},
   "outputs": [],
   "source": [
    "# 1. 모델 설정\n",
    "llm = ChatOpenAI(\n",
    "    model = \"gpt-4.1-mini\",\n",
    "    temperature = 0,\n",
    ")\n",
    "\n",
    "# 2. 도구 생성\n",
    "from langchain_tavily import TavilySearch\n",
    "tavily_search = TavilySearch()\n",
    "\n",
    "# 3. 프롬프트 설정\n",
    "prompt = ChatPromptTemplate.from_messages([\n",
    "    (\"system\", \"당신은 툴만 사용해서 사실을 확인하고 한국어로 간단하게 답합니다.\"),\n",
    "    (\"user\", \"{input}\"),\n",
    "    (\"placeholder\", \"{agent_scratchpad}\")\n",
    "])\n",
    "\n",
    "# 4. 단일 에이전트 생성\n",
    "agent = create_openai_tools_agent(\n",
    "    llm=llm,\n",
    "    tools=[tavily_search],\n",
    "    prompt=prompt\n",
    ")\n",
    "\n",
    "# 5. excutor 설정\n",
    "excutor = AgentExecutor(\n",
    "    agent = agent,\n",
    "    tools=[tavily_search],\n",
    "    verbose=True\n",
    ")"
   ]
  },
  {
   "cell_type": "code",
   "execution_count": 10,
   "id": "316685c7",
   "metadata": {},
   "outputs": [
    {
     "name": "stdout",
     "output_type": "stream",
     "text": [
      "\n",
      "\n",
      "\u001b[1m> Entering new AgentExecutor chain...\u001b[0m\n",
      "\u001b[32;1m\u001b[1;3m\n",
      "Invoking: `tavily_search` with `{'query': '서울 오늘 주요 뉴스', 'time_range': 'day', 'search_depth': 'basic', 'topic': 'news'}`\n",
      "\n",
      "\n",
      "\u001b[0m\u001b[36;1m\u001b[1;3m{'query': '서울 오늘 주요 뉴스', 'follow_up_questions': None, 'answer': None, 'images': [], 'results': [{'url': 'https://www.cbsnews.com/newyork/video/first-alert-weather-clearing-skies-for-2nd-half-of-week/', 'title': 'First Alert Weather: Clearing skies for 2nd half of week - CBS News', 'score': 0.15870851, 'published_date': 'Wed, 15 Oct 2025 10:23:00 GMT', 'content': \"livelive: CBS News Minnesota### CBS News New York livelive: CBS News New York### CBS News Philadelphia 04:426h ago### President Trump threatens to withhold federal funds if Mamdani wins NYC mayoral election 01:598h ago### First Alert Weather: Cooler temps on the way in New York - 10/14/25 02:339h ago### CC Sabathia named grand marshal of 2025 TCS NYC Marathon 02:2512h ago### New York Public Library exhibit highlights Puerto Ricans in comic books 01:0012h ago 03:1012h ago### Mayor Adams considering endorsing Andrew Cuomo in NYC mayor's race, sources say 03:0012h ago### NYC-area airports refuse to play Kristi Noem video at checkpoints 01:50Oct 11, 2025### Letitia James supporters rally outside indicted New York AG's office 02:54Oct 10, 2025\", 'raw_content': None}, {'url': 'https://www.cbsnews.com/texas/video/police-arrest-woman-whose-pit-bull-allegedly-bit-another-woman-in-lake-worth/', 'title': 'Police arrest woman whose pit bull allegedly bit another woman in Lake Worth - CBS News', 'score': 0.1576163, 'published_date': 'Wed, 15 Oct 2025 17:01:00 GMT', 'content': '00:2114h ago### Audit reveals years of neglected cases at North Texas police department 02:2118h ago### Texas lawmakers launch flood disaster probe as new details emerge in Dallas facility shooting 00:2818h ago### Dallas leaders discuss police response, recruitment, and new helicopter 02:1418h ago### 2 arrested in Dallas triple homicide 22:10Sept 26, 2025### Democratic Texas Rep. on Dallas ICE shooting, redistricting maps court battle 16:34Sept 26, 2025### Democratic Texas U.S. Rep. on Dallas ICE shooting, pending government shutdown ## Eat See Play 00:30Jul 18, 2025### Eat See Play: Gllow Dallas 00:30Jul 14, 2025### Eat See Play: Dallas Farmers Market 01:26Sept 7, 2023### Eat See Play at Rooftop Cinema Club 00:30Sept 15, 2022### Eat See Play: Dallas Silk Art', 'raw_content': None}, {'url': 'https://apnews.com/article/stocks-markets-china-trump-1242ccaadd024fc4bb31c4e7190f63ca', 'title': 'World shares swing higher after a wobbly day on Wall Street - AP News', 'score': 0.14666103, 'published_date': 'Wed, 15 Oct 2025 07:25:00 GMT', 'content': 'Immigration Weather Education Transportation Abortion LGBTQ+ Notable Deaths White House Congress U.S. Supreme Court 2025 Election Calendar The latest AP-NORC polls Ground Game Early voting tracker Movies What to Stream Television Celebrity Interviews Music Books Immigration Weather Education Transportation Abortion LGBTQ+ Notable Deaths White House Congress U.S. Supreme Court 2025 Election Calendar The latest AP-NORC polls Ground Game Early voting tracker Immigration Weather Education Transportation Abortion LGBTQ+ Notable Deaths White House Congress U.S. Supreme Court 2025 Election Calendar The latest AP-NORC polls Ground Game Early voting tracker BANGKOK (AP) — Shares swung higher Wednesday in Europe and Asia, supported by buying of technology shares, as hopes for a U.S. interest rate cut helped to offset worries over simmering trade tensions between Washington and Beijing.', 'raw_content': None}, {'url': 'https://www.chosun.com/english/national-en/2025/10/15/ZSH473PGQVHHVJFLMR3PXEHCMQ/', 'title': \"Prime Minister Kim Labels Anti-China Rallies 'Self-Harming' - 조선일보\", 'score': 0.1043223, 'published_date': 'Wed, 15 Oct 2025 05:32:59 GMT', 'content': 'Prime Minister Kim Min-seok on the 15th criticized repeated anti-China rallies as a \"self-harming act\" and instructed relevant ministries to \"respond strictly in accordance with the law and principles.\" In attendance were Minister of Foreign Affairs Cho Hyun, Minister of the Interior and Safety Yun Ho-jung, Minister of Gender Equality and Family Won Min-kyong, Head of the Office for Government Policy Coordination Yoon Chang-yeol, First Vice Minister of State Affairs Kim Young-soo, Vice Minister of Justice Lee Jin-soo, Second Vice Minister of Culture, Sports and Tourism Kim Dae-hyun, and Acting Commissioner General of the Korean National Police Agency Yoo Jae-sung. The Korean National Police Agency stated it would concentrate police forces around the APEC venue, respond strictly to any rallies degrading foreigners, and enhance crackdowns on disruptions to small business operations.', 'raw_content': None}, {'url': 'https://www.greenwichtime.com/news/world/article/asian-shares-swing-higher-after-a-wobbly-day-on-21101468.php', 'title': 'Asian shares swing higher after a wobbly day on Wall Street - Greenwich Time', 'score': 0.07570102, 'published_date': 'Wed, 15 Oct 2025 04:16:14 GMT', 'content': '%26utm_source%3Dfacebook.com%26utm_medium%3Dreferral&name=Asian%20shares%20swing%20higher%20after%20a%20wobbly%20day%20on%20Wall%20Street&description=Shares%20have%20swung%20higher%20in%20Asia%20as%20hopes%20for%20a%20U.S.%20interest%20rate%20cut%20helped%20to%20offset%20worries%20over%20simmering%20trade%20tensions%20between%20Washington%20and%20Beijing.%20U.S.%20futures%20edged%20higher%20while%20oil%20prices...&picture=https%3A%2F%2Fs.hdnux.com%2Fphotos%2F01%2F54%2F65%2F15%2F28529475%2F3%2FrawImage.jpg&redirect_uri=https%3A%2F%2Fwww.greenwichtime.com%2Fnews%2Fworld%2Farticle%2Fasian-shares-swing-higher-after-a-wobbly-day-on-21101468.php%3Futm_campaign%3DCMS%2520Sharing%2520Tools%2520(Premium)%26utm_source%3DUTMSOURCE%26utm_medium%3DUTMMEDIUM)%26utm_source%3Dt.co%26utm_medium%3Dreferral&text=Asian%20shares%20swing%20higher%20after%20a%20wobbly%20day%20on%20Wall%20Street&via=GreenwichTime)%26utm_source%3Dbsky.app%26utm_medium%3Dreferral)%26utm_source%3Dshare-by-email%26utm_medium%3Demail%0A%0AShares%20have%20swung%20higher%20in%20Asia%20as%20hopes%20for%20a%20U.S.%20interest%20rate%20cut%20helped%20to%20offset%20worries%20over%20simmering%20trade%20tensions%20between%20Washington%20and%20Beijing.%20U.S.%20futures%20edged%20higher%20while%20oil%20prices...%0A%0AThis%20message%20was%20sent%20via%20Greenwich%20Time) Image 1: A person walks in front of an electronic stock board showing Japan\\'s Nikkei index at a securities firm Wednesday, Oct. 15, 2025, in Tokyo. Image 2: A person walks in front of an electronic stock board showing Japan\\'s Nikkei index at a securities firm Wednesday, Oct. 15, 2025, in Tokyo. Image 3: People stand in front of an electronic stock board showing Japan\\'s Nikkei index at a securities firm Wednesday, Oct. 15, 2025, in Tokyo. Image 4: A person walks in front of an electronic stock board showing Japan\\'s Nikkei index at a securities firm Wednesday, Oct. 15, 2025, in Tokyo. Image 8: Jessica Garzon and Thomas Soulas, 4, look upon the newly unveiled werewolf \"pumpkin lady\" at Old Greenwich School in Old Greenwich, Conn., on Tuesday, Oct. 7, 2025.', 'raw_content': None}], 'response_time': 0.0, 'request_id': '68666056-d095-4188-bf07-f06ea6ce4f43'}\u001b[0m\u001b[32;1m\u001b[1;3m오늘 서울 주요 뉴스 3가지는 다음과 같습니다.\n",
      "1. 김민석 국무총리가 반복되는 반중 집회를 '자해 행위'라고 비판하며 관련 부처에 법과 원칙에 따라 엄정 대응을 지시했습니다.\n",
      "2. 경찰은 APEC 행사장 주변에 경찰력을 집중 배치하고 외국인 비하 집회에 엄정 대응하며 소상공인 영업 방해 단속을 강화할 예정입니다.\n",
      "3. 미국과 중국 간 무역 긴장 속에서 미국 금리 인하 기대감으로 아시아 증시가 상승세를 보이고 있습니다.\u001b[0m\n",
      "\n",
      "\u001b[1m> Finished chain.\u001b[0m\n"
     ]
    }
   ],
   "source": [
    "result = excutor.invoke({\"input\": \"서울의 오늘 주요 뉴스 3개 요약해줘\"})"
   ]
  },
  {
   "cell_type": "code",
   "execution_count": 11,
   "id": "af1b2f3e",
   "metadata": {},
   "outputs": [
    {
     "name": "stdout",
     "output_type": "stream",
     "text": [
      "\n",
      "\n",
      "\u001b[1m> Entering new AgentExecutor chain...\u001b[0m\n",
      "\u001b[32;1m\u001b[1;3m\n",
      "Invoking: `tavily_search` with `{'query': '석촌역 근처 맛집', 'search_depth': 'basic'}`\n",
      "\n",
      "\n",
      "\u001b[0m\u001b[36;1m\u001b[1;3m{'query': '석촌역 근처 맛집', 'follow_up_questions': None, 'answer': None, 'images': [], 'results': [{'url': 'https://www.tripadvisor.co.kr/RestaurantsNear-g2024873-d9579729-Seokchon-Seongnam_Gyeonggi_do.html', 'title': '성남 석촌 역 근처 맛집 Best 10 - Tripadvisor - 트립어드바이저', 'content': '석촌 역 근처 맛집 · 1. 미오. 5.0. (74건의 리뷰). 일본식 퓨전$$$$ · 2. 바이킹스워프 롯데월드몰점. 4.5. (219건의 리뷰) · 3. 라티튜드32. 5.0. (91건의 리뷰) · 4.', 'score': 0.9132521, 'raw_content': None}, {'url': 'https://www.diningcode.com/list.dc?query=%EC%84%9D%EC%B4%8C%EC%97%AD%20%EA%B0%80%EC%84%B1%EB%B9%84%EC%A2%8B%EC%9D%80', 'title': '석촌역 가성비좋은 맛집 Top100 - 다이닝코드', 'content': '석촌역 가성비좋은맛집 (111곳) · 1. 단디 송리단길 · 2. 이랑칼국수 석촌역 · 3. 우프 잠실 · 4. 완도산회 포장마차 송파직영점 · 5. 옛촌매운갈비찜 석촌역 · 6. 수작', 'score': 0.8533396, 'raw_content': None}, {'url': 'https://www.tripadvisor.co.kr/RestaurantsNear-g2024873-d9579729-oa60-Seokchon-Seongnam_Gyeonggi_do.html', 'title': '성남 석촌 역 근처 맛집 Best 10 - Tripadvisor - 트립어드바이저', 'content': '추천 위치에서의 거리와 회원 리뷰를 기준으로 한 음식점 순위. 61. 지강한식당 잠실점. 5.0. (2건의 리뷰). 아시아 요리, 한국. 휴일입니다.', 'score': 0.8506799, 'raw_content': None}, {'url': 'https://www.diningcode.com/list.dc?query=%EC%84%9D%EC%B4%8C%EC%97%AD', 'title': '석촌역 맛집 Top100 - 다이닝코드', 'content': '석촌역 맛집 단디 (덮밥 ☆4.2), 다운타우너 (수제버거 ☆4.3), 엘리스 리틀 이태리 (화덕피자 ☆4.3) 등 537곳의 전체 순위,식당정보,방문자리뷰,사진 등을 확인하세요.', 'score': 0.8467682, 'raw_content': None}, {'url': 'https://hotel-iu.tistory.com/1557', 'title': '석촌역 맛집 베스트 추천 top 10', 'content': '석촌역 맛집 베스트 추천 top 10 · 1: 오스테리아세콘디. 상호명: 오스테리아세콘디 · 2: 본디. 상호명: 본디 · 3: 황도바지락칼국수. 상호명: 황도바지락', 'score': 0.8325776, 'raw_content': None}], 'response_time': 0.88, 'request_id': '4d0daa3c-bb3b-4fd3-83f2-fb9b0cc142dc'}\u001b[0m\u001b[32;1m\u001b[1;3m석촌역 근처 맛집 5곳은 다음과 같습니다.\n",
      "1. 미오 (일본식 퓨전)\n",
      "2. 바이킹스워프 롯데월드몰점\n",
      "3. 라티튜드32\n",
      "4. 단디 송리단길\n",
      "5. 이랑칼국수 석촌역\n",
      "\n",
      "더 자세한 정보가 필요하면 알려주세요.\u001b[0m\n",
      "\n",
      "\u001b[1m> Finished chain.\u001b[0m\n"
     ]
    }
   ],
   "source": [
    "result = excutor.invoke({\"input\": \"석촌역 근처 맛집 5개 찾아줘\"})"
   ]
  },
  {
   "cell_type": "markdown",
   "id": "b76eef0c",
   "metadata": {},
   "source": [
    "### 2. 파일 저장 툴"
   ]
  },
  {
   "cell_type": "code",
   "execution_count": 25,
   "id": "55b81d2b",
   "metadata": {},
   "outputs": [
    {
     "data": {
      "text/plain": [
       "[CopyFileTool(root_dir='./agent_result'),\n",
       " DeleteFileTool(root_dir='./agent_result'),\n",
       " FileSearchTool(root_dir='./agent_result'),\n",
       " MoveFileTool(root_dir='./agent_result'),\n",
       " ReadFileTool(root_dir='./agent_result'),\n",
       " WriteFileTool(root_dir='./agent_result'),\n",
       " ListDirectoryTool(root_dir='./agent_result')]"
      ]
     },
     "execution_count": 25,
     "metadata": {},
     "output_type": "execute_result"
    }
   ],
   "source": [
    "# 파일 저장 툴 가져오기\n",
    "from langchain_community.agent_toolkits import FileManagementToolkit\n",
    "\n",
    "root_dir = \"./agent_result\"\n",
    "file_tools = FileManagementToolkit(\n",
    "    root_dir=root_dir,\n",
    ").get_tools()\n",
    "\n",
    "# selected_tools\n",
    "# CopyFileTool\n",
    "# DeleteFileTool\n",
    "# FileSearchTool\n",
    "# MoveFileTool\n",
    "# ReadFileTool\n",
    "# WriteFileTool\n",
    "# ListDirectoryTool\n",
    "\n",
    "file_tools"
   ]
  },
  {
   "cell_type": "code",
   "execution_count": 24,
   "id": "be50701a",
   "metadata": {},
   "outputs": [],
   "source": [
    "# 웹서치 툴 가져오기\n",
    "from langchain_tavily import TavilySearch\n",
    "tavily_search = TavilySearch(max_result = 5)"
   ]
  },
  {
   "cell_type": "code",
   "execution_count": 26,
   "id": "d93efee5",
   "metadata": {},
   "outputs": [
    {
     "data": {
      "text/plain": [
       "[CopyFileTool(root_dir='./agent_result'),\n",
       " DeleteFileTool(root_dir='./agent_result'),\n",
       " FileSearchTool(root_dir='./agent_result'),\n",
       " MoveFileTool(root_dir='./agent_result'),\n",
       " ReadFileTool(root_dir='./agent_result'),\n",
       " WriteFileTool(root_dir='./agent_result'),\n",
       " ListDirectoryTool(root_dir='./agent_result'),\n",
       " TavilySearch(api_wrapper=TavilySearchAPIWrapper(tavily_api_key=SecretStr('**********'), api_base_url=None))]"
      ]
     },
     "execution_count": 26,
     "metadata": {},
     "output_type": "execute_result"
    }
   ],
   "source": [
    "# 툴 합치기\n",
    "total_tool = file_tools + [tavily_search]\n",
    "total_tool"
   ]
  },
  {
   "cell_type": "code",
   "execution_count": 74,
   "id": "3ebcb20b",
   "metadata": {},
   "outputs": [],
   "source": [
    "# 시스템 프롬프트 설정하기\n",
    "SYSTEM_PROMPT = \"\"\"\n",
    "너는 '파일 시스템 툴'과 '웹검색 툴'만을 사용하는 어시스턴트야\n",
    "\n",
    "[규칙]\n",
    "1. 최신 뉴스/링크는 Tavily로 검색한다\n",
    "2. 사용자가 csv 파일로 저장을 요청하면, 다음 필드 헤더로 csv 를 만든다\n",
    "    date, query, title, url, source, snippet\n",
    "3. {YYYYMMDD}.csv 파일이 이미 있는지 확인한다.\n",
    "4-1. {YYYYMMDD}.csv 파일이 없을때, {YYYYMMDD}.csv 파일을 생성하고 저장한다\n",
    "\n",
    "4-2. {YYYYMMDD}.csv 파일이 있을 때, 헤더를 유지한채 새로운 데이터를 추가한다\n",
    "새로운 파일을 생성 금지\n",
    "덮어쓰기로 기존 내용을 삭제 금지\n",
    "\n",
    "5. 저장한 뒤에 내용을 확인해서 가장 아래 5줄 정도 정보를 출력한다\n",
    "\n",
    "모든 답변은 한국어로 간결하게 해라\n",
    "\"\"\""
   ]
  },
  {
   "cell_type": "code",
   "execution_count": 28,
   "id": "559dc47b",
   "metadata": {},
   "outputs": [],
   "source": [
    "from datetime import datetime\n",
    "\n",
    "def get_today():\n",
    "    return datetime.now().strftime(\"%Y%m%d\")"
   ]
  },
  {
   "cell_type": "code",
   "execution_count": 29,
   "id": "c3533b0c",
   "metadata": {},
   "outputs": [
    {
     "data": {
      "text/plain": [
       "'20251016'"
      ]
     },
     "execution_count": 29,
     "metadata": {},
     "output_type": "execute_result"
    }
   ],
   "source": [
    "get_today()"
   ]
  },
  {
   "cell_type": "code",
   "execution_count": 73,
   "id": "3945e270",
   "metadata": {},
   "outputs": [],
   "source": [
    "# 1. 모델 설정\n",
    "llm = ChatOpenAI(\n",
    "    model = \"gpt-4.1-mini\",\n",
    "    temperature = 0,\n",
    ")\n",
    "\n",
    "# 2. 도구 생성\n",
    "from langchain_tavily import TavilySearch\n",
    "tavily_search = TavilySearch()\n",
    "\n",
    "# 3. 프롬프트 설정\n",
    "prompt = ChatPromptTemplate.from_messages([\n",
    "    (\"system\", SYSTEM_PROMPT),\n",
    "    (\"user\", \"{input}\"),\n",
    "    (\"placeholder\", \"{agent_scratchpad}\")\n",
    "])\n",
    "\n",
    "# 4. 단일 에이전트 생성\n",
    "agent = create_openai_tools_agent(\n",
    "    llm=llm,\n",
    "    tools=total_tool,\n",
    "    prompt=prompt\n",
    ")\n",
    "\n",
    "# 5. excutor 설정\n",
    "exceutor = AgentExecutor(\n",
    "    agent = agent,\n",
    "    tools=total_tool,\n",
    "    verbose=True\n",
    ")"
   ]
  },
  {
   "cell_type": "code",
   "execution_count": 51,
   "id": "598dac76",
   "metadata": {},
   "outputs": [
    {
     "name": "stdout",
     "output_type": "stream",
     "text": [
      "\n",
      "\n",
      "\u001b[1m> Entering new AgentExecutor chain...\u001b[0m\n",
      "\u001b[32;1m\u001b[1;3m\n",
      "Invoking: `tavily_search` with `{'query': 'AI 최신 뉴스', 'search_depth': 'basic', 'time_range': 'day', 'topic': 'news'}`\n",
      "\n",
      "\n",
      "\u001b[0m\u001b[33;1m\u001b[1;3m{'query': 'AI 최신 뉴스', 'follow_up_questions': None, 'answer': None, 'images': [], 'results': [{'url': 'https://www.mediapost.com/publications/article/409858/huge-acquires-bothyes-creative-studio.html?edition=140212', 'title': 'Huge Acquires Both&Yes Creative Studio 10/14/2025 - MediaPost', 'score': 0.58664185, 'published_date': 'Wed, 15 Oct 2025 11:00:43 GMT', 'content': '* WPP Expands Google AI Partnership, Commits $400M # WPP Expands Google AI Partnership, Commits $400M partnership, which includes a $400 million spending commitment from the holding company for Google\\xa0technologies. alongside the company’s increased investment into AI and technology through WPP Open, WPP’s AI platform for marketing. Kurian, \"By enabling WPP to innovate on our AI-optimized\\xa0technology stack, we are helping create the future of marketing technology for brands today.\" * Transforming WPP clients\\' businesses with new, bespoke AI solutions built with Gemini, Google’s suite of AI models, including AKQA\\'s “The Generative Google’s\\xa0cutting-edge\\xa0AI\\xa0integrated directly into\\xa0WPP\\xa0Open * Transforming WPP\\'s operations with Google AI for enhanced client service\\xa0by integrating Google’s AI into WPP’s * WPP Expands Google AI Partnership, Commits $400M', 'raw_content': None}, {'url': 'https://www.cnbc.com/2025/10/15/altman-open-ai-moral-police-erotica-chatgpt.html', 'title': \"Sam Altman says OpenAI isn't 'moral police of the world' after erotica ChatGPT post blows up - CNBC\", 'score': 0.48908922, 'published_date': 'Wed, 15 Oct 2025 20:06:57 GMT', 'content': 'Markets * Pre-Markets * U.S. Markets * Funds & ETFs * Options Action Tech * Tech Guide * Live Audio * Live TV Schedule * CNBC Podcasts Investing Club * Pro News * Market Forecast * Options Investing * Chart Investing Markets Tech Investing Club Tech WATCH LIVE OpenAI CEO Sam Altman said Wednesday that the company is \"not the elected moral police of the world\" after receiving backlash over his decision to loosen restrictions and allow content like erotica within its chatbot ChatGPT. On Tuesday, OpenAI announced assembled a council of eight experts who will provide insight into how\\xa0AI impacts users\\' mental health, emotions and motivation. WATCH: AI is not in a bubble, valuations look ‘pretty reasonable’, says BlackRock AI is not in a bubble, valuations look \\'pretty reasonable\\', says BlackRock', 'raw_content': None}, {'url': 'https://www.startupecosystem.ca/news/openai-to-introduce-new-customization-and-content-options-for-chatgpt/', 'title': 'OpenAI to Introduce New Customization and Content Options for ChatGPT - Startup Ecosystem Canada', 'score': 0.45827657, 'published_date': 'Wed, 15 Oct 2025 02:58:12 GMT', 'content': 'OpenAI CEO Sam Altman announced significant updates to ChatGPT, including easing content restrictions and offering users the ability to customize the chatbot’s personality and tone. * Canada startup news acquisition AI AI development AI infrastructure AI innovation AI integration AI investment AI models AI technology Anthropic Apple Artificial Intelligence Autonomous vehicles Canada founder news Canada startup news cryptocurrency Cybersecurity DeepSeek Electric Vehicles Elon Musk entrepreneurship fintech Funding round Generative AI Global founder news Global startup news healthcare innovation Innovation investment IPO Meta Microsoft Nvidia Ontario founder news Ontario startup news OpenAI Sam Altman Seed funding Series A funding Startup growth TechCrunch Disrupt Tech innovation Tesla Toronto startup news venture capital 1 month ago Global TechCrunch Disrupt 2025 Unveils Going Public Stage for Founders', 'raw_content': None}, {'url': 'https://www.startupecosystem.ca/news/nscale-secures-14-billion-ai-infrastructure-deal-with-microsoft/', 'title': 'Nscale Secures $14 Billion AI Infrastructure Deal with Microsoft - Startup Ecosystem Canada', 'score': 0.44145688, 'published_date': 'Wed, 15 Oct 2025 18:16:50 GMT', 'content': 'UK-based AI hyperscaler startup Nscale has secured a substantial $14 billion deal with Microsoft to deliver Nvidia AI infrastructure across Europe and the U.S. This agreement involves approximately 200,000 Nvidia GB300 GPUs, distributed to multiple data centers. acquisition AI AI development AI infrastructure AI innovation AI integration AI investment AI models AI technology Anthropic Apple Artificial Intelligence Autonomous vehicles Canada founder news Canada startup news cryptocurrency Cybersecurity DeepSeek Electric Vehicles Elon Musk entrepreneurship fintech Funding round Generative AI Global founder news Global startup news healthcare innovation Innovation investment IPO Meta Microsoft Nvidia Ontario founder news Ontario startup news OpenAI Sam Altman Seed funding Series A funding Startup growth TechCrunch Disrupt Tech innovation Tesla Toronto startup news venture capital', 'raw_content': None}, {'url': 'https://www.bloomberg.com/news/articles/2025-10-15/blackrock-s-gip-buys-aligned-data-centers-in-40-billion-ai-bet', 'title': 'BlackRock, MGX Make $40 Billion Bet on AI Boom With Aligned Data Centers Deal - Bloomberg.com', 'score': 0.39033696, 'published_date': 'Wed, 15 Oct 2025 13:10:32 GMT', 'content': 'The AI Race: China’s AI Desert Empire AI # BlackRock, MGX Make $40 Billion Bet on AI Boom With Aligned Data Centers Deal Provide news feedback or report an error Send a tip to our reporters Investors led by BlackRock Inc.’s Global Infrastructure Partners agreed to buy Aligned Data Centers in a $40 billion deal, one of the asset manager’s largest infrastructure investments ever that comes as Wall Street races to claim a stake in the artificial-intelligence boom. MGX, an AI investment company established by sovereign wealth fund Mubadala Investment Co., will invest alongside GIP, according to a statement Wednesday that confirmed an earlier Bloomberg News report. Choose Bloomberg as a preferred news source to see more of our reporting on Google', 'raw_content': None}], 'response_time': 0.0, 'request_id': '39906018-e0d9-4edb-90e2-c6f986925d45'}\u001b[0m\u001b[32;1m\u001b[1;3m\n",
      "Invoking: `file_search` with `{'pattern': '20251016.csv'}`\n",
      "responded: 오늘 AI 관련 최신 뉴스 5개 요약입니다.\n",
      "\n",
      "1. WPP, 구글 AI 파트너십 확대 및 4억 달러 투자 약속. 구글 AI 기술을 활용해 마케팅 기술 혁신 추진.\n",
      "2. OpenAI CEO 샘 올트먼, ChatGPT의 에로틱 콘텐츠 허용 결정 후 \"도덕 경찰 아냐\" 발언.\n",
      "3. OpenAI, ChatGPT에 사용자 맞춤형 성격 및 톤 설정 기능과 콘텐츠 제한 완화 예정.\n",
      "4. 영국 AI 스타트업 Nscale, 마이크로소프트와 140억 달러 규모 AI 인프라 계약 체결.\n",
      "5. 블랙록과 MGX, AI 붐에 맞춰 400억 달러 규모 Aligned Data Centers 인수 계약 체결.\n",
      "\n",
      "이 내용을 csv로 저장하겠습니다.\n",
      "\n",
      "\u001b[0m\u001b[38;5;200m\u001b[1;3m20251016.csv\u001b[0m\u001b[32;1m\u001b[1;3m\n",
      "Invoking: `read_file` with `{'file_path': '20251016.csv'}`\n",
      "\n",
      "\n",
      "\u001b[0m\u001b[33;1m\u001b[1;3mdate,query,title,url,source,snippet\n",
      "2025-10-15,패션 최신 뉴스,Bangladesh Garment Factory Fire Kills 16, Toll May Rise,https://www.businessoffashion.com/news/global-markets/bangladesh-garment-factory-fire-kills-16-toll-may-rise/,The Business of Fashion,A fire at a garment factory in Bangladesh killed at least 16 people, with the toll possibly rising.\n",
      "2025-10-15,패션 최신 뉴스,Chalhoub Group Invests in Willy Chavarria,https://www.businessoffashion.com/news/luxury/chalhoub-group-invests-in-willy-chavarria/,The Business of Fashion,Chalhoub Group invested in NY-based ready-to-wear brand Willy Chavarria, representing evolving luxury.\n",
      "2025-10-15,패션 최신 뉴스,Opulent, Humble, High-and-Low: 10 Jewelry Trends From the Spring 2026 Collections,https://www.vogue.com/article/opulent-humble-and-high-low-10-jewelry-trends-from-the-spring-2026-collections,Vogue,Top jewelry trends for Spring 2026 include festival necklaces, gemstones, and museum-worthy pieces.\n",
      "2025-10-15,패션 최신 뉴스,Radical PR Opens New York Office,https://www.businessoffashion.com/news/marketing-pr/radical-pr-opens-new-york-office/,The Business of Fashion,Paris-based PR agency Radical PR opened a New York office, expanding fashion communications.\n",
      "2025-10-15,패션 최신 뉴스,The Spring 2026 Accessory Trend Report: 175 Bags, Statement Belts, and Nouveau Flip-Flops That You’ll Want Next Season,https://www.vogue.com/article/the-spring-2026-accessory-trend-report-175-bags-statement-belts-and-nouveau-flip-flops-that-youll-want-next-season,Vogue,Spring 2026 accessory trends include bags, statement belts, and colorful socks with clear shoes.\n",
      "2025-10-16,AI 최신 뉴스,WPP, 구글 AI 파트너십 확대 및 4억 달러 투자 약속,https://www.mediapost.com/publications/article/409858/huge-acquires-bothyes-creative-studio.html?edition=140212,MediaPost,WPP가 구글 AI 기술을 활용해 마케팅 기술 혁신을 추진하며 4억 달러 투자 약속\n",
      "2025-10-16,AI 최신 뉴스,OpenAI CEO 샘 올트먼, ChatGPT 내 에로틱 콘텐츠 허용 논란에 \"도덕 경찰 아냐\" 발언,https://www.cnbc.com/2025/10/15/altman-open-ai-moral-police-erotica-chatgpt.html,CNBC,OpenAI CEO 샘 올트먼이 ChatGPT 내 에로틱 콘텐츠 허용 논란에 대해 \"도덕 경찰이 아니다\"고 발언\n",
      "2025-10-16,AI 최신 뉴스,OpenAI, ChatGPT에 사용자 맞춤형 성격 및 톤 설정 기능과 콘텐츠 제한 완화 예정,https://www.startupecosystem.ca/news/openai-to-introduce-new-customization-and-content-options-for-chatgpt/,Startup Ecosystem Canada,OpenAI가 ChatGPT에 사용자 맞춤형 성격 및 톤 설정 기능과 콘텐츠 제한 완화를 도입할 예정\n",
      "2025-10-16,AI 최신 뉴스,영국 AI 스타트업 Nscale, 마이크로소프트와 140억 달러 규모 AI 인프라 계약 체결,https://www.startupecosystem.ca/news/nscale-secures-14-billion-ai-infrastructure-deal-with-microsoft/,Startup Ecosystem Canada,영국 AI 스타트업 Nscale이 마이크로소프트와 140억 달러 규모 AI 인프라 계약을 체결\n",
      "2025-10-16,AI 최신 뉴스,블랙록 등 투자자들, AI 붐에 맞춰 400억 달러 규모 Aligned Data Centers 인수,https://www.bloomberg.com/news/articles/2025-10-15/blackrock-s-gip-buys-aligned-data-centers-in-40-billion-ai-bet,Bloomberg,블랙록 등 투자자들이 AI 붐에 맞춰 400억 달러 규모 Aligned Data Centers를 인수\n",
      "2025-10-16,AI 최신 뉴스,WPP, 구글 AI 파트너십 확대 및 4억 달러 투자 약속,https://www.mediapost.com/publications/article/409858/huge-acquires-bothyes-creative-studio.html?edition=140212,MediaPost,WPP가 구글 AI 기술을 활용해 마케팅 기술 혁신을 추진하며 4억 달러 투자 약속\n",
      "2025-10-16,AI 최신 뉴스,OpenAI CEO 샘 올트먼, ChatGPT 내 에로틱 콘텐츠 허용 논란에 \"도덕 경찰 아냐\" 발언,https://www.cnbc.com/2025/10/15/altman-open-ai-moral-police-erotica-chatgpt.html,CNBC,OpenAI CEO 샘 올트먼이 ChatGPT 내 에로틱 콘텐츠 허용 논란에 대해 \"도덕 경찰이 아니다\"고 발언\n",
      "2025-10-16,AI 최신 뉴스,OpenAI, ChatGPT에 사용자 맞춤형 성격 및 톤 설정 기능과 콘텐츠 제한 완화 예정,https://www.startupecosystem.ca/news/openai-to-introduce-new-customization-and-content-options-for-chatgpt/,Startup Ecosystem Canada,OpenAI가 ChatGPT에 사용자 맞춤형 성격 및 톤 설정 기능과 콘텐츠 제한 완화를 도입할 예정\n",
      "2025-10-16,AI 최신 뉴스,영국 AI 스타트업 Nscale, 마이크로소프트와 140억 달러 규모 AI 인프라 계약 체결,https://www.startupecosystem.ca/news/nscale-secures-14-billion-ai-infrastructure-deal-with-microsoft/,Startup Ecosystem Canada,영국 AI 스타트업 Nscale이 마이크로소프트와 140억 달러 규모 AI 인프라 계약을 체결\n",
      "2025-10-16,AI 최신 뉴스,블랙록 등 투자자들, AI 붐에 맞춰 400억 달러 규모 Aligned Data Centers 인수,https://www.bloomberg.com/news/articles/2025-10-15/blackrock-s-gip-buys-aligned-data-centers-in-40-billion-ai-bet,Bloomberg,블랙록 등 투자자들이 AI 붐에 맞춰 400억 달러 규모 Aligned Data Centers를 인수\n",
      "\u001b[0m\u001b[32;1m\u001b[1;3m\n",
      "Invoking: `write_file` with `{'file_path': '20251016.csv', 'text': '2025-10-16,AI 최신 뉴스,WPP, 구글 AI 파트너십 확대 및 4억 달러 투자 약속,https://www.mediapost.com/publications/article/409858/huge-acquires-bothyes-creative-studio.html?edition=140212,MediaPost,WPP가 구글 AI 기술을 활용해 마케팅 기술 혁신을 추진하며 4억 달러 투자 약속\\n2025-10-16,AI 최신 뉴스,OpenAI CEO 샘 올트먼, ChatGPT 내 에로틱 콘텐츠 허용 논란에 \"도덕 경찰 아냐\" 발언,https://www.cnbc.com/2025/10/15/altman-open-ai-moral-police-erotica-chatgpt.html,CNBC,OpenAI CEO 샘 올트먼이 ChatGPT 내 에로틱 콘텐츠 허용 논란에 대해 \"도덕 경찰이 아니다\"고 발언\\n2025-10-16,AI 최신 뉴스,OpenAI, ChatGPT에 사용자 맞춤형 성격 및 톤 설정 기능과 콘텐츠 제한 완화 예정,https://www.startupecosystem.ca/news/openai-to-introduce-new-customization-and-content-options-for-chatgpt/,Startup Ecosystem Canada,OpenAI가 ChatGPT에 사용자 맞춤형 성격 및 톤 설정 기능과 콘텐츠 제한 완화를 도입할 예정\\n2025-10-16,AI 최신 뉴스,영국 AI 스타트업 Nscale, 마이크로소프트와 140억 달러 규모 AI 인프라 계약 체결,https://www.startupecosystem.ca/news/nscale-secures-14-billion-ai-infrastructure-deal-with-microsoft/,Startup Ecosystem Canada,영국 AI 스타트업 Nscale이 마이크로소프트와 140억 달러 규모 AI 인프라 계약을 체결\\n2025-10-16,AI 최신 뉴스,블랙록 등 투자자들, AI 붐에 맞춰 400억 달러 규모 Aligned Data Centers 인수,https://www.bloomberg.com/news/articles/2025-10-15/blackrock-s-gip-buys-aligned-data-centers-in-40-billion-ai-bet,Bloomberg,블랙록 등 투자자들이 AI 붐에 맞춰 400억 달러 규모 Aligned Data Centers를 인수\\n', 'append': True}`\n",
      "\n",
      "\n",
      "\u001b[0m\u001b[38;5;200m\u001b[1;3mFile written successfully to 20251016.csv.\u001b[0m\u001b[32;1m\u001b[1;3m\n",
      "Invoking: `read_file` with `{'file_path': '20251016.csv'}`\n",
      "\n",
      "\n",
      "\u001b[0m\u001b[33;1m\u001b[1;3mdate,query,title,url,source,snippet\n",
      "2025-10-15,패션 최신 뉴스,Bangladesh Garment Factory Fire Kills 16, Toll May Rise,https://www.businessoffashion.com/news/global-markets/bangladesh-garment-factory-fire-kills-16-toll-may-rise/,The Business of Fashion,A fire at a garment factory in Bangladesh killed at least 16 people, with the toll possibly rising.\n",
      "2025-10-15,패션 최신 뉴스,Chalhoub Group Invests in Willy Chavarria,https://www.businessoffashion.com/news/luxury/chalhoub-group-invests-in-willy-chavarria/,The Business of Fashion,Chalhoub Group invested in NY-based ready-to-wear brand Willy Chavarria, representing evolving luxury.\n",
      "2025-10-15,패션 최신 뉴스,Opulent, Humble, High-and-Low: 10 Jewelry Trends From the Spring 2026 Collections,https://www.vogue.com/article/opulent-humble-and-high-low-10-jewelry-trends-from-the-spring-2026-collections,Vogue,Top jewelry trends for Spring 2026 include festival necklaces, gemstones, and museum-worthy pieces.\n",
      "2025-10-15,패션 최신 뉴스,Radical PR Opens New York Office,https://www.businessoffashion.com/news/marketing-pr/radical-pr-opens-new-york-office/,The Business of Fashion,Paris-based PR agency Radical PR opened a New York office, expanding fashion communications.\n",
      "2025-10-15,패션 최신 뉴스,The Spring 2026 Accessory Trend Report: 175 Bags, Statement Belts, and Nouveau Flip-Flops That You’ll Want Next Season,https://www.vogue.com/article/the-spring-2026-accessory-trend-report-175-bags-statement-belts-and-nouveau-flip-flops-that-youll-want-next-season,Vogue,Spring 2026 accessory trends include bags, statement belts, and colorful socks with clear shoes.\n",
      "2025-10-16,AI 최신 뉴스,WPP, 구글 AI 파트너십 확대 및 4억 달러 투자 약속,https://www.mediapost.com/publications/article/409858/huge-acquires-bothyes-creative-studio.html?edition=140212,MediaPost,WPP가 구글 AI 기술을 활용해 마케팅 기술 혁신을 추진하며 4억 달러 투자 약속\n",
      "2025-10-16,AI 최신 뉴스,OpenAI CEO 샘 올트먼, ChatGPT 내 에로틱 콘텐츠 허용 논란에 \"도덕 경찰 아냐\" 발언,https://www.cnbc.com/2025/10/15/altman-open-ai-moral-police-erotica-chatgpt.html,CNBC,OpenAI CEO 샘 올트먼이 ChatGPT 내 에로틱 콘텐츠 허용 논란에 대해 \"도덕 경찰이 아니다\"고 발언\n",
      "2025-10-16,AI 최신 뉴스,OpenAI, ChatGPT에 사용자 맞춤형 성격 및 톤 설정 기능과 콘텐츠 제한 완화 예정,https://www.startupecosystem.ca/news/openai-to-introduce-new-customization-and-content-options-for-chatgpt/,Startup Ecosystem Canada,OpenAI가 ChatGPT에 사용자 맞춤형 성격 및 톤 설정 기능과 콘텐츠 제한 완화를 도입할 예정\n",
      "2025-10-16,AI 최신 뉴스,영국 AI 스타트업 Nscale, 마이크로소프트와 140억 달러 규모 AI 인프라 계약 체결,https://www.startupecosystem.ca/news/nscale-secures-14-billion-ai-infrastructure-deal-with-microsoft/,Startup Ecosystem Canada,영국 AI 스타트업 Nscale이 마이크로소프트와 140억 달러 규모 AI 인프라 계약을 체결\n",
      "2025-10-16,AI 최신 뉴스,블랙록 등 투자자들, AI 붐에 맞춰 400억 달러 규모 Aligned Data Centers 인수,https://www.bloomberg.com/news/articles/2025-10-15/blackrock-s-gip-buys-aligned-data-centers-in-40-billion-ai-bet,Bloomberg,블랙록 등 투자자들이 AI 붐에 맞춰 400억 달러 규모 Aligned Data Centers를 인수\n",
      "2025-10-16,AI 최신 뉴스,WPP, 구글 AI 파트너십 확대 및 4억 달러 투자 약속,https://www.mediapost.com/publications/article/409858/huge-acquires-bothyes-creative-studio.html?edition=140212,MediaPost,WPP가 구글 AI 기술을 활용해 마케팅 기술 혁신을 추진하며 4억 달러 투자 약속\n",
      "2025-10-16,AI 최신 뉴스,OpenAI CEO 샘 올트먼, ChatGPT 내 에로틱 콘텐츠 허용 논란에 \"도덕 경찰 아냐\" 발언,https://www.cnbc.com/2025/10/15/altman-open-ai-moral-police-erotica-chatgpt.html,CNBC,OpenAI CEO 샘 올트먼이 ChatGPT 내 에로틱 콘텐츠 허용 논란에 대해 \"도덕 경찰이 아니다\"고 발언\n",
      "2025-10-16,AI 최신 뉴스,OpenAI, ChatGPT에 사용자 맞춤형 성격 및 톤 설정 기능과 콘텐츠 제한 완화 예정,https://www.startupecosystem.ca/news/openai-to-introduce-new-customization-and-content-options-for-chatgpt/,Startup Ecosystem Canada,OpenAI가 ChatGPT에 사용자 맞춤형 성격 및 톤 설정 기능과 콘텐츠 제한 완화를 도입할 예정\n",
      "2025-10-16,AI 최신 뉴스,영국 AI 스타트업 Nscale, 마이크로소프트와 140억 달러 규모 AI 인프라 계약 체결,https://www.startupecosystem.ca/news/nscale-secures-14-billion-ai-infrastructure-deal-with-microsoft/,Startup Ecosystem Canada,영국 AI 스타트업 Nscale이 마이크로소프트와 140억 달러 규모 AI 인프라 계약을 체결\n",
      "2025-10-16,AI 최신 뉴스,블랙록 등 투자자들, AI 붐에 맞춰 400억 달러 규모 Aligned Data Centers 인수,https://www.bloomberg.com/news/articles/2025-10-15/blackrock-s-gip-buys-aligned-data-centers-in-40-billion-ai-bet,Bloomberg,블랙록 등 투자자들이 AI 붐에 맞춰 400억 달러 규모 Aligned Data Centers를 인수\n",
      "2025-10-16,AI 최신 뉴스,WPP, 구글 AI 파트너십 확대 및 4억 달러 투자 약속,https://www.mediapost.com/publications/article/409858/huge-acquires-bothyes-creative-studio.html?edition=140212,MediaPost,WPP가 구글 AI 기술을 활용해 마케팅 기술 혁신을 추진하며 4억 달러 투자 약속\n",
      "2025-10-16,AI 최신 뉴스,OpenAI CEO 샘 올트먼, ChatGPT 내 에로틱 콘텐츠 허용 논란에 \"도덕 경찰 아냐\" 발언,https://www.cnbc.com/2025/10/15/altman-open-ai-moral-police-erotica-chatgpt.html,CNBC,OpenAI CEO 샘 올트먼이 ChatGPT 내 에로틱 콘텐츠 허용 논란에 대해 \"도덕 경찰이 아니다\"고 발언\n",
      "2025-10-16,AI 최신 뉴스,OpenAI, ChatGPT에 사용자 맞춤형 성격 및 톤 설정 기능과 콘텐츠 제한 완화 예정,https://www.startupecosystem.ca/news/openai-to-introduce-new-customization-and-content-options-for-chatgpt/,Startup Ecosystem Canada,OpenAI가 ChatGPT에 사용자 맞춤형 성격 및 톤 설정 기능과 콘텐츠 제한 완화를 도입할 예정\n",
      "2025-10-16,AI 최신 뉴스,영국 AI 스타트업 Nscale, 마이크로소프트와 140억 달러 규모 AI 인프라 계약 체결,https://www.startupecosystem.ca/news/nscale-secures-14-billion-ai-infrastructure-deal-with-microsoft/,Startup Ecosystem Canada,영국 AI 스타트업 Nscale이 마이크로소프트와 140억 달러 규모 AI 인프라 계약을 체결\n",
      "2025-10-16,AI 최신 뉴스,블랙록 등 투자자들, AI 붐에 맞춰 400억 달러 규모 Aligned Data Centers 인수,https://www.bloomberg.com/news/articles/2025-10-15/blackrock-s-gip-buys-aligned-data-centers-in-40-billion-ai-bet,Bloomberg,블랙록 등 투자자들이 AI 붐에 맞춰 400억 달러 규모 Aligned Data Centers를 인수\n",
      "\u001b[0m\u001b[32;1m\u001b[1;3m최신 AI 뉴스 5개를 20251016.csv에 저장 완료했습니다.\n",
      "\n",
      "가장 아래 5줄 정보는 다음과 같습니다.\n",
      "2025-10-16,AI 최신 뉴스,OpenAI, ChatGPT에 사용자 맞춤형 성격 및 톤 설정 기능과 콘텐츠 제한 완화 예정,https://www.startupecosystem.ca/news/openai-to-introduce-new-customization-and-content-options-for-chatgpt/,Startup Ecosystem Canada,OpenAI가 ChatGPT에 사용자 맞춤형 성격 및 톤 설정 기능과 콘텐츠 제한 완화를 도입할 예정\n",
      "2025-10-16,AI 최신 뉴스,영국 AI 스타트업 Nscale, 마이크로소프트와 140억 달러 규모 AI 인프라 계약 체결,https://www.startupecosystem.ca/news/nscale-secures-14-billion-ai-infrastructure-deal-with-microsoft/,Startup Ecosystem Canada,영국 AI 스타트업 Nscale이 마이크로소프트와 140억 달러 규모 AI 인프라 계약을 체결\n",
      "2025-10-16,AI 최신 뉴스,블랙록 등 투자자들, AI 붐에 맞춰 400억 달러 규모 Aligned Data Centers 인수,https://www.bloomberg.com/news/articles/2025-10-15/blackrock-s-gip-buys-aligned-data-centers-in-40-billion-ai-bet,Bloomberg,블랙록 등 투자자들이 AI 붐에 맞춰 400억 달러 규모 Aligned Data Centers를 인수\n",
      "2025-10-16,AI 최신 뉴스,WPP, 구글 AI 파트너십 확대 및 4억 달러 투자 약속,https://www.mediapost.com/publications/article/409858/huge-acquires-bothyes-creative-studio.html?edition=140212,MediaPost,WPP가 구글 AI 기술을 활용해 마케팅 기술 혁신을 추진하며 4억 달러 투자 약속\n",
      "2025-10-16,AI 최신 뉴스,OpenAI CEO 샘 올트먼, ChatGPT 내 에로틱 콘텐츠 허용 논란에 \"도덕 경찰 아냐\" 발언,https://www.cnbc.com/2025/10/15/altman-open-ai-moral-police-erotica-chatgpt.html,CNBC,OpenAI CEO 샘 올트먼이 ChatGPT 내 에로틱 콘텐츠 허용 논란에 대해 \"도덕 경찰이 아니다\"고 발언\u001b[0m\n",
      "\n",
      "\u001b[1m> Finished chain.\u001b[0m\n",
      "{'input': '오늘 AI 관련 뉴스 최신 5개만 요약해주고 그내용을 csv 로 저장해줘', 'YYYYMMDD': '20251016', 'output': '최신 AI 뉴스 5개를 20251016.csv에 저장 완료했습니다.\\n\\n가장 아래 5줄 정보는 다음과 같습니다.\\n2025-10-16,AI 최신 뉴스,OpenAI, ChatGPT에 사용자 맞춤형 성격 및 톤 설정 기능과 콘텐츠 제한 완화 예정,https://www.startupecosystem.ca/news/openai-to-introduce-new-customization-and-content-options-for-chatgpt/,Startup Ecosystem Canada,OpenAI가 ChatGPT에 사용자 맞춤형 성격 및 톤 설정 기능과 콘텐츠 제한 완화를 도입할 예정\\n2025-10-16,AI 최신 뉴스,영국 AI 스타트업 Nscale, 마이크로소프트와 140억 달러 규모 AI 인프라 계약 체결,https://www.startupecosystem.ca/news/nscale-secures-14-billion-ai-infrastructure-deal-with-microsoft/,Startup Ecosystem Canada,영국 AI 스타트업 Nscale이 마이크로소프트와 140억 달러 규모 AI 인프라 계약을 체결\\n2025-10-16,AI 최신 뉴스,블랙록 등 투자자들, AI 붐에 맞춰 400억 달러 규모 Aligned Data Centers 인수,https://www.bloomberg.com/news/articles/2025-10-15/blackrock-s-gip-buys-aligned-data-centers-in-40-billion-ai-bet,Bloomberg,블랙록 등 투자자들이 AI 붐에 맞춰 400억 달러 규모 Aligned Data Centers를 인수\\n2025-10-16,AI 최신 뉴스,WPP, 구글 AI 파트너십 확대 및 4억 달러 투자 약속,https://www.mediapost.com/publications/article/409858/huge-acquires-bothyes-creative-studio.html?edition=140212,MediaPost,WPP가 구글 AI 기술을 활용해 마케팅 기술 혁신을 추진하며 4억 달러 투자 약속\\n2025-10-16,AI 최신 뉴스,OpenAI CEO 샘 올트먼, ChatGPT 내 에로틱 콘텐츠 허용 논란에 \"도덕 경찰 아냐\" 발언,https://www.cnbc.com/2025/10/15/altman-open-ai-moral-police-erotica-chatgpt.html,CNBC,OpenAI CEO 샘 올트먼이 ChatGPT 내 에로틱 콘텐츠 허용 논란에 대해 \"도덕 경찰이 아니다\"고 발언'}\n"
     ]
    }
   ],
   "source": [
    "result = exceutor.invoke({\n",
    "    \"input\" : \"오늘 AI 관련 뉴스 최신 5개만 요약해주고 그내용을 csv 로 저장해줘\",\n",
    "    \"YYYYMMDD\" : get_today()\n",
    "})\n",
    "print(result)"
   ]
  },
  {
   "cell_type": "code",
   "execution_count": 48,
   "id": "4326e83b",
   "metadata": {},
   "outputs": [
    {
     "name": "stdout",
     "output_type": "stream",
     "text": [
      "\n",
      "\n",
      "\u001b[1m> Entering new AgentExecutor chain...\u001b[0m\n",
      "\u001b[32;1m\u001b[1;3m\n",
      "Invoking: `tavily_search` with `{'query': '패션 최신 뉴스', 'search_depth': 'basic', 'time_range': 'day', 'topic': 'news'}`\n",
      "\n",
      "\n",
      "\u001b[0m\u001b[33;1m\u001b[1;3m{'query': '패션 최신 뉴스', 'follow_up_questions': None, 'answer': None, 'images': [], 'results': [{'url': 'https://www.businessoffashion.com/news/global-markets/bangladesh-garment-factory-fire-kills-16-toll-may-rise/', 'title': 'Bangladesh Garment Factory Fire Kills 16, Toll May Rise - The Business of Fashion', 'score': 0.528169, 'published_date': 'Wed, 15 Oct 2025 08:20:37 GMT', 'content': 'A fire on Tuesday at a garment factory in Bangladesh and an adjacent chemical warehouse killed at least 16 people and injured others, and the death toll could rise, an official said. “Sixteen bodies have been recovered from the second and third floors of the garment factory,” he said, adding that the number of deaths could rise as recovery operations were continuing. This week’s round-up of global markets fashion business news also features China’s Shan Future Forum and Saudi Arabia’s new development in Diriyah Square. This week’s round-up of global markets fashion business news also features Chinese textile exports, Kenyan manufacturers and Saudi Arabia’s luxury watch market. Unrivalled, world class journalism across fashion, luxury and beauty industries.', 'raw_content': None}, {'url': 'https://www.businessoffashion.com/news/luxury/chalhoub-group-invests-in-willy-chavarria/', 'title': 'Chalhoub Group Invests in Willy Chavarria - The Business of Fashion', 'score': 0.37751824, 'published_date': 'Wed, 15 Oct 2025 20:19:11 GMT', 'content': 'Middle East retail firm Chalhoub Group announced on Wednesday that it had invested in New York-based ready-to-wear brand Willy Chavarria. Chalhoub Group joins FAE Fashion Ventures — a brand-building platform within entertainment company First Access Entertainment, led by music executive Sarah Stennett and investor David Grimber — which quietly invested in the brand last year. Chavarria “represents the evolving face of luxury — rooted in culture, identity, and community,” said Zahra Kassim-Lakha, chief investment officer, Chalhoub Group in a statement. Cora Corré said the brand’s decisions ‘do not align with the values or wishes’ of the late designer, as it announced it would headline Riyadh fashion week despite Saudi Arabia’s human rights record. Unrivalled, world class journalism across fashion, luxury and beauty industries.', 'raw_content': None}, {'url': 'https://www.vogue.com/article/opulent-humble-and-high-low-10-jewelry-trends-from-the-spring-2026-collections', 'title': 'Opulent, Humble, High-and-Low: 10 Jewelry Trends From the Spring 2026 Collections - Vogue', 'score': 0.30978584, 'published_date': 'Wed, 15 Oct 2025 22:00:00 GMT', 'content': '# Opulent, Humble, High-and-Low: 10 Jewelry Trends From the Spring 2026 Collections Festival necklaces were similarly trending at Celine and Tory Burch, while at Givenchy and Lanvin those beads became gemstones and crystals, *la bohème* replaced by opulence. For an even more decadent vibe, see Saint Laurent and Gucci, where pieces looked more like museum-worthy crown jewels than runway accessories, though if you want something that makes you feel as good as you look, Schiaparelli’s glowing salt rocks might be the ticket. Scroll through for the top jewelry trends at the spring 2026 collections. José Criales-Unzueta is a Fashion News Editor at\\xa0*Vogue*\\xa0Runway, where they cover designers, collections, and industry news with a focus on menswear and queer and digital cultures.', 'raw_content': None}, {'url': 'https://www.businessoffashion.com/news/marketing-pr/radical-pr-opens-new-york-office/', 'title': 'Radical PR Opens New York Office - The Business of Fashion', 'score': 0.26487666, 'published_date': 'Wed, 15 Oct 2025 04:30:00 GMT', 'content': 'The Business of Fashion Agenda-setting intelligence, analysis and advice for the global fashion community. * BoF 500 * BoF Careers * BoF Events The Paris-based PR agency Radical PR opened an office in New York on Monday, Sept. How new technologies and cultural shifts are rewiring fashion communications. Unrivalled, world class journalism across fashion, luxury and beauty industries. As the international French fashion design and business school group adopts future-forward teaching practices, BoF sits down with Véronique Beaumont, chief operating officer and general director at ESMOD, to discuss its next chapter. ## The Business of Fashion Agenda-setting intelligence, analysis and advice for the global fashion community.', 'raw_content': None}, {'url': 'https://www.vogue.com/article/the-spring-2026-accessory-trend-report-175-bags-statement-belts-and-nouveau-flip-flops-that-youll-want-next-season', 'title': 'The Spring 2026 Accessory Trend Report: 175 Bags, Statement Belts, and Nouveau Flip-Flops That You’ll Want Next Season - Vogue', 'score': 0.22441256, 'published_date': 'Wed, 15 Oct 2025 10:00:00 GMT', 'content': '# The Spring 2026 Accessory Trend Report: 175 Bags, Statement Belts, and Nouveau Flip-Flops That You’ll Want Next Season The meaning is: there is no meaning; these are just shoes and bags and belts and hats (and don’t forget sunglasses) that can make your life easier, more beautiful, even fun. ## A Bag-on-a-Belt Until recently, flip-flops were just generic shoes; something to wear in the summer, to the beach, that exists entirely removed from the fashion trend cycle. Styling tricks to take note of: a shoe protector worn as a sock at Dario Vitale’s new Versace, thin socks rolled down “donut style” at Marie-Adam Leenaerdt, “baggy” socks at Louis Vuitton, colorful ankle socks worn with clear shoes at Jack McCollough and Lazaro Hernandez’s new Loewe, a delicate chiffon sock worn… on the outside at Rachel Scott’s new Proenza Schouler.', 'raw_content': None}], 'response_time': 0.0, 'request_id': '81ab3235-bd32-4e8e-808e-e2b3f08a8883'}\u001b[0m\u001b[32;1m\u001b[1;3m\n",
      "Invoking: `write_file` with `{'file_path': '20251016.csv', 'text': 'date,query,title,url,source,snippet\\n2025-10-15,패션 최신 뉴스,Bangladesh Garment Factory Fire Kills 16, Toll May Rise,https://www.businessoffashion.com/news/global-markets/bangladesh-garment-factory-fire-kills-16-toll-may-rise/,The Business of Fashion,A fire at a garment factory in Bangladesh killed at least 16 people, with the toll possibly rising.\\n2025-10-15,패션 최신 뉴스,Chalhoub Group Invests in Willy Chavarria,https://www.businessoffashion.com/news/luxury/chalhoub-group-invests-in-willy-chavarria/,The Business of Fashion,Chalhoub Group invested in NY-based ready-to-wear brand Willy Chavarria, representing evolving luxury.\\n2025-10-15,패션 최신 뉴스,Opulent, Humble, High-and-Low: 10 Jewelry Trends From the Spring 2026 Collections,https://www.vogue.com/article/opulent-humble-and-high-low-10-jewelry-trends-from-the-spring-2026-collections,Vogue,Top jewelry trends for Spring 2026 include festival necklaces, gemstones, and museum-worthy pieces.\\n2025-10-15,패션 최신 뉴스,Radical PR Opens New York Office,https://www.businessoffashion.com/news/marketing-pr/radical-pr-opens-new-york-office/,The Business of Fashion,Paris-based PR agency Radical PR opened a New York office, expanding fashion communications.\\n2025-10-15,패션 최신 뉴스,The Spring 2026 Accessory Trend Report: 175 Bags, Statement Belts, and Nouveau Flip-Flops That You’ll Want Next Season,https://www.vogue.com/article/the-spring-2026-accessory-trend-report-175-bags-statement-belts-and-nouveau-flip-flops-that-youll-want-next-season,Vogue,Spring 2026 accessory trends include bags, statement belts, and colorful socks with clear shoes.\\n'}`\n",
      "\n",
      "\n",
      "\u001b[0m\u001b[38;5;200m\u001b[1;3mFile written successfully to 20251016.csv.\u001b[0m\u001b[32;1m\u001b[1;3m오늘 패션 관련 최신 뉴스 5개를 요약해 csv로 저장했습니다. \n",
      "\n",
      "가장 아래 5줄 내용은 다음과 같습니다:\n",
      "2025-10-15,패션 최신 뉴스,Bangladesh Garment Factory Fire Kills 16, Toll May Rise,https://www.businessoffashion.com/news/global-markets/bangladesh-garment-factory-fire-kills-16-toll-may-rise/,The Business of Fashion,A fire at a garment factory in Bangladesh killed at least 16 people, with the toll possibly rising.\n",
      "2025-10-15,패션 최신 뉴스,Chalhoub Group Invests in Willy Chavarria,https://www.businessoffashion.com/news/luxury/chalhoub-group-invests-in-willy-chavarria/,The Business of Fashion,Chalhoub Group invested in NY-based ready-to-wear brand Willy Chavarria, representing evolving luxury.\n",
      "2025-10-15,패션 최신 뉴스,Opulent, Humble, High-and-Low: 10 Jewelry Trends From the Spring 2026 Collections,https://www.vogue.com/article/opulent-humble-and-high-low-10-jewelry-trends-from-the-spring-2026-collections,Vogue,Top jewelry trends for Spring 2026 include festival necklaces, gemstones, and museum-worthy pieces.\n",
      "2025-10-15,패션 최신 뉴스,Radical PR Opens New York Office,https://www.businessoffashion.com/news/marketing-pr/radical-pr-opens-new-york-office/,The Business of Fashion,Paris-based PR agency Radical PR opened a New York office, expanding fashion communications.\n",
      "2025-10-15,패션 최신 뉴스,The Spring 2026 Accessory Trend Report: 175 Bags, Statement Belts, and Nouveau Flip-Flops That You’ll Want Next Season,https://www.vogue.com/article/the-spring-2026-accessory-trend-report-175-bags-statement-belts-and-nouveau-flip-flops-that-youll-want-next-season,Vogue,Spring 2026 accessory trends include bags, statement belts, and colorful socks with clear shoes.\u001b[0m\n",
      "\n",
      "\u001b[1m> Finished chain.\u001b[0m\n",
      "{'input': '오늘 패션 관련 뉴스 최신 5개만 요약해주고 그내용을 csv 로 저장해줘', 'YYYYMMDD': '20251016', 'output': '오늘 패션 관련 최신 뉴스 5개를 요약해 csv로 저장했습니다. \\n\\n가장 아래 5줄 내용은 다음과 같습니다:\\n2025-10-15,패션 최신 뉴스,Bangladesh Garment Factory Fire Kills 16, Toll May Rise,https://www.businessoffashion.com/news/global-markets/bangladesh-garment-factory-fire-kills-16-toll-may-rise/,The Business of Fashion,A fire at a garment factory in Bangladesh killed at least 16 people, with the toll possibly rising.\\n2025-10-15,패션 최신 뉴스,Chalhoub Group Invests in Willy Chavarria,https://www.businessoffashion.com/news/luxury/chalhoub-group-invests-in-willy-chavarria/,The Business of Fashion,Chalhoub Group invested in NY-based ready-to-wear brand Willy Chavarria, representing evolving luxury.\\n2025-10-15,패션 최신 뉴스,Opulent, Humble, High-and-Low: 10 Jewelry Trends From the Spring 2026 Collections,https://www.vogue.com/article/opulent-humble-and-high-low-10-jewelry-trends-from-the-spring-2026-collections,Vogue,Top jewelry trends for Spring 2026 include festival necklaces, gemstones, and museum-worthy pieces.\\n2025-10-15,패션 최신 뉴스,Radical PR Opens New York Office,https://www.businessoffashion.com/news/marketing-pr/radical-pr-opens-new-york-office/,The Business of Fashion,Paris-based PR agency Radical PR opened a New York office, expanding fashion communications.\\n2025-10-15,패션 최신 뉴스,The Spring 2026 Accessory Trend Report: 175 Bags, Statement Belts, and Nouveau Flip-Flops That You’ll Want Next Season,https://www.vogue.com/article/the-spring-2026-accessory-trend-report-175-bags-statement-belts-and-nouveau-flip-flops-that-youll-want-next-season,Vogue,Spring 2026 accessory trends include bags, statement belts, and colorful socks with clear shoes.'}\n"
     ]
    }
   ],
   "source": [
    "result = exceutor.invoke({\n",
    "    \"input\" : \"오늘 패션 관련 뉴스 최신 5개만 요약해주고 그내용을 csv 로 저장해줘\",\n",
    "    \"YYYYMMDD\" : get_today()\n",
    "})\n",
    "print(result)"
   ]
  },
  {
   "cell_type": "markdown",
   "id": "38ad70ec",
   "metadata": {},
   "source": [
    "### 3. 데이터베이스 저장"
   ]
  },
  {
   "cell_type": "code",
   "execution_count": 55,
   "id": "fe7828a4",
   "metadata": {},
   "outputs": [
    {
     "data": {
      "text/plain": [
       "[QuerySQLDatabaseTool(description=\"Input to this tool is a detailed and correct SQL query, output is a result from the database. If the query is not correct, an error message will be returned. If an error is returned, rewrite the query, check the query, and try again. If you encounter an issue with Unknown column 'xxxx' in 'field list', use sql_db_schema to query the correct table fields.\", db=<langchain_community.utilities.sql_database.SQLDatabase object at 0x00000299575B6390>),\n",
       " InfoSQLDatabaseTool(description='Input to this tool is a comma-separated list of tables, output is the schema and sample rows for those tables. Be sure that the tables actually exist by calling sql_db_list_tables first! Example Input: table1, table2, table3', db=<langchain_community.utilities.sql_database.SQLDatabase object at 0x00000299575B6390>),\n",
       " ListSQLDatabaseTool(db=<langchain_community.utilities.sql_database.SQLDatabase object at 0x00000299575B6390>),\n",
       " QuerySQLCheckerTool(description='Use this tool to double check if your query is correct before executing it. Always use this tool before executing a query with sql_db_query!', db=<langchain_community.utilities.sql_database.SQLDatabase object at 0x00000299575B6390>, llm=ChatOpenAI(client=<openai.resources.chat.completions.completions.Completions object at 0x0000029957448790>, async_client=<openai.resources.chat.completions.completions.AsyncCompletions object at 0x0000029957448510>, root_client=<openai.OpenAI object at 0x0000029958939090>, root_async_client=<openai.AsyncOpenAI object at 0x00000299574481D0>, model_name='gpt-4.1-mini', temperature=0.0, model_kwargs={}, openai_api_key=SecretStr('**********'), stream_usage=True), llm_chain=LLMChain(verbose=False, prompt=PromptTemplate(input_variables=['dialect', 'query'], input_types={}, partial_variables={}, template='\\n{query}\\nDouble check the {dialect} query above for common mistakes, including:\\n- Using NOT IN with NULL values\\n- Using UNION when UNION ALL should have been used\\n- Using BETWEEN for exclusive ranges\\n- Data type mismatch in predicates\\n- Properly quoting identifiers\\n- Using the correct number of arguments for functions\\n- Casting to the correct data type\\n- Using the proper columns for joins\\n\\nIf there are any of the above mistakes, rewrite the query. If there are no mistakes, just reproduce the original query.\\n\\nOutput the final SQL query only.\\n\\nSQL Query: '), llm=ChatOpenAI(client=<openai.resources.chat.completions.completions.Completions object at 0x0000029957448790>, async_client=<openai.resources.chat.completions.completions.AsyncCompletions object at 0x0000029957448510>, root_client=<openai.OpenAI object at 0x0000029958939090>, root_async_client=<openai.AsyncOpenAI object at 0x00000299574481D0>, model_name='gpt-4.1-mini', temperature=0.0, model_kwargs={}, openai_api_key=SecretStr('**********'), stream_usage=True), output_parser=StrOutputParser(), llm_kwargs={}))]"
      ]
     },
     "execution_count": 55,
     "metadata": {},
     "output_type": "execute_result"
    }
   ],
   "source": [
    "from langchain_community.agent_toolkits.sql.toolkit import SQLDatabaseToolkit\n",
    "from langchain_community.utilities.sql_database import SQLDatabase\n",
    "\n",
    "db = SQLDatabase.from_uri(\"sqlite:///./agent_result/agent.db\")\n",
    "db_tools = SQLDatabaseToolkit(db=db, llm=llm).get_tools()\n",
    "db_tools"
   ]
  },
  {
   "cell_type": "code",
   "execution_count": 56,
   "id": "6e621bee",
   "metadata": {},
   "outputs": [
    {
     "data": {
      "text/plain": [
       "[QuerySQLDatabaseTool(description=\"Input to this tool is a detailed and correct SQL query, output is a result from the database. If the query is not correct, an error message will be returned. If an error is returned, rewrite the query, check the query, and try again. If you encounter an issue with Unknown column 'xxxx' in 'field list', use sql_db_schema to query the correct table fields.\", db=<langchain_community.utilities.sql_database.SQLDatabase object at 0x00000299575B6390>),\n",
       " InfoSQLDatabaseTool(description='Input to this tool is a comma-separated list of tables, output is the schema and sample rows for those tables. Be sure that the tables actually exist by calling sql_db_list_tables first! Example Input: table1, table2, table3', db=<langchain_community.utilities.sql_database.SQLDatabase object at 0x00000299575B6390>),\n",
       " ListSQLDatabaseTool(db=<langchain_community.utilities.sql_database.SQLDatabase object at 0x00000299575B6390>),\n",
       " QuerySQLCheckerTool(description='Use this tool to double check if your query is correct before executing it. Always use this tool before executing a query with sql_db_query!', db=<langchain_community.utilities.sql_database.SQLDatabase object at 0x00000299575B6390>, llm=ChatOpenAI(client=<openai.resources.chat.completions.completions.Completions object at 0x0000029957448790>, async_client=<openai.resources.chat.completions.completions.AsyncCompletions object at 0x0000029957448510>, root_client=<openai.OpenAI object at 0x0000029958939090>, root_async_client=<openai.AsyncOpenAI object at 0x00000299574481D0>, model_name='gpt-4.1-mini', temperature=0.0, model_kwargs={}, openai_api_key=SecretStr('**********'), stream_usage=True), llm_chain=LLMChain(verbose=False, prompt=PromptTemplate(input_variables=['dialect', 'query'], input_types={}, partial_variables={}, template='\\n{query}\\nDouble check the {dialect} query above for common mistakes, including:\\n- Using NOT IN with NULL values\\n- Using UNION when UNION ALL should have been used\\n- Using BETWEEN for exclusive ranges\\n- Data type mismatch in predicates\\n- Properly quoting identifiers\\n- Using the correct number of arguments for functions\\n- Casting to the correct data type\\n- Using the proper columns for joins\\n\\nIf there are any of the above mistakes, rewrite the query. If there are no mistakes, just reproduce the original query.\\n\\nOutput the final SQL query only.\\n\\nSQL Query: '), llm=ChatOpenAI(client=<openai.resources.chat.completions.completions.Completions object at 0x0000029957448790>, async_client=<openai.resources.chat.completions.completions.AsyncCompletions object at 0x0000029957448510>, root_client=<openai.OpenAI object at 0x0000029958939090>, root_async_client=<openai.AsyncOpenAI object at 0x00000299574481D0>, model_name='gpt-4.1-mini', temperature=0.0, model_kwargs={}, openai_api_key=SecretStr('**********'), stream_usage=True), output_parser=StrOutputParser(), llm_kwargs={})),\n",
       " TavilySearch(api_wrapper=TavilySearchAPIWrapper(tavily_api_key=SecretStr('**********'), api_base_url=None))]"
      ]
     },
     "execution_count": 56,
     "metadata": {},
     "output_type": "execute_result"
    }
   ],
   "source": [
    "# 툴 합치기\n",
    "total_tools = db_tools + [tavily_search]\n",
    "total_tools"
   ]
  },
  {
   "cell_type": "code",
   "execution_count": 87,
   "id": "5adb45ac",
   "metadata": {},
   "outputs": [],
   "source": [
    "# 시스템 프롬프트 설정하기\n",
    "SYSTEM_PROMPT = \"\"\"\n",
    "## 에이전트 시스템 프롬프트: 웹-DB 연동 관리자\n",
    "\n",
    "당신은 정보 수집 및 데이터베이스 통합 전문가 에이전트입니다.\n",
    "\n",
    "### 1. 역할 및 목표 (Role & Goal)\n",
    "당신의 주된 역할은 사용자 요청에 따라 TavilySearch 툴을 사용하여 웹에서 신뢰성 있는 최신 정보를 검색하고, 그 결과를 SQLDatabaseToolkit 툴을 사용하여 지정된 SQL 데이터베이스에 구조화하여 저장 및 관리하는 것입니다. **테이블 이름은 실행 시점의 날짜 변수 {YYYYMMDD}를 사용하여 'data_{YYYYMMDD}' 형식으로 설정됩니다.** (현재 실행일: data_20251016) 목표는 효율적이고 정확하게 웹 데이터를 DB에 반영하는 것입니다.\n",
    "\n",
    "### 2. 초기 설정 및 테이블 관리 (Initialization & Table Management)\n",
    "**파일 이름 및 DB 테이블 명 규칙**: 저장된 결과가 기록될 테이블의 이름은 **'data_{YYYYMMDD}'**입니다. 이 테이블이 존재하지 않는다면, SQLDatabaseToolkit을 사용하여 다음 스키마로 **새롭게 생성**해야 합니다.\n",
    "\n",
    "CREATE TABLE IF NOT EXISTS data_{YYYYMMDD} (\n",
    "    id INTEGER PRIMARY KEY AUTOINCREMENT,\n",
    "    date TEXT NOT NULL,\n",
    "    query TEXT NOT NULL,\n",
    "    title TEXT,\n",
    "    url TEXT,\n",
    "    source TEXT,\n",
    "    snippet TEXT\n",
    ");\n",
    "\n",
    "### 3. 도구 사용 원칙 (Tool Usage Protocol)\n",
    "1. 정보 검색: 웹에서 정보를 수집해야 할 때만 TavilySearch를 사용합니다.\n",
    "2. 데이터 관리: 저장, 조회, 수정, 삭제 등 모든 데이터베이스 작업에는 SQLDatabaseToolkit을 사용합니다.\n",
    "3. SQL 안전성: 생성하는 모든 SQL 쿼리는 DB 스키마에 부합하고, 데이터 무결성을 유지하며, SQL 인젝션 공격에 안전하도록 철저히 검토되어야 합니다.\n",
    "\n",
    "### 4. 작업 절차 (Execution Workflow)\n",
    "1. 요청 분석: 사용자 요청이 웹 검색, DB 작업, 또는 두 가지 모두를 필요로 하는지 정확히 판단합니다. \n",
    "만약 DB작업이 필요할경우 2,3,4,5 단계를 진행한다.\n",
    "DB작업이 필요하지 않은 경우 1단계만 진행하고 멈춘다\n",
    "2. 테이블 확인 및 생성: **SQLDatabaseToolkit을 사용하여 지정된 'data_{YYYYMMDD}' 테이블이 존재하는지 확인하고, 없다면 위 스키마대로 생성합니다.** (이 작업은 사용자 요청과 무관하게 저장 전에 반드시 선행되어야 합니다.)\n",
    "3. 검색 및 정제: 웹 검색이 필요한 경우, TavilySearch를 실행하여 정보를 수집합니다. 수집된 결과는 테이블 컬럼(date, query, title, url, source, snippet)에 맞게 요약 및 구조화하는 전처리 과정을 거쳐야 합니다.\n",
    "4. 데이터 저장: 정제된 데이터를 사용하여 SQLDatabaseToolkit을 통해 정확한 **INSERT INTO data_{YYYYMMDD} (...) VALUES (...)** 쿼리를 실행하여 데이터베이스에 반영합니다.\n",
    "5. 데이터 조회/관리: 조회, 수정, 삭제 요청의 경우, 'data_{YYYYMMDD}' 테이블을 대상으로 적절한 SELECT, UPDATE, DELETE 쿼리를 실행하고 그 결과를 처리합니다.\n",
    "\n",
    "시작 안내: \"요청을 분석하고 있습니다. DB 테이블 'data_{YYYYMMDD}' 설정을 확인하고 웹 검색 및 저장 작업을 시작합니다.\"\n",
    "\"\"\""
   ]
  },
  {
   "cell_type": "code",
   "execution_count": 88,
   "id": "4c8f7278",
   "metadata": {},
   "outputs": [],
   "source": [
    "# 1. 모델 설정\n",
    "llm = ChatOpenAI(\n",
    "    model = \"gpt-4.1-mini\",\n",
    "    temperature = 0,\n",
    ")\n",
    "\n",
    "# 2. 도구 생성\n",
    "from langchain_tavily import TavilySearch\n",
    "tavily_search = TavilySearch()\n",
    "\n",
    "# 3. 프롬프트 설정\n",
    "prompt = ChatPromptTemplate.from_messages([\n",
    "    (\"system\", SYSTEM_PROMPT),\n",
    "    (\"user\", \"{input}\"),\n",
    "    (\"placeholder\", \"{agent_scratchpad}\")\n",
    "])\n",
    "\n",
    "# 4. 단일 에이전트 생성\n",
    "agent = create_openai_tools_agent(\n",
    "    llm=llm,\n",
    "    tools=total_tools,\n",
    "    prompt=prompt\n",
    ")\n",
    "\n",
    "# 5. excutor 설정\n",
    "exceutor = AgentExecutor(\n",
    "    agent = agent,\n",
    "    tools=total_tools,\n",
    "    verbose=True\n",
    ")"
   ]
  },
  {
   "cell_type": "code",
   "execution_count": 90,
   "id": "404ff318",
   "metadata": {},
   "outputs": [
    {
     "name": "stdout",
     "output_type": "stream",
     "text": [
      "\n",
      "\n",
      "\u001b[1m> Entering new AgentExecutor chain...\u001b[0m\n",
      "\u001b[32;1m\u001b[1;3m\n",
      "Invoking: `sql_db_list_tables` with `{}`\n",
      "responded: 요청을 분석하고 있습니다. DB 테이블 'data_20251016' 설정을 확인하고 웹 검색 및 저장 작업을 시작합니다.\n",
      "\n",
      "우선, 'data_20251016' 테이블이 존재하는지 확인하고, 없으면 생성하겠습니다.\n",
      "\n",
      "\u001b[0m\u001b[38;5;200m\u001b[1;3m\u001b[0m\u001b[32;1m\u001b[1;3m\n",
      "Invoking: `sql_db_schema` with `{'table_names': 'data_20251016'}`\n",
      "\n",
      "\n",
      "\u001b[0m\u001b[33;1m\u001b[1;3mError: table_names {'data_20251016'} not found in database\u001b[0m\u001b[32;1m\u001b[1;3m\n",
      "Invoking: `sql_db_query` with `{'query': 'CREATE TABLE IF NOT EXISTS data_20251016 (\\n    id INTEGER PRIMARY KEY AUTOINCREMENT,\\n    date TEXT NOT NULL,\\n    query TEXT NOT NULL,\\n    title TEXT,\\n    url TEXT,\\n    source TEXT,\\n    snippet TEXT\\n);'}`\n",
      "\n",
      "\n",
      "\u001b[0m\u001b[36;1m\u001b[1;3m\u001b[0m\u001b[32;1m\u001b[1;3m\n",
      "Invoking: `tavily_search` with `{'query': 'latest AI news', 'time_range': 'day', 'topic': 'news', 'search_depth': 'advanced', 'include_favicon': False}`\n",
      "\n",
      "\n",
      "\u001b[0m\u001b[33;1m\u001b[1;3m{'query': 'latest AI news', 'follow_up_questions': None, 'answer': None, 'images': [], 'results': [{'url': 'https://www.forbes.com/sites/petercohan/2025/10/15/ai-bubble-may-pop---wiping-out-40-trillion-learn-what-could-happen-and-what-to-do/', 'title': 'AI Bubble May Pop — Wiping Out $40 Trillion. Learn What Could Happen And What To Do - Forbes', 'score': 0.7062922, 'published_date': 'Wed, 15 Oct 2025 12:23:48 GMT', 'content': \"The generative AI boom grew even bigger this week when Open AI announced its latest multibillion-dollar chip deal, this time with Broadcom, CNBC reported.\\n\\nThe agreement, along with pacts with AMD and Oracle, is one of many that’s pumping money into an AI bubble that looks like it could end much like the dot-com bubble did. [...] The generative AI boom is characterized by massive debt accumulation, projected to reach $1.5 trillion for infrastructure by 2028, and concerning circular financing schemes where investors fund customers who then buy their products.\\n Significant financial instability is evident from OpenAI's high cash burn and the 95% failure rate of AI pilot projects, raising doubts about the sector's actual return on investment and profitability. [...] Nvidia invested $100 billion in OpenAI which the ChatGPT provider will use to buy Nvidia chips, CNBC reported.\\n Microsoft, which provides about 20% of Nvidia’s revenue, noted Yahoo! Finance, is OpenAI’s largest investor.\\n CoreWeave, which derives an estimated 60% of its revenue from OpenAI, has Nvidia as an investor and uses GPUs as collateral to buy more GPUs, wrote CNBC.\", 'raw_content': None}, {'url': 'https://chiefexecutive.net/youre-asking-the-wrong-ai-questions-start-here-instead/', 'title': 'You’re Asking The Wrong AI Questions. Start Here Instead. - ChiefExecutive.net', 'score': 0.5524679, 'published_date': 'Wed, 15 Oct 2025 17:28:40 GMT', 'content': '### You’re Asking The Wrong AI Questions. Start Here Instead.\\n\\nOctober 15, 2025\\n\\n### From Consent Order To Nasdaq: How We Turned Around A Failing Community Bank\\n\\nOctober 15, 2025\\n\\n### Northrop Grumman, Greencastle And Valor Technologies Honored With 2025 Patriots In Business Award\\n\\nOctober 15, 2025\\n\\n#### Get the CEO Briefing\\n\\n##### Sign up today to get weekly access to the latest issues affecting CEOs in every industry\\n\\n## upcoming events\\n\\n Nov\\n\\n  6\\n\\n  2025\\n\\n  ### Leadership Conference', 'raw_content': None}, {'url': 'https://www.itnews.com.au/news/sigma-healthcare-runs-ml-in-sap-for-more-forecasting-gains-619768', 'title': 'Sigma Healthcare runs ML in SAP for more forecasting gains - iTnews', 'score': 0.5356092, 'published_date': 'Wed, 15 Oct 2025 19:23:00 GMT', 'content': '## Revenue NSW directed to document its AI risk\\n\\n  ## Asahi Beverages is continuously refining its HR self-service\\n\\n  ## Hoyts highlights its mobile-first journey\\n\\n  ## Western Health tests SAP Joule on HR system\\n\\n  ## Bendigo and Adelaide Bank is finding hardship in customer calls with AI\\n ## HamiltonJet partners with digital services provider Fortude\\n\\n  ## SentinelOne signs distribution agreement with Sektor\\n\\n  ## Rapid7’s new SIEM combines exposure management with threat detection [...] Latest News\\n\\n## Sigma Healthcare runs ML in SAP for more forecasting gains ## Hackers using F5 devices to target US gov networks ## \"Pixnapping\" vulnerability lets Android apps steal 2FA codes in 30 seconds ## National photo licence recognition system set to go live in 2025 ## National Archives identifies four \"areas of interest\" for AI\\n\\n Home\\n News\\n Technology\\n Software\\n\\n# Sigma Healthcare runs ML in SAP for more forecasting gains\\n\\nBy   Ry Crozier  \\n\\nOct 16 2025 6:23AM [...] ## National photo licence recognition system set to go live in 2025\\n\\nDave Stevens on Brennan\\'s evolution and the need for Aussie tech unity Sydney\\'s ITKnocks on contact centre AI and the slow death of the IVR \"It\\'s an exciting time to be part of the health and aged care sector\" Insicon founder Matt Miller on the coming \\'tsunami\\' of compliance and educating boards about cyber security Orro claims Australia first with managed digital asset discovery service\\n\\n### Most popular tech stories', 'raw_content': None}, {'url': 'https://www.businessinsider.com/cathie-wood-ai-healthcare-market-sleeper-invest-ark-2025-10', 'title': \"Cathie Wood says AI in one big field is the 'sleeper' opportunity Wall Street is missing - Business Insider\", 'score': 0.4959723, 'published_date': 'Wed, 15 Oct 2025 08:17:00 GMT', 'content': 'Microsoft has been integrating AI into its cloud solutions to automate hospital operations. Earlier this year, Microsoft said its medical AI system diagnosed cases more accurately than human doctors by a wide margin in a study. [...] Wood did not respond to a request for comment from Business Insider. Her firm managed over $13 billion in May, according to its most recent filing.\\n\\n## AI is gaining ground in healthcare\\n\\nAI is quickly reshaping the healthcare industry, and tech\\'s biggest players are racing to stake their claims. [...] Cathie Wood says AI in healthcare could deliver massive returns.\\n The investor known for bold bets on disruptive tech called the sector \"the sleeper.\"\\n Her comments come as Wall Street pours money into chatbots and self-driving cars.\\n\\nCathie Wood says Wall Street is overlooking AI\\'s biggest payoff.\\n\\nThe CEO of Ark Invest said at the All-In Summit 2025 in September that the real AI revolution is happening in hospitals and labs — and investors are barely paying attention.', 'raw_content': None}, {'url': 'https://www.cnet.com/tech/mobile/ai-agents-can-make-you-a-phone-power-user-you-just-need-to-learn-a-new-interface/', 'title': 'AI Agents Can Make You a Phone Power User. You Just Need to Learn a New Interface - CNET', 'score': 0.47124818, 'published_date': 'Wed, 15 Oct 2025 12:00:00 GMT', 'content': 'In the last two years, Qualcomm switched its mobile chip from Arm-based Kryo to its own Oryon central processing units, and boosted graphical capability and neural performance. Even improvements over last year\\'s Snapdragon 8 Elite -- 37% better CPU performance -- enable AI capabilities that are \"actually a perceptible difference that we\\'ll see,\" noted Malladi.\\n\\n\"We\\'ll see a lot more always-on capabilities that will actually help you,\" Malladi said. [...] The company\\'s new class of Oryon CPU debuted on its Snapdragon X Elite chip for PCs, which made its way into laptop PCs starting in June 2024. With the latest Snapdragon X2 Elite and X2 Elite Extreme chips unveiled at this year\\'s Snapdragon Summit, Malladi pointed to a new AI benchmark -- trillions of operations per second -- to highlight the upgrade. The new chip delivers 80 TOPS, nearly double the 45 TOPS achieved by the first X Elite. [...] The vision is clear: Automate the mundane and cover for moments when human error unwittingly introduces new problems. Yet generative AI has had its own struggles with accuracy, from ChatGPT including non-existent books on a summer reading list to hallucinating about court cases that never happened to Google\\'s AI Overviews telling people to eat rocks. Though Malladi asserted these were issues on devices with LLMs two years ago; guardrails have been put in place since then -- both by Qualcomm at', 'raw_content': None}], 'response_time': 0.96, 'request_id': '350a72db-615b-4bc8-ae89-de0a6ff1919e'}\u001b[0m\u001b[32;1m\u001b[1;3m\n",
      "Invoking: `sql_db_query` with `{'query': \"INSERT INTO data_20251016 (date, query, title, url, source, snippet) VALUES ('2025-10-16', 'latest AI news', 'AI Bubble May Pop — Wiping Out $40 Trillion. Learn What Could Happen And What To Do - Forbes', 'https://www.forbes.com/sites/petercohan/2025/10/15/ai-bubble-may-pop---wiping-out-40-trillion-learn-what-could-happen-and-what-to-do/', 'Forbes', 'AI 버블이 40조 달러 규모로 팽창 중이며, OpenAI가 Broadcom과 다수의 칩 계약을 체결. AI 인프라 부채가 2028년까지 1.5조 달러에 이를 전망이며, 투자자와 고객 간 순환 금융 문제와 높은 실패율로 재정 불안정성이 커지고 있음.')\"}`\n",
      "responded: 최신 AI 관련 뉴스 5개를 요약합니다.\n",
      "\n",
      "1. Forbes: AI 버블이 40조 달러 규모로 팽창 중이며, OpenAI가 Broadcom과 다수의 칩 계약을 체결. AI 인프라 부채가 2028년까지 1.5조 달러에 이를 전망이며, 투자자와 고객 간 순환 금융 문제와 높은 실패율로 재정 불안정성이 커지고 있음.\n",
      "\n",
      "2. ChiefExecutive.net: AI 관련 질문의 방향 전환 필요성 강조. (구체적 내용은 뉴스 제목 중심)\n",
      "\n",
      "3. iTnews: Sigma Healthcare가 SAP에서 머신러닝을 활용해 예측 능력 향상 중이며, AI 관련 다양한 기술 및 보안 이슈 소개.\n",
      "\n",
      "4. Business Insider: Cathie Wood가 AI가 의료 분야에서 큰 기회를 제공하며, 병원과 연구소에서 AI 혁명이 진행 중이라고 평가.\n",
      "\n",
      "5. CNET: Qualcomm이 AI 성능이 대폭 향상된 새로운 모바일 칩을 출시, AI 기능이 사용자 경험을 크게 개선할 전망.\n",
      "\n",
      "이제 이 내용을 DB에 저장하겠습니다. 저장할 데이터는 오늘 날짜(2025-10-16) 기준이며, query는 \"latest AI news\"로 하겠습니다.\n",
      "\n",
      "\u001b[0m\u001b[36;1m\u001b[1;3m\u001b[0m\u001b[32;1m\u001b[1;3m\n",
      "Invoking: `sql_db_query` with `{'query': \"INSERT INTO data_20251016 (date, query, title, url, source, snippet) VALUES ('2025-10-16', 'latest AI news', 'You’re Asking The Wrong AI Questions. Start Here Instead. - ChiefExecutive.net', 'https://chiefexecutive.net/youre-asking-the-wrong-ai-questions-start-here-instead/', 'ChiefExecutive.net', 'AI 관련 질문의 방향 전환 필요성 강조. (구체적 내용은 뉴스 제목 중심)')\"}`\n",
      "responded: 최신 AI 관련 뉴스 5개를 요약합니다.\n",
      "\n",
      "1. Forbes: AI 버블이 40조 달러 규모로 팽창 중이며, OpenAI가 Broadcom과 다수의 칩 계약을 체결. AI 인프라 부채가 2028년까지 1.5조 달러에 이를 전망이며, 투자자와 고객 간 순환 금융 문제와 높은 실패율로 재정 불안정성이 커지고 있음.\n",
      "\n",
      "2. ChiefExecutive.net: AI 관련 질문의 방향 전환 필요성 강조. (구체적 내용은 뉴스 제목 중심)\n",
      "\n",
      "3. iTnews: Sigma Healthcare가 SAP에서 머신러닝을 활용해 예측 능력 향상 중이며, AI 관련 다양한 기술 및 보안 이슈 소개.\n",
      "\n",
      "4. Business Insider: Cathie Wood가 AI가 의료 분야에서 큰 기회를 제공하며, 병원과 연구소에서 AI 혁명이 진행 중이라고 평가.\n",
      "\n",
      "5. CNET: Qualcomm이 AI 성능이 대폭 향상된 새로운 모바일 칩을 출시, AI 기능이 사용자 경험을 크게 개선할 전망.\n",
      "\n",
      "이제 이 내용을 DB에 저장하겠습니다. 저장할 데이터는 오늘 날짜(2025-10-16) 기준이며, query는 \"latest AI news\"로 하겠습니다.\n",
      "\n",
      "\u001b[0m\u001b[36;1m\u001b[1;3m\u001b[0m\u001b[32;1m\u001b[1;3m\n",
      "Invoking: `sql_db_query` with `{'query': \"INSERT INTO data_20251016 (date, query, title, url, source, snippet) VALUES ('2025-10-16', 'latest AI news', 'Sigma Healthcare runs ML in SAP for more forecasting gains - iTnews', 'https://www.itnews.com.au/news/sigma-healthcare-runs-ml-in-sap-for-more-forecasting-gains-619768', 'iTnews', 'Sigma Healthcare가 SAP에서 머신러닝을 활용해 예측 능력 향상 중이며, AI 관련 다양한 기술 및 보안 이슈 소개.')\"}`\n",
      "responded: 최신 AI 관련 뉴스 5개를 요약합니다.\n",
      "\n",
      "1. Forbes: AI 버블이 40조 달러 규모로 팽창 중이며, OpenAI가 Broadcom과 다수의 칩 계약을 체결. AI 인프라 부채가 2028년까지 1.5조 달러에 이를 전망이며, 투자자와 고객 간 순환 금융 문제와 높은 실패율로 재정 불안정성이 커지고 있음.\n",
      "\n",
      "2. ChiefExecutive.net: AI 관련 질문의 방향 전환 필요성 강조. (구체적 내용은 뉴스 제목 중심)\n",
      "\n",
      "3. iTnews: Sigma Healthcare가 SAP에서 머신러닝을 활용해 예측 능력 향상 중이며, AI 관련 다양한 기술 및 보안 이슈 소개.\n",
      "\n",
      "4. Business Insider: Cathie Wood가 AI가 의료 분야에서 큰 기회를 제공하며, 병원과 연구소에서 AI 혁명이 진행 중이라고 평가.\n",
      "\n",
      "5. CNET: Qualcomm이 AI 성능이 대폭 향상된 새로운 모바일 칩을 출시, AI 기능이 사용자 경험을 크게 개선할 전망.\n",
      "\n",
      "이제 이 내용을 DB에 저장하겠습니다. 저장할 데이터는 오늘 날짜(2025-10-16) 기준이며, query는 \"latest AI news\"로 하겠습니다.\n",
      "\n",
      "\u001b[0m\u001b[36;1m\u001b[1;3m\u001b[0m\u001b[32;1m\u001b[1;3m\n",
      "Invoking: `sql_db_query` with `{'query': \"INSERT INTO data_20251016 (date, query, title, url, source, snippet) VALUES ('2025-10-16', 'latest AI news', 'Cathie Wood says AI in one big field is the ''sleeper'' opportunity Wall Street is missing - Business Insider', 'https://www.businessinsider.com/cathie-wood-ai-healthcare-market-sleeper-invest-ark-2025-10', 'Business Insider', 'Cathie Wood가 AI가 의료 분야에서 큰 기회를 제공하며, 병원과 연구소에서 AI 혁명이 진행 중이라고 평가.')\"}`\n",
      "responded: 최신 AI 관련 뉴스 5개를 요약합니다.\n",
      "\n",
      "1. Forbes: AI 버블이 40조 달러 규모로 팽창 중이며, OpenAI가 Broadcom과 다수의 칩 계약을 체결. AI 인프라 부채가 2028년까지 1.5조 달러에 이를 전망이며, 투자자와 고객 간 순환 금융 문제와 높은 실패율로 재정 불안정성이 커지고 있음.\n",
      "\n",
      "2. ChiefExecutive.net: AI 관련 질문의 방향 전환 필요성 강조. (구체적 내용은 뉴스 제목 중심)\n",
      "\n",
      "3. iTnews: Sigma Healthcare가 SAP에서 머신러닝을 활용해 예측 능력 향상 중이며, AI 관련 다양한 기술 및 보안 이슈 소개.\n",
      "\n",
      "4. Business Insider: Cathie Wood가 AI가 의료 분야에서 큰 기회를 제공하며, 병원과 연구소에서 AI 혁명이 진행 중이라고 평가.\n",
      "\n",
      "5. CNET: Qualcomm이 AI 성능이 대폭 향상된 새로운 모바일 칩을 출시, AI 기능이 사용자 경험을 크게 개선할 전망.\n",
      "\n",
      "이제 이 내용을 DB에 저장하겠습니다. 저장할 데이터는 오늘 날짜(2025-10-16) 기준이며, query는 \"latest AI news\"로 하겠습니다.\n",
      "\n",
      "\u001b[0m\u001b[36;1m\u001b[1;3m\u001b[0m\u001b[32;1m\u001b[1;3m\n",
      "Invoking: `sql_db_query` with `{'query': \"INSERT INTO data_20251016 (date, query, title, url, source, snippet) VALUES ('2025-10-16', 'latest AI news', 'AI Agents Can Make You a Phone Power User. You Just Need to Learn a New Interface - CNET', 'https://www.cnet.com/tech/mobile/ai-agents-can-make-you-a-phone-power-user-you-just-need-to-learn-a-new-interface/', 'CNET', 'Qualcomm이 AI 성능이 대폭 향상된 새로운 모바일 칩을 출시, AI 기능이 사용자 경험을 크게 개선할 전망.')\"}`\n",
      "responded: 최신 AI 관련 뉴스 5개를 요약합니다.\n",
      "\n",
      "1. Forbes: AI 버블이 40조 달러 규모로 팽창 중이며, OpenAI가 Broadcom과 다수의 칩 계약을 체결. AI 인프라 부채가 2028년까지 1.5조 달러에 이를 전망이며, 투자자와 고객 간 순환 금융 문제와 높은 실패율로 재정 불안정성이 커지고 있음.\n",
      "\n",
      "2. ChiefExecutive.net: AI 관련 질문의 방향 전환 필요성 강조. (구체적 내용은 뉴스 제목 중심)\n",
      "\n",
      "3. iTnews: Sigma Healthcare가 SAP에서 머신러닝을 활용해 예측 능력 향상 중이며, AI 관련 다양한 기술 및 보안 이슈 소개.\n",
      "\n",
      "4. Business Insider: Cathie Wood가 AI가 의료 분야에서 큰 기회를 제공하며, 병원과 연구소에서 AI 혁명이 진행 중이라고 평가.\n",
      "\n",
      "5. CNET: Qualcomm이 AI 성능이 대폭 향상된 새로운 모바일 칩을 출시, AI 기능이 사용자 경험을 크게 개선할 전망.\n",
      "\n",
      "이제 이 내용을 DB에 저장하겠습니다. 저장할 데이터는 오늘 날짜(2025-10-16) 기준이며, query는 \"latest AI news\"로 하겠습니다.\n",
      "\n",
      "\u001b[0m\u001b[36;1m\u001b[1;3m\u001b[0m\u001b[32;1m\u001b[1;3m최신 AI 관련 뉴스 5개를 요약하여 데이터베이스 'data_20251016' 테이블에 성공적으로 저장했습니다. 추가로 필요한 작업이 있으면 알려주세요.\u001b[0m\n",
      "\n",
      "\u001b[1m> Finished chain.\u001b[0m\n",
      "{'input': '오늘 AI 관련 뉴스 최신 5개만 요약해주고 그내용을 DB에 저장해줘', 'YYYYMMDD': '20251016', 'output': \"최신 AI 관련 뉴스 5개를 요약하여 데이터베이스 'data_20251016' 테이블에 성공적으로 저장했습니다. 추가로 필요한 작업이 있으면 알려주세요.\"}\n"
     ]
    }
   ],
   "source": [
    "result = exceutor.invoke({\n",
    "    \"input\" : \"오늘 AI 관련 뉴스 최신 5개만 요약해주고 그내용을 DB에 저장해줘\",\n",
    "    \"YYYYMMDD\" : get_today()\n",
    "})\n",
    "print(result)"
   ]
  },
  {
   "cell_type": "markdown",
   "id": "a825fdbb",
   "metadata": {},
   "source": [
    "---"
   ]
  },
  {
   "cell_type": "code",
   "execution_count": 2,
   "id": "9c45bde4",
   "metadata": {},
   "outputs": [
    {
     "name": "stderr",
     "output_type": "stream",
     "text": [
      "Error in discord read messages: asyncio.run() cannot be called from a running event loop\n"
     ]
    },
    {
     "name": "stdout",
     "output_type": "stream",
     "text": [
      "Error reading messages: asyncio.run() cannot be called from a running event loop\n"
     ]
    },
    {
     "name": "stderr",
     "output_type": "stream",
     "text": [
      "c:\\Potenup\\LLM-Study\\10_agent_langchain\\langchain_discord\\tools\\discord_read_messages.py:64: RuntimeWarning: coroutine 'DiscordClientWrapper.read_messages' was never awaited\n",
      "  return f\"Error reading messages: {str(e)}\"\n",
      "RuntimeWarning: Enable tracemalloc to get the object allocation traceback\n"
     ]
    }
   ],
   "source": [
    "from langchain_discord.tools.discord_read_messages import DiscordReadMessages\n",
    "from langchain_discord.tools.discord_send_messages import DiscordSendMessage, DiscordSendMessageSchema\n",
    "\n",
    "# Create instances of each tool\n",
    "read_tool = DiscordReadMessages()\n",
    "send_tool = DiscordSendMessage()\n",
    "\n",
    "# Read the last 5 messages from channel 1234567890\n",
    "read_result = read_tool({\"channel_id\": \"1417295078568886326\", \"limit\": 5})\n",
    "print(read_result)\n",
    "\n",
    "# Send a message to the same channel\n",
    "# send_result = send_tool.ainvoke({\"channel_id\": \"1417295078568886326\", \"message\": \"Hello from Python!\"})\n",
    "# print(send_result)"
   ]
  },
  {
   "cell_type": "code",
   "execution_count": null,
   "id": "e540872b",
   "metadata": {},
   "outputs": [
    {
     "data": {
      "text/plain": [
       "<Response [204 No Content]>"
      ]
     },
     "execution_count": 1,
     "metadata": {},
     "output_type": "execute_result"
    }
   ],
   "source": [
    "import httpx\n",
    "\n",
    "response = httpx.post(\n",
    "    \"https://discord.com/api/webhooks/1428271752970108988/09FY4DKOOF2P8GhiMlj4M07YnoguDhMEUSqYAhP7wZufmoogY5VFinveBAMtDP2Ki8jd\",\n",
    "    json={\n",
    "        \"username\": \"Agent AI\",\n",
    "        \"content\": \"차요준 메롱\",\n",
    "        # you can add embeds here, too\n",
    "    }\n",
    ")\n",
    "# raise an exception if the operation failed.\n",
    "response.raise_for_status()\n"
   ]
  }
 ],
 "metadata": {
  "kernelspec": {
   "display_name": "LLM-Study (3.11.13)",
   "language": "python",
   "name": "python3"
  },
  "language_info": {
   "codemirror_mode": {
    "name": "ipython",
    "version": 3
   },
   "file_extension": ".py",
   "mimetype": "text/x-python",
   "name": "python",
   "nbconvert_exporter": "python",
   "pygments_lexer": "ipython3",
   "version": "3.11.13"
  }
 },
 "nbformat": 4,
 "nbformat_minor": 5
}
