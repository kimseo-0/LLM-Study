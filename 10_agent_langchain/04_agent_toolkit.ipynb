{
 "cells": [
  {
   "cell_type": "code",
   "execution_count": 1,
   "id": "17ae0650",
   "metadata": {},
   "outputs": [
    {
     "data": {
      "text/plain": [
       "True"
      ]
     },
     "execution_count": 1,
     "metadata": {},
     "output_type": "execute_result"
    }
   ],
   "source": [
    "from dotenv import load_dotenv\n",
    "load_dotenv()"
   ]
  },
  {
   "cell_type": "code",
   "execution_count": 2,
   "id": "8f9acd86",
   "metadata": {},
   "outputs": [],
   "source": [
    "from langchain_openai import ChatOpenAI\n",
    "from langchain.agents import create_openai_tools_agent, AgentExecutor\n",
    "from langchain_core.prompts import ChatPromptTemplate\n",
    "from langchain_community.chat_message_histories import ChatMessageHistory\n",
    "from langchain_core.runnables.history import RunnableWithMessageHistory\n",
    "from typing import Dict, Tuple\n",
    "from langchain_core.chat_history import InMemoryChatMessageHistory"
   ]
  },
  {
   "cell_type": "code",
   "execution_count": 3,
   "id": "986bda81",
   "metadata": {},
   "outputs": [],
   "source": [
    "# 1. 모델 설정\n",
    "llm = ChatOpenAI(\n",
    "    model = \"gpt-4.1-mini\",\n",
    "    temperature = 0,\n",
    ")\n",
    "\n",
    "# 2. 도구 생성\n",
    "from schedule_toolkit import ScheduleToolkit\n",
    "tools = ScheduleToolkit().get_tools()\n",
    "\n",
    "# 3. 프롬프트 설정\n",
    "prompt = ChatPromptTemplate.from_messages([\n",
    "    (\"system\", \"너는 스케쥴을 관리하는 AI 비서야. 주어지는 도구를 잘 활용해서 사용자의 요청에 답하도록 해\"),\n",
    "    (\"placeholder\", \"{history}\"),\n",
    "    (\"user\", \"{question}\"),\n",
    "    (\"placeholder\", \"{agent_scratchpad}\")\n",
    "])\n",
    "\n",
    "# 4. 단일 에이전트 생성\n",
    "agent = create_openai_tools_agent(\n",
    "    llm=llm,\n",
    "    tools=tools,\n",
    "    prompt=prompt\n",
    ")\n",
    "\n",
    "# 5. excutor 설정\n",
    "executor = AgentExecutor(\n",
    "    agent = agent,\n",
    "    tools=tools,\n",
    "    verbose=True\n",
    ")"
   ]
  },
  {
   "cell_type": "code",
   "execution_count": 4,
   "id": "e49ff6af",
   "metadata": {},
   "outputs": [],
   "source": [
    "# 1. 대화 내용 저장소 만들기\n",
    "stores : Dict[str, InMemoryChatMessageHistory] = {}\n",
    "def get_store(session_id: str):\n",
    "    print(f\"[대화 세션ID]: {session_id}\")\n",
    "    if session_id not in stores:  # 세션 ID가 store에 없는 경우\n",
    "        # 새로운 ChatMessageHistory 객체를 생성하여 store에 저장\n",
    "        stores[session_id] = InMemoryChatMessageHistory()\n",
    "    return stores[session_id]  # 해당 세션 ID에 대한 세션 기록 반환\n",
    "\n",
    "# 2. 히스토리랑 래핑\n",
    "agent_history = RunnableWithMessageHistory(\n",
    "    executor,\n",
    "    lambda sid: get_store(sid),\n",
    "    input_messages_key=\"question\",\n",
    "    history_messages_key=\"history\"\n",
    ")"
   ]
  },
  {
   "cell_type": "code",
   "execution_count": 5,
   "id": "284e8bb2",
   "metadata": {},
   "outputs": [],
   "source": [
    "cfg = {\"configurable\" : {\"session_id\" : \"user-123\"}}"
   ]
  },
  {
   "cell_type": "code",
   "execution_count": 6,
   "id": "ab5952b8",
   "metadata": {},
   "outputs": [
    {
     "name": "stdout",
     "output_type": "stream",
     "text": [
      "[대화 세션ID]: user-123\n",
      "\n",
      "\n",
      "\u001b[1m> Entering new AgentExecutor chain...\u001b[0m\n",
      "\u001b[32;1m\u001b[1;3m\n",
      "Invoking: `add_todo` with `{'item': '맛있는 점심 먹기'}`\n",
      "\n",
      "\n",
      "\u001b[0m\u001b[36;1m\u001b[1;3m맛있는 점심 먹기이 스케쥴에 등록 되었습니다\u001b[0m\u001b[32;1m\u001b[1;3m오늘의 스케쥴에 '맛있는 점심 먹기'를 추가했습니다.\u001b[0m\n",
      "\n",
      "\u001b[1m> Finished chain.\u001b[0m\n"
     ]
    },
    {
     "data": {
      "text/plain": [
       "{'question': '오늘의 스케쥴에 맛있는 점심 먹기를 추가해줘',\n",
       " 'history': [],\n",
       " 'output': \"오늘의 스케쥴에 '맛있는 점심 먹기'를 추가했습니다.\"}"
      ]
     },
     "execution_count": 6,
     "metadata": {},
     "output_type": "execute_result"
    }
   ],
   "source": [
    "agent_history.invoke({\"question\" : \"오늘의 스케쥴에 맛있는 점심 먹기를 추가해줘\"}, config=cfg)"
   ]
  },
  {
   "cell_type": "code",
   "execution_count": 7,
   "id": "b6216392",
   "metadata": {},
   "outputs": [
    {
     "name": "stdout",
     "output_type": "stream",
     "text": [
      "[대화 세션ID]: user-123\n",
      "\n",
      "\n",
      "\u001b[1m> Entering new AgentExecutor chain...\u001b[0m\n",
      "\u001b[32;1m\u001b[1;3m\n",
      "Invoking: `add_todo` with `{'item': '클라이언트 미팅'}`\n",
      "\n",
      "\n",
      "\u001b[0m\u001b[36;1m\u001b[1;3m클라이언트 미팅이 스케쥴에 등록 되었습니다\u001b[0m\u001b[32;1m\u001b[1;3m오늘의 스케쥴에 '클라이언트 미팅'을 추가했습니다.\u001b[0m\n",
      "\n",
      "\u001b[1m> Finished chain.\u001b[0m\n"
     ]
    },
    {
     "data": {
      "text/plain": [
       "{'question': '클라이언트 미팅 추가해줘',\n",
       " 'history': [HumanMessage(content='오늘의 스케쥴에 맛있는 점심 먹기를 추가해줘', additional_kwargs={}, response_metadata={}),\n",
       "  AIMessage(content=\"오늘의 스케쥴에 '맛있는 점심 먹기'를 추가했습니다.\", additional_kwargs={}, response_metadata={})],\n",
       " 'output': \"오늘의 스케쥴에 '클라이언트 미팅'을 추가했습니다.\"}"
      ]
     },
     "execution_count": 7,
     "metadata": {},
     "output_type": "execute_result"
    }
   ],
   "source": [
    "agent_history.invoke({\"question\" : \"클라이언트 미팅 추가해줘\"}, config=cfg)"
   ]
  },
  {
   "cell_type": "code",
   "execution_count": 8,
   "id": "d1f491d6",
   "metadata": {},
   "outputs": [
    {
     "name": "stdout",
     "output_type": "stream",
     "text": [
      "[대화 세션ID]: user-123\n",
      "\n",
      "\n",
      "\u001b[1m> Entering new AgentExecutor chain...\u001b[0m\n",
      "\u001b[32;1m\u001b[1;3m\n",
      "Invoking: `add_todo` with `{'item': '캍퇴하기'}`\n",
      "\n",
      "\n",
      "\u001b[0m\u001b[36;1m\u001b[1;3m캍퇴하기이 스케쥴에 등록 되었습니다\u001b[0m\u001b[32;1m\u001b[1;3m오늘의 스케쥴에 '캍퇴하기'를 추가했습니다.\u001b[0m\n",
      "\n",
      "\u001b[1m> Finished chain.\u001b[0m\n"
     ]
    },
    {
     "data": {
      "text/plain": [
       "{'question': '캍퇴하기 추가해줘',\n",
       " 'history': [HumanMessage(content='오늘의 스케쥴에 맛있는 점심 먹기를 추가해줘', additional_kwargs={}, response_metadata={}),\n",
       "  AIMessage(content=\"오늘의 스케쥴에 '맛있는 점심 먹기'를 추가했습니다.\", additional_kwargs={}, response_metadata={}),\n",
       "  HumanMessage(content='클라이언트 미팅 추가해줘', additional_kwargs={}, response_metadata={}),\n",
       "  AIMessage(content=\"오늘의 스케쥴에 '클라이언트 미팅'을 추가했습니다.\", additional_kwargs={}, response_metadata={})],\n",
       " 'output': \"오늘의 스케쥴에 '캍퇴하기'를 추가했습니다.\"}"
      ]
     },
     "execution_count": 8,
     "metadata": {},
     "output_type": "execute_result"
    }
   ],
   "source": [
    "agent_history.invoke({\"question\" : \"캍퇴하기 추가해줘\"}, config=cfg)"
   ]
  },
  {
   "cell_type": "code",
   "execution_count": 9,
   "id": "bec3bb7a",
   "metadata": {},
   "outputs": [
    {
     "name": "stdout",
     "output_type": "stream",
     "text": [
      "[대화 세션ID]: user-123\n",
      "\n",
      "\n",
      "\u001b[1m> Entering new AgentExecutor chain...\u001b[0m\n",
      "\u001b[32;1m\u001b[1;3m\n",
      "Invoking: `get_todo` with `{}`\n",
      "\n",
      "\n",
      "\u001b[0m\u001b[33;1m\u001b[1;3m할일 목록은 : 맛있는 점심 먹기\n",
      "클라이언트 미팅\n",
      "캍퇴하기\u001b[0m\u001b[32;1m\u001b[1;3m오늘의 스케쥴은 다음과 같습니다:\n",
      "1. 맛있는 점심 먹기\n",
      "2. 클라이언트 미팅\n",
      "3. 캍퇴하기\n",
      "\n",
      "더 추가하거나 수정할 일정이 있나요?\u001b[0m\n",
      "\n",
      "\u001b[1m> Finished chain.\u001b[0m\n"
     ]
    },
    {
     "data": {
      "text/plain": [
       "{'question': '오늘의 스케쥴을 알려줘',\n",
       " 'history': [HumanMessage(content='오늘의 스케쥴에 맛있는 점심 먹기를 추가해줘', additional_kwargs={}, response_metadata={}),\n",
       "  AIMessage(content=\"오늘의 스케쥴에 '맛있는 점심 먹기'를 추가했습니다.\", additional_kwargs={}, response_metadata={}),\n",
       "  HumanMessage(content='클라이언트 미팅 추가해줘', additional_kwargs={}, response_metadata={}),\n",
       "  AIMessage(content=\"오늘의 스케쥴에 '클라이언트 미팅'을 추가했습니다.\", additional_kwargs={}, response_metadata={}),\n",
       "  HumanMessage(content='캍퇴하기 추가해줘', additional_kwargs={}, response_metadata={}),\n",
       "  AIMessage(content=\"오늘의 스케쥴에 '캍퇴하기'를 추가했습니다.\", additional_kwargs={}, response_metadata={})],\n",
       " 'output': '오늘의 스케쥴은 다음과 같습니다:\\n1. 맛있는 점심 먹기\\n2. 클라이언트 미팅\\n3. 캍퇴하기\\n\\n더 추가하거나 수정할 일정이 있나요?'}"
      ]
     },
     "execution_count": 9,
     "metadata": {},
     "output_type": "execute_result"
    }
   ],
   "source": [
    "agent_history.invoke({\"question\" : \"오늘의 스케쥴을 알려줘\"}, config=cfg)"
   ]
  },
  {
   "cell_type": "code",
   "execution_count": 10,
   "id": "42d422d5",
   "metadata": {},
   "outputs": [
    {
     "name": "stdout",
     "output_type": "stream",
     "text": [
      "[대화 세션ID]: user-123\n",
      "\n",
      "\n",
      "\u001b[1m> Entering new AgentExecutor chain...\u001b[0m\n",
      "\u001b[32;1m\u001b[1;3m\n",
      "Invoking: `delete_todo` with `{'item': '맛있는 점심 먹기'}`\n",
      "\n",
      "\n",
      "\u001b[0m\u001b[38;5;200m\u001b[1;3m맛있는 점심 먹기이 스케쥴에 삭제 되었습니다\u001b[0m\u001b[32;1m\u001b[1;3m'맛있는 점심 먹기' 일정을 완료하셨으니 스케쥴에서 삭제했습니다. 다른 일정도 관리해드릴까요?\u001b[0m\n",
      "\n",
      "\u001b[1m> Finished chain.\u001b[0m\n"
     ]
    },
    {
     "data": {
      "text/plain": [
       "{'question': '점심 먹기는 완료했어!',\n",
       " 'history': [HumanMessage(content='오늘의 스케쥴에 맛있는 점심 먹기를 추가해줘', additional_kwargs={}, response_metadata={}),\n",
       "  AIMessage(content=\"오늘의 스케쥴에 '맛있는 점심 먹기'를 추가했습니다.\", additional_kwargs={}, response_metadata={}),\n",
       "  HumanMessage(content='클라이언트 미팅 추가해줘', additional_kwargs={}, response_metadata={}),\n",
       "  AIMessage(content=\"오늘의 스케쥴에 '클라이언트 미팅'을 추가했습니다.\", additional_kwargs={}, response_metadata={}),\n",
       "  HumanMessage(content='캍퇴하기 추가해줘', additional_kwargs={}, response_metadata={}),\n",
       "  AIMessage(content=\"오늘의 스케쥴에 '캍퇴하기'를 추가했습니다.\", additional_kwargs={}, response_metadata={}),\n",
       "  HumanMessage(content='오늘의 스케쥴을 알려줘', additional_kwargs={}, response_metadata={}),\n",
       "  AIMessage(content='오늘의 스케쥴은 다음과 같습니다:\\n1. 맛있는 점심 먹기\\n2. 클라이언트 미팅\\n3. 캍퇴하기\\n\\n더 추가하거나 수정할 일정이 있나요?', additional_kwargs={}, response_metadata={})],\n",
       " 'output': \"'맛있는 점심 먹기' 일정을 완료하셨으니 스케쥴에서 삭제했습니다. 다른 일정도 관리해드릴까요?\"}"
      ]
     },
     "execution_count": 10,
     "metadata": {},
     "output_type": "execute_result"
    }
   ],
   "source": [
    "agent_history.invoke({\"question\" : \"점심 먹기는 완료했어!\"}, config=cfg)"
   ]
  },
  {
   "cell_type": "code",
   "execution_count": 11,
   "id": "94efadba",
   "metadata": {},
   "outputs": [
    {
     "name": "stdout",
     "output_type": "stream",
     "text": [
      "[대화 세션ID]: user-123\n",
      "\n",
      "\n",
      "\u001b[1m> Entering new AgentExecutor chain...\u001b[0m\n",
      "\u001b[32;1m\u001b[1;3m\n",
      "Invoking: `delete_todo` with `{'item': '캍퇴하기'}`\n",
      "\n",
      "\n",
      "\u001b[0m\u001b[38;5;200m\u001b[1;3m캍퇴하기이 스케쥴에 삭제 되었습니다\u001b[0m\u001b[32;1m\u001b[1;3m'캍퇴하기' 일정을 스케쥴에서 취소(삭제)했습니다. 다른 일정도 도와드릴까요?\u001b[0m\n",
      "\n",
      "\u001b[1m> Finished chain.\u001b[0m\n"
     ]
    },
    {
     "data": {
      "text/plain": [
       "{'question': '칼퇴하기는 실패했어...취소해줘',\n",
       " 'history': [HumanMessage(content='오늘의 스케쥴에 맛있는 점심 먹기를 추가해줘', additional_kwargs={}, response_metadata={}),\n",
       "  AIMessage(content=\"오늘의 스케쥴에 '맛있는 점심 먹기'를 추가했습니다.\", additional_kwargs={}, response_metadata={}),\n",
       "  HumanMessage(content='클라이언트 미팅 추가해줘', additional_kwargs={}, response_metadata={}),\n",
       "  AIMessage(content=\"오늘의 스케쥴에 '클라이언트 미팅'을 추가했습니다.\", additional_kwargs={}, response_metadata={}),\n",
       "  HumanMessage(content='캍퇴하기 추가해줘', additional_kwargs={}, response_metadata={}),\n",
       "  AIMessage(content=\"오늘의 스케쥴에 '캍퇴하기'를 추가했습니다.\", additional_kwargs={}, response_metadata={}),\n",
       "  HumanMessage(content='오늘의 스케쥴을 알려줘', additional_kwargs={}, response_metadata={}),\n",
       "  AIMessage(content='오늘의 스케쥴은 다음과 같습니다:\\n1. 맛있는 점심 먹기\\n2. 클라이언트 미팅\\n3. 캍퇴하기\\n\\n더 추가하거나 수정할 일정이 있나요?', additional_kwargs={}, response_metadata={}),\n",
       "  HumanMessage(content='점심 먹기는 완료했어!', additional_kwargs={}, response_metadata={}),\n",
       "  AIMessage(content=\"'맛있는 점심 먹기' 일정을 완료하셨으니 스케쥴에서 삭제했습니다. 다른 일정도 관리해드릴까요?\", additional_kwargs={}, response_metadata={})],\n",
       " 'output': \"'캍퇴하기' 일정을 스케쥴에서 취소(삭제)했습니다. 다른 일정도 도와드릴까요?\"}"
      ]
     },
     "execution_count": 11,
     "metadata": {},
     "output_type": "execute_result"
    }
   ],
   "source": [
    "agent_history.invoke({\"question\" : \"칼퇴하기는 실패했어...취소해줘\"}, config=cfg)"
   ]
  },
  {
   "cell_type": "code",
   "execution_count": 12,
   "id": "0d4b2116",
   "metadata": {},
   "outputs": [
    {
     "name": "stdout",
     "output_type": "stream",
     "text": [
      "[대화 세션ID]: user-123\n",
      "\n",
      "\n",
      "\u001b[1m> Entering new AgentExecutor chain...\u001b[0m\n",
      "\u001b[32;1m\u001b[1;3m\n",
      "Invoking: `get_todo` with `{}`\n",
      "\n",
      "\n",
      "\u001b[0m\u001b[33;1m\u001b[1;3m할일 목록은 : 클라이언트 미팅\u001b[0m\u001b[32;1m\u001b[1;3m오늘 남은 스케쥴은 '클라이언트 미팅'입니다. 다른 일정 관리가 필요하시면 말씀해 주세요.\u001b[0m\n",
      "\n",
      "\u001b[1m> Finished chain.\u001b[0m\n"
     ]
    },
    {
     "data": {
      "text/plain": [
       "{'question': '오늘의 남은 스케쥴을 알려줘',\n",
       " 'history': [HumanMessage(content='오늘의 스케쥴에 맛있는 점심 먹기를 추가해줘', additional_kwargs={}, response_metadata={}),\n",
       "  AIMessage(content=\"오늘의 스케쥴에 '맛있는 점심 먹기'를 추가했습니다.\", additional_kwargs={}, response_metadata={}),\n",
       "  HumanMessage(content='클라이언트 미팅 추가해줘', additional_kwargs={}, response_metadata={}),\n",
       "  AIMessage(content=\"오늘의 스케쥴에 '클라이언트 미팅'을 추가했습니다.\", additional_kwargs={}, response_metadata={}),\n",
       "  HumanMessage(content='캍퇴하기 추가해줘', additional_kwargs={}, response_metadata={}),\n",
       "  AIMessage(content=\"오늘의 스케쥴에 '캍퇴하기'를 추가했습니다.\", additional_kwargs={}, response_metadata={}),\n",
       "  HumanMessage(content='오늘의 스케쥴을 알려줘', additional_kwargs={}, response_metadata={}),\n",
       "  AIMessage(content='오늘의 스케쥴은 다음과 같습니다:\\n1. 맛있는 점심 먹기\\n2. 클라이언트 미팅\\n3. 캍퇴하기\\n\\n더 추가하거나 수정할 일정이 있나요?', additional_kwargs={}, response_metadata={}),\n",
       "  HumanMessage(content='점심 먹기는 완료했어!', additional_kwargs={}, response_metadata={}),\n",
       "  AIMessage(content=\"'맛있는 점심 먹기' 일정을 완료하셨으니 스케쥴에서 삭제했습니다. 다른 일정도 관리해드릴까요?\", additional_kwargs={}, response_metadata={}),\n",
       "  HumanMessage(content='칼퇴하기는 실패했어...취소해줘', additional_kwargs={}, response_metadata={}),\n",
       "  AIMessage(content=\"'캍퇴하기' 일정을 스케쥴에서 취소(삭제)했습니다. 다른 일정도 도와드릴까요?\", additional_kwargs={}, response_metadata={})],\n",
       " 'output': \"오늘 남은 스케쥴은 '클라이언트 미팅'입니다. 다른 일정 관리가 필요하시면 말씀해 주세요.\"}"
      ]
     },
     "execution_count": 12,
     "metadata": {},
     "output_type": "execute_result"
    }
   ],
   "source": [
    "agent_history.invoke({\"question\" : \"오늘의 남은 스케쥴을 알려줘\"}, config=cfg)"
   ]
  },
  {
   "cell_type": "code",
   "execution_count": 13,
   "id": "c8a74cd6",
   "metadata": {},
   "outputs": [
    {
     "name": "stdout",
     "output_type": "stream",
     "text": [
      "[대화 세션ID]: user-123\n",
      "\n",
      "\n",
      "\u001b[1m> Entering new AgentExecutor chain...\u001b[0m\n",
      "\u001b[32;1m\u001b[1;3m오늘 스케쥴에 '보고서 작성하기' 일정이 없습니다. 다른 일정에 대해 도와드릴까요?\u001b[0m\n",
      "\n",
      "\u001b[1m> Finished chain.\u001b[0m\n"
     ]
    },
    {
     "data": {
      "text/plain": [
       "{'question': '보고서 작성하기 스케쥴을 취소해줘',\n",
       " 'history': [HumanMessage(content='오늘의 스케쥴에 맛있는 점심 먹기를 추가해줘', additional_kwargs={}, response_metadata={}),\n",
       "  AIMessage(content=\"오늘의 스케쥴에 '맛있는 점심 먹기'를 추가했습니다.\", additional_kwargs={}, response_metadata={}),\n",
       "  HumanMessage(content='클라이언트 미팅 추가해줘', additional_kwargs={}, response_metadata={}),\n",
       "  AIMessage(content=\"오늘의 스케쥴에 '클라이언트 미팅'을 추가했습니다.\", additional_kwargs={}, response_metadata={}),\n",
       "  HumanMessage(content='캍퇴하기 추가해줘', additional_kwargs={}, response_metadata={}),\n",
       "  AIMessage(content=\"오늘의 스케쥴에 '캍퇴하기'를 추가했습니다.\", additional_kwargs={}, response_metadata={}),\n",
       "  HumanMessage(content='오늘의 스케쥴을 알려줘', additional_kwargs={}, response_metadata={}),\n",
       "  AIMessage(content='오늘의 스케쥴은 다음과 같습니다:\\n1. 맛있는 점심 먹기\\n2. 클라이언트 미팅\\n3. 캍퇴하기\\n\\n더 추가하거나 수정할 일정이 있나요?', additional_kwargs={}, response_metadata={}),\n",
       "  HumanMessage(content='점심 먹기는 완료했어!', additional_kwargs={}, response_metadata={}),\n",
       "  AIMessage(content=\"'맛있는 점심 먹기' 일정을 완료하셨으니 스케쥴에서 삭제했습니다. 다른 일정도 관리해드릴까요?\", additional_kwargs={}, response_metadata={}),\n",
       "  HumanMessage(content='칼퇴하기는 실패했어...취소해줘', additional_kwargs={}, response_metadata={}),\n",
       "  AIMessage(content=\"'캍퇴하기' 일정을 스케쥴에서 취소(삭제)했습니다. 다른 일정도 도와드릴까요?\", additional_kwargs={}, response_metadata={}),\n",
       "  HumanMessage(content='오늘의 남은 스케쥴을 알려줘', additional_kwargs={}, response_metadata={}),\n",
       "  AIMessage(content=\"오늘 남은 스케쥴은 '클라이언트 미팅'입니다. 다른 일정 관리가 필요하시면 말씀해 주세요.\", additional_kwargs={}, response_metadata={})],\n",
       " 'output': \"오늘 스케쥴에 '보고서 작성하기' 일정이 없습니다. 다른 일정에 대해 도와드릴까요?\"}"
      ]
     },
     "execution_count": 13,
     "metadata": {},
     "output_type": "execute_result"
    }
   ],
   "source": [
    "agent_history.invoke({\"question\" : \"보고서 작성하기 스케쥴을 취소해줘\"}, config=cfg)"
   ]
  }
 ],
 "metadata": {
  "kernelspec": {
   "display_name": "LLM-Study (3.11.13)",
   "language": "python",
   "name": "python3"
  },
  "language_info": {
   "codemirror_mode": {
    "name": "ipython",
    "version": 3
   },
   "file_extension": ".py",
   "mimetype": "text/x-python",
   "name": "python",
   "nbconvert_exporter": "python",
   "pygments_lexer": "ipython3",
   "version": "3.11.13"
  }
 },
 "nbformat": 4,
 "nbformat_minor": 5
}
