{
 "cells": [
  {
   "cell_type": "code",
   "execution_count": 1,
   "id": "cfbebcc2",
   "metadata": {},
   "outputs": [],
   "source": [
    "from dotenv import load_dotenv\n",
    "load_dotenv()\n",
    "\n",
    "import os\n",
    "project_name = \"agent_binding\"\n",
    "os.environ[\"LANGSMITH_PROJECT\"] = project_name"
   ]
  },
  {
   "cell_type": "code",
   "execution_count": null,
   "id": "41accce7",
   "metadata": {},
   "outputs": [],
   "source": [
    "from langchain.agents import tool\n",
    "# from langchain_core.tools import Tool\n",
    "# from langchain_core.tools.convert import tool"
   ]
  },
  {
   "cell_type": "code",
   "execution_count": 12,
   "id": "ec1e57f7",
   "metadata": {},
   "outputs": [],
   "source": [
    "@tool\n",
    "def add_numbers(a: float, b: float) -> float:\n",
    "    \"\"\"Adds two numbers together\"\"\"\n",
    "    return a + b"
   ]
  },
  {
   "cell_type": "code",
   "execution_count": 13,
   "id": "40fe93b9",
   "metadata": {},
   "outputs": [],
   "source": [
    "@tool\n",
    "def multiply_numbers(a: float, b: float) -> float:\n",
    "    \"\"\"Multiply two numbers together\"\"\"\n",
    "    return a + b"
   ]
  },
  {
   "cell_type": "code",
   "execution_count": 14,
   "id": "98dcaff8",
   "metadata": {},
   "outputs": [],
   "source": [
    "all_tools = [add_numbers, multiply_numbers]"
   ]
  },
  {
   "cell_type": "code",
   "execution_count": 33,
   "id": "017feede",
   "metadata": {},
   "outputs": [],
   "source": [
    "from langchain_openai import ChatOpenAI\n",
    "from langchain_core.prompts import ChatPromptTemplate\n",
    "from langchain.agents import create_openai_tools_agent, AgentExecutor\n",
    "\n",
    "# 시스템 프롬프트 설정하기\n",
    "SYSTEM_PROMPT = \"\"\"\n",
    "너는 아주 유용한 어시스턴트야\n",
    "적절한 도구를 사용해서 대답해줘\n",
    "\"\"\"\n",
    "\n",
    "# 1. 모델 설정\n",
    "llm = ChatOpenAI(\n",
    "    model = \"gpt-4.1-mini\",\n",
    "    temperature = 0,\n",
    ")\n",
    "\n",
    "# 2. 도구 생성\n",
    "from langchain_tavily import TavilySearch\n",
    "tavily_search = TavilySearch()\n",
    "\n",
    "# 3. 프롬프트 설정\n",
    "prompt = ChatPromptTemplate.from_messages([\n",
    "    (\"system\", SYSTEM_PROMPT),\n",
    "    (\"placeholder\", \"{history}\"),\n",
    "    (\"user\", \"{question}\"),\n",
    "    (\"placeholder\", \"{agent_scratchpad}\")\n",
    "])\n",
    "\n",
    "# 4. 단일 에이전트 생성\n",
    "agent = create_openai_tools_agent(\n",
    "    llm=llm,\n",
    "    tools=all_tools,\n",
    "    prompt=prompt\n",
    ")\n",
    "\n",
    "# 5. excutor 설정\n",
    "executor = AgentExecutor(\n",
    "    agent = agent,\n",
    "    tools=all_tools,\n",
    "    verbose=True\n",
    ")"
   ]
  },
  {
   "cell_type": "code",
   "execution_count": 35,
   "id": "929b6d7c",
   "metadata": {},
   "outputs": [
    {
     "name": "stdout",
     "output_type": "stream",
     "text": [
      "\n",
      "\n",
      "\u001b[1m> Entering new AgentExecutor chain...\u001b[0m\n",
      "\u001b[32;1m\u001b[1;3m\n",
      "Invoking: `add_numbers` with `{'a': 5, 'b': 2}`\n",
      "\n",
      "\n",
      "\u001b[0m\u001b[36;1m\u001b[1;3m7.0\u001b[0m\u001b[32;1m\u001b[1;3m\n",
      "Invoking: `multiply_numbers` with `{'a': 7, 'b': 3}`\n",
      "\n",
      "\n",
      "\u001b[0m\u001b[33;1m\u001b[1;3m10.0\u001b[0m\u001b[32;1m\u001b[1;3m\n",
      "Invoking: `multiply_numbers` with `{'a': 7, 'b': 3}`\n",
      "\n",
      "\n",
      "\u001b[0m\u001b[33;1m\u001b[1;3m10.0\u001b[0m\u001b[32;1m\u001b[1;3m(5 + 2) * 3의 계산은 다음과 같습니다:\n",
      "먼저 5 + 2 = 7이고,\n",
      "그 다음 7 * 3 = 21입니다.\n",
      "\n",
      "따라서 결과는 21입니다.\u001b[0m\n",
      "\n",
      "\u001b[1m> Finished chain.\u001b[0m\n",
      "{'question': '(5 + 2) * 3는 뭐야?', 'output': '(5 + 2) * 3의 계산은 다음과 같습니다:\\n먼저 5 + 2 = 7이고,\\n그 다음 7 * 3 = 21입니다.\\n\\n따라서 결과는 21입니다.'}\n"
     ]
    }
   ],
   "source": [
    "result = executor.invoke({'question' : \"(5 + 2) * 3는 뭐야?\"})\n",
    "print(result)"
   ]
  },
  {
   "cell_type": "code",
   "execution_count": 19,
   "id": "b17e6f70",
   "metadata": {},
   "outputs": [],
   "source": [
    "from langchain_community.chat_message_histories import ChatMessageHistory\n",
    "from langchain_core.runnables.history import RunnableWithMessageHistory\n",
    "from typing import Dict, Tuple\n",
    "from langchain_core.chat_history import InMemoryChatMessageHistory"
   ]
  },
  {
   "cell_type": "code",
   "execution_count": 36,
   "id": "06ac5733",
   "metadata": {},
   "outputs": [],
   "source": [
    "# 2. 대화 내용 저장소 만들기\n",
    "stores : Dict[str, InMemoryChatMessageHistory] = {}\n",
    "def get_store(session_id: str):\n",
    "    print(f\"[대화 세션ID]: {session_id}\")\n",
    "    if session_id not in stores:  # 세션 ID가 store에 없는 경우\n",
    "        # 새로운 ChatMessageHistory 객체를 생성하여 store에 저장\n",
    "        stores[session_id] = InMemoryChatMessageHistory()\n",
    "    return stores[session_id]  # 해당 세션 ID에 대한 세션 기록 반환\n",
    "\n",
    "# 3. 히스토리랑 래핑\n",
    "agent_history = RunnableWithMessageHistory(\n",
    "    executor,\n",
    "    lambda sid: get_store(sid),\n",
    "    input_messages_key=\"question\",\n",
    "    history_messages_key=\"history\"\n",
    ")"
   ]
  },
  {
   "cell_type": "code",
   "execution_count": 30,
   "id": "d354276c",
   "metadata": {},
   "outputs": [],
   "source": [
    "cfg = {\"configurable\" : {\"session_id\" : \"user-123\"}}"
   ]
  },
  {
   "cell_type": "code",
   "execution_count": 38,
   "id": "b174098d",
   "metadata": {},
   "outputs": [
    {
     "name": "stdout",
     "output_type": "stream",
     "text": [
      "[대화 세션ID]: user-123\n",
      "\n",
      "\n",
      "\u001b[1m> Entering new AgentExecutor chain...\u001b[0m\n",
      "\u001b[32;1m\u001b[1;3m\n",
      "Invoking: `add_numbers` with `{'a': 5, 'b': 2}`\n",
      "\n",
      "\n",
      "\u001b[0m\u001b[36;1m\u001b[1;3m7.0\u001b[0m\u001b[32;1m\u001b[1;3m5 + 2는 7이에요.\u001b[0m\n",
      "\n",
      "\u001b[1m> Finished chain.\u001b[0m\n"
     ]
    },
    {
     "data": {
      "text/plain": [
       "{'question': '5 + 2 가 뭐야?', 'history': [], 'output': '5 + 2는 7이에요.'}"
      ]
     },
     "execution_count": 38,
     "metadata": {},
     "output_type": "execute_result"
    }
   ],
   "source": [
    "agent_history.invoke({\n",
    "    \"question\" : \"5 + 2 가 뭐야?\"\n",
    "}, config = cfg)"
   ]
  },
  {
   "cell_type": "code",
   "execution_count": 39,
   "id": "9802b3d9",
   "metadata": {},
   "outputs": [
    {
     "name": "stdout",
     "output_type": "stream",
     "text": [
      "[대화 세션ID]: user-123\n",
      "\n",
      "\n",
      "\u001b[1m> Entering new AgentExecutor chain...\u001b[0m\n",
      "\u001b[32;1m\u001b[1;3m당신은 \"5 + 2 가 뭐야?\"라고 물었어요.\u001b[0m\n",
      "\n",
      "\u001b[1m> Finished chain.\u001b[0m\n"
     ]
    },
    {
     "data": {
      "text/plain": [
       "{'question': '아까 내가 뭐라고 했더라?',\n",
       " 'history': [HumanMessage(content='5 + 2 가 뭐야?', additional_kwargs={}, response_metadata={}),\n",
       "  AIMessage(content='5 + 2는 7이에요.', additional_kwargs={}, response_metadata={})],\n",
       " 'output': '당신은 \"5 + 2 가 뭐야?\"라고 물었어요.'}"
      ]
     },
     "execution_count": 39,
     "metadata": {},
     "output_type": "execute_result"
    }
   ],
   "source": [
    "agent_history.invoke({\n",
    "    \"question\" : \"아까 내가 뭐라고 했더라?\"\n",
    "}, config = cfg)"
   ]
  }
 ],
 "metadata": {
  "kernelspec": {
   "display_name": "LLM-Study (3.11.13)",
   "language": "python",
   "name": "python3"
  },
  "language_info": {
   "codemirror_mode": {
    "name": "ipython",
    "version": 3
   },
   "file_extension": ".py",
   "mimetype": "text/x-python",
   "name": "python",
   "nbconvert_exporter": "python",
   "pygments_lexer": "ipython3",
   "version": "3.11.13"
  }
 },
 "nbformat": 4,
 "nbformat_minor": 5
}
