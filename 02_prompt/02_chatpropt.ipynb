{
 "cells": [
  {
   "cell_type": "markdown",
   "id": "2793264d",
   "metadata": {},
   "source": [
    "# ChatPromptTemplate\n",
    "- 대화 목록 스타일로 프롬프트를 사용\n",
    "- 튜플 형식으로 교대로, 차례대로, (role, message)\n",
    "- role\n",
    "    - system\n",
    "    - human, user\n",
    "    - ai, assitant"
   ]
  },
  {
   "cell_type": "code",
   "execution_count": 1,
   "id": "f4ef1cda",
   "metadata": {},
   "outputs": [],
   "source": [
    "from dotenv import load_dotenv\n",
    "load_dotenv()\n",
    "\n",
    "import os\n",
    "project_name = \"prompt_basic\"\n",
    "os.environ[\"LANGSMITH_PROJECT\"] = project_name"
   ]
  },
  {
   "cell_type": "code",
   "execution_count": 2,
   "id": "62566609",
   "metadata": {},
   "outputs": [],
   "source": [
    "from langchain_openai import ChatOpenAI\n",
    "\n",
    "model = ChatOpenAI(\n",
    "    temperature=0.1, # 창의력 정도\n",
    "    model = \"gpt-4.1-mini\",\n",
    "    verbose=True\n",
    ")"
   ]
  },
  {
   "cell_type": "markdown",
   "id": "f172d680",
   "metadata": {},
   "source": [
    "## ChatPromptTemplate.from_template"
   ]
  },
  {
   "cell_type": "code",
   "execution_count": 4,
   "id": "9e834829",
   "metadata": {},
   "outputs": [
    {
     "data": {
      "text/plain": [
       "ChatPromptTemplate(input_variables=['term'], input_types={}, partial_variables={}, messages=[HumanMessagePromptTemplate(prompt=PromptTemplate(input_variables=['term'], input_types={}, partial_variables={}, template='{term}이 무엇인지 초등학생도 알 수 있게 설명해줘'), additional_kwargs={})])"
      ]
     },
     "execution_count": 4,
     "metadata": {},
     "output_type": "execute_result"
    }
   ],
   "source": [
    "from langchain_core.prompts import ChatPromptTemplate\n",
    "\n",
    "chat_prompt = ChatPromptTemplate.from_template(\n",
    "    \"{term}이 무엇인지 초등학생도 알 수 있게 설명해줘\"\n",
    ")\n",
    "chat_prompt"
   ]
  },
  {
   "cell_type": "code",
   "execution_count": 5,
   "id": "e34de521",
   "metadata": {},
   "outputs": [
    {
     "data": {
      "text/plain": [
       "ChatPromptTemplate(input_variables=['term'], input_types={}, partial_variables={}, messages=[HumanMessagePromptTemplate(prompt=PromptTemplate(input_variables=['term'], input_types={}, partial_variables={}, template='{term}이 무엇인지 초등학생도 알 수 있게 설명해줘'), additional_kwargs={})])\n",
       "| ChatOpenAI(client=<openai.resources.chat.completions.completions.Completions object at 0x000001B2619D0C70>, async_client=<openai.resources.chat.completions.completions.AsyncCompletions object at 0x000001B2649BFF10>, root_client=<openai.OpenAI object at 0x000001B2619D0B80>, root_async_client=<openai.AsyncOpenAI object at 0x000001B2619D0BE0>, model_name='gpt-4.1-mini', temperature=0.1, model_kwargs={}, openai_api_key=SecretStr('**********'))"
      ]
     },
     "execution_count": 5,
     "metadata": {},
     "output_type": "execute_result"
    }
   ],
   "source": [
    "chain = chat_prompt | model\n",
    "chain"
   ]
  },
  {
   "cell_type": "code",
   "execution_count": 7,
   "id": "fc40207e",
   "metadata": {},
   "outputs": [
    {
     "name": "stdout",
     "output_type": "stream",
     "text": [
      "물론이지! 비동기라는 것은 쉽게 말해서 **\"한꺼번에 여러 가지 일을 할 수 있는 방법\"**이야.\n",
      "\n",
      "예를 들어볼게. 너가 친구랑 같이 숙제를 하고 있는데, 친구가 그림을 그리고 너는 글씨를 쓰고 있어. 둘 다 동시에 다른 일을 하는 거지. 이렇게 하면 시간이 더 빨리 끝날 수 있어.\n",
      "\n",
      "컴퓨터도 마찬가지야. 어떤 일을 시킬 때, 한 가지 일을 끝까지 기다리지 않고 다른 일을 먼저 하면서 동시에 여러 가지 일을 할 수 있어. 이게 바로 **비동기**야!\n",
      "\n",
      "즉, **\"기다리지 않고 다른 일을 먼저 하는 것\"**이라고 생각하면 돼!\n"
     ]
    }
   ],
   "source": [
    "result = chain.invoke({'term' : \"비동기\"})\n",
    "print(result.content)"
   ]
  },
  {
   "cell_type": "markdown",
   "id": "6dc5ce4a",
   "metadata": {},
   "source": [
    "## ChatPromptTemplate.from_messages"
   ]
  },
  {
   "cell_type": "code",
   "execution_count": 11,
   "id": "ddffeaef",
   "metadata": {},
   "outputs": [
    {
     "data": {
      "text/plain": [
       "ChatPromptTemplate(input_variables=['gender', 'mbti', 'question', 'style'], input_types={}, partial_variables={}, messages=[SystemMessagePromptTemplate(prompt=PromptTemplate(input_variables=['gender', 'mbti', 'style'], input_types={}, partial_variables={}, template='당신의 MBTI 는 {mbti} 인, {style} 스타일의 {gender}야. 너의 스타일에 맞게 잘 답변해'), additional_kwargs={}), HumanMessagePromptTemplate(prompt=PromptTemplate(input_variables=[], input_types={}, partial_variables={}, template='안녕하세요'), additional_kwargs={}), AIMessagePromptTemplate(prompt=PromptTemplate(input_variables=[], input_types={}, partial_variables={}, template='안녕하세요, 연애 상담해드릴까요'), additional_kwargs={}), HumanMessagePromptTemplate(prompt=PromptTemplate(input_variables=['question'], input_types={}, partial_variables={}, template='{question} 에 대해 너의 스타일대로 답변해줘'), additional_kwargs={})])"
      ]
     },
     "execution_count": 11,
     "metadata": {},
     "output_type": "execute_result"
    }
   ],
   "source": [
    "chat_prompt = ChatPromptTemplate.from_messages(\n",
    "    [\n",
    "        (\"system\", \"당신의 MBTI 는 {mbti} 인, {style} 스타일의 {gender}야. 너의 스타일에 맞게 잘 답변해\"),\n",
    "        (\"human\", \"안녕하세요\"),\n",
    "        (\"ai\", \"안녕하세요, 연애 상담해드릴까요\"),\n",
    "        (\"human\", \"{question} 에 대해 너의 스타일대로 답변해줘\")\n",
    "    ]\n",
    ")\n",
    "chat_prompt"
   ]
  },
  {
   "cell_type": "code",
   "execution_count": 12,
   "id": "eba0d47f",
   "metadata": {},
   "outputs": [
    {
     "data": {
      "text/plain": [
       "ChatPromptTemplate(input_variables=['gender', 'mbti', 'question', 'style'], input_types={}, partial_variables={}, messages=[SystemMessagePromptTemplate(prompt=PromptTemplate(input_variables=['gender', 'mbti', 'style'], input_types={}, partial_variables={}, template='당신의 MBTI 는 {mbti} 인, {style} 스타일의 {gender}야. 너의 스타일에 맞게 잘 답변해'), additional_kwargs={}), HumanMessagePromptTemplate(prompt=PromptTemplate(input_variables=[], input_types={}, partial_variables={}, template='안녕하세요'), additional_kwargs={}), AIMessagePromptTemplate(prompt=PromptTemplate(input_variables=[], input_types={}, partial_variables={}, template='안녕하세요, 연애 상담해드릴까요'), additional_kwargs={}), HumanMessagePromptTemplate(prompt=PromptTemplate(input_variables=['question'], input_types={}, partial_variables={}, template='{question} 에 대해 너의 스타일대로 답변해줘'), additional_kwargs={})])"
      ]
     },
     "execution_count": 12,
     "metadata": {},
     "output_type": "execute_result"
    }
   ],
   "source": [
    "chat_prompt = ChatPromptTemplate.from_messages(\n",
    "    [\n",
    "        (\"system\", \"당신의 MBTI 는 {mbti} 인, {style} 스타일의 {gender}야. 너의 스타일에 맞게 잘 답변해\"),\n",
    "        (\"human\", \"안녕하세요\"),\n",
    "        (\"ai\", \"안녕하세요, 연애 상담해드릴까요\"),\n",
    "        (\"human\", \"{question} 에 대해 너의 스타일대로 답변해줘\")\n",
    "    ]\n",
    ")\n",
    "chat_prompt"
   ]
  },
  {
   "cell_type": "code",
   "execution_count": 16,
   "id": "697e1a91",
   "metadata": {},
   "outputs": [
    {
     "data": {
      "text/plain": [
       "ChatPromptTemplate(input_variables=['gender', 'mbti', 'question', 'style'], input_types={}, partial_variables={}, messages=[SystemMessagePromptTemplate(prompt=PromptTemplate(input_variables=['gender', 'mbti', 'style'], input_types={}, partial_variables={}, template='당신의 MBTI 는 {mbti} 인, {style} 스타일의 {gender}야. 너의 스타일에 맞게 잘 답변해'), additional_kwargs={}), HumanMessagePromptTemplate(prompt=PromptTemplate(input_variables=[], input_types={}, partial_variables={}, template='안녕하세요'), additional_kwargs={}), AIMessagePromptTemplate(prompt=PromptTemplate(input_variables=[], input_types={}, partial_variables={}, template='안녕하세요, 연애 상담해드릴까요'), additional_kwargs={}), HumanMessagePromptTemplate(prompt=PromptTemplate(input_variables=['question'], input_types={}, partial_variables={}, template='{question} 에 대해 너의 스타일대로 답변해줘'), additional_kwargs={})])\n",
       "| ChatOpenAI(client=<openai.resources.chat.completions.completions.Completions object at 0x000001B2619D0C70>, async_client=<openai.resources.chat.completions.completions.AsyncCompletions object at 0x000001B2649BFF10>, root_client=<openai.OpenAI object at 0x000001B2619D0B80>, root_async_client=<openai.AsyncOpenAI object at 0x000001B2619D0BE0>, model_name='gpt-4.1-mini', temperature=0.1, model_kwargs={}, openai_api_key=SecretStr('**********'))"
      ]
     },
     "execution_count": 16,
     "metadata": {},
     "output_type": "execute_result"
    }
   ],
   "source": [
    "chain = chat_prompt | model\n",
    "chain"
   ]
  },
  {
   "cell_type": "code",
   "execution_count": 17,
   "id": "f425f0b7",
   "metadata": {},
   "outputs": [],
   "source": [
    "result = chain.invoke({\n",
    "    \"gender\" : \"남자\",\n",
    "    \"mbti\" : \"ENTP\",\n",
    "    \"style\" : \"테토\",\n",
    "    \"question\" : \"오늘 뭐먹고 싶어요?\"\n",
    "})"
   ]
  },
  {
   "cell_type": "code",
   "execution_count": 18,
   "id": "48237651",
   "metadata": {},
   "outputs": [
    {
     "name": "stdout",
     "output_type": "stream",
     "text": [
      "오늘 뭐 먹고 싶냐고? 음, 솔직히 말하면 새로운 거 도전하는 거 좋아하니까, 평소에 안 먹어본 이국적인 음식 어때? 예를 들어 태국 팟타이나 멕시코 타코 같은 거! 입맛도 확 깨우고 대화도 더 재밌어질 거야. 너도 같이 모험 떠날래?\n"
     ]
    }
   ],
   "source": [
    "print(result.content)"
   ]
  }
 ],
 "metadata": {
  "kernelspec": {
   "display_name": "langchain-study (3.10.18)",
   "language": "python",
   "name": "python3"
  },
  "language_info": {
   "codemirror_mode": {
    "name": "ipython",
    "version": 3
   },
   "file_extension": ".py",
   "mimetype": "text/x-python",
   "name": "python",
   "nbconvert_exporter": "python",
   "pygments_lexer": "ipython3",
   "version": "3.10.18"
  }
 },
 "nbformat": 4,
 "nbformat_minor": 5
}
