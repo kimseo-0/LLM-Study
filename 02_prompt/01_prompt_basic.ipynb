{
 "cells": [
  {
   "cell_type": "code",
   "execution_count": 6,
   "id": "503922d1",
   "metadata": {},
   "outputs": [],
   "source": [
    "from dotenv import load_dotenv\n",
    "load_dotenv()\n",
    "\n",
    "import os\n",
    "project_name = \"prompt_basic\"\n",
    "os.environ[\"LANGSMITH_PROJECT\"] = project_name"
   ]
  },
  {
   "cell_type": "code",
   "execution_count": 7,
   "id": "f6449cf4",
   "metadata": {},
   "outputs": [],
   "source": [
    "from langchain_openai import ChatOpenAI\n",
    "\n",
    "model = ChatOpenAI(\n",
    "    temperature=0.1, # 창의력 정도\n",
    "    model = \"gpt-4.1-mini\",\n",
    "    verbose=True\n",
    ")"
   ]
  },
  {
   "cell_type": "code",
   "execution_count": 10,
   "id": "ffb62ca5",
   "metadata": {},
   "outputs": [
    {
     "data": {
      "text/plain": [
       "PromptTemplate(input_variables=['field', 'year'], input_types={}, partial_variables={}, template='\\n최근 {year}년 간 {field} 분야의 기술 발전에 대해서 알려줘\\n')\n",
       "| ChatOpenAI(client=<openai.resources.chat.completions.completions.Completions object at 0x000002834A20EE60>, async_client=<openai.resources.chat.completions.completions.AsyncCompletions object at 0x000002834A20E7D0>, root_client=<openai.OpenAI object at 0x000002834A20E710>, root_async_client=<openai.AsyncOpenAI object at 0x000002834A20DFC0>, model_name='gpt-4.1-mini', temperature=0.1, model_kwargs={}, openai_api_key=SecretStr('**********'))\n",
       "| StrOutputParser()"
      ]
     },
     "execution_count": 10,
     "metadata": {},
     "output_type": "execute_result"
    }
   ],
   "source": [
    "from langchain_core.prompts import PromptTemplate\n",
    "from langchain_core.output_parsers import StrOutputParser\n",
    "\n",
    "template = \"\"\"\n",
    "최근 {year}년 간 {field} 분야의 기술 발전에 대해서 알려줘\n",
    "\"\"\"\n",
    "prompt = PromptTemplate.from_template(template)\n",
    "prompt\n",
    "\n",
    "# 출력 파서 \n",
    "outputparser = StrOutputParser()\n",
    "\n",
    "chain = prompt | model | outputparser\n",
    "chain"
   ]
  },
  {
   "cell_type": "markdown",
   "id": "8c846d8d",
   "metadata": {},
   "source": [
    "# 프롬프트의 일부 고정"
   ]
  },
  {
   "cell_type": "code",
   "execution_count": 16,
   "id": "7e588b97",
   "metadata": {},
   "outputs": [
    {
     "data": {
      "text/plain": [
       "PromptTemplate(input_variables=['year'], input_types={}, partial_variables={'field': 'AI'}, template='\\n최근 {year}년 간 {field} 분야의 기술 발전에 대해서 알려줘\\n')"
      ]
     },
     "execution_count": 16,
     "metadata": {},
     "output_type": "execute_result"
    }
   ],
   "source": [
    "from langchain_core.prompts import PromptTemplate\n",
    "from langchain_core.output_parsers import StrOutputParser\n",
    "\n",
    "template = \"\"\"\n",
    "최근 {year}년 간 {field} 분야의 기술 발전에 대해서 알려줘\n",
    "\"\"\"\n",
    "fixed_prompt = PromptTemplate(\n",
    "    template = template,\n",
    "    input_variables=[\"year\"],\n",
    "    partial_variables={\n",
    "        \"field\": \"AI\"\n",
    "    }\n",
    ")\n",
    "fixed_prompt"
   ]
  },
  {
   "cell_type": "code",
   "execution_count": 18,
   "id": "06d0bb58",
   "metadata": {},
   "outputs": [
    {
     "name": "stdout",
     "output_type": "stream",
     "text": [
      "최근 3년 간 AI 분야에서는 여러 중요한 기술 발전과 혁신이 이루어졌습니다. 주요 트렌드와 발전 내용을 요약하면 다음과 같습니다.\n",
      "\n",
      "1. **대규모 언어 모델(LLM)의 발전**\n",
      "   - OpenAI의 GPT-3(2020) 이후 GPT-4(2023) 등 더욱 정교하고 강력한 대규모 언어 모델이 등장했습니다.\n",
      "   - 이러한 모델들은 자연어 이해, 생성, 번역, 요약, 코딩 지원 등 다양한 분야에서 활용되고 있습니다.\n",
      "   - 멀티모달 모델(텍스트와 이미지 등 여러 형태의 데이터를 동시에 처리하는 모델)도 발전하여, 예를 들어 OpenAI의 GPT-4는 텍스트와 이미지를 함께 이해할 수 있습니다.\n",
      "\n",
      "2. **생성형 AI(Generative AI)의 급성장**\n",
      "   - 텍스트뿐 아니라 이미지, 음악, 영상 생성 AI가 크게 발전했습니다.\n",
      "   - 대표적으로 DALL·E, Stable Diffusion, Midjourney 같은 이미지 생성 AI가 대중화되었고, AI 기반 영상 생성 및 편집 기술도 발전했습니다.\n",
      "   - 생성형 AI는 콘텐츠 제작, 디자인, 엔터테인먼트 등 다양한 산업에 혁신을 가져왔습니다.\n",
      "\n",
      "3. **멀티모달 AI 기술**\n",
      "   - 텍스트, 이미지, 음성, 영상 등 다양한 데이터 유형을 동시에 처리하는 AI 모델이 개발되어, 보다 풍부한 이해와 상호작용이 가능해졌습니다.\n",
      "   - 예를 들어, 사용자가 이미지와 텍스트를 함께 입력하면 AI가 이를 종합적으로 이해하고 응답할 수 있습니다.\n",
      "\n",
      "4. **AI의 실시간 응용 및 대화형 AI 발전**\n",
      "   - 챗봇, 가상 비서, 고객 지원 AI 등이 더욱 자연스러운 대화 능력을 갖추면서 실시간 상호작용이 가능해졌습니다.\n",
      "   - AI가 상황에 맞는 맥락을 이해하고, 사용자 맞춤형 답변을 제공하는 능력이 크게 향상되었습니다.\n",
      "\n",
      "5. **AI 윤리 및 규제 강화**\n",
      "   - AI 기술의 급속한 발전과 함께 윤리적 문제, 편향성, 개인정보 보호, 투명성 등에 대한 관심과 규제가 강화되고 있습니다.\n",
      "   - 여러 국가와 기관에서 AI의 책임 있는 개발과 사용을 위한 가이드라인과 법률을 마련하고 있습니다.\n",
      "\n",
      "6. **산업별 AI 적용 확대**\n",
      "   - 의료, 금융, 제조, 교육 등 다양한 산업에서 AI 기술이 본격적으로 도입되어 업무 효율화, 자동화, 맞춤형 서비스 제공에 기여하고 있습니다.\n",
      "   - 특히 의료 분야에서는 AI 기반 진단, 신약 개발, 환자 모니터링 등이 활발히 연구되고 있습니다.\n",
      "\n",
      "7. **AI 하드웨어 및 인프라 발전**\n",
      "   - AI 연산을 위한 전용 칩(예: GPU, TPU, AI 가속기)과 클라우드 기반 AI 서비스가 발전하여, 대규모 모델 학습과 추론이 더욱 효율적으로 이루어지고 있습니다.\n",
      "\n",
      "요약하자면, 최근 3년간 AI는 대규모 언어 모델과 생성형 AI의 비약적 발전, 멀티모달 처리 능력 향상, 실시간 대화형 AI의 고도화, 윤리적·법적 대응 강화, 산업별 적용 확대, 그리고 하드웨어 인프라의 발전을 통해 전방위적으로 혁신을 이루고 있습니다.\n"
     ]
    }
   ],
   "source": [
    "fixed_chain = fixed_prompt | model\n",
    "result = fixed_chain.invoke({\"year\" : 3})\n",
    "print(result.content)"
   ]
  },
  {
   "cell_type": "markdown",
   "id": "8db4e174",
   "metadata": {},
   "source": [
    "# 현재 날짜를 적용한 프롬프팅"
   ]
  },
  {
   "cell_type": "code",
   "execution_count": 20,
   "id": "87d668a4",
   "metadata": {},
   "outputs": [],
   "source": [
    "from datetime import datetime\n",
    "\n",
    "def get_today():\n",
    "    # 현재 시간 출력 \n",
    "    return datetime.now().strftime(\"%Y/%m/%d %H%M\")"
   ]
  },
  {
   "cell_type": "code",
   "execution_count": null,
   "id": "c78e0e75",
   "metadata": {},
   "outputs": [],
   "source": [
    "# 예\n",
    "template = \"현재 시간은 {today} 입니다. 이 시간대에 {location}에서 사람들이 가장 많이 하는 활동을 {number} 가지 알려주세요\"\n",
    "prompt = PromptTemplate(\n",
    "    template=template,\n",
    "    input_variables=[\"number\"],\n",
    "    partial_variables={\n",
    "        \"today\" : get_today\n",
    "    }\n",
    ")"
   ]
  },
  {
   "cell_type": "code",
   "execution_count": 25,
   "id": "e1dce156",
   "metadata": {},
   "outputs": [
    {
     "name": "stdout",
     "output_type": "stream",
     "text": [
      "죄송하지만, 제 지식은 2024년 6월까지 업데이트되어 있어 2025년 9월 30일의 구체적인 활동 데이터를 제공하기 어렵습니다. 다만, 일반적으로 서울에서 오후 2시 35분경 사람들이 많이 하는 활동을 기반으로 예상해 드릴 수 있습니다.\n",
      "\n",
      "1. **카페 방문 및 휴식**  \n",
      "   오후 시간대에는 많은 사람들이 카페에서 커피를 마시며 휴식을 취하거나 친구, 동료와 대화를 나누는 경우가 많습니다.\n",
      "\n",
      "2. **쇼핑 및 외출**  \n",
      "   주말이나 휴일이라면 이 시간대에 쇼핑몰이나 번화가를 방문하는 사람들이 많습니다. 평일이라도 일부는 쇼핑이나 외출을 즐깁니다.\n",
      "\n",
      "3. **업무 및 학업 관련 활동**  \n",
      "   평일 오후 시간대라면 직장인들은 업무를 계속하거나 회의를 진행하고, 학생들은 학원이나 도서관에서 공부하는 경우가 많습니다.\n",
      "\n",
      "이 세 가지 활동은 일반적인 서울의 오후 시간대 대표적인 활동으로 참고해 주세요.\n"
     ]
    }
   ],
   "source": [
    "chain = prompt | model\n",
    "result = chain.invoke({\"number\" : 3, 'location' : \"서울\"})\n",
    "print(result.content)"
   ]
  },
  {
   "cell_type": "markdown",
   "id": "ba19191a",
   "metadata": {},
   "source": [
    "# 템플릿 저장하기"
   ]
  },
  {
   "cell_type": "code",
   "execution_count": null,
   "id": "06364bcf",
   "metadata": {},
   "outputs": [],
   "source": [
    "template = \"현재 시간은 {today} 입니다. 이 시간대에 사람들이 가장 많이 하는 활동을 {number} 가지 알려주세요\"\n",
    "prompt = PromptTemplate(\n",
    "    template=template\n",
    ")"
   ]
  },
  {
   "cell_type": "code",
   "execution_count": 52,
   "id": "87a06587",
   "metadata": {},
   "outputs": [],
   "source": [
    "encoding = \"utf-8\"\n",
    "prompt.save(\"best_template.yaml\")"
   ]
  },
  {
   "cell_type": "markdown",
   "id": "dd58de2e",
   "metadata": {},
   "source": [
    "## 저장한 템플릿으로 프롬프트 만들기"
   ]
  },
  {
   "cell_type": "code",
   "execution_count": 53,
   "id": "801f8ddf",
   "metadata": {},
   "outputs": [],
   "source": [
    "encoding = \"utf-8\"\n",
    "import yaml\n",
    "\n",
    "with open(\"best_template.yaml\", \"r\", encoding=encoding) as file:\n",
    "    config = yaml.safe_load(file)"
   ]
  },
  {
   "cell_type": "code",
   "execution_count": 54,
   "id": "1bc875c9",
   "metadata": {},
   "outputs": [
    {
     "data": {
      "text/plain": [
       "{'_type': 'prompt',\n",
       " 'input_variables': ['location', 'number', 'today'],\n",
       " 'metadata': None,\n",
       " 'name': None,\n",
       " 'optional_variables': [],\n",
       " 'output_parser': None,\n",
       " 'partial_variables': {},\n",
       " 'tags': None,\n",
       " 'template': '현재 시간은 {today} 입니다. 이 시간대에 {location}에서 사람들이 가장 많이 하는 활동을 {number} 가지 알려주세요',\n",
       " 'template_format': 'f-string',\n",
       " 'validate_template': False}"
      ]
     },
     "execution_count": 54,
     "metadata": {},
     "output_type": "execute_result"
    }
   ],
   "source": [
    "config"
   ]
  },
  {
   "cell_type": "code",
   "execution_count": 55,
   "id": "28b2fb9b",
   "metadata": {},
   "outputs": [
    {
     "data": {
      "text/plain": [
       "PromptTemplate(input_variables=['location', 'number', 'today'], input_types={}, partial_variables={}, template='현재 시간은 {today} 입니다. 이 시간대에 {location}에서 사람들이 가장 많이 하는 활동을 {number} 가지 알려주세요')"
      ]
     },
     "execution_count": 55,
     "metadata": {},
     "output_type": "execute_result"
    }
   ],
   "source": [
    "from langchain_core.prompts import loading\n",
    "\n",
    "load_prompt = loading.load_prompt_from_config(config)\n",
    "load_prompt"
   ]
  }
 ],
 "metadata": {
  "kernelspec": {
   "display_name": "langchain-study (3.10.18)",
   "language": "python",
   "name": "python3"
  },
  "language_info": {
   "codemirror_mode": {
    "name": "ipython",
    "version": 3
   },
   "file_extension": ".py",
   "mimetype": "text/x-python",
   "name": "python",
   "nbconvert_exporter": "python",
   "pygments_lexer": "ipython3",
   "version": "3.10.18"
  }
 },
 "nbformat": 4,
 "nbformat_minor": 5
}
