{
 "cells": [
  {
   "cell_type": "markdown",
   "id": "2793264d",
   "metadata": {},
   "source": [
    "# FewshotPromptTemplate"
   ]
  },
  {
   "cell_type": "code",
   "execution_count": 1,
   "id": "0590e873",
   "metadata": {},
   "outputs": [],
   "source": [
    "from dotenv import load_dotenv\n",
    "load_dotenv()\n",
    "\n",
    "import os\n",
    "project_name = \"wanted_2nd_langchain_prompt_basic\"\n",
    "os.environ[\"LANGSMITH_PROJECT\"] = project_name"
   ]
  },
  {
   "cell_type": "code",
   "execution_count": 2,
   "id": "62566609",
   "metadata": {},
   "outputs": [],
   "source": [
    "from langchain_openai import ChatOpenAI\n",
    "\n",
    "model = ChatOpenAI(\n",
    "    temperature=0.1, # 창의력 정도\n",
    "    model = \"gpt-4.1-mini\",\n",
    "    verbose=True\n",
    ")"
   ]
  },
  {
   "cell_type": "code",
   "execution_count": 3,
   "id": "97a5861b",
   "metadata": {},
   "outputs": [],
   "source": [
    "from langchain_core.prompts.few_shot import FewShotPromptTemplate\n",
    "from langchain_core.prompts import PromptTemplate"
   ]
  },
  {
   "cell_type": "markdown",
   "id": "adc93fc8",
   "metadata": {},
   "source": [
    "# 샘플 정의"
   ]
  },
  {
   "cell_type": "code",
   "execution_count": 4,
   "id": "ddba0b8e",
   "metadata": {},
   "outputs": [],
   "source": [
    "examples = [\n",
    "    {\"question\" : \"안녕하세요\",\n",
    "     \"answer\" : \"잘 지내나\"},\n",
    "    {\"question\" : \"맛있게 먹어\",\n",
    "     \"answer\" : \"마이 무라\"},\n",
    "    {\"question\" : \"지금 뭐하고 있어?\",\n",
    "     \"answer\" : \"지금 뭐하노?\"},\n",
    "    {\"question\" : \"지금 뭐라고 하는거야?\",\n",
    "     \"answer\" : \"뭐라카노\"},\n",
    "]"
   ]
  },
  {
   "cell_type": "code",
   "execution_count": 5,
   "id": "92b86f58",
   "metadata": {},
   "outputs": [
    {
     "data": {
      "text/plain": [
       "PromptTemplate(input_variables=['answer', 'question'], input_types={}, partial_variables={}, template='\\n[질문 내용]\\n{question} 을/를 경상도 사투리로 어떻게 말하나요?\\n\\n[사투리]\\n{answer}\\n')"
      ]
     },
     "execution_count": 5,
     "metadata": {},
     "output_type": "execute_result"
    }
   ],
   "source": [
    "example_prompt = PromptTemplate.from_template(\n",
    "\"\"\"\n",
    "[질문 내용]\n",
    "{question} 을/를 경상도 사투리로 어떻게 말하나요?\n",
    "\n",
    "[사투리]\n",
    "{answer}\n",
    "\"\"\"\n",
    ")\n",
    "example_prompt"
   ]
  },
  {
   "cell_type": "code",
   "execution_count": null,
   "id": "0da0202c",
   "metadata": {},
   "outputs": [],
   "source": [
    "prompt_template = FewShotPromptTemplate(\n",
    "    examples = examples,\n",
    "    example_prompt = example_prompt,\n",
    "    suffix=\"\"\"\n",
    "    [답변 형식]\n",
    "    질문 내용:\n",
    "    {question}\\n\n",
    "    \n",
    "    사투리 :\n",
    "    \"\"\",\n",
    "    input_variables=[\"question\"]\n",
    ")"
   ]
  },
  {
   "cell_type": "code",
   "execution_count": 7,
   "id": "4bc10ff4",
   "metadata": {},
   "outputs": [
    {
     "name": "stdout",
     "output_type": "stream",
     "text": [
      "\n",
      "[질문 내용]\n",
      "안녕하세요 을/를 경상도 사투리로 어떻게 말하나요?\n",
      "\n",
      "[사투리]\n",
      "잘 지내나\n",
      "\n",
      "\n",
      "\n",
      "[질문 내용]\n",
      "맛있게 먹어 을/를 경상도 사투리로 어떻게 말하나요?\n",
      "\n",
      "[사투리]\n",
      "마이 무라\n",
      "\n",
      "\n",
      "\n",
      "[질문 내용]\n",
      "지금 뭐하고 있어? 을/를 경상도 사투리로 어떻게 말하나요?\n",
      "\n",
      "[사투리]\n",
      "지금 뭐하노?\n",
      "\n",
      "\n",
      "\n",
      "[질문 내용]\n",
      "지금 뭐라고 하는거야? 을/를 경상도 사투리로 어떻게 말하나요?\n",
      "\n",
      "[사투리]\n",
      "뭐라카노\n",
      "\n",
      "\n",
      "\n",
      "    [답변 형식]\n",
      "    질문 내용:\n",
      "    안녕하세요 지금 뭐하고 있어요?\n",
      "\n",
      "    \n",
      "    사투리 :\n",
      "    \n"
     ]
    }
   ],
   "source": [
    "question = \"안녕하세요 지금 뭐하고 있어요?\"\n",
    "q_prompt = prompt_template.format(question=question)\n",
    "print(q_prompt)"
   ]
  },
  {
   "cell_type": "code",
   "execution_count": 8,
   "id": "909b0b1f",
   "metadata": {},
   "outputs": [
    {
     "name": "stdout",
     "output_type": "stream",
     "text": [
      "질문 내용:  \n",
      "안녕하세요 지금 뭐하고 있어요?\n",
      "\n",
      "사투리 :  \n",
      "안녕하신교? 지금 뭐하노?\n"
     ]
    }
   ],
   "source": [
    "question = \"안녕하세요 지금 뭐하고 있어요?\"\n",
    "\n",
    "chain = prompt_template | model\n",
    "result = chain.invoke({'question' : question})\n",
    "print(result.content)"
   ]
  },
  {
   "cell_type": "markdown",
   "id": "b6cd87c2",
   "metadata": {},
   "source": [
    "---"
   ]
  },
  {
   "cell_type": "markdown",
   "id": "7b71e5ce",
   "metadata": {},
   "source": [
    "# 추가 실습"
   ]
  },
  {
   "cell_type": "code",
   "execution_count": null,
   "id": "f5e37dee",
   "metadata": {},
   "outputs": [],
   "source": []
  }
 ],
 "metadata": {
  "kernelspec": {
   "display_name": "langchain-study (3.10.18)",
   "language": "python",
   "name": "python3"
  },
  "language_info": {
   "codemirror_mode": {
    "name": "ipython",
    "version": 3
   },
   "file_extension": ".py",
   "mimetype": "text/x-python",
   "name": "python",
   "nbconvert_exporter": "python",
   "pygments_lexer": "ipython3",
   "version": "3.10.18"
  }
 },
 "nbformat": 4,
 "nbformat_minor": 5
}
