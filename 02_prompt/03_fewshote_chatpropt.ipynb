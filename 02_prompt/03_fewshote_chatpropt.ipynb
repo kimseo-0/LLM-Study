{
 "cells": [
  {
   "cell_type": "markdown",
   "id": "2793264d",
   "metadata": {},
   "source": [
    "# FewshotPromptTemplate"
   ]
  },
  {
   "cell_type": "code",
   "execution_count": 1,
   "id": "0590e873",
   "metadata": {},
   "outputs": [],
   "source": [
    "from dotenv import load_dotenv\n",
    "load_dotenv()\n",
    "\n",
    "import os\n",
    "project_name = \"wanted_2nd_langchain_prompt_basic\"\n",
    "os.environ[\"LANGSMITH_PROJECT\"] = project_name"
   ]
  },
  {
   "cell_type": "code",
   "execution_count": 20,
   "id": "62566609",
   "metadata": {},
   "outputs": [],
   "source": [
    "from langchain_openai import ChatOpenAI\n",
    "\n",
    "model = ChatOpenAI(\n",
    "    temperature=0.1, # 창의력 정도\n",
    "    model = \"gpt-4.1-mini\",\n",
    "    verbose=True\n",
    ")"
   ]
  },
  {
   "cell_type": "code",
   "execution_count": 3,
   "id": "97a5861b",
   "metadata": {},
   "outputs": [],
   "source": [
    "from langchain_core.prompts.few_shot import FewShotPromptTemplate\n",
    "from langchain_core.prompts import PromptTemplate"
   ]
  },
  {
   "cell_type": "markdown",
   "id": "adc93fc8",
   "metadata": {},
   "source": [
    "# 샘플 정의"
   ]
  },
  {
   "cell_type": "code",
   "execution_count": 4,
   "id": "ddba0b8e",
   "metadata": {},
   "outputs": [],
   "source": [
    "examples = [\n",
    "    {\"question\" : \"안녕하세요\",\n",
    "     \"answer\" : \"잘 지내나\"},\n",
    "    {\"question\" : \"맛있게 먹어\",\n",
    "     \"answer\" : \"마이 무라\"},\n",
    "    {\"question\" : \"지금 뭐하고 있어?\",\n",
    "     \"answer\" : \"지금 뭐하노?\"},\n",
    "    {\"question\" : \"지금 뭐라고 하는거야?\",\n",
    "     \"answer\" : \"뭐라카노\"},\n",
    "]"
   ]
  },
  {
   "cell_type": "code",
   "execution_count": 5,
   "id": "92b86f58",
   "metadata": {},
   "outputs": [
    {
     "data": {
      "text/plain": [
       "PromptTemplate(input_variables=['answer', 'question'], input_types={}, partial_variables={}, template='\\n[질문 내용]\\n{question} 을/를 경상도 사투리로 어떻게 말하나요?\\n\\n[사투리]\\n{answer}\\n')"
      ]
     },
     "execution_count": 5,
     "metadata": {},
     "output_type": "execute_result"
    }
   ],
   "source": [
    "example_prompt = PromptTemplate.from_template(\n",
    "\"\"\"\n",
    "[질문 내용]\n",
    "{question} 을/를 경상도 사투리로 어떻게 말하나요?\n",
    "\n",
    "[사투리]\n",
    "{answer}\n",
    "\"\"\"\n",
    ")\n",
    "example_prompt"
   ]
  },
  {
   "cell_type": "code",
   "execution_count": null,
   "id": "0da0202c",
   "metadata": {},
   "outputs": [],
   "source": [
    "prompt_template = FewShotPromptTemplate(\n",
    "    examples = examples,\n",
    "    example_prompt = example_prompt,\n",
    "    suffix=\"\"\"\n",
    "    [답변 형식]\n",
    "    질문 내용:\n",
    "    {question}\\n\n",
    "    \n",
    "    사투리 :\n",
    "    \"\"\",\n",
    "    input_variables=[\"question\"]\n",
    ")"
   ]
  },
  {
   "cell_type": "code",
   "execution_count": 7,
   "id": "4bc10ff4",
   "metadata": {},
   "outputs": [
    {
     "name": "stdout",
     "output_type": "stream",
     "text": [
      "\n",
      "[질문 내용]\n",
      "안녕하세요 을/를 경상도 사투리로 어떻게 말하나요?\n",
      "\n",
      "[사투리]\n",
      "잘 지내나\n",
      "\n",
      "\n",
      "\n",
      "[질문 내용]\n",
      "맛있게 먹어 을/를 경상도 사투리로 어떻게 말하나요?\n",
      "\n",
      "[사투리]\n",
      "마이 무라\n",
      "\n",
      "\n",
      "\n",
      "[질문 내용]\n",
      "지금 뭐하고 있어? 을/를 경상도 사투리로 어떻게 말하나요?\n",
      "\n",
      "[사투리]\n",
      "지금 뭐하노?\n",
      "\n",
      "\n",
      "\n",
      "[질문 내용]\n",
      "지금 뭐라고 하는거야? 을/를 경상도 사투리로 어떻게 말하나요?\n",
      "\n",
      "[사투리]\n",
      "뭐라카노\n",
      "\n",
      "\n",
      "\n",
      "    [답변 형식]\n",
      "    질문 내용:\n",
      "    안녕하세요 지금 뭐하고 있어요?\n",
      "\n",
      "    \n",
      "    사투리 :\n",
      "    \n"
     ]
    }
   ],
   "source": [
    "question = \"안녕하세요 지금 뭐하고 있어요?\"\n",
    "q_prompt = prompt_template.format(question=question)\n",
    "print(q_prompt)"
   ]
  },
  {
   "cell_type": "code",
   "execution_count": 8,
   "id": "909b0b1f",
   "metadata": {},
   "outputs": [
    {
     "name": "stdout",
     "output_type": "stream",
     "text": [
      "질문 내용:  \n",
      "안녕하세요 지금 뭐하고 있어요?\n",
      "\n",
      "사투리 :  \n",
      "안녕하신교? 지금 뭐하노?\n"
     ]
    }
   ],
   "source": [
    "question = \"안녕하세요 지금 뭐하고 있어요?\"\n",
    "\n",
    "chain = prompt_template | model\n",
    "result = chain.invoke({'question' : question})\n",
    "print(result.content)"
   ]
  },
  {
   "cell_type": "markdown",
   "id": "b6cd87c2",
   "metadata": {},
   "source": [
    "---"
   ]
  },
  {
   "cell_type": "markdown",
   "id": "7b71e5ce",
   "metadata": {},
   "source": [
    "# 추가 실습"
   ]
  },
  {
   "cell_type": "code",
   "execution_count": 27,
   "id": "72a27a76",
   "metadata": {},
   "outputs": [],
   "source": [
    "examples = [\n",
    "    {\n",
    "        \"introduce\" : \"\"\"\n",
    "            ‘금융은 경제와 산업의 혈관 역할을 한다.’라는 고등학교 수업내용에서 한 나라 경제에서 금융의 중요성을 인식하게 되었습니다. 이를 계기로 금융업에 대한 꿈을 가졌고, 금융학과에 진학하여 금융기관의 중추인 은행에서 금융전문가로 성장하겠다는 목표를 세웠습니다.\n",
    "            국민은행은 국민의 경제생활에 가장 친숙한 은행이라는 이미지를 갖고 있었는데, 한국대학신문 ‘대학생 기업이미지 조사’에서 은행 선호도 1위로 꼽힌 기사를 접한 이후부터 금융전문가를 꿈꾸는 저에게 대학생 때부터 선망의 직장이었습니다. 국가고객만족도에서도 은행 분야에서 10년 연속 1위를 차지해온 국민은행은, 세계적 권위의 브랜드 평가기관인 영국 ‘브랜드 파이낸스’가 발표하는 ‘뱅킹 500’에서도 3년 연속 국내 금융기업 브랜드가치 1위에 선정된 최고의 시중은행입니다. “최고의 인재와 담대한 혁신으로 가장 신뢰받는 평생 금융파트너”라는 비전은 임직원의 능력 개발과 고객 만족을 통한 행복을 함께 아우르는 철학을 담고 있는 것으로서, 금융전문가가 되고자 하는 저에게 국민은행은 가장 이상적이고 자긍심을 가질 수 있는 직장이 될 것입니다.\n",
    "            기업금융전문가로 성장하고 싶습니다. 기업은행 인턴을 하며 느낀 바로는, 상대적으로 고객과 일회적 응대가 많은 개인금융보다는 제가 맡은 기업고객의 모든 금융업무를 담당하는 기업금융을 하고 싶었습니다. 잠재성이 있는 기업을 알아보고 자금을 지원하였는데, 그 기업이 더욱 성장할 수 있는 계기가 되었다면 담당자로서 큰 보람을 느낄 것 같았습니다. 그래서 기업금융에 뜻을 두고 그 분야 필수 자격증인 신용분석사를 취득했습니다.\n",
    "            입행 후, 다양한 업종의 기업을 접하며 산업별 특성을 익히고, 여신심사와 관리 역량을 탄탄히 쌓아나가고자 합니다. 주어진 업무에 최선을 다하여 기회가 온다면 여신심사부에서 근무하며 심도 있는 신용분석 경험을 쌓고 싶습니다. 여신심사는 금융기관에서 매우 중요한 '리스크관리'를 위한 핵심적인 직무라고 생각합니다. 신용평가시스템에만 의존하지 않고 숫자 이면의 리스크를 면밀히 살펴봐야하기 때문에 많은 경험과 전문성이 요구됩니다. 그 일을 통해 기업금융 전문성을 키워나가고 싶습니다.\n",
    "            최근 시중은행들이 기업금융에 역량을 집중하며 기업대출의 중요성이 더욱 커진 상황입니다. 국민은행은 기업성장지원부를 신설하여 중소기업 지원서비스를 적시에 제공하고, 차별화된 금리 경쟁력으로 기업대출잔액 1위를 굳건히 지키고 있습니다. 기업 맞춤형 금융솔루션을 통해 금융파트너로 자리잡은 국민은행에서 기업금융 실무경험을 축적하여, 장기적으로 신용·여신 분야의 최고 자격증인 신용위험분석사(CRA)를 취득해 신용위험 측정·관리 전문가로 성장하여 국민은행의 핵심인재로 거듭나겠습니다.\n",
    "        \"\"\",\n",
    "        \"answer\" : \"금융전문가를 꿈꾸며 선망의 직장 / ‘신용위험 측정·관리 전문가’\"\n",
    "     },\n",
    "    {\n",
    "        \"introduce\" : \"\"\"\n",
    "        고객이 직면한 상황을 빠르게 분석하고, 적합한 솔루션을 제공하는 것이 고객가치를 향상시키는 프로금융인의 역량이라고 생각합니다. 물론 이는 기존에도 중요한 역량이었습니다. 그러나 오늘날의 금융환경은 복잡해진 금융상품과 예측 불가능한 세계 경제 등의 이유로 이전보다 빠르게 변화하고 있습니다. 이러한 상황에서 고객의 복잡한 니즈를 정확히 파악하여 해결하는 능력은 충성 고객 확보와 지속 가능한 성장에 필수적이므로, 더욱 중요한 프로금융인의 역량으로 부각될 것입니다.\n",
    "\n",
    "        목표했던 지역 기업금융 전문가로서 고객의 여건을 분석하는 능력을 키우기 위해 시장 현황 파악이 선행되어야 한다고 생각했습니다. 이에 다년간의 중소기업 관련 정책 포럼과 간담회를 탐독하며 기업들의 문제와 관심이 무엇인지 파악했습니다. 그 결과, 제조업 중심 업태로 인한 혁신의 정체와 고금리 기조로 발생한 유동성 측면의 문제가 가장 심각하다는 것을 인지할 수 있었습니다. 이를 기반으로 차별화된 고객 경험을 제공하고자, 저는 다음과 같은 준비를 했습니다.\n",
    "        첫째, 고객 비즈니스 모델에 적합한 솔루션을 제안할 수 있도록 DX 컨설턴트 교육을 통해서 데이터를 기반으로 혁신의 발전 방향을 공감하고, 고객사의 문제를 함께 해결해 나갈 수 있는 비재무적 능력을 키웠습니다.\n",
    "        둘째, 적절한 시기에 기업 유동성을 공급하기 위해서 신용분석사 자격증을 취득하며 재무제표를 통해 기업 상황을 신속히 분석할 수 있는 역량을 키웠습니다.\n",
    "\n",
    "        이러한 준비를 바탕으로 입행 후 재무적, 비재무적 요소를 고려하여 상황에 맞는 최적의 서비스를 제안함으로써 고객 가치 창출에 힘쓰겠습니다. 또한, 여러 업무에 적극적으로 참여해 펀드나 신탁 등 아직 접해보지 못한 상품의 경험을 쌓아 금융 지식의 확장에도 힘쓰며 프로금융인으로의 노력을 멈추지 않는 행원이 되겠습니다.\n",
    "        \"\"\",\n",
    "        \"answer\" : \"분석으로 완성하는 프로금융인의 역량\"\n",
    "    },\n",
    "    {\n",
    "        \"introduce\" : \"\"\"\n",
    "        경제에 관심이 많은 저는 KIST에서 인턴으로 근무하며 카드 매출과 주가의 실증분석을 수행했습니다. 분석 결과 업종별 큰 차이를 보였고, 데이터를 기반으로 한 맞춤형 금융서비스 개발에 관심을 갖게 되었습니다. KB국민은행을 인터넷 은행과 시중 은행을 아우르는 금융권의 초 집합, super set으로 만들고 싶습니다.\n",
    "        표준화된 개인금융 서비스를 주력으로 하는 인터넷 은행에 기업금융의 차별성을 더하겠습니다. 기업금융은 대면 비즈니스가 많습니다. KB국민은행에 축적된 기업고객 데이터를 분석해 대면 서비스를 활성화할 디지털 서비스를 개발해 기업금융의 디지털화에 이바지하겠습니다.\n",
    "        KB국민은행의 KB차차차 등 다양한 계열사 플랫폼의 시너지 효과로 수익을 다각화하겠습니다. KB국민은행의 주 수익원은 대출자산의 이자이익으로, 코로나 장기화로 인한 리스크 확대 시점에서 수익의 다각화가 필요합니다. 강원도에서 주최한 공모전에서 강원농가 활성화를 위한 서비스들을 연계하는 애플리케이션을 기획해 수상한 경험이 있습니다. 이를 통해 고객 유치를 위해선 접근성과 서비스 이용 편의성이 중요하다는 것을 배웠습니다. 이를 바탕으로 KB계열 모바일 플랫폼의 고객 데이터를 분석해 행동 특성을 파악하고 금융서비스와 함께 시너지효과를 낼 수 있는 플랫폼을 중심으로 고객 유입을 극대화할 맞춤형 서비스를 기획하고 싶습니다.\n",
    "        \"\"\",\n",
    "        \"answer\" : \"KB국민은행을 금융권의 super set으로\"\n",
    "    }\n",
    "]"
   ]
  },
  {
   "cell_type": "code",
   "execution_count": 28,
   "id": "f5e37dee",
   "metadata": {},
   "outputs": [
    {
     "data": {
      "text/plain": [
       "PromptTemplate(input_variables=['answer', 'introduce'], input_types={}, partial_variables={}, template='\\n[자기소개]\\n{introduce}\\n\\n[슬로건 한 문장]\\n{answer}\\n')"
      ]
     },
     "execution_count": 28,
     "metadata": {},
     "output_type": "execute_result"
    }
   ],
   "source": [
    "example_prompt = PromptTemplate.from_template(\n",
    "\"\"\"\n",
    "[자기소개]\n",
    "{introduce}\n",
    "\n",
    "[슬로건 한 문장]\n",
    "{answer}\n",
    "\"\"\"\n",
    ")\n",
    "example_prompt"
   ]
  },
  {
   "cell_type": "code",
   "execution_count": 36,
   "id": "8d182f7c",
   "metadata": {},
   "outputs": [],
   "source": [
    "prompt = FewShotPromptTemplate(\n",
    "    examples = examples,\n",
    "    example_prompt = example_prompt,\n",
    "    suffix=\"\"\"\n",
    "    [역할]\n",
    "    너는 10년차 인사담당자야\n",
    "    지원자의 자기 소개 글을 기반으로 해당 지원자를 매력적으로 표현할 수 있는\n",
    "    소제목을 만들어줘\n",
    "\n",
    "    [조건]\n",
    "    30자 이내\n",
    "\n",
    "    [자기소개]\n",
    "    {introduce}\n",
    "    \"\"\",\n",
    "    input_variables=[\"introduce\"]\n",
    ")"
   ]
  },
  {
   "cell_type": "code",
   "execution_count": 40,
   "id": "06e0b156",
   "metadata": {},
   "outputs": [
    {
     "name": "stdout",
     "output_type": "stream",
     "text": [
      "도전과 실행으로 성장하는 혁신가\n"
     ]
    }
   ],
   "source": [
    "introduce = \"\"\"\n",
    "세 번의 창업 경험을 통해 실패를 두려워하지 않는 도전 정신과 실행력을 체득했습니다\n",
    "새로운 기술과 환경에 대한 두려움 없이, 필요에 따라 배운 내용을 즉시 실험하고 사용자 가치로 연결해온 경험이 많습니다\n",
    "낯선 도메인에도 빠르게 적응하며, 변화가 빠른 환경에서도 주도적으로 문제를 해결해 나갈 수 있는 능력을 갖추었습니다\n",
    "\"\"\"\n",
    "\n",
    "chain = prompt | model\n",
    "result = chain.invoke({'introduce' : introduce})\n",
    "print(result.content)"
   ]
  }
 ],
 "metadata": {
  "kernelspec": {
   "display_name": "langchain-study (3.10.18)",
   "language": "python",
   "name": "python3"
  },
  "language_info": {
   "codemirror_mode": {
    "name": "ipython",
    "version": 3
   },
   "file_extension": ".py",
   "mimetype": "text/x-python",
   "name": "python",
   "nbconvert_exporter": "python",
   "pygments_lexer": "ipython3",
   "version": "3.10.18"
  }
 },
 "nbformat": 4,
 "nbformat_minor": 5
}
